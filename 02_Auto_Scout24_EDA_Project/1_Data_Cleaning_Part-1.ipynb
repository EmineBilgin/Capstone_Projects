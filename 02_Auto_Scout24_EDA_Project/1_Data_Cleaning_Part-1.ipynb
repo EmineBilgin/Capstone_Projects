{
 "cells": [
  {
   "cell_type": "code",
   "execution_count": 582,
   "metadata": {},
   "outputs": [],
   "source": [
    "import pandas as pd\n",
    "import numpy as np\n",
    "import matplotlib.pyplot as plt\n",
    "import seaborn\n",
    "import re\n"
   ]
  },
  {
   "cell_type": "code",
   "execution_count": 583,
   "metadata": {},
   "outputs": [],
   "source": [
    "import warnings\n",
    "warnings.filterwarnings('ignore')\n",
    "warnings.warn(\"this will not show\")"
   ]
  },
  {
   "cell_type": "code",
   "execution_count": 584,
   "metadata": {},
   "outputs": [],
   "source": [
    "pd.set_option('display.max_columns', 500)\n",
    "pd.set_option('display.max_colwidth', 500)\n",
    "pd.set_option('display.max_info_columns', 500)\n",
    "pd.set_option('display.max_info_rows', 2000)\n",
    "pd.set_option('display.expand_frame_repr', True)\n",
    "pd.set_option('display.width', 2000)"
   ]
  },
  {
   "cell_type": "code",
   "execution_count": 585,
   "metadata": {},
   "outputs": [],
   "source": [
    "pd.set_option('display.max_columns', None)"
   ]
  },
  {
   "cell_type": "code",
   "execution_count": 586,
   "metadata": {},
   "outputs": [],
   "source": [
    "scout_raw = pd.read_json('scout_car.json', lines=True)\n",
    "scout = pd.read_json('scout_car.json', lines=True)"
   ]
  },
  {
   "cell_type": "code",
   "execution_count": 587,
   "metadata": {},
   "outputs": [
    {
     "name": "stdout",
     "output_type": "stream",
     "text": [
      "<class 'pandas.core.frame.DataFrame'>\n",
      "RangeIndex: 15919 entries, 0 to 15918\n",
      "Data columns (total 54 columns):\n",
      " #   Column                         Dtype  \n",
      "---  ------                         -----  \n",
      " 0   url                            object \n",
      " 1   make_model                     object \n",
      " 2   short_description              object \n",
      " 3   body_type                      object \n",
      " 4   price                          int64  \n",
      " 5   vat                            object \n",
      " 6   km                             object \n",
      " 7   registration                   object \n",
      " 8   prev_owner                     object \n",
      " 9   kW                             float64\n",
      " 10  hp                             object \n",
      " 11  Type                           object \n",
      " 12  Previous Owners                object \n",
      " 13  Next Inspection                object \n",
      " 14  Inspection new                 object \n",
      " 15  Warranty                       object \n",
      " 16  Full Service                   object \n",
      " 17  Non-smoking Vehicle            object \n",
      " 18  null                           object \n",
      " 19  Make                           object \n",
      " 20  Model                          object \n",
      " 21  Offer Number                   object \n",
      " 22  First Registration             object \n",
      " 23  Body Color                     object \n",
      " 24  Paint Type                     object \n",
      " 25  Body Color Original            object \n",
      " 26  Upholstery                     object \n",
      " 27  Body                           object \n",
      " 28  Nr. of Doors                   object \n",
      " 29  Nr. of Seats                   object \n",
      " 30  Model Code                     object \n",
      " 31  Gearing Type                   object \n",
      " 32  Displacement                   object \n",
      " 33  Cylinders                      object \n",
      " 34  Weight                         object \n",
      " 35  Drive chain                    object \n",
      " 36  Fuel                           object \n",
      " 37  Consumption                    object \n",
      " 38  CO2 Emission                   object \n",
      " 39  Emission Class                 object \n",
      " 40  \n",
      "Comfort & Convenience\n",
      "        object \n",
      " 41  \n",
      "Entertainment & Media\n",
      "        object \n",
      " 42  \n",
      "Extras\n",
      "                       object \n",
      " 43  \n",
      "Safety & Security\n",
      "            object \n",
      " 44  description                    object \n",
      " 45  Emission Label                 object \n",
      " 46  Gears                          object \n",
      " 47  Country version                object \n",
      " 48  Electricity consumption        object \n",
      " 49  Last Service Date              object \n",
      " 50  Other Fuel Types               object \n",
      " 51  Availability                   object \n",
      " 52  Last Timing Belt Service Date  object \n",
      " 53  Available from                 object \n",
      "dtypes: float64(1), int64(1), object(52)\n",
      "memory usage: 6.6+ MB\n"
     ]
    }
   ],
   "source": [
    "scout.info()"
   ]
  },
  {
   "cell_type": "code",
   "execution_count": 588,
   "metadata": {},
   "outputs": [
    {
     "data": {
      "text/plain": [
       "(15919, 54)"
      ]
     },
     "execution_count": 588,
     "metadata": {},
     "output_type": "execute_result"
    }
   ],
   "source": [
    "scout.shape"
   ]
  },
  {
   "cell_type": "code",
   "execution_count": 589,
   "metadata": {},
   "outputs": [
    {
     "data": {
      "text/html": [
       "<div>\n",
       "<style scoped>\n",
       "    .dataframe tbody tr th:only-of-type {\n",
       "        vertical-align: middle;\n",
       "    }\n",
       "\n",
       "    .dataframe tbody tr th {\n",
       "        vertical-align: top;\n",
       "    }\n",
       "\n",
       "    .dataframe thead th {\n",
       "        text-align: right;\n",
       "    }\n",
       "</style>\n",
       "<table border=\"1\" class=\"dataframe\">\n",
       "  <thead>\n",
       "    <tr style=\"text-align: right;\">\n",
       "      <th></th>\n",
       "      <th>price</th>\n",
       "      <th>kW</th>\n",
       "    </tr>\n",
       "  </thead>\n",
       "  <tbody>\n",
       "    <tr>\n",
       "      <th>count</th>\n",
       "      <td>15919.000000</td>\n",
       "      <td>0.0</td>\n",
       "    </tr>\n",
       "    <tr>\n",
       "      <th>mean</th>\n",
       "      <td>18019.896727</td>\n",
       "      <td>NaN</td>\n",
       "    </tr>\n",
       "    <tr>\n",
       "      <th>std</th>\n",
       "      <td>7386.169409</td>\n",
       "      <td>NaN</td>\n",
       "    </tr>\n",
       "    <tr>\n",
       "      <th>min</th>\n",
       "      <td>13.000000</td>\n",
       "      <td>NaN</td>\n",
       "    </tr>\n",
       "    <tr>\n",
       "      <th>25%</th>\n",
       "      <td>12850.000000</td>\n",
       "      <td>NaN</td>\n",
       "    </tr>\n",
       "    <tr>\n",
       "      <th>50%</th>\n",
       "      <td>16900.000000</td>\n",
       "      <td>NaN</td>\n",
       "    </tr>\n",
       "    <tr>\n",
       "      <th>75%</th>\n",
       "      <td>21900.000000</td>\n",
       "      <td>NaN</td>\n",
       "    </tr>\n",
       "    <tr>\n",
       "      <th>max</th>\n",
       "      <td>74600.000000</td>\n",
       "      <td>NaN</td>\n",
       "    </tr>\n",
       "  </tbody>\n",
       "</table>\n",
       "</div>"
      ],
      "text/plain": [
       "              price   kW\n",
       "count  15919.000000  0.0\n",
       "mean   18019.896727  NaN\n",
       "std     7386.169409  NaN\n",
       "min       13.000000  NaN\n",
       "25%    12850.000000  NaN\n",
       "50%    16900.000000  NaN\n",
       "75%    21900.000000  NaN\n",
       "max    74600.000000  NaN"
      ]
     },
     "execution_count": 589,
     "metadata": {},
     "output_type": "execute_result"
    }
   ],
   "source": [
    "scout.describe()"
   ]
  },
  {
   "cell_type": "markdown",
   "metadata": {},
   "source": [
    "## Missing Value Check"
   ]
  },
  {
   "cell_type": "markdown",
   "metadata": {},
   "source": [
    "First of all let's examine the percentage of missing values."
   ]
  },
  {
   "cell_type": "code",
   "execution_count": 590,
   "metadata": {},
   "outputs": [
    {
     "data": {
      "text/plain": [
       "kW                                 0.000000\n",
       "Last Timing Belt Service Date      0.100509\n",
       "Electricity consumption            0.860607\n",
       "Available from                     1.708650\n",
       "Last Service Date                  3.555500\n",
       "Availability                       3.988944\n",
       "Other Fuel Types                   5.527985\n",
       "Next Inspection                   22.206169\n",
       "Inspection new                    24.700044\n",
       "Emission Label                    25.032979\n",
       "Model Code                        31.270808\n",
       "Non-smoking Vehicle               45.084490\n",
       "Country version                   47.653747\n",
       "Full Service                      51.605000\n",
       "Weight                            56.190715\n",
       "Drive chain                       56.919404\n",
       "prev_owner                        57.107859\n",
       "Previous Owners                   58.288837\n",
       "Paint Type                        63.741441\n",
       "Cylinders                         64.319367\n",
       "Warranty                          65.952635\n",
       "Gears                             70.400151\n",
       "vat                               71.650229\n",
       "Body Color Original               76.386708\n",
       "Upholstery                        76.631698\n",
       "Offer Number                      80.055280\n",
       "Emission Class                    81.022677\n",
       "\\nExtras\\n                        81.393304\n",
       "Consumption                       88.026886\n",
       "CO2 Emission                      88.642503\n",
       "First Registration                89.967963\n",
       "\\nEntertainment & Media\\n         91.368805\n",
       "\\nSafety & Security\\n             93.831271\n",
       "Nr. of Seats                      93.862680\n",
       "\\nComfort & Convenience\\n         94.220743\n",
       "Body Color                        96.249764\n",
       "Displacement                      96.884226\n",
       "Nr. of Doors                      98.668258\n",
       "Body                              99.623092\n",
       "body_type                         99.623092\n",
       "short_description                 99.711037\n",
       "Type                              99.987436\n",
       "make_model                       100.000000\n",
       "price                            100.000000\n",
       "km                               100.000000\n",
       "registration                     100.000000\n",
       "Gearing Type                     100.000000\n",
       "description                      100.000000\n",
       "Model                            100.000000\n",
       "Fuel                             100.000000\n",
       "null                             100.000000\n",
       "Make                             100.000000\n",
       "hp                               100.000000\n",
       "url                              100.000000\n",
       "dtype: float64"
      ]
     },
     "execution_count": 590,
     "metadata": {},
     "output_type": "execute_result"
    }
   ],
   "source": [
    "(100 - scout.isnull().sum()*100/scout.shape[0]).sort_values()"
   ]
  },
  {
   "cell_type": "markdown",
   "metadata": {},
   "source": [
    "## Dealing With Insufficient & Irrelevant Columns"
   ]
  },
  {
   "cell_type": "markdown",
   "metadata": {},
   "source": [
    "We are going to consantrate on the columns that have high percentage of missing values. To do so we assume columns that have more than 35% missing values as columns of interest. "
   ]
  },
  {
   "cell_type": "code",
   "execution_count": 591,
   "metadata": {},
   "outputs": [
    {
     "data": {
      "text/plain": [
       "Cylinders                         35.680633\n",
       "Paint Type                        36.258559\n",
       "Previous Owners                   41.711163\n",
       "prev_owner                        42.892141\n",
       "Drive chain                       43.080596\n",
       "Weight                            43.809285\n",
       "Full Service                      48.395000\n",
       "Country version                   52.346253\n",
       "Non-smoking Vehicle               54.915510\n",
       "Model Code                        68.729192\n",
       "Emission Label                    74.967021\n",
       "Inspection new                    75.299956\n",
       "Next Inspection                   77.793831\n",
       "Other Fuel Types                  94.472015\n",
       "Availability                      96.011056\n",
       "Last Service Date                 96.444500\n",
       "Available from                    98.291350\n",
       "Electricity consumption           99.139393\n",
       "Last Timing Belt Service Date     99.899491\n",
       "kW                               100.000000\n",
       "dtype: float64"
      ]
     },
     "execution_count": 591,
     "metadata": {},
     "output_type": "execute_result"
    }
   ],
   "source": [
    "def columns_interest(data, limit):\n",
    "    interest = data.isnull().sum()*100/data.shape[0]\n",
    "    return (interest.loc[lambda x : x > limit]).sort_values()\n",
    "columns_interest(scout, 35)"
   ]
  },
  {
   "cell_type": "markdown",
   "metadata": {},
   "source": [
    "- We can drop columns that have 90% or more missing values and investigate the rest of the columns of interest for the further phases of project.\n",
    "\n",
    "- 'Other Fuel Types', 'Availability', 'Last Service Date', 'Available from', 'Electricity consumption', 'Last Timing Belt Service Date' and 'kW' will be dropped."
   ]
  },
  {
   "cell_type": "code",
   "execution_count": 592,
   "metadata": {},
   "outputs": [],
   "source": [
    "drop_lst_interest = ['Other Fuel Types', 'Availability', 'Last Service Date', 'Available from', 'Electricity consumption', 'Last Timing Belt Service Date', 'kW']"
   ]
  },
  {
   "cell_type": "code",
   "execution_count": 593,
   "metadata": {},
   "outputs": [],
   "source": [
    "scout.drop(columns = drop_lst_interest, axis = 1, inplace = True)"
   ]
  },
  {
   "cell_type": "markdown",
   "metadata": {},
   "source": [
    "Now we are going to investigate each column of interest."
   ]
  },
  {
   "cell_type": "markdown",
   "metadata": {},
   "source": [
    "### scout['Cylinders']"
   ]
  },
  {
   "cell_type": "code",
   "execution_count": 594,
   "metadata": {},
   "outputs": [
    {
     "data": {
      "text/plain": [
       "35.680633205603364"
      ]
     },
     "execution_count": 594,
     "metadata": {},
     "output_type": "execute_result"
    }
   ],
   "source": [
    "columns_interest(scout, 35).Cylinders"
   ]
  },
  {
   "cell_type": "code",
   "execution_count": 595,
   "metadata": {},
   "outputs": [
    {
     "ename": "TypeError",
     "evalue": "unhashable type: 'list'",
     "output_type": "error",
     "traceback": [
      "\u001b[0;31m---------------------------------------------------------------------------\u001b[0m",
      "\u001b[0;31mTypeError\u001b[0m                                 Traceback (most recent call last)",
      "\u001b[0;32mpandas/_libs/hashtable_class_helper.pxi\u001b[0m in \u001b[0;36mpandas._libs.hashtable.PyObjectHashTable.map_locations\u001b[0;34m()\u001b[0m\n",
      "\u001b[0;31mTypeError\u001b[0m: unhashable type: 'list'"
     ]
    },
    {
     "name": "stderr",
     "output_type": "stream",
     "text": [
      "Exception ignored in: 'pandas._libs.index.IndexEngine._call_map_locations'\n",
      "Traceback (most recent call last):\n",
      "  File \"pandas/_libs/hashtable_class_helper.pxi\", line 1652, in pandas._libs.hashtable.PyObjectHashTable.map_locations\n",
      "TypeError: unhashable type: 'list'\n"
     ]
    },
    {
     "data": {
      "text/plain": [
       "[\\n4\\n]    8105\n",
       "NaN        5680\n",
       "[\\n3\\n]    2104\n",
       "[\\n5\\n]      22\n",
       "[\\n6\\n]       3\n",
       "[\\n2\\n]       2\n",
       "[\\n8\\n]       2\n",
       "[\\n1\\n]       1\n",
       "Name: Cylinders, dtype: int64"
      ]
     },
     "execution_count": 595,
     "metadata": {},
     "output_type": "execute_result"
    }
   ],
   "source": [
    "scout.Cylinders.value_counts(dropna = False)"
   ]
  },
  {
   "cell_type": "code",
   "execution_count": 596,
   "metadata": {},
   "outputs": [
    {
     "data": {
      "text/plain": [
       "4      8105\n",
       "NaN    5680\n",
       "3      2104\n",
       "5        22\n",
       "6         3\n",
       "8         2\n",
       "2         2\n",
       "1         1\n",
       "Name: Cylinders, dtype: int64"
      ]
     },
     "execution_count": 596,
     "metadata": {},
     "output_type": "execute_result"
    }
   ],
   "source": [
    "scout.Cylinders.str[0].str.strip().value_counts(dropna = False)"
   ]
  },
  {
   "cell_type": "code",
   "execution_count": 597,
   "metadata": {},
   "outputs": [],
   "source": [
    "scout['Cylinders'] = scout.Cylinders.str[0].str.strip()"
   ]
  },
  {
   "cell_type": "markdown",
   "metadata": {},
   "source": [
    "We are going to keep the column and deal with the missing values in further phases of the project"
   ]
  },
  {
   "cell_type": "markdown",
   "metadata": {},
   "source": [
    "### scout['Paint Type']"
   ]
  },
  {
   "cell_type": "code",
   "execution_count": 598,
   "metadata": {},
   "outputs": [
    {
     "data": {
      "text/plain": [
       "36.258558954708214"
      ]
     },
     "execution_count": 598,
     "metadata": {},
     "output_type": "execute_result"
    }
   ],
   "source": [
    "columns_interest(scout, 35)['Paint Type']"
   ]
  },
  {
   "cell_type": "code",
   "execution_count": 599,
   "metadata": {},
   "outputs": [
    {
     "ename": "TypeError",
     "evalue": "unhashable type: 'list'",
     "output_type": "error",
     "traceback": [
      "\u001b[0;31m---------------------------------------------------------------------------\u001b[0m",
      "\u001b[0;31mTypeError\u001b[0m                                 Traceback (most recent call last)",
      "\u001b[0;32mpandas/_libs/hashtable_class_helper.pxi\u001b[0m in \u001b[0;36mpandas._libs.hashtable.PyObjectHashTable.map_locations\u001b[0;34m()\u001b[0m\n",
      "\u001b[0;31mTypeError\u001b[0m: unhashable type: 'list'"
     ]
    },
    {
     "name": "stderr",
     "output_type": "stream",
     "text": [
      "Exception ignored in: 'pandas._libs.index.IndexEngine._call_map_locations'\n",
      "Traceback (most recent call last):\n",
      "  File \"pandas/_libs/hashtable_class_helper.pxi\", line 1652, in pandas._libs.hashtable.PyObjectHashTable.map_locations\n",
      "TypeError: unhashable type: 'list'\n"
     ]
    },
    {
     "data": {
      "text/plain": [
       "[\\nMetallic\\n]       9794\n",
       "NaN                  5772\n",
       "[\\nUni/basic\\n]       347\n",
       "[\\nPerl effect\\n]       6\n",
       "Name: Paint Type, dtype: int64"
      ]
     },
     "execution_count": 599,
     "metadata": {},
     "output_type": "execute_result"
    }
   ],
   "source": [
    "scout['Paint Type'].value_counts(dropna = False)"
   ]
  },
  {
   "cell_type": "code",
   "execution_count": 600,
   "metadata": {},
   "outputs": [
    {
     "data": {
      "text/plain": [
       "Metallic       9794\n",
       "NaN            5772\n",
       "Uni/basic       347\n",
       "Perl effect       6\n",
       "Name: Paint Type, dtype: int64"
      ]
     },
     "execution_count": 600,
     "metadata": {},
     "output_type": "execute_result"
    }
   ],
   "source": [
    "scout['Paint Type'].str[0].str.strip().value_counts(dropna = False)"
   ]
  },
  {
   "cell_type": "code",
   "execution_count": 601,
   "metadata": {},
   "outputs": [],
   "source": [
    "scout['Paint_Type'] = scout['Paint Type'].str[0].str.strip()\n",
    "scout.drop(columns = 'Paint Type', axis = 1, inplace = True)"
   ]
  },
  {
   "cell_type": "markdown",
   "metadata": {},
   "source": [
    "### scout['Previous Owners'] & scout['prev_owner']"
   ]
  },
  {
   "cell_type": "markdown",
   "metadata": {},
   "source": [
    "These two columns seems to contain similar data we are going to assess them together."
   ]
  },
  {
   "cell_type": "code",
   "execution_count": 602,
   "metadata": {},
   "outputs": [
    {
     "data": {
      "text/plain": [
       "41.71116276147999"
      ]
     },
     "execution_count": 602,
     "metadata": {},
     "output_type": "execute_result"
    }
   ],
   "source": [
    "columns_interest(scout, 35)['Previous Owners']"
   ]
  },
  {
   "cell_type": "code",
   "execution_count": 603,
   "metadata": {},
   "outputs": [
    {
     "data": {
      "text/plain": [
       "42.8921414661725"
      ]
     },
     "execution_count": 603,
     "metadata": {},
     "output_type": "execute_result"
    }
   ],
   "source": [
    "columns_interest(scout, 35)['prev_owner']"
   ]
  },
  {
   "cell_type": "code",
   "execution_count": 604,
   "metadata": {},
   "outputs": [
    {
     "ename": "TypeError",
     "evalue": "unhashable type: 'list'",
     "output_type": "error",
     "traceback": [
      "\u001b[0;31m---------------------------------------------------------------------------\u001b[0m",
      "\u001b[0;31mTypeError\u001b[0m                                 Traceback (most recent call last)",
      "\u001b[0;32mpandas/_libs/hashtable_class_helper.pxi\u001b[0m in \u001b[0;36mpandas._libs.hashtable.PyObjectHashTable.map_locations\u001b[0;34m()\u001b[0m\n",
      "\u001b[0;31mTypeError\u001b[0m: unhashable type: 'list'"
     ]
    },
    {
     "name": "stderr",
     "output_type": "stream",
     "text": [
      "Exception ignored in: 'pandas._libs.index.IndexEngine._call_map_locations'\n",
      "Traceback (most recent call last):\n",
      "  File \"pandas/_libs/hashtable_class_helper.pxi\", line 1652, in pandas._libs.hashtable.PyObjectHashTable.map_locations\n",
      "TypeError: unhashable type: 'list'\n"
     ]
    },
    {
     "data": {
      "text/plain": [
       "\\n1\\n                                                                                        8101\n",
       "NaN                                                                                          6640\n",
       "\\n2\\n                                                                                         766\n",
       "\\n0\\n                                                                                         163\n",
       "\\n3\\n                                                                                          17\n",
       "                                                                                             ... \n",
       "[\\n1\\n, \\n181 g CO2/km (comb)\\n]                                                                1\n",
       "[\\n1\\n, \\n, 6.1 l/100 km (comb), \\n, 7.7 l/100 km (city), \\n, 5.2 l/100 km (country), \\n]       1\n",
       "[\\n1\\n, \\nEuro 6\\n]                                                                             1\n",
       "[\\n1\\n, \\n, 5.9 l/100 km (comb), \\n, 7.6 l/100 km (city), \\n, 4.9 l/100 km (country), \\n]       1\n",
       "[\\n1\\n, \\n102 g CO2/km (comb)\\n]                                                                1\n",
       "Name: Previous Owners, Length: 103, dtype: int64"
      ]
     },
     "execution_count": 604,
     "metadata": {},
     "output_type": "execute_result"
    }
   ],
   "source": [
    "scout['Previous Owners'].value_counts(dropna = False)"
   ]
  },
  {
   "cell_type": "markdown",
   "metadata": {},
   "source": [
    "#### scout['Previous Owners'"
   ]
  },
  {
   "cell_type": "code",
   "execution_count": 605,
   "metadata": {},
   "outputs": [
    {
     "data": {
      "text/plain": [
       "1      8101\n",
       "NaN    6870\n",
       "2       766\n",
       "0       163\n",
       "3        17\n",
       "4         2\n",
       "Name: Previous Owners, dtype: int64"
      ]
     },
     "execution_count": 605,
     "metadata": {},
     "output_type": "execute_result"
    }
   ],
   "source": [
    "scout['Previous Owners'].str.strip().value_counts(dropna = False)"
   ]
  },
  {
   "cell_type": "code",
   "execution_count": 606,
   "metadata": {},
   "outputs": [
    {
     "data": {
      "text/plain": [
       "NaN    15689\n",
       "1        193\n",
       "0         25\n",
       "2         12\n",
       "Name: Previous Owners, dtype: int64"
      ]
     },
     "execution_count": 606,
     "metadata": {},
     "output_type": "execute_result"
    }
   ],
   "source": [
    "scout['Previous Owners'].str[0].str[1].value_counts(dropna = False)"
   ]
  },
  {
   "cell_type": "code",
   "execution_count": 607,
   "metadata": {},
   "outputs": [],
   "source": [
    "scout['Previous_Owners'] = scout['Previous Owners'].str.strip()"
   ]
  },
  {
   "cell_type": "code",
   "execution_count": 608,
   "metadata": {},
   "outputs": [],
   "source": [
    "scout['Previous_Owners_add'] = scout['Previous Owners'].str[0].str[1]"
   ]
  },
  {
   "cell_type": "markdown",
   "metadata": {},
   "source": [
    "- Now that we found additional useful previous owner values we are going to fill main column with the additional values."
   ]
  },
  {
   "cell_type": "code",
   "execution_count": 609,
   "metadata": {},
   "outputs": [],
   "source": [
    "scout.Previous_Owners.fillna(scout.Previous_Owners_add, inplace = True)"
   ]
  },
  {
   "cell_type": "code",
   "execution_count": 610,
   "metadata": {},
   "outputs": [
    {
     "data": {
      "text/plain": [
       "1      8294\n",
       "NaN    6640\n",
       "2       778\n",
       "0       188\n",
       "3        17\n",
       "4         2\n",
       "Name: Previous_Owners, dtype: int64"
      ]
     },
     "execution_count": 610,
     "metadata": {},
     "output_type": "execute_result"
    }
   ],
   "source": [
    "scout.Previous_Owners.value_counts(dropna = False)"
   ]
  },
  {
   "cell_type": "code",
   "execution_count": 611,
   "metadata": {},
   "outputs": [
    {
     "data": {
      "text/plain": [
       "1 previous owner     8294\n",
       "NaN                  6828\n",
       "2 previous owners     778\n",
       "3 previous owners      17\n",
       "4 previous owners       2\n",
       "Name: prev_owner, dtype: int64"
      ]
     },
     "execution_count": 611,
     "metadata": {},
     "output_type": "execute_result"
    }
   ],
   "source": [
    "scout['prev_owner'].value_counts(dropna = False)"
   ]
  },
  {
   "cell_type": "code",
   "execution_count": 612,
   "metadata": {},
   "outputs": [
    {
     "data": {
      "text/plain": [
       "1      8294\n",
       "NaN    6828\n",
       "2       778\n",
       "3        17\n",
       "4         2\n",
       "Name: prev_owner, dtype: int64"
      ]
     },
     "execution_count": 612,
     "metadata": {},
     "output_type": "execute_result"
    }
   ],
   "source": [
    "scout['prev_owner'].str[0].value_counts(dropna = False)"
   ]
  },
  {
   "cell_type": "code",
   "execution_count": 613,
   "metadata": {},
   "outputs": [],
   "source": [
    "scout['prev_owner'] = scout['prev_owner'].str[0].value_counts(dropna = False)"
   ]
  },
  {
   "cell_type": "code",
   "execution_count": 614,
   "metadata": {},
   "outputs": [],
   "source": [
    "scout.drop(columns = ['prev_owner', 'Previous Owners', 'Previous_Owners_add'], inplace = True)"
   ]
  },
  {
   "cell_type": "markdown",
   "metadata": {},
   "source": [
    "As 'Previous Owners' contains same values including 188 first owner (0) we dropped 'prev_owner' and also 'Previous Owners' and 'Previous_Owners_add' are no longer needed to be kept."
   ]
  },
  {
   "cell_type": "markdown",
   "metadata": {},
   "source": [
    "### scout['Drive chain']"
   ]
  },
  {
   "cell_type": "code",
   "execution_count": 615,
   "metadata": {},
   "outputs": [
    {
     "data": {
      "text/plain": [
       "43.08059551479364"
      ]
     },
     "execution_count": 615,
     "metadata": {},
     "output_type": "execute_result"
    }
   ],
   "source": [
    "columns_interest(scout, 35)['Drive chain']"
   ]
  },
  {
   "cell_type": "code",
   "execution_count": 616,
   "metadata": {},
   "outputs": [
    {
     "ename": "TypeError",
     "evalue": "unhashable type: 'list'",
     "output_type": "error",
     "traceback": [
      "\u001b[0;31m---------------------------------------------------------------------------\u001b[0m",
      "\u001b[0;31mTypeError\u001b[0m                                 Traceback (most recent call last)",
      "\u001b[0;32mpandas/_libs/hashtable_class_helper.pxi\u001b[0m in \u001b[0;36mpandas._libs.hashtable.PyObjectHashTable.map_locations\u001b[0;34m()\u001b[0m\n",
      "\u001b[0;31mTypeError\u001b[0m: unhashable type: 'list'"
     ]
    },
    {
     "name": "stderr",
     "output_type": "stream",
     "text": [
      "Exception ignored in: 'pandas._libs.index.IndexEngine._call_map_locations'\n",
      "Traceback (most recent call last):\n",
      "  File \"pandas/_libs/hashtable_class_helper.pxi\", line 1652, in pandas._libs.hashtable.PyObjectHashTable.map_locations\n",
      "TypeError: unhashable type: 'list'\n"
     ]
    },
    {
     "data": {
      "text/plain": [
       "[\\nfront\\n]    8886\n",
       "NaN            6858\n",
       "[\\n4WD\\n]       171\n",
       "[\\nrear\\n]        4\n",
       "Name: Drive chain, dtype: int64"
      ]
     },
     "execution_count": 616,
     "metadata": {},
     "output_type": "execute_result"
    }
   ],
   "source": [
    "scout['Drive chain'].value_counts(dropna = False)"
   ]
  },
  {
   "cell_type": "code",
   "execution_count": 617,
   "metadata": {},
   "outputs": [
    {
     "data": {
      "text/plain": [
       "front    8886\n",
       "NaN      6858\n",
       "4WD       171\n",
       "rear        4\n",
       "Name: Drive chain, dtype: int64"
      ]
     },
     "execution_count": 617,
     "metadata": {},
     "output_type": "execute_result"
    }
   ],
   "source": [
    "scout['Drive chain'].str[0].str.strip().value_counts(dropna = False)"
   ]
  },
  {
   "cell_type": "code",
   "execution_count": 618,
   "metadata": {},
   "outputs": [],
   "source": [
    "scout['drive_chain'] = scout['Drive chain'].str[0].str.strip()"
   ]
  },
  {
   "cell_type": "code",
   "execution_count": 619,
   "metadata": {},
   "outputs": [],
   "source": [
    "scout.drop(columns = 'Drive chain', inplace = True)"
   ]
  },
  {
   "cell_type": "markdown",
   "metadata": {},
   "source": [
    "### scout['Weight']"
   ]
  },
  {
   "cell_type": "code",
   "execution_count": 620,
   "metadata": {},
   "outputs": [
    {
     "data": {
      "text/plain": [
       "43.8092845027954"
      ]
     },
     "execution_count": 620,
     "metadata": {},
     "output_type": "execute_result"
    }
   ],
   "source": [
    "columns_interest(scout, 35).Weight"
   ]
  },
  {
   "cell_type": "code",
   "execution_count": 621,
   "metadata": {},
   "outputs": [
    {
     "ename": "TypeError",
     "evalue": "unhashable type: 'list'",
     "output_type": "error",
     "traceback": [
      "\u001b[0;31m---------------------------------------------------------------------------\u001b[0m",
      "\u001b[0;31mTypeError\u001b[0m                                 Traceback (most recent call last)",
      "\u001b[0;32mpandas/_libs/hashtable_class_helper.pxi\u001b[0m in \u001b[0;36mpandas._libs.hashtable.PyObjectHashTable.map_locations\u001b[0;34m()\u001b[0m\n",
      "\u001b[0;31mTypeError\u001b[0m: unhashable type: 'list'"
     ]
    },
    {
     "name": "stderr",
     "output_type": "stream",
     "text": [
      "Exception ignored in: 'pandas._libs.index.IndexEngine._call_map_locations'\n",
      "Traceback (most recent call last):\n",
      "  File \"pandas/_libs/hashtable_class_helper.pxi\", line 1652, in pandas._libs.hashtable.PyObjectHashTable.map_locations\n",
      "TypeError: unhashable type: 'list'\n"
     ]
    },
    {
     "data": {
      "text/plain": [
       "NaN               6974\n",
       "[\\n1,163 kg\\n]     574\n",
       "[\\n1,360 kg\\n]     356\n",
       "[\\n1,165 kg\\n]     301\n",
       "[\\n1,335 kg\\n]     242\n",
       "                  ... \n",
       "[\\n1,030 kg\\n]       1\n",
       "[\\n1,206 kg\\n]       1\n",
       "[\\n1,492 kg\\n]       1\n",
       "[\\n1,057 kg\\n]       1\n",
       "[\\n1,939 kg\\n]       1\n",
       "Name: Weight, Length: 435, dtype: int64"
      ]
     },
     "execution_count": 621,
     "metadata": {},
     "output_type": "execute_result"
    }
   ],
   "source": [
    "scout.Weight.value_counts(dropna = False)"
   ]
  },
  {
   "cell_type": "code",
   "execution_count": 622,
   "metadata": {},
   "outputs": [
    {
     "data": {
      "text/plain": [
       "NaN     6974\n",
       "1163     574\n",
       "1360     356\n",
       "1165     301\n",
       "1335     242\n",
       "        ... \n",
       "1648       1\n",
       "1397       1\n",
       "1792       1\n",
       "2044       1\n",
       "1523       1\n",
       "Name: 0, Length: 435, dtype: int64"
      ]
     },
     "execution_count": 622,
     "metadata": {},
     "output_type": "execute_result"
    }
   ],
   "source": [
    "scout.Weight.str[0].str.strip().str.extract('(\\d,*\\d*)')[0].str.replace(',', '').value_counts(dropna = False)"
   ]
  },
  {
   "cell_type": "code",
   "execution_count": 623,
   "metadata": {},
   "outputs": [],
   "source": [
    "scout['Weight'] = scout.Weight.str[0].str.strip().str.extract('(\\d,*\\d*)')[0].str.replace(',', '')"
   ]
  },
  {
   "cell_type": "markdown",
   "metadata": {},
   "source": [
    "Regarding its high Null value percentage and intuitively being not price related factor we will drop 'Weight' column."
   ]
  },
  {
   "cell_type": "code",
   "execution_count": 624,
   "metadata": {},
   "outputs": [],
   "source": [
    "scout.drop(columns = 'Weight', inplace = True)"
   ]
  },
  {
   "cell_type": "markdown",
   "metadata": {},
   "source": [
    "## scout['Full Service']"
   ]
  },
  {
   "cell_type": "code",
   "execution_count": 625,
   "metadata": {},
   "outputs": [
    {
     "ename": "TypeError",
     "evalue": "unhashable type: 'list'",
     "output_type": "error",
     "traceback": [
      "\u001b[0;31m---------------------------------------------------------------------------\u001b[0m",
      "\u001b[0;31mTypeError\u001b[0m                                 Traceback (most recent call last)",
      "\u001b[0;32mpandas/_libs/hashtable_class_helper.pxi\u001b[0m in \u001b[0;36mpandas._libs.hashtable.PyObjectHashTable.map_locations\u001b[0;34m()\u001b[0m\n",
      "\u001b[0;31mTypeError\u001b[0m: unhashable type: 'list'"
     ]
    },
    {
     "name": "stderr",
     "output_type": "stream",
     "text": [
      "Exception ignored in: 'pandas._libs.index.IndexEngine._call_map_locations'\n",
      "Traceback (most recent call last):\n",
      "  File \"pandas/_libs/hashtable_class_helper.pxi\", line 1652, in pandas._libs.hashtable.PyObjectHashTable.map_locations\n",
      "TypeError: unhashable type: 'list'\n"
     ]
    },
    {
     "data": {
      "text/plain": [
       "NaN                                                                                           7704\n",
       "[\\n, \\n, \\n4 (Green)\\n]                                                                       2235\n",
       "[\\n, \\n, \\nEuro 6\\n]                                                                          2097\n",
       "[\\n, \\n]                                                                                      1702\n",
       "[\\n, \\n, \\nEuro 6d-TEMP\\n]                                                                     399\n",
       "                                                                                              ... \n",
       "[\\n, \\n, \\n, 6 l/100 km (comb), \\n, 7.5 l/100 km (city), \\n, 5.2 l/100 km (country), \\n]         1\n",
       "[\\n, \\n, \\n, 5.5 l/100 km (comb), \\n, 7.2 l/100 km (city), \\n, 4.5 l/100 km (country), \\n]       1\n",
       "[\\n, \\n, \\n, 5.8 l/100 km (comb), \\n, 7.4 l/100 km (city), \\n, 4.9 l/100 km (country), \\n]       1\n",
       "[\\n, \\n, \\n, 5.4 l/100 km (comb), \\n, 7 l/100 km (city), \\n, 4.5 l/100 km (country), \\n]         1\n",
       "[\\n, \\n, \\n, 5.4 l/100 km (comb), \\n, 7.3 l/100 km (city), \\n, 4.2 l/100 km (country), \\n]       1\n",
       "Name: Full Service, Length: 123, dtype: int64"
      ]
     },
     "execution_count": 625,
     "metadata": {},
     "output_type": "execute_result"
    }
   ],
   "source": [
    "scout['Full Service'].value_counts(dropna = False)"
   ]
  },
  {
   "cell_type": "markdown",
   "metadata": {},
   "source": [
    "According to the high null value percentage and non related content we will drop this column"
   ]
  },
  {
   "cell_type": "code",
   "execution_count": 626,
   "metadata": {},
   "outputs": [],
   "source": [
    "scout.drop(columns = ['Full Service'], inplace = True)"
   ]
  },
  {
   "cell_type": "markdown",
   "metadata": {},
   "source": [
    "## scout['Country version']"
   ]
  },
  {
   "cell_type": "code",
   "execution_count": 627,
   "metadata": {},
   "outputs": [
    {
     "ename": "TypeError",
     "evalue": "unhashable type: 'list'",
     "output_type": "error",
     "traceback": [
      "\u001b[0;31m---------------------------------------------------------------------------\u001b[0m",
      "\u001b[0;31mTypeError\u001b[0m                                 Traceback (most recent call last)",
      "\u001b[0;32mpandas/_libs/hashtable_class_helper.pxi\u001b[0m in \u001b[0;36mpandas._libs.hashtable.PyObjectHashTable.map_locations\u001b[0;34m()\u001b[0m\n",
      "\u001b[0;31mTypeError\u001b[0m: unhashable type: 'list'"
     ]
    },
    {
     "name": "stderr",
     "output_type": "stream",
     "text": [
      "Exception ignored in: 'pandas._libs.index.IndexEngine._call_map_locations'\n",
      "Traceback (most recent call last):\n",
      "  File \"pandas/_libs/hashtable_class_helper.pxi\", line 1652, in pandas._libs.hashtable.PyObjectHashTable.map_locations\n",
      "TypeError: unhashable type: 'list'\n"
     ]
    },
    {
     "data": {
      "text/plain": [
       "NaN                     8333\n",
       "[\\nGermany\\n]           4502\n",
       "[\\nItaly\\n]             1038\n",
       "[\\nEuropean Union\\n]     507\n",
       "[\\nNetherlands\\n]        464\n",
       "[\\nSpain\\n]              325\n",
       "[\\nBelgium\\n]            314\n",
       "[\\nAustria\\n]            208\n",
       "[\\nCzech Republic\\n]      52\n",
       "[\\nPoland\\n]              49\n",
       "[\\nFrance\\n]              38\n",
       "[\\nDenmark\\n]             33\n",
       "[\\nHungary\\n]             28\n",
       "[\\nJapan\\n]                8\n",
       "[\\nSlovakia\\n]             4\n",
       "[\\nCroatia\\n]              4\n",
       "[\\nSweden\\n]               3\n",
       "[\\nRomania\\n]              2\n",
       "[\\nBulgaria\\n]             2\n",
       "[\\nSerbia\\n]               1\n",
       "[\\nLuxembourg\\n]           1\n",
       "[\\nSwitzerland\\n]          1\n",
       "[\\nSlovenia\\n]             1\n",
       "[\\nEgypt\\n]                1\n",
       "Name: Country version, dtype: int64"
      ]
     },
     "execution_count": 627,
     "metadata": {},
     "output_type": "execute_result"
    }
   ],
   "source": [
    "scout['Country version'].value_counts(dropna = False)"
   ]
  },
  {
   "cell_type": "code",
   "execution_count": 628,
   "metadata": {},
   "outputs": [],
   "source": [
    "scout['country'] = scout['Country version'].str[0].str.strip()"
   ]
  },
  {
   "cell_type": "code",
   "execution_count": 629,
   "metadata": {},
   "outputs": [],
   "source": [
    "scout.drop(columns = ['Country version'], inplace = True)"
   ]
  },
  {
   "cell_type": "markdown",
   "metadata": {},
   "source": [
    "## scout['Non-smoking Vehicle']"
   ]
  },
  {
   "cell_type": "code",
   "execution_count": 630,
   "metadata": {},
   "outputs": [
    {
     "ename": "TypeError",
     "evalue": "unhashable type: 'list'",
     "output_type": "error",
     "traceback": [
      "\u001b[0;31m---------------------------------------------------------------------------\u001b[0m",
      "\u001b[0;31mTypeError\u001b[0m                                 Traceback (most recent call last)",
      "\u001b[0;32mpandas/_libs/hashtable_class_helper.pxi\u001b[0m in \u001b[0;36mpandas._libs.hashtable.PyObjectHashTable.map_locations\u001b[0;34m()\u001b[0m\n",
      "\u001b[0;31mTypeError\u001b[0m: unhashable type: 'list'"
     ]
    },
    {
     "name": "stderr",
     "output_type": "stream",
     "text": [
      "Exception ignored in: 'pandas._libs.index.IndexEngine._call_map_locations'\n",
      "Traceback (most recent call last):\n",
      "  File \"pandas/_libs/hashtable_class_helper.pxi\", line 1652, in pandas._libs.hashtable.PyObjectHashTable.map_locations\n",
      "TypeError: unhashable type: 'list'\n"
     ]
    },
    {
     "data": {
      "text/plain": [
       "NaN                                                                                           8742\n",
       "[\\n, \\n]                                                                                      3647\n",
       "[\\n, \\n, \\n4 (Green)\\n]                                                                       1240\n",
       "[\\n, \\n, \\nEuro 6\\n]                                                                          1127\n",
       "[\\n, \\n, \\nEuro 6d-TEMP\\n]                                                                     345\n",
       "                                                                                              ... \n",
       "[\\n, \\n, \\n101 g CO2/km (comb)\\n]                                                                1\n",
       "[\\n, \\n, \\n122 g CO2/km (comb)\\n]                                                                1\n",
       "[\\n, \\n, \\n159 g CO2/km (comb)\\n]                                                                1\n",
       "[\\n, \\n, \\n, 6.2 l/100 km (comb), \\n, 7.9 l/100 km (city), \\n, 5.3 l/100 km (country), \\n]       1\n",
       "[\\n, \\n, \\n175 g CO2/km (comb)\\n]                                                                1\n",
       "Name: Non-smoking Vehicle, Length: 95, dtype: int64"
      ]
     },
     "execution_count": 630,
     "metadata": {},
     "output_type": "execute_result"
    }
   ],
   "source": [
    "scout['Non-smoking Vehicle'].value_counts(dropna = False)"
   ]
  },
  {
   "cell_type": "code",
   "execution_count": 631,
   "metadata": {},
   "outputs": [
    {
     "data": {
      "text/plain": [
       "54.91550976820152"
      ]
     },
     "execution_count": 631,
     "metadata": {},
     "output_type": "execute_result"
    }
   ],
   "source": [
    "columns_interest(scout, 35)['Non-smoking Vehicle']"
   ]
  },
  {
   "cell_type": "markdown",
   "metadata": {},
   "source": [
    "More than half of the column consist of null values and the content is not intuitive. So, we will drop 'Non-smoking Vehicle' column."
   ]
  },
  {
   "cell_type": "code",
   "execution_count": 632,
   "metadata": {},
   "outputs": [],
   "source": [
    "scout.drop(columns = ['Non-smoking Vehicle'], inplace = True)"
   ]
  },
  {
   "cell_type": "markdown",
   "metadata": {},
   "source": [
    "## scout['Model Code']"
   ]
  },
  {
   "cell_type": "code",
   "execution_count": 633,
   "metadata": {},
   "outputs": [
    {
     "ename": "TypeError",
     "evalue": "unhashable type: 'list'",
     "output_type": "error",
     "traceback": [
      "\u001b[0;31m---------------------------------------------------------------------------\u001b[0m",
      "\u001b[0;31mTypeError\u001b[0m                                 Traceback (most recent call last)",
      "\u001b[0;32mpandas/_libs/hashtable_class_helper.pxi\u001b[0m in \u001b[0;36mpandas._libs.hashtable.PyObjectHashTable.map_locations\u001b[0;34m()\u001b[0m\n",
      "\u001b[0;31mTypeError\u001b[0m: unhashable type: 'list'"
     ]
    },
    {
     "name": "stderr",
     "output_type": "stream",
     "text": [
      "Exception ignored in: 'pandas._libs.index.IndexEngine._call_map_locations'\n",
      "Traceback (most recent call last):\n",
      "  File \"pandas/_libs/hashtable_class_helper.pxi\", line 1652, in pandas._libs.hashtable.PyObjectHashTable.map_locations\n",
      "TypeError: unhashable type: 'list'\n"
     ]
    },
    {
     "data": {
      "text/plain": [
       "NaN               10941\n",
       "[\\n0035/BCB\\n]      268\n",
       "[\\n0588/BNO\\n]      245\n",
       "[\\n0588/BDB\\n]      206\n",
       "[\\n0588/BHX\\n]      188\n",
       "                  ...  \n",
       "[\\n1844/AEN\\n]        1\n",
       "[\\n0588/AVR\\n]        1\n",
       "[\\n0035/AFF\\n]        1\n",
       "[\\n1844/AFM\\n]        1\n",
       "[\\n0035/AVN\\n]        1\n",
       "Name: Model Code, Length: 233, dtype: int64"
      ]
     },
     "execution_count": 633,
     "metadata": {},
     "output_type": "execute_result"
    }
   ],
   "source": [
    "scout['Model Code'].value_counts(dropna = False)"
   ]
  },
  {
   "cell_type": "code",
   "execution_count": 634,
   "metadata": {},
   "outputs": [
    {
     "data": {
      "text/plain": [
       "68.72919153213141"
      ]
     },
     "execution_count": 634,
     "metadata": {},
     "output_type": "execute_result"
    }
   ],
   "source": [
    "columns_interest(scout, 35)['Model Code']"
   ]
  },
  {
   "cell_type": "markdown",
   "metadata": {},
   "source": [
    "More than 68% of the column consist of null values and the content is not intuitive. So, we will drop 'Model Code' column."
   ]
  },
  {
   "cell_type": "code",
   "execution_count": 635,
   "metadata": {},
   "outputs": [],
   "source": [
    "scout.drop(columns = ['Model Code'], inplace = True)"
   ]
  },
  {
   "cell_type": "markdown",
   "metadata": {},
   "source": [
    "## scout['Emission Label']"
   ]
  },
  {
   "cell_type": "code",
   "execution_count": 636,
   "metadata": {},
   "outputs": [
    {
     "ename": "TypeError",
     "evalue": "unhashable type: 'list'",
     "output_type": "error",
     "traceback": [
      "\u001b[0;31m---------------------------------------------------------------------------\u001b[0m",
      "\u001b[0;31mTypeError\u001b[0m                                 Traceback (most recent call last)",
      "\u001b[0;32mpandas/_libs/hashtable_class_helper.pxi\u001b[0m in \u001b[0;36mpandas._libs.hashtable.PyObjectHashTable.map_locations\u001b[0;34m()\u001b[0m\n",
      "\u001b[0;31mTypeError\u001b[0m: unhashable type: 'list'"
     ]
    },
    {
     "name": "stderr",
     "output_type": "stream",
     "text": [
      "Exception ignored in: 'pandas._libs.index.IndexEngine._call_map_locations'\n",
      "Traceback (most recent call last):\n",
      "  File \"pandas/_libs/hashtable_class_helper.pxi\", line 1652, in pandas._libs.hashtable.PyObjectHashTable.map_locations\n",
      "TypeError: unhashable type: 'list'\n"
     ]
    },
    {
     "data": {
      "text/plain": [
       "NaN                     11934\n",
       "[\\n4 (Green)\\n]          3553\n",
       "[\\n1 (No sticker)\\n]      381\n",
       "[[], [], []]               40\n",
       "[\\n5 (Blue)\\n]              8\n",
       "[\\n3 (Yellow)\\n]            2\n",
       "[\\n2 (Red)\\n]               1\n",
       "Name: Emission Label, dtype: int64"
      ]
     },
     "execution_count": 636,
     "metadata": {},
     "output_type": "execute_result"
    }
   ],
   "source": [
    "scout['Emission Label'].value_counts(dropna = False)"
   ]
  },
  {
   "cell_type": "code",
   "execution_count": 637,
   "metadata": {},
   "outputs": [
    {
     "data": {
      "text/plain": [
       "NaN               11974\n",
       "4 (Green)          3553\n",
       "1 (No sticker)      381\n",
       "5 (Blue)              8\n",
       "3 (Yellow)            2\n",
       "2 (Red)               1\n",
       "Name: Emission Label, dtype: int64"
      ]
     },
     "execution_count": 637,
     "metadata": {},
     "output_type": "execute_result"
    }
   ],
   "source": [
    "scout['Emission Label'].str[0].str.strip().value_counts(dropna = False)"
   ]
  },
  {
   "cell_type": "code",
   "execution_count": 638,
   "metadata": {},
   "outputs": [
    {
     "data": {
      "text/plain": [
       "74.9670205414913"
      ]
     },
     "execution_count": 638,
     "metadata": {},
     "output_type": "execute_result"
    }
   ],
   "source": [
    "columns_interest(scout, 35)['Emission Label']"
   ]
  },
  {
   "cell_type": "code",
   "execution_count": 639,
   "metadata": {},
   "outputs": [],
   "source": [
    "scout['emission_label'] = scout['Emission Label'].str[0].str.strip()"
   ]
  },
  {
   "cell_type": "code",
   "execution_count": 640,
   "metadata": {},
   "outputs": [],
   "source": [
    "scout.drop(columns = ['Emission Label'], inplace = True)"
   ]
  },
  {
   "cell_type": "markdown",
   "metadata": {},
   "source": [
    "## scout['Inspection new']"
   ]
  },
  {
   "cell_type": "markdown",
   "metadata": {},
   "source": [
    "scout['Inspection new'].value_counts(dropna = False)"
   ]
  },
  {
   "cell_type": "code",
   "execution_count": 641,
   "metadata": {},
   "outputs": [
    {
     "data": {
      "text/plain": [
       "NaN        11987\n",
       "\\nYes\\n     3570\n",
       "\\n           362\n",
       "Name: Inspection new, dtype: int64"
      ]
     },
     "execution_count": 641,
     "metadata": {},
     "output_type": "execute_result"
    }
   ],
   "source": [
    "scout['Inspection new'].str[0].value_counts(dropna = False)"
   ]
  },
  {
   "cell_type": "code",
   "execution_count": 642,
   "metadata": {},
   "outputs": [],
   "source": [
    "inspection_lst = [''.join(map(str, item)) if isinstance(item, list) else item for item in scout['Inspection new']] "
   ]
  },
  {
   "cell_type": "code",
   "execution_count": 643,
   "metadata": {},
   "outputs": [],
   "source": [
    "inspection_serie = pd.Series(inspection_lst)"
   ]
  },
  {
   "cell_type": "code",
   "execution_count": 644,
   "metadata": {},
   "outputs": [
    {
     "data": {
      "text/plain": [
       "NaN    11987\n",
       "Yes     3932\n",
       "Name: 0, dtype: int64"
      ]
     },
     "execution_count": 644,
     "metadata": {},
     "output_type": "execute_result"
    }
   ],
   "source": [
    "inspection_serie.str.extract('(Yes)')[0].value_counts(dropna = False)"
   ]
  },
  {
   "cell_type": "code",
   "execution_count": 645,
   "metadata": {},
   "outputs": [],
   "source": [
    "scout['inspection_new'] = inspection_serie.str.extract('(Yes)')[0].str.contains('Yes', na = False) * 1"
   ]
  },
  {
   "cell_type": "markdown",
   "metadata": {},
   "source": [
    "Due to the high null percentage droppping 'Inspection' should be considered. However this intuitiveley seems to effect price. For now we will keep it."
   ]
  },
  {
   "cell_type": "code",
   "execution_count": 646,
   "metadata": {},
   "outputs": [],
   "source": [
    "scout.drop(columns = ['Inspection new'], inplace = True)"
   ]
  },
  {
   "cell_type": "markdown",
   "metadata": {},
   "source": [
    "## scout['Next Inspection']"
   ]
  },
  {
   "cell_type": "code",
   "execution_count": 647,
   "metadata": {},
   "outputs": [
    {
     "ename": "TypeError",
     "evalue": "unhashable type: 'list'",
     "output_type": "error",
     "traceback": [
      "\u001b[0;31m---------------------------------------------------------------------------\u001b[0m",
      "\u001b[0;31mTypeError\u001b[0m                                 Traceback (most recent call last)",
      "\u001b[0;32mpandas/_libs/hashtable_class_helper.pxi\u001b[0m in \u001b[0;36mpandas._libs.hashtable.PyObjectHashTable.map_locations\u001b[0;34m()\u001b[0m\n",
      "\u001b[0;31mTypeError\u001b[0m: unhashable type: 'list'"
     ]
    },
    {
     "name": "stderr",
     "output_type": "stream",
     "text": [
      "Exception ignored in: 'pandas._libs.index.IndexEngine._call_map_locations'\n",
      "Traceback (most recent call last):\n",
      "  File \"pandas/_libs/hashtable_class_helper.pxi\", line 1652, in pandas._libs.hashtable.PyObjectHashTable.map_locations\n",
      "TypeError: unhashable type: 'list'\n"
     ]
    },
    {
     "data": {
      "text/plain": [
       "NaN                                                                                              12384\n",
       "\\n04/2022\\n                                                                                         62\n",
       "\\n03/2021\\n                                                                                         38\n",
       "\\n03/2022\\n                                                                                         36\n",
       "\\n06/2021\\n                                                                                         34\n",
       "                                                                                                 ...  \n",
       "[\\n08/2020\\n, \\n153 g CO2/km (comb)\\n]                                                               1\n",
       "[\\n04/2021\\n, \\n103 g CO2/km (comb)\\n]                                                               1\n",
       "[\\n10/2019\\n, \\n, 5.3 l/100 km (comb), \\n, 7 l/100 km (city), \\n, 4.3 l/100 km (country), \\n]        1\n",
       "[\\n01/2020\\n, \\n123 g CO2/km (comb)\\n]                                                               1\n",
       "[\\n05/2020\\n, \\n135 g CO2/km (comb)\\n]                                                               1\n",
       "Name: Next Inspection, Length: 1400, dtype: int64"
      ]
     },
     "execution_count": 647,
     "metadata": {},
     "output_type": "execute_result"
    }
   ],
   "source": [
    "scout['Next Inspection'].value_counts(dropna = False)"
   ]
  },
  {
   "cell_type": "code",
   "execution_count": 648,
   "metadata": {},
   "outputs": [],
   "source": [
    "next_inspection_lst = [''.join(map(str, item)) if isinstance(item, list) else item for item in scout['Next Inspection']]"
   ]
  },
  {
   "cell_type": "code",
   "execution_count": 649,
   "metadata": {},
   "outputs": [],
   "source": [
    "next_inspection_serie = pd.Series(next_inspection_lst)"
   ]
  },
  {
   "cell_type": "code",
   "execution_count": 650,
   "metadata": {},
   "outputs": [
    {
     "data": {
      "text/plain": [
       "NaN                                                                                12384\n",
       "\\n04/2022\\n                                                                           62\n",
       "\\n06/2021\\n                                                                           47\n",
       "\\n03/2021\\n                                                                           39\n",
       "\\n03/2022\\n                                                                           36\n",
       "                                                                                   ...  \n",
       "\\n04/2021\\n\\n105 g CO2/km (comb)\\n                                                     1\n",
       "\\n01/2021\\n\\n0 kWh/100 km (comb)\\n                                                     1\n",
       "\\n03/2022\\n\\n6 l/100 km (comb)\\n7.8 l/100 km (city)\\n4.9 l/100 km (country)\\n          1\n",
       "\\n01/2022\\n\\n6.1 l/100 km (comb)\\n7.5 l/100 km (city)\\n5.2 l/100 km (country)\\n        1\n",
       "\\n04/2020\\n\\n115 g CO2/km (comb)\\n                                                     1\n",
       "Length: 1385, dtype: int64"
      ]
     },
     "execution_count": 650,
     "metadata": {},
     "output_type": "execute_result"
    }
   ],
   "source": [
    "next_inspection_serie.value_counts(dropna = False)"
   ]
  },
  {
   "cell_type": "code",
   "execution_count": 651,
   "metadata": {},
   "outputs": [
    {
     "data": {
      "text/plain": [
       "NaN        12384\n",
       "06/2021      471\n",
       "03/2021      210\n",
       "05/2021      180\n",
       "04/2021      171\n",
       "           ...  \n",
       "05/2014        1\n",
       "11/2022        1\n",
       "05/2017        1\n",
       "03/2024        1\n",
       "01/1999        1\n",
       "Name: 0, Length: 78, dtype: int64"
      ]
     },
     "execution_count": 651,
     "metadata": {},
     "output_type": "execute_result"
    }
   ],
   "source": [
    "next_inspection_serie.str.extract('(\\d{2}/\\d{4})')[0].value_counts(dropna = False)"
   ]
  },
  {
   "cell_type": "code",
   "execution_count": 652,
   "metadata": {},
   "outputs": [],
   "source": [
    "scout['next_inspection'] = next_inspection_serie.str.extract('(\\d{2}/\\d{4})')[0]"
   ]
  },
  {
   "cell_type": "code",
   "execution_count": 653,
   "metadata": {},
   "outputs": [],
   "source": [
    "scout['next_inspection'] = pd.to_datetime(scout.next_inspection, format = '%m/%Y')"
   ]
  },
  {
   "cell_type": "code",
   "execution_count": 654,
   "metadata": {},
   "outputs": [],
   "source": [
    "scout.drop(columns = ['Next Inspection'], inplace = True)"
   ]
  },
  {
   "cell_type": "markdown",
   "metadata": {},
   "source": [
    "## scout['short_description']"
   ]
  },
  {
   "cell_type": "code",
   "execution_count": 655,
   "metadata": {},
   "outputs": [
    {
     "data": {
      "text/plain": [
       "SPB 1.6 TDI 116 CV S tronic Sport                 64\n",
       "NaN                                               46\n",
       "1.4 66kW (90CV) Selective                         40\n",
       "MOVE KLIMA CD USB ALLWETTER BLUETOOTH             38\n",
       "SPB 30 TDI S tronic Business                      35\n",
       "                                                  ..\n",
       "220CV 5 porte R.S. Trophy FULL PELLE rs            1\n",
       "1.6 CDTi 136cv Sports Tourer Innovation            1\n",
       "1.2 75CV 5 porte Intensive b/gpl                   1\n",
       "SPB 30TDI 116cv S-TRONIC Business L. 32.559€       1\n",
       "SPB 1.6 TDI 116 CV S tronic Sport NAVI SENSORI     1\n",
       "Name: short_description, Length: 10002, dtype: int64"
      ]
     },
     "execution_count": 655,
     "metadata": {},
     "output_type": "execute_result"
    }
   ],
   "source": [
    "scout['short_description'].value_counts(dropna = False)"
   ]
  },
  {
   "cell_type": "code",
   "execution_count": 656,
   "metadata": {},
   "outputs": [],
   "source": [
    "scout['cc_from_description'] = scout['short_description'].str.extract('\\D*([0-3]{1}\\.\\d{1})[\\D ]')"
   ]
  },
  {
   "cell_type": "code",
   "execution_count": null,
   "metadata": {},
   "outputs": [],
   "source": []
  },
  {
   "cell_type": "code",
   "execution_count": 657,
   "metadata": {},
   "outputs": [],
   "source": [
    "scout.drop(columns = ['short_description'], inplace = True)"
   ]
  },
  {
   "cell_type": "code",
   "execution_count": 658,
   "metadata": {},
   "outputs": [],
   "source": [
    "scout['cc_from_description'] = scout['cc_from_description'] * 1000"
   ]
  },
  {
   "cell_type": "markdown",
   "metadata": {},
   "source": [
    "## scout['Warranty']"
   ]
  },
  {
   "cell_type": "code",
   "execution_count": 659,
   "metadata": {},
   "outputs": [
    {
     "data": {
      "text/plain": [
       "34.047364784220115"
      ]
     },
     "execution_count": 659,
     "metadata": {},
     "output_type": "execute_result"
    }
   ],
   "source": [
    "scout.Warranty.isnull().sum()/scout.Warranty.shape[0]*100"
   ]
  },
  {
   "cell_type": "code",
   "execution_count": 660,
   "metadata": {},
   "outputs": [
    {
     "data": {
      "text/plain": [
       "5420"
      ]
     },
     "execution_count": 660,
     "metadata": {},
     "output_type": "execute_result"
    }
   ],
   "source": [
    "scout.Warranty.isnull().sum()"
   ]
  },
  {
   "cell_type": "code",
   "execution_count": 661,
   "metadata": {},
   "outputs": [
    {
     "ename": "TypeError",
     "evalue": "unhashable type: 'list'",
     "output_type": "error",
     "traceback": [
      "\u001b[0;31m---------------------------------------------------------------------------\u001b[0m",
      "\u001b[0;31mTypeError\u001b[0m                                 Traceback (most recent call last)",
      "\u001b[0;32mpandas/_libs/hashtable_class_helper.pxi\u001b[0m in \u001b[0;36mpandas._libs.hashtable.PyObjectHashTable.map_locations\u001b[0;34m()\u001b[0m\n",
      "\u001b[0;31mTypeError\u001b[0m: unhashable type: 'list'"
     ]
    },
    {
     "name": "stderr",
     "output_type": "stream",
     "text": [
      "Exception ignored in: 'pandas._libs.index.IndexEngine._call_map_locations'\n",
      "Traceback (most recent call last):\n",
      "  File \"pandas/_libs/hashtable_class_helper.pxi\", line 1652, in pandas._libs.hashtable.PyObjectHashTable.map_locations\n",
      "TypeError: unhashable type: 'list'\n"
     ]
    },
    {
     "data": {
      "text/plain": [
       "NaN                                         5420\n",
       "[\\n, \\n, \\nEuro 6\\n]                        1868\n",
       "\\n12 months\\n                               1177\n",
       "\\n                                           979\n",
       "\\n24 months\\n                                566\n",
       "                                            ... \n",
       "[\\n24 months\\n, \\n128 g CO2/km (comb)\\n]       1\n",
       "[\\n60 months\\n, \\n98 g CO2/km (comb)\\n]        1\n",
       "[\\n20 months\\n, \\n139 g CO2/km (comb)\\n]       1\n",
       "[\\n10 months\\n, \\n104 g CO2/km (comb)\\n]       1\n",
       "[\\n16 months\\n, \\n116 g CO2/km (comb)\\n]       1\n",
       "Name: Warranty, Length: 516, dtype: int64"
      ]
     },
     "execution_count": 661,
     "metadata": {},
     "output_type": "execute_result"
    }
   ],
   "source": [
    "scout.Warranty.value_counts(dropna = False)"
   ]
  },
  {
   "cell_type": "code",
   "execution_count": 662,
   "metadata": {},
   "outputs": [
    {
     "ename": "TypeError",
     "evalue": "unhashable type: 'list'",
     "output_type": "error",
     "traceback": [
      "\u001b[0;31m---------------------------------------------------------------------------\u001b[0m",
      "\u001b[0;31mTypeError\u001b[0m                                 Traceback (most recent call last)",
      "\u001b[0;32mpandas/_libs/hashtable_class_helper.pxi\u001b[0m in \u001b[0;36mpandas._libs.hashtable.PyObjectHashTable.map_locations\u001b[0;34m()\u001b[0m\n",
      "\u001b[0;31mTypeError\u001b[0m: unhashable type: 'list'"
     ]
    },
    {
     "name": "stderr",
     "output_type": "stream",
     "text": [
      "Exception ignored in: 'pandas._libs.index.IndexEngine._call_map_locations'\n",
      "Traceback (most recent call last):\n",
      "  File \"pandas/_libs/hashtable_class_helper.pxi\", line 1652, in pandas._libs.hashtable.PyObjectHashTable.map_locations\n",
      "TypeError: unhashable type: 'list'\n"
     ]
    },
    {
     "data": {
      "text/plain": [
       "[\\n60 months\\n, \\n92 g CO2/km (comb)\\n]                                                                2\n",
       "\\n                                                                                                   979\n",
       "[\\n24 months\\n, \\n106 g CO2/km (comb)\\n]                                                               7\n",
       "[\\n36 months\\n, \\n108 g CO2/km (comb)\\n]                                                               2\n",
       "[\\n12 months\\n, \\n107 g CO2/km (comb)\\n]                                                              25\n",
       "[\\n72 months\\n, \\n156 g CO2/km (comb)\\n]                                                               2\n",
       "[\\n24 months\\n, \\n132 g CO2/km (comb)\\n]                                                               3\n",
       "[\\n12 months\\n, \\n, 5.9 l/100 km (comb), \\n, 7.5 l/100 km (city), \\n, 4.9 l/100 km (country), \\n]      1\n",
       "[\\n60 months\\n, \\n138 g CO2/km (comb)\\n]                                                               2\n",
       "[\\n12 months\\n, \\n82 g CO2/km (comb)\\n]                                                                1\n",
       "[\\n16 months\\n, \\n135 g CO2/km (comb)\\n]                                                               1\n",
       "[\\n20 months\\n, \\nEuro 6\\n]                                                                            3\n",
       "[\\n, \\n, \\n175 g CO2/km (comb)\\n]                                                                      2\n",
       "[\\n24 months\\n, \\n189 g CO2/km (comb)\\n]                                                               1\n",
       "[\\n33 months\\n, \\nEuro 6\\n]                                                                            1\n",
       "[\\n3 months\\n, \\nEuro 6\\n]                                                                             2\n",
       "[\\n72 months\\n, \\n139 g CO2/km (comb)\\n]                                                               3\n",
       "[\\n24 months\\n, \\n135 g CO2/km (comb)\\n]                                                               4\n",
       "[\\n, \\n, \\n150 g CO2/km (comb)\\n]                                                                     21\n",
       "[\\n72 months\\n, \\n138 g CO2/km (comb)\\n]                                                               1\n",
       "[\\n36 months\\n, \\n, 7.4 l/100 km (comb), \\n, 9.6 l/100 km (city), \\n, 6 l/100 km (country), \\n]        1\n",
       "[\\n, \\n, \\n119 g CO2/km (comb)\\n]                                                                     28\n",
       "[\\n12 months\\n, \\n97 g CO2/km (comb)\\n]                                                               43\n",
       "[\\n, \\n, \\n120 g CO2/km (comb)\\n]                                                                     93\n",
       "[\\n60 months\\n, \\n143 g CO2/km (comb)\\n]                                                               8\n",
       "[\\n15 months\\n, \\n132 g CO2/km (comb)\\n]                                                               1\n",
       "[\\n18 months\\n, \\n129 g CO2/km (comb)\\n]                                                               1\n",
       "[\\n24 months\\n, \\n142 g CO2/km (comb)\\n]                                                               3\n",
       "[\\n, \\n, \\n147 g CO2/km (comb)\\n]                                                                      8\n",
       "[\\n, \\n, \\n95 g CO2/km (comb)\\n]                                                                       6\n",
       "[\\n12 months\\n, \\n102 g CO2/km (comb)\\n]                                                              34\n",
       "\\n19 months\\n                                                                                          2\n",
       "[\\n, \\n, \\n, 5.4 l/100 km (comb), \\n, 7.1 l/100 km (city), \\n, 4.4 l/100 km (country), \\n]             1\n",
       "[\\n, \\n, \\n125 g CO2/km (comb)\\n]                                                                     24\n",
       "\\n72 months\\n                                                                                         15\n",
       "[\\n12 months\\n, \\n114 g CO2/km (comb)\\n]                                                              17\n",
       "[\\n, \\n, \\n92 g CO2/km (comb)\\n]                                                                      14\n",
       "[\\n12 months\\n, \\n119 g CO2/km (comb)\\n]                                                              24\n",
       "[\\n, \\n, \\n188 g CO2/km (comb)\\n]                                                                      1\n",
       "[\\n, \\n, \\n106 g CO2/km (comb)\\n]                                                                     39\n",
       "[\\n24 months\\n, \\n136 g CO2/km (comb)\\n]                                                               4\n",
       "[\\n60 months\\n, \\n, 6.1 l/100 km (comb), \\n, 7.5 l/100 km (city), \\n, 5.3 l/100 km (country), \\n]      5\n",
       "[\\n48 months\\n]                                                                                        3\n",
       "[\\n60 months\\n, \\n, 5.7 l/100 km (comb), \\n, 7.3 l/100 km (city), \\n, 4.8 l/100 km (country), \\n]      2\n",
       "[\\n, \\n, \\n174 g CO2/km (comb)\\n]                                                                      2\n",
       "[\\n60 months\\n, \\n, 5.6 l/100 km (comb), \\n, 7.3 l/100 km (city), \\n, 4.5 l/100 km (country), \\n]      3\n",
       "[\\n16 months\\n, \\n116 g CO2/km (comb)\\n]                                                               1\n",
       "[\\n60 months\\n, \\n142 g CO2/km (comb)\\n]                                                               4\n",
       "[\\n6 months\\n, \\n97 g CO2/km (comb)\\n]                                                                 1\n",
       "[\\n72 months\\n, \\n197 g CO2/km (comb)\\n]                                                               1\n",
       "Name: Warranty, dtype: int64"
      ]
     },
     "execution_count": 662,
     "metadata": {},
     "output_type": "execute_result"
    }
   ],
   "source": [
    "scout.Warranty.value_counts(dropna = False).sample(50)"
   ]
  },
  {
   "cell_type": "code",
   "execution_count": 663,
   "metadata": {},
   "outputs": [],
   "source": [
    "warranty_lst = [''.join(item).strip() if isinstance(item,list) else item for item in scout['Warranty']]"
   ]
  },
  {
   "cell_type": "code",
   "execution_count": 664,
   "metadata": {},
   "outputs": [],
   "source": [
    "scout['warranty_mnth'] = pd.DataFrame(warranty_lst)"
   ]
  },
  {
   "cell_type": "code",
   "execution_count": 665,
   "metadata": {},
   "outputs": [],
   "source": [
    "scout['warranty_mnth'] = scout.warranty_mnth.str.extract('(\\d{1,3}) months')"
   ]
  },
  {
   "cell_type": "code",
   "execution_count": 666,
   "metadata": {},
   "outputs": [
    {
     "data": {
      "text/plain": [
       "NaN    11066\n",
       "12      2594\n",
       "24      1118\n",
       "60       401\n",
       "36       279\n",
       "48       149\n",
       "6        125\n",
       "72        59\n",
       "3         33\n",
       "23        11\n",
       "18        10\n",
       "20         7\n",
       "25         6\n",
       "2          5\n",
       "26         4\n",
       "50         4\n",
       "16         4\n",
       "34         3\n",
       "4          3\n",
       "13         3\n",
       "1          3\n",
       "19         3\n",
       "14         2\n",
       "28         2\n",
       "22         2\n",
       "45         2\n",
       "9          2\n",
       "46         2\n",
       "11         2\n",
       "21         2\n",
       "17         2\n",
       "49         1\n",
       "10         1\n",
       "7          1\n",
       "65         1\n",
       "15         1\n",
       "33         1\n",
       "47         1\n",
       "56         1\n",
       "40         1\n",
       "30         1\n",
       "8          1\n",
       "Name: warranty_mnth, dtype: int64"
      ]
     },
     "execution_count": 666,
     "metadata": {},
     "output_type": "execute_result"
    }
   ],
   "source": [
    "scout['warranty_mnth'].value_counts(dropna = 0)"
   ]
  },
  {
   "cell_type": "code",
   "execution_count": 667,
   "metadata": {},
   "outputs": [
    {
     "data": {
      "text/plain": [
       "69.51441673471952"
      ]
     },
     "execution_count": 667,
     "metadata": {},
     "output_type": "execute_result"
    }
   ],
   "source": [
    "scout['warranty_mnth'].isnull().sum()/scout['warranty_mnth'].shape[0]*100"
   ]
  },
  {
   "cell_type": "markdown",
   "metadata": {},
   "source": [
    "Since 69% is null we will drop 'Warranty' and 'warranty_mnth'. We also drop non related 'url' column."
   ]
  },
  {
   "cell_type": "code",
   "execution_count": 668,
   "metadata": {},
   "outputs": [],
   "source": [
    "scout.drop(columns = ['warranty_mnth', 'Warranty', 'url'], inplace = True)"
   ]
  },
  {
   "cell_type": "markdown",
   "metadata": {},
   "source": []
  },
  {
   "cell_type": "markdown",
   "metadata": {},
   "source": [
    "## scout['Make']"
   ]
  },
  {
   "cell_type": "code",
   "execution_count": 669,
   "metadata": {},
   "outputs": [
    {
     "data": {
      "text/plain": [
       "\\nOpel\\n       7343\n",
       "\\nAudi\\n       5712\n",
       "\\nRenault\\n    2864\n",
       "Name: Make, dtype: int64"
      ]
     },
     "execution_count": 669,
     "metadata": {},
     "output_type": "execute_result"
    }
   ],
   "source": [
    "scout['Make'].value_counts(dropna = False)"
   ]
  },
  {
   "cell_type": "code",
   "execution_count": 670,
   "metadata": {},
   "outputs": [],
   "source": [
    "scout['Make'] = scout['Make'].str.strip()"
   ]
  },
  {
   "cell_type": "code",
   "execution_count": 671,
   "metadata": {},
   "outputs": [
    {
     "data": {
      "text/plain": [
       "Opel       7343\n",
       "Audi       5712\n",
       "Renault    2864\n",
       "Name: Make, dtype: int64"
      ]
     },
     "execution_count": 671,
     "metadata": {},
     "output_type": "execute_result"
    }
   ],
   "source": [
    "scout['Make'].value_counts()"
   ]
  },
  {
   "cell_type": "markdown",
   "metadata": {},
   "source": [
    "## scout['Model']"
   ]
  },
  {
   "cell_type": "code",
   "execution_count": 672,
   "metadata": {},
   "outputs": [
    {
     "ename": "TypeError",
     "evalue": "unhashable type: 'list'",
     "output_type": "error",
     "traceback": [
      "\u001b[0;31m---------------------------------------------------------------------------\u001b[0m",
      "\u001b[0;31mTypeError\u001b[0m                                 Traceback (most recent call last)",
      "\u001b[0;32mpandas/_libs/hashtable_class_helper.pxi\u001b[0m in \u001b[0;36mpandas._libs.hashtable.PyObjectHashTable.map_locations\u001b[0;34m()\u001b[0m\n",
      "\u001b[0;31mTypeError\u001b[0m: unhashable type: 'list'"
     ]
    },
    {
     "name": "stderr",
     "output_type": "stream",
     "text": [
      "Exception ignored in: 'pandas._libs.index.IndexEngine._call_map_locations'\n",
      "Traceback (most recent call last):\n",
      "  File \"pandas/_libs/hashtable_class_helper.pxi\", line 1652, in pandas._libs.hashtable.PyObjectHashTable.map_locations\n",
      "TypeError: unhashable type: 'list'\n"
     ]
    },
    {
     "data": {
      "text/plain": [
       "[\\n, A3, \\n]          3097\n",
       "[\\n, A1, \\n]          2614\n",
       "[\\n, Insignia, \\n]    2598\n",
       "[\\n, Astra, \\n]       2526\n",
       "[\\n, Corsa, \\n]       2219\n",
       "[\\n, Clio, \\n]        1839\n",
       "[\\n, Espace, \\n]       991\n",
       "[\\n, Duster, \\n]        34\n",
       "[\\n, A2, \\n]             1\n",
       "Name: Model, dtype: int64"
      ]
     },
     "execution_count": 672,
     "metadata": {},
     "output_type": "execute_result"
    }
   ],
   "source": [
    "scout['Model'].value_counts(dropna = False)"
   ]
  },
  {
   "cell_type": "code",
   "execution_count": 673,
   "metadata": {},
   "outputs": [],
   "source": [
    "scout['Model'] = scout.Model.str[1]"
   ]
  },
  {
   "cell_type": "markdown",
   "metadata": {},
   "source": [
    "## scout['Body Color']"
   ]
  },
  {
   "cell_type": "code",
   "execution_count": 674,
   "metadata": {},
   "outputs": [
    {
     "ename": "TypeError",
     "evalue": "unhashable type: 'list'",
     "output_type": "error",
     "traceback": [
      "\u001b[0;31m---------------------------------------------------------------------------\u001b[0m",
      "\u001b[0;31mTypeError\u001b[0m                                 Traceback (most recent call last)",
      "\u001b[0;32mpandas/_libs/hashtable_class_helper.pxi\u001b[0m in \u001b[0;36mpandas._libs.hashtable.PyObjectHashTable.map_locations\u001b[0;34m()\u001b[0m\n",
      "\u001b[0;31mTypeError\u001b[0m: unhashable type: 'list'"
     ]
    },
    {
     "name": "stderr",
     "output_type": "stream",
     "text": [
      "Exception ignored in: 'pandas._libs.index.IndexEngine._call_map_locations'\n",
      "Traceback (most recent call last):\n",
      "  File \"pandas/_libs/hashtable_class_helper.pxi\", line 1652, in pandas._libs.hashtable.PyObjectHashTable.map_locations\n",
      "TypeError: unhashable type: 'list'\n"
     ]
    },
    {
     "data": {
      "text/plain": [
       "[\\n, Black, \\n]     3745\n",
       "[\\n, Grey, \\n]      3505\n",
       "[\\n, White, \\n]     3406\n",
       "[\\n, Silver, \\n]    1647\n",
       "[\\n, Blue, \\n]      1431\n",
       "[\\n, Red, \\n]        957\n",
       "[\\n, Brown, \\n]      289\n",
       "[\\n, Green, \\n]      154\n",
       "[\\n, Beige, \\n]      108\n",
       "[\\n, Yellow, \\n]      51\n",
       "[\\n, Violet, \\n]      18\n",
       "[\\n, Bronze, \\n]       6\n",
       "[\\n, Orange, \\n]       3\n",
       "[\\n, Gold, \\n]         2\n",
       "Name: Body Color, dtype: int64"
      ]
     },
     "execution_count": 674,
     "metadata": {},
     "output_type": "execute_result"
    }
   ],
   "source": [
    "scout['Body Color'].value_counts()"
   ]
  },
  {
   "cell_type": "code",
   "execution_count": 675,
   "metadata": {},
   "outputs": [],
   "source": [
    "scout['body_color'] = scout['Body Color'].str[1].str.strip()"
   ]
  },
  {
   "cell_type": "code",
   "execution_count": 676,
   "metadata": {},
   "outputs": [],
   "source": [
    "scout.body_color.fillna(method = 'bfill', inplace = True)"
   ]
  },
  {
   "cell_type": "code",
   "execution_count": 677,
   "metadata": {},
   "outputs": [
    {
     "data": {
      "text/plain": [
       "Black     3888\n",
       "Grey      3638\n",
       "White     3540\n",
       "Silver    1687\n",
       "Blue      1524\n",
       "Red        989\n",
       "Brown      299\n",
       "Green      163\n",
       "Beige      108\n",
       "Yellow      53\n",
       "Violet      18\n",
       "Bronze       7\n",
       "Orange       3\n",
       "Gold         2\n",
       "Name: body_color, dtype: int64"
      ]
     },
     "execution_count": 677,
     "metadata": {},
     "output_type": "execute_result"
    }
   ],
   "source": [
    "scout.body_color.value_counts(dropna = False)"
   ]
  },
  {
   "cell_type": "markdown",
   "metadata": {},
   "source": [
    "## scout['Body Color Original']"
   ]
  },
  {
   "cell_type": "code",
   "execution_count": 678,
   "metadata": {},
   "outputs": [
    {
     "ename": "TypeError",
     "evalue": "unhashable type: 'list'",
     "output_type": "error",
     "traceback": [
      "\u001b[0;31m---------------------------------------------------------------------------\u001b[0m",
      "\u001b[0;31mTypeError\u001b[0m                                 Traceback (most recent call last)",
      "\u001b[0;32mpandas/_libs/hashtable_class_helper.pxi\u001b[0m in \u001b[0;36mpandas._libs.hashtable.PyObjectHashTable.map_locations\u001b[0;34m()\u001b[0m\n",
      "\u001b[0;31mTypeError\u001b[0m: unhashable type: 'list'"
     ]
    },
    {
     "name": "stderr",
     "output_type": "stream",
     "text": [
      "Exception ignored in: 'pandas._libs.index.IndexEngine._call_map_locations'\n",
      "Traceback (most recent call last):\n",
      "  File \"pandas/_libs/hashtable_class_helper.pxi\", line 1652, in pandas._libs.hashtable.PyObjectHashTable.map_locations\n",
      "TypeError: unhashable type: 'list'\n"
     ]
    },
    {
     "data": {
      "text/plain": [
       "NaN                             3759\n",
       "[\\nOnyx Schwarz\\n]               338\n",
       "[\\nBianco\\n]                     282\n",
       "[\\nMythosschwarz Metallic\\n]     238\n",
       "[\\nBrillantschwarz\\n]            216\n",
       "                                ... \n",
       "[\\nBianca - Tetto Nero\\n]          1\n",
       "[\\ndezir rot\\n]                    1\n",
       "[\\nnero/tetto argento met\\n]       1\n",
       "[\\nPython Yellow Metallic\\n]       1\n",
       "[\\nkarbongrau\\n]                   1\n",
       "Name: Body Color Original, Length: 1928, dtype: int64"
      ]
     },
     "execution_count": 678,
     "metadata": {},
     "output_type": "execute_result"
    }
   ],
   "source": [
    "scout['Body Color Original'].value_counts(dropna = False)"
   ]
  },
  {
   "cell_type": "code",
   "execution_count": 679,
   "metadata": {},
   "outputs": [],
   "source": [
    "scout.drop(columns='Body Color Original', inplace = True)"
   ]
  },
  {
   "cell_type": "markdown",
   "metadata": {},
   "source": [
    "## scout['Upholstery']"
   ]
  },
  {
   "cell_type": "code",
   "execution_count": 680,
   "metadata": {},
   "outputs": [
    {
     "ename": "TypeError",
     "evalue": "unhashable type: 'list'",
     "output_type": "error",
     "traceback": [
      "\u001b[0;31m---------------------------------------------------------------------------\u001b[0m",
      "\u001b[0;31mTypeError\u001b[0m                                 Traceback (most recent call last)",
      "\u001b[0;32mpandas/_libs/hashtable_class_helper.pxi\u001b[0m in \u001b[0;36mpandas._libs.hashtable.PyObjectHashTable.map_locations\u001b[0;34m()\u001b[0m\n",
      "\u001b[0;31mTypeError\u001b[0m: unhashable type: 'list'"
     ]
    },
    {
     "name": "stderr",
     "output_type": "stream",
     "text": [
      "Exception ignored in: 'pandas._libs.index.IndexEngine._call_map_locations'\n",
      "Traceback (most recent call last):\n",
      "  File \"pandas/_libs/hashtable_class_helper.pxi\", line 1652, in pandas._libs.hashtable.PyObjectHashTable.map_locations\n",
      "TypeError: unhashable type: 'list'\n"
     ]
    },
    {
     "data": {
      "text/plain": [
       "[\\nCloth, Black\\n]           5821\n",
       "NaN                          3720\n",
       "[\\nPart leather, Black\\n]    1121\n",
       "[\\nCloth\\n]                  1005\n",
       "[\\nCloth, Grey\\n]             891\n",
       "[\\nCloth, Other\\n]            639\n",
       "[\\nFull leather, Black\\n]     575\n",
       "[\\nBlack\\n]                   491\n",
       "[\\nGrey\\n]                    273\n",
       "[\\nOther, Other\\n]            182\n",
       "[\\nPart leather\\n]            140\n",
       "[\\nFull leather\\n]            139\n",
       "[\\nFull leather, Brown\\n]     116\n",
       "[\\nPart leather, Grey\\n]      116\n",
       "[\\nOther, Black\\n]            110\n",
       "[\\nFull leather, Other\\n]      72\n",
       "[\\nFull leather, Grey\\n]       67\n",
       "[\\nPart leather, Other\\n]      65\n",
       "[\\nOther\\n]                    56\n",
       "[\\nPart leather, Brown\\n]      50\n",
       "[\\nalcantara, Black\\n]         47\n",
       "[\\nVelour, Black\\n]            36\n",
       "[\\nFull leather, Beige\\n]      36\n",
       "[\\nCloth, Brown\\n]             28\n",
       "[\\nVelour\\n]                   16\n",
       "[\\nOther, Grey\\n]              15\n",
       "[\\nCloth, Beige\\n]             13\n",
       "[\\nCloth, Blue\\n]              12\n",
       "[\\nBrown\\n]                    12\n",
       "[\\nVelour, Grey\\n]              8\n",
       "[\\nCloth, White\\n]              8\n",
       "[\\nalcantara, Grey\\n]           6\n",
       "[\\nCloth, Red\\n]                5\n",
       "[\\nOther, Yellow\\n]             4\n",
       "[\\nBeige\\n]                     3\n",
       "[\\nPart leather, Red\\n]         3\n",
       "[\\nPart leather, Beige\\n]       2\n",
       "[\\nFull leather, Blue\\n]        2\n",
       "[\\nalcantara\\n]                 2\n",
       "[\\nWhite\\n]                     2\n",
       "[\\nPart leather, White\\n]       2\n",
       "[\\nalcantara, Other\\n]          2\n",
       "[\\nBlue\\n]                      2\n",
       "[\\nOther, Brown\\n]              1\n",
       "[\\nFull leather, Red\\n]         1\n",
       "[\\nFull leather, White\\n]       1\n",
       "[\\nCloth, Orange\\n]             1\n",
       "Name: Upholstery, dtype: int64"
      ]
     },
     "execution_count": 680,
     "metadata": {},
     "output_type": "execute_result"
    }
   ],
   "source": [
    "scout['Upholstery'].value_counts(dropna = False)"
   ]
  },
  {
   "cell_type": "code",
   "execution_count": 681,
   "metadata": {},
   "outputs": [
    {
     "data": {
      "text/plain": [
       "23.368302029021923"
      ]
     },
     "execution_count": 681,
     "metadata": {},
     "output_type": "execute_result"
    }
   ],
   "source": [
    "scout['Upholstery'].isnull().sum()/scout['Upholstery'].shape[0]*100"
   ]
  },
  {
   "cell_type": "code",
   "execution_count": 682,
   "metadata": {},
   "outputs": [],
   "source": [
    "scout['Upholstery'] = scout.Upholstery.str[0].str.strip()"
   ]
  },
  {
   "cell_type": "code",
   "execution_count": 683,
   "metadata": {},
   "outputs": [],
   "source": [
    "## scout['Nr. of Doors']"
   ]
  },
  {
   "cell_type": "code",
   "execution_count": 684,
   "metadata": {},
   "outputs": [
    {
     "ename": "TypeError",
     "evalue": "unhashable type: 'list'",
     "output_type": "error",
     "traceback": [
      "\u001b[0;31m---------------------------------------------------------------------------\u001b[0m",
      "\u001b[0;31mTypeError\u001b[0m                                 Traceback (most recent call last)",
      "\u001b[0;32mpandas/_libs/hashtable_class_helper.pxi\u001b[0m in \u001b[0;36mpandas._libs.hashtable.PyObjectHashTable.map_locations\u001b[0;34m()\u001b[0m\n",
      "\u001b[0;31mTypeError\u001b[0m: unhashable type: 'list'"
     ]
    },
    {
     "name": "stderr",
     "output_type": "stream",
     "text": [
      "Exception ignored in: 'pandas._libs.index.IndexEngine._call_map_locations'\n",
      "Traceback (most recent call last):\n",
      "  File \"pandas/_libs/hashtable_class_helper.pxi\", line 1652, in pandas._libs.hashtable.PyObjectHashTable.map_locations\n",
      "TypeError: unhashable type: 'list'\n"
     ]
    },
    {
     "data": {
      "text/plain": [
       "[\\n5\\n]    11575\n",
       "[\\n4\\n]     3079\n",
       "[\\n3\\n]      832\n",
       "[\\n2\\n]      219\n",
       "NaN          212\n",
       "[\\n7\\n]        1\n",
       "[\\n1\\n]        1\n",
       "Name: Nr. of Doors, dtype: int64"
      ]
     },
     "execution_count": 684,
     "metadata": {},
     "output_type": "execute_result"
    }
   ],
   "source": [
    "scout['Nr. of Doors'].value_counts(dropna = False)"
   ]
  },
  {
   "cell_type": "code",
   "execution_count": 685,
   "metadata": {},
   "outputs": [],
   "source": [
    "scout['door_number'] = scout['Nr. of Doors'].str[0].str.strip()"
   ]
  },
  {
   "cell_type": "code",
   "execution_count": 686,
   "metadata": {},
   "outputs": [],
   "source": [
    "scout.drop(columns = 'Nr. of Doors', inplace = True)"
   ]
  },
  {
   "cell_type": "markdown",
   "metadata": {},
   "source": [
    "## scout['Nr. of Seats']"
   ]
  },
  {
   "cell_type": "code",
   "execution_count": 687,
   "metadata": {},
   "outputs": [
    {
     "ename": "TypeError",
     "evalue": "unhashable type: 'list'",
     "output_type": "error",
     "traceback": [
      "\u001b[0;31m---------------------------------------------------------------------------\u001b[0m",
      "\u001b[0;31mTypeError\u001b[0m                                 Traceback (most recent call last)",
      "\u001b[0;32mpandas/_libs/hashtable_class_helper.pxi\u001b[0m in \u001b[0;36mpandas._libs.hashtable.PyObjectHashTable.map_locations\u001b[0;34m()\u001b[0m\n",
      "\u001b[0;31mTypeError\u001b[0m: unhashable type: 'list'"
     ]
    },
    {
     "name": "stderr",
     "output_type": "stream",
     "text": [
      "Exception ignored in: 'pandas._libs.index.IndexEngine._call_map_locations'\n",
      "Traceback (most recent call last):\n",
      "  File \"pandas/_libs/hashtable_class_helper.pxi\", line 1652, in pandas._libs.hashtable.PyObjectHashTable.map_locations\n",
      "TypeError: unhashable type: 'list'\n"
     ]
    },
    {
     "data": {
      "text/plain": [
       "[\\n5\\n]    13336\n",
       "[\\n4\\n]     1125\n",
       "NaN          977\n",
       "[\\n7\\n]      362\n",
       "[\\n2\\n]      116\n",
       "[\\n6\\n]        2\n",
       "[\\n3\\n]        1\n",
       "Name: Nr. of Seats, dtype: int64"
      ]
     },
     "execution_count": 687,
     "metadata": {},
     "output_type": "execute_result"
    }
   ],
   "source": [
    "scout['Nr. of Seats'].value_counts(dropna = False)"
   ]
  },
  {
   "cell_type": "code",
   "execution_count": 688,
   "metadata": {},
   "outputs": [],
   "source": [
    "scout['seat_number'] = scout['Nr. of Seats'].str[0].str.strip()"
   ]
  },
  {
   "cell_type": "code",
   "execution_count": 689,
   "metadata": {},
   "outputs": [],
   "source": [
    "scout.drop(columns = 'Nr. of Seats', inplace = True)"
   ]
  },
  {
   "cell_type": "markdown",
   "metadata": {},
   "source": [
    "## scout['Gearing Type']"
   ]
  },
  {
   "cell_type": "code",
   "execution_count": 690,
   "metadata": {},
   "outputs": [
    {
     "ename": "TypeError",
     "evalue": "unhashable type: 'list'",
     "output_type": "error",
     "traceback": [
      "\u001b[0;31m---------------------------------------------------------------------------\u001b[0m",
      "\u001b[0;31mTypeError\u001b[0m                                 Traceback (most recent call last)",
      "\u001b[0;32mpandas/_libs/hashtable_class_helper.pxi\u001b[0m in \u001b[0;36mpandas._libs.hashtable.PyObjectHashTable.map_locations\u001b[0;34m()\u001b[0m\n",
      "\u001b[0;31mTypeError\u001b[0m: unhashable type: 'list'"
     ]
    },
    {
     "name": "stderr",
     "output_type": "stream",
     "text": [
      "Exception ignored in: 'pandas._libs.index.IndexEngine._call_map_locations'\n",
      "Traceback (most recent call last):\n",
      "  File \"pandas/_libs/hashtable_class_helper.pxi\", line 1652, in pandas._libs.hashtable.PyObjectHashTable.map_locations\n",
      "TypeError: unhashable type: 'list'\n"
     ]
    },
    {
     "data": {
      "text/plain": [
       "[\\n, Manual, \\n]            8153\n",
       "[\\n, Automatic, \\n]         7297\n",
       "[\\n, Semi-automatic, \\n]     469\n",
       "Name: Gearing Type, dtype: int64"
      ]
     },
     "execution_count": 690,
     "metadata": {},
     "output_type": "execute_result"
    }
   ],
   "source": [
    "scout['Gearing Type'].value_counts(dropna = False)"
   ]
  },
  {
   "cell_type": "code",
   "execution_count": 691,
   "metadata": {},
   "outputs": [],
   "source": [
    "scout['gear_type'] = scout['Gearing Type'].str[1]"
   ]
  },
  {
   "cell_type": "code",
   "execution_count": 692,
   "metadata": {},
   "outputs": [],
   "source": [
    "scout.drop(columns = 'Gearing Type', inplace = True)"
   ]
  },
  {
   "cell_type": "markdown",
   "metadata": {},
   "source": [
    "## scout['Displacement']"
   ]
  },
  {
   "cell_type": "code",
   "execution_count": 693,
   "metadata": {},
   "outputs": [
    {
     "ename": "TypeError",
     "evalue": "unhashable type: 'list'",
     "output_type": "error",
     "traceback": [
      "\u001b[0;31m---------------------------------------------------------------------------\u001b[0m",
      "\u001b[0;31mTypeError\u001b[0m                                 Traceback (most recent call last)",
      "\u001b[0;32mpandas/_libs/hashtable_class_helper.pxi\u001b[0m in \u001b[0;36mpandas._libs.hashtable.PyObjectHashTable.map_locations\u001b[0;34m()\u001b[0m\n",
      "\u001b[0;31mTypeError\u001b[0m: unhashable type: 'list'"
     ]
    },
    {
     "name": "stderr",
     "output_type": "stream",
     "text": [
      "Exception ignored in: 'pandas._libs.index.IndexEngine._call_map_locations'\n",
      "Traceback (most recent call last):\n",
      "  File \"pandas/_libs/hashtable_class_helper.pxi\", line 1652, in pandas._libs.hashtable.PyObjectHashTable.map_locations\n",
      "TypeError: unhashable type: 'list'\n"
     ]
    },
    {
     "data": {
      "text/plain": [
       "[\\n1,598 cc\\n]     4761\n",
       "[\\n999 cc\\n]       2438\n",
       "[\\n1,398 cc\\n]     1314\n",
       "[\\n1,399 cc\\n]      749\n",
       "[\\n1,229 cc\\n]      677\n",
       "                   ... \n",
       "[\\n1,800 cc\\n]        1\n",
       "[\\n140 cc\\n]          1\n",
       "[\\n15,898 cc\\n]       1\n",
       "[\\n1,686 cc\\n]        1\n",
       "[\\n1,368 cc\\n]        1\n",
       "Name: Displacement, Length: 78, dtype: int64"
      ]
     },
     "execution_count": 693,
     "metadata": {},
     "output_type": "execute_result"
    }
   ],
   "source": [
    "scout['Displacement'].value_counts(dropna = False)"
   ]
  },
  {
   "cell_type": "code",
   "execution_count": 694,
   "metadata": {},
   "outputs": [],
   "source": [
    "scout['Displacement'] = scout.Displacement.str[0].str.strip()"
   ]
  },
  {
   "cell_type": "code",
   "execution_count": 695,
   "metadata": {},
   "outputs": [],
   "source": [
    "scout.Displacement.replace({',':'', ' cc':''}, regex = True, inplace = True)"
   ]
  },
  {
   "cell_type": "code",
   "execution_count": 696,
   "metadata": {},
   "outputs": [
    {
     "data": {
      "text/plain": [
       "496"
      ]
     },
     "execution_count": 696,
     "metadata": {},
     "output_type": "execute_result"
    }
   ],
   "source": [
    "scout['Displacement'].isnull().sum()"
   ]
  },
  {
   "cell_type": "code",
   "execution_count": 697,
   "metadata": {},
   "outputs": [],
   "source": [
    "scout['Displacement'].fillna(scout['cc_from_description'], inplace = True)"
   ]
  },
  {
   "cell_type": "code",
   "execution_count": 698,
   "metadata": {},
   "outputs": [],
   "source": [
    "scout.drop(columns= ['cc_from_description'], inplace = True)"
   ]
  },
  {
   "cell_type": "markdown",
   "metadata": {},
   "source": [
    "We have extract 315 additional displacement values which are null in this column fron short decription and filled in regarding rows."
   ]
  },
  {
   "cell_type": "markdown",
   "metadata": {},
   "source": [
    "## scout['Fuel']"
   ]
  },
  {
   "cell_type": "code",
   "execution_count": 699,
   "metadata": {},
   "outputs": [
    {
     "ename": "TypeError",
     "evalue": "unhashable type: 'list'",
     "output_type": "error",
     "traceback": [
      "\u001b[0;31m---------------------------------------------------------------------------\u001b[0m",
      "\u001b[0;31mTypeError\u001b[0m                                 Traceback (most recent call last)",
      "\u001b[0;32mpandas/_libs/hashtable_class_helper.pxi\u001b[0m in \u001b[0;36mpandas._libs.hashtable.PyObjectHashTable.map_locations\u001b[0;34m()\u001b[0m\n",
      "\u001b[0;31mTypeError\u001b[0m: unhashable type: 'list'"
     ]
    },
    {
     "name": "stderr",
     "output_type": "stream",
     "text": [
      "Exception ignored in: 'pandas._libs.index.IndexEngine._call_map_locations'\n",
      "Traceback (most recent call last):\n",
      "  File \"pandas/_libs/hashtable_class_helper.pxi\", line 1652, in pandas._libs.hashtable.PyObjectHashTable.map_locations\n",
      "TypeError: unhashable type: 'list'\n"
     ]
    },
    {
     "data": {
      "text/plain": [
       "[\\n, Diesel (Particulate Filter), \\n]                                                                                  4315\n",
       "[\\n, Super 95, \\n]                                                                                                     3338\n",
       "[\\n, Gasoline, \\n]                                                                                                     3175\n",
       "[\\n, Diesel, \\n]                                                                                                       2984\n",
       "[\\n, Super 95 / Regular/Benzine 91, \\n]                                                                                 424\n",
       "                                                                                                                       ... \n",
       "[\\n, Super Plus 98 / Super E10 95, \\n]                                                                                    1\n",
       "[\\n, Regular/Benzine 91 / Super 95 / Regular/Benzine E10 91 / Super E10 95 / Super Plus 98 / Super Plus E10 98, \\n]       1\n",
       "[\\n, Super 95 / Regular/Benzine 91 / Super Plus 98 / Regular/Benzine E10 91 / Super Plus E10 98 / Super E10 95, \\n]       1\n",
       "[\\n, Super 95 / Regular/Benzine 91 / Super E10 95 / Super Plus E10 98 / Super Plus 98, \\n]                                1\n",
       "[\\n, Domestic gas H, \\n]                                                                                                  1\n",
       "Name: Fuel, Length: 77, dtype: int64"
      ]
     },
     "execution_count": 699,
     "metadata": {},
     "output_type": "execute_result"
    }
   ],
   "source": [
    "scout['Fuel'].value_counts(dropna = False)"
   ]
  },
  {
   "cell_type": "code",
   "execution_count": 700,
   "metadata": {},
   "outputs": [
    {
     "data": {
      "text/plain": [
       "Diesel (Particulate Filter)                                                                                  4315\n",
       "Super 95                                                                                                     3338\n",
       "Gasoline                                                                                                     3175\n",
       "Diesel                                                                                                       2984\n",
       "Super 95 / Regular/Benzine 91                                                                                 424\n",
       "                                                                                                             ... \n",
       "Super 95 / Super Plus 98 / Super Plus E10 98                                                                    1\n",
       "Super 95 / Regular/Benzine 91 / Super E10 95 / Super Plus E10 98 / Super Plus 98 / Regular/Benzine E10 91       1\n",
       "Super 95 / Super E10 95 / Super Plus E10 98                                                                     1\n",
       "Regular/Benzine E10 91 / Super E10 95 / Super Plus E10 98 / Super Plus 98 / Super 95 / Regular/Benzine 91       1\n",
       "Super Plus 98 / Super 95 / Super Plus E10 98                                                                    1\n",
       "Name: Fuel, Length: 77, dtype: int64"
      ]
     },
     "execution_count": 700,
     "metadata": {},
     "output_type": "execute_result"
    }
   ],
   "source": [
    "scout.Fuel.str[1].value_counts(dropna = False)"
   ]
  },
  {
   "cell_type": "code",
   "execution_count": 701,
   "metadata": {},
   "outputs": [
    {
     "data": {
      "text/plain": [
       "Regular/Benzine 91 / Super 95 / Super Plus 98 / Regular/Benzine E10 91 / Super Plus E10 98 / Super E10 95       4\n",
       "Regular/Benzine 91 / Super 95 / Super E10 95                                                                    1\n",
       "Super 95 / Super E10 95 / Super Plus E10 98 / Super Plus 98                                                     4\n",
       "Diesel (Particulate Filter)                                                                                  4315\n",
       "Super E10 95 / Super Plus E10 98                                                                                4\n",
       "Super 95 / Super E10 95 / Super Plus E10 98                                                                     1\n",
       "Regular/Benzine 91 (Particulate Filter)                                                                       100\n",
       "Regular/Benzine E10 91 / Regular/Benzine 91 / Super 95 / Super Plus 98 / Super E10 95 / Super Plus E10 98       1\n",
       "Super E10 95 / Regular/Benzine 91                                                                               2\n",
       "Super 95 / Regular/Benzine E10 91                                                                               1\n",
       "Super 95 / Super Plus 98 (Particulate Filter)                                                                  14\n",
       "Super E10 95 / Super 95 / Super Plus 98 / Super Plus E10 98                                                    19\n",
       "Super E10 95                                                                                                  331\n",
       "Regular/Benzine 91 / Super 95 / Super Plus 98 / Regular/Benzine E10 91 / Super E10 95 / Super Plus E10 98      13\n",
       "Super 95 / Super Plus 98 / Super E10 95 / Super Plus E10 98 (Particulate Filter)                                4\n",
       "Liquid petroleum gas (LPG)                                                                                     10\n",
       "Super 95 / Super E10 95                                                                                       131\n",
       "Regular/Benzine 91 / Super 95 / Super E10 95 / Regular/Benzine E10 91                                           1\n",
       "Regular/Benzine 91 / Super 95 / Regular/Benzine E10 91 / Super E10 95 / Super Plus 98 / Super Plus E10 98       1\n",
       "Super E10 95 / Super 95 / Super Plus 98 / Super Plus E10 98 (Particulate Filter)                                3\n",
       "Super 95 / Super E10 95 (Particulate Filter)                                                                   25\n",
       "Diesel                                                                                                       2984\n",
       "Super 95                                                                                                     3338\n",
       "Super Plus 98 / Super E10 95                                                                                    1\n",
       "Super 95 / Regular/Benzine 91 / Super Plus 98 / Regular/Benzine E10 91 / Super Plus E10 98 / Super E10 95       1\n",
       "Regular/Benzine 91 / Super 95 / Super Plus E10 98 / Super E10 95 / Regular/Benzine E10 91 / Super Plus 98       1\n",
       "Super 95 (Particulate Filter)                                                                                 268\n",
       "Domestic gas H                                                                                                  1\n",
       "Super 95 / Super E10 95 / Super Plus 98                                                                         1\n",
       "Super E10 95 / Super 95                                                                                        38\n",
       "Super 95 / Regular/Benzine 91 / Super Plus 98 / Regular/Benzine E10 91 / Super E10 95 / Super Plus E10 98       7\n",
       "Regular/Benzine 91 / Super 95 / Super Plus 98                                                                   1\n",
       "Super 95 / Regular/Benzine 91                                                                                 424\n",
       "Super 95 / Biodiesel                                                                                            1\n",
       "Super 95 / Super E10 95 / Regular/Benzine 91                                                                    1\n",
       "Gasoline                                                                                                     3175\n",
       "Others (Particulate Filter)                                                                                     1\n",
       "Super 95 / Regular/Benzine 91 / Super E10 95 / Super Plus 98 / Super Plus E10 98 / Regular/Benzine E10 91       1\n",
       "Super 95 / Super Plus 98 / Regular/Benzine E10 91 / Super Plus E10 98 / Super E10 95 / Regular/Benzine 91       1\n",
       "Super Plus E10 98 / Super 95 / Super Plus 98 / Super E10 95                                                     1\n",
       "Name: Fuel, dtype: int64"
      ]
     },
     "execution_count": 701,
     "metadata": {},
     "output_type": "execute_result"
    }
   ],
   "source": [
    "scout.Fuel.str[1].value_counts(dropna = False).sample(40)"
   ]
  },
  {
   "cell_type": "code",
   "execution_count": 702,
   "metadata": {},
   "outputs": [],
   "source": [
    "scout['fuel_new'] =  scout.Fuel.str[1]"
   ]
  },
  {
   "cell_type": "code",
   "execution_count": 703,
   "metadata": {},
   "outputs": [],
   "source": [
    "diesel_check = scout.fuel_new.str.contains('diesel', case = False, regex = True)"
   ]
  },
  {
   "cell_type": "code",
   "execution_count": 704,
   "metadata": {},
   "outputs": [],
   "source": [
    "alternative_check = scout.fuel_new.str.contains('lpg|cng|domestic|electric|others|bio', case = False, regex = True)"
   ]
  },
  {
   "cell_type": "code",
   "execution_count": 705,
   "metadata": {},
   "outputs": [],
   "source": [
    "scout.loc[diesel_check, 'fuel_new'] = 'Diesel'"
   ]
  },
  {
   "cell_type": "code",
   "execution_count": 706,
   "metadata": {},
   "outputs": [],
   "source": [
    "scout.loc[alternative_check, 'fuel_new'] = 'alternative_fuel'"
   ]
  },
  {
   "cell_type": "code",
   "execution_count": 707,
   "metadata": {},
   "outputs": [
    {
     "data": {
      "text/plain": [
       "1                                             Gasoline\n",
       "9                                             Gasoline\n",
       "11                                            Super 95\n",
       "12                                  Regular/Benzine 91\n",
       "13                                            Gasoline\n",
       "                             ...                      \n",
       "15908                                         Gasoline\n",
       "15910                           Regular/Benzine E10 91\n",
       "15913                                         Super 95\n",
       "15915    Super 95 / Super Plus 98 (Particulate Filter)\n",
       "15918                                         Super 95\n",
       "Name: fuel_new, Length: 8544, dtype: object"
      ]
     },
     "execution_count": 707,
     "metadata": {},
     "output_type": "execute_result"
    }
   ],
   "source": [
    "scout.fuel_new.loc[lambda x : x != 'Diesel'][lambda x : x != 'alternative_fuel']"
   ]
  },
  {
   "cell_type": "code",
   "execution_count": 708,
   "metadata": {},
   "outputs": [],
   "source": [
    "benzine_index = list(scout.fuel_new.loc[lambda x : x != 'Diesel'][lambda x : x != 'alternative_fuel'].index)"
   ]
  },
  {
   "cell_type": "code",
   "execution_count": 709,
   "metadata": {},
   "outputs": [],
   "source": [
    "scout.fuel_new.iloc[benzine_index] = 'Benzine'"
   ]
  },
  {
   "cell_type": "code",
   "execution_count": 710,
   "metadata": {},
   "outputs": [
    {
     "data": {
      "text/plain": [
       "Benzine             8544\n",
       "Diesel              7299\n",
       "alternative_fuel      76\n",
       "Name: fuel_new, dtype: int64"
      ]
     },
     "execution_count": 710,
     "metadata": {},
     "output_type": "execute_result"
    }
   ],
   "source": [
    "scout.fuel_new.value_counts(dropna = False)"
   ]
  },
  {
   "cell_type": "code",
   "execution_count": 711,
   "metadata": {},
   "outputs": [],
   "source": [
    "scout.drop(columns = 'Fuel', inplace = True)"
   ]
  },
  {
   "cell_type": "markdown",
   "metadata": {},
   "source": [
    "## scout['Consumption']"
   ]
  },
  {
   "cell_type": "code",
   "execution_count": 712,
   "metadata": {},
   "outputs": [
    {
     "ename": "TypeError",
     "evalue": "unhashable type: 'list'",
     "output_type": "error",
     "traceback": [
      "\u001b[0;31m---------------------------------------------------------------------------\u001b[0m",
      "\u001b[0;31mTypeError\u001b[0m                                 Traceback (most recent call last)",
      "\u001b[0;32mpandas/_libs/hashtable_class_helper.pxi\u001b[0m in \u001b[0;36mpandas._libs.hashtable.PyObjectHashTable.map_locations\u001b[0;34m()\u001b[0m\n",
      "\u001b[0;31mTypeError\u001b[0m: unhashable type: 'list'"
     ]
    },
    {
     "name": "stderr",
     "output_type": "stream",
     "text": [
      "Exception ignored in: 'pandas._libs.index.IndexEngine._call_map_locations'\n",
      "Traceback (most recent call last):\n",
      "  File \"pandas/_libs/hashtable_class_helper.pxi\", line 1652, in pandas._libs.hashtable.PyObjectHashTable.map_locations\n",
      "TypeError: unhashable type: 'list'\n"
     ]
    },
    {
     "data": {
      "text/plain": [
       "NaN                                                                                   1906\n",
       "[[3.9 l/100 km (comb)], [4.1 l/100 km (city)], [3.7 l/100 km (country)]]               304\n",
       "[[4.2 l/100 km (comb)], [5 l/100 km (city)], [3.7 l/100 km (country)]]                 276\n",
       "[[5.4 l/100 km (comb)], [6.8 l/100 km (city)], [4.5 l/100 km (country)]]               257\n",
       "[[3.8 l/100 km (comb)], [4.3 l/100 km (city)], [3.5 l/100 km (country)]]               253\n",
       "                                                                                      ... \n",
       "[[3.6 l/100 km (comb)], [], [4.4 l/100 km (country)]]                                    1\n",
       "[\\n, 4.8 l/100 km (comb), \\n, 5.6 l/100 km (city), \\n, 4.3 l/100 km (country), \\n]       1\n",
       "[[7.6 l/100 km (comb)], [], []]                                                          1\n",
       "[[5.6 l/100 km (comb)], [7.6 l/100 km (city)], [4.4 l/100 km (country)]]                 1\n",
       "[\\n, 4.7 l/100 km (comb), \\n, \\n, \\n]                                                    1\n",
       "Name: Consumption, Length: 882, dtype: int64"
      ]
     },
     "execution_count": 712,
     "metadata": {},
     "output_type": "execute_result"
    }
   ],
   "source": [
    "scout['Consumption'].value_counts(dropna = False)"
   ]
  },
  {
   "cell_type": "code",
   "execution_count": 713,
   "metadata": {},
   "outputs": [
    {
     "data": {
      "text/plain": [
       "1906"
      ]
     },
     "execution_count": 713,
     "metadata": {},
     "output_type": "execute_result"
    }
   ],
   "source": [
    "count = 0 \n",
    "for i in scout['Consumption']:\n",
    "    if type(i) != list:\n",
    "        count +=1\n",
    "count"
   ]
  },
  {
   "cell_type": "code",
   "execution_count": 714,
   "metadata": {},
   "outputs": [],
   "source": [
    "consumtion_str = [','.join(map(str, l)) if isinstance(l,list) else l for l in scout['Consumption']]"
   ]
  },
  {
   "cell_type": "code",
   "execution_count": 715,
   "metadata": {},
   "outputs": [
    {
     "data": {
      "text/plain": [
       "15919"
      ]
     },
     "execution_count": 715,
     "metadata": {},
     "output_type": "execute_result"
    }
   ],
   "source": [
    "count = 0 \n",
    "for i in consumtion_str:\n",
    "    if type(i) != list:\n",
    "        count +=1\n",
    "count"
   ]
  },
  {
   "cell_type": "code",
   "execution_count": 716,
   "metadata": {},
   "outputs": [],
   "source": [
    "consumtion_str_serie = pd.Series(consumtion_str)"
   ]
  },
  {
   "cell_type": "code",
   "execution_count": 717,
   "metadata": {},
   "outputs": [
    {
     "data": {
      "text/plain": [
       "str"
      ]
     },
     "execution_count": 717,
     "metadata": {},
     "output_type": "execute_result"
    }
   ],
   "source": [
    "type(consumtion_str_serie[0])"
   ]
  },
  {
   "cell_type": "code",
   "execution_count": 757,
   "metadata": {},
   "outputs": [
    {
     "data": {
      "text/plain": [
       "['5.3 l/100 km (comb)'],['6.7 l/100 km (city)'],['4.4 l/100 km (country)']     1\n",
       "['4.3 l/100 km (comb)'],['5 l/100 km (city)'],['3.8 l/100 km (country)']       3\n",
       "['4.2 l/100 km (comb)'],['6.5 l/100 km (city)'],['4.4 l/100 km (country)']     7\n",
       "['6 l/100 km (comb)'],['7.8 l/100 km (city)'],['4.9 l/100 km (country)']      86\n",
       "['6.6 l/100 km (comb)'],['7.4 l/100 km (city)'],['5.4 l/100 km (country)']     1\n",
       "['5 l/100 km (comb)'],['5.5 l/100 km (city)'],['3.9 l/100 km (country)']      17\n",
       "['32 l/100 km (comb)'],[],[]                                                   1\n",
       "['7.6 l/100 km (comb)'],['9.9 l/100 km (city)'],['6.4 l/100 km (country)']    12\n",
       "\\n,5.7 l/100 km (comb),\\n,7.2 l/100 km (city),\\n,4.8 l/100 km (country),\\n     6\n",
       "\\n,4 l/100 km (comb),\\n,3.8 l/100 km (city),\\n,4.4 l/100 km (country),\\n       1\n",
       "['7 l/100 km (comb)'],['9.6 l/100 km (city)'],['5.5 l/100 km (country)']       2\n",
       "['5.6 l/100 km (comb)'],['7.3 l/100 km (city)'],['4.6 l/100 km (country)']    36\n",
       "\\n,5.7 l/100 km (comb),\\n,7.3 l/100 km (city),\\n,4.8 l/100 km (country),\\n     5\n",
       "\\n,5.6 l/100 km (comb),\\n,7.3 l/100 km (city),\\n,4.5 l/100 km (country),\\n     8\n",
       "['5.1 l/100 km (comb)'],['6.2 l/100 km (city)'],['4.4 l/100 km (country)']    17\n",
       "['5 l/100 km (comb)'],['6.1 l/100 km (city)'],['4.4 l/100 km (country)']       6\n",
       "['3.9 l/100 km (comb)'],['4.5 l/100 km (city)'],['3.5 l/100 km (country)']     2\n",
       "['5.3 l/100 km (comb)'],['7 l/100 km (city)'],['4.3 l/100 km (country)']      22\n",
       "[],['5 l/100 km (city)'],['4.4 l/100 km (country)']                            5\n",
       "['6.6 l/100 km (comb)'],[],[]                                                  1\n",
       "['3.5 l/100 km (comb)'],['3.9 l/100 km (city)'],['3.3 l/100 km (country)']    75\n",
       "['4 l/100 km (comb)'],['5 l/100 km (city)'],['3.4 l/100 km (country)']         1\n",
       "['5.1 l/100 km (comb)'],['6.5 l/100 km (city)'],['4.3 l/100 km (country)']    39\n",
       "['5.6 l/100 km (comb)'],['7 l/100 km (city)'],['4.7 l/100 km (country)']       6\n",
       "\\n,5.9 l/100 km (comb),\\n,7.6 l/100 km (city),\\n,4.9 l/100 km (country),\\n     2\n",
       "['7 l/100 km (comb)'],[],[]                                                    2\n",
       "['5.8 l/100 km (comb)'],['7.6 l/100 km (city)'],['4.8 l/100 km (country)']    10\n",
       "['5.2 l/100 km (comb)'],['6.3 l/100 km (city)'],['4.5 l/100 km (country)']     1\n",
       "['3.5 l/100 km (comb)'],['4.6 l/100 km (city)'],['2.9 l/100 km (country)']     1\n",
       "['7.2 l/100 km (comb)'],['9.8 l/100 km (city)'],['5.8 l/100 km (country)']     4\n",
       "['4.9 l/100 km (comb)'],['6 l/100 km (city)'],['4.2 l/100 km (country)']      98\n",
       "['6.7 l/100 km (comb)'],['8.9 l/100 km (city)'],['5.4 l/100 km (country)']     1\n",
       "['4.1 l/100 km (comb)'],['4.8 l/100 km (city)'],['6 l/100 km (country)']       1\n",
       "['6.8 l/100 km (comb)'],['6.9 l/100 km (city)'],['6 l/100 km (country)']       1\n",
       "['4.8 l/100 km (comb)'],['5.3 l/100 km (city)'],['4.1 l/100 km (country)']     4\n",
       "['6 l/100 km (comb)'],['7.8 l/100 km (city)'],['4.8 l/100 km (country)']      10\n",
       "\\n,4.2 l/100 km (comb),\\n,5 l/100 km (city),\\n,3.7 l/100 km (country),\\n      27\n",
       "['3.9 l/100 km (comb)'],['4.5 l/100 km (city)'],['3.7 l/100 km (country)']     1\n",
       "['4.2 l/100 km (comb)'],['5.1 l/100 km (city)'],['3.8 l/100 km (country)']     1\n",
       "['6.7 l/100 km (comb)'],['8.5 l/100 km (city)'],['5.7 l/100 km (country)']     2\n",
       "['5.1 l/100 km (comb)'],['6.2 l/100 km (city)'],['4.5 l/100 km (country)']     1\n",
       "\\n,6.4 l/100 km (comb),\\n,8.3 l/100 km (city),\\n,5.3 l/100 km (country),\\n     8\n",
       "['6 l/100 km (comb)'],['7 l/100 km (city)'],['5 l/100 km (country)']          21\n",
       "['5.1 l/100 km (comb)'],['6.6 l/100 km (city)'],['4.2 l/100 km (country)']    20\n",
       "['4 l/100 km (comb)'],['4.6 l/100 km (city)'],['3.7 l/100 km (country)']       2\n",
       "['3.2 l/100 km (comb)'],[],[]                                                  4\n",
       "['3.7 l/100 km (comb)'],['4.2 l/100 km (city)'],['3.4 l/100 km (country)']    84\n",
       "['3.6 l/100 km (comb)'],['4.2 l/100 km (city)'],['3.3 l/100 km (country)']    50\n",
       "\\n,6.8 l/100 km (comb),\\n,8.7 l/100 km (city),\\n,5.7 l/100 km (country),\\n     1\n",
       "\\n,5.6 l/100 km (comb),\\n,6.9 l/100 km (city),\\n,4.8 l/100 km (country),\\n     1\n",
       "['5.2 l/100 km (comb)'],['5.9 l/100 km (city)'],['4.8 l/100 km (country)']     1\n",
       "['6.2 l/100 km (comb)'],['8.5 l/100 km (city)'],['4.9 l/100 km (country)']     8\n",
       "['6.1 l/100 km (comb)'],['8 l/100 km (city)'],['5 l/100 km (country)']         4\n",
       "['3.7 l/100 km (comb)'],['4.5 l/100 km (city)'],['3.2 l/100 km (country)']    15\n",
       "['3.3 l/100 km (comb)'],['3.8 l/100 km (city)'],['3.1 l/100 km (country)']     9\n",
       "dtype: int64"
      ]
     },
     "execution_count": 757,
     "metadata": {},
     "output_type": "execute_result"
    }
   ],
   "source": [
    "consumtion_str_serie.value_counts(dropna = False).sample(55)"
   ]
  },
  {
   "cell_type": "code",
   "execution_count": 776,
   "metadata": {},
   "outputs": [],
   "source": [
    "consumption_comb = consumtion_str_serie.str.extract('(\\d+\\.*\\d*).*comb')"
   ]
  },
  {
   "cell_type": "code",
   "execution_count": 777,
   "metadata": {},
   "outputs": [],
   "source": [
    "consumption_city = consumtion_str_serie.str.extract('(\\d+\\.*\\d*).*city')"
   ]
  },
  {
   "cell_type": "code",
   "execution_count": 778,
   "metadata": {},
   "outputs": [],
   "source": [
    "consumption_country = consumtion_str_serie.str.extract('(\\d+\\.*\\d*).*country')"
   ]
  },
  {
   "cell_type": "code",
   "execution_count": 779,
   "metadata": {},
   "outputs": [
    {
     "data": {
      "text/plain": [
       "\"['3.8 l/100 km (comb)'],['4.3 l/100 km (city)'],['3.5 l/100 km (country)']\""
      ]
     },
     "execution_count": 779,
     "metadata": {},
     "output_type": "execute_result"
    }
   ],
   "source": [
    "consumtion_str_serie[0]"
   ]
  },
  {
   "cell_type": "code",
   "execution_count": 780,
   "metadata": {},
   "outputs": [
    {
     "data": {
      "text/plain": [
       "0    2033\n",
       "dtype: int64"
      ]
     },
     "execution_count": 780,
     "metadata": {},
     "output_type": "execute_result"
    }
   ],
   "source": [
    "consumption_comb.isnull().sum()"
   ]
  },
  {
   "cell_type": "code",
   "execution_count": 781,
   "metadata": {},
   "outputs": [
    {
     "data": {
      "text/plain": [
       "0    2436\n",
       "dtype: int64"
      ]
     },
     "execution_count": 781,
     "metadata": {},
     "output_type": "execute_result"
    }
   ],
   "source": [
    "consumption_city.isnull().sum()"
   ]
  },
  {
   "cell_type": "code",
   "execution_count": 782,
   "metadata": {},
   "outputs": [
    {
     "data": {
      "text/plain": [
       "0    2376\n",
       "dtype: int64"
      ]
     },
     "execution_count": 782,
     "metadata": {},
     "output_type": "execute_result"
    }
   ],
   "source": [
    "consumption_country.isnull().sum()"
   ]
  },
  {
   "cell_type": "code",
   "execution_count": 783,
   "metadata": {},
   "outputs": [],
   "source": [
    "scout['consumption_comb'] = consumption_comb"
   ]
  },
  {
   "cell_type": "code",
   "execution_count": 784,
   "metadata": {},
   "outputs": [],
   "source": [
    "scout['consumption_city'] = consumption_city"
   ]
  },
  {
   "cell_type": "code",
   "execution_count": 786,
   "metadata": {},
   "outputs": [],
   "source": [
    "scout['consumption_country'] = consumption_country"
   ]
  },
  {
   "cell_type": "code",
   "execution_count": 787,
   "metadata": {},
   "outputs": [],
   "source": [
    "scout.drop(columns = 'Consumption', inplace = True)"
   ]
  },
  {
   "cell_type": "markdown",
   "metadata": {},
   "source": [
    "## scout['Type']"
   ]
  },
  {
   "cell_type": "code",
   "execution_count": 803,
   "metadata": {},
   "outputs": [
    {
     "ename": "TypeError",
     "evalue": "unhashable type: 'list'",
     "output_type": "error",
     "traceback": [
      "\u001b[0;31m---------------------------------------------------------------------------\u001b[0m",
      "\u001b[0;31mTypeError\u001b[0m                                 Traceback (most recent call last)",
      "\u001b[0;32mpandas/_libs/hashtable_class_helper.pxi\u001b[0m in \u001b[0;36mpandas._libs.hashtable.PyObjectHashTable.map_locations\u001b[0;34m()\u001b[0m\n",
      "\u001b[0;31mTypeError\u001b[0m: unhashable type: 'list'"
     ]
    },
    {
     "name": "stderr",
     "output_type": "stream",
     "text": [
      "Exception ignored in: 'pandas._libs.index.IndexEngine._call_map_locations'\n",
      "Traceback (most recent call last):\n",
      "  File \"pandas/_libs/hashtable_class_helper.pxi\", line 1652, in pandas._libs.hashtable.PyObjectHashTable.map_locations\n",
      "TypeError: unhashable type: 'list'\n"
     ]
    },
    {
     "data": {
      "text/plain": [
       "[, Used, , Diesel (Particulate Filter)]                                                                                  3475\n",
       "[, Used, , Diesel]                                                                                                       2516\n",
       "[, Used, , Gasoline]                                                                                                     2367\n",
       "[, Used, , Super 95]                                                                                                     1818\n",
       "[, Pre-registered, , Super 95]                                                                                            500\n",
       "                                                                                                                         ... \n",
       "[, Used, , Regular/Benzine E10 91 / Super E10 95 / Super Plus E10 98 / Super Plus 98 / Super 95 / Regular/Benzine 91]       1\n",
       "[, Used, , Regular/Benzine E10 91 / Regular/Benzine 91 / Super 95 / Super Plus 98 / Super E10 95 / Super Plus E10 98]       1\n",
       "[, Employee's car, , Regular/Benzine 91 / Super 95 / Super E10 95]                                                          1\n",
       "[, Pre-registered, , Biogas]                                                                                                1\n",
       "[, Used, , Regular/Benzine 91 / Super 95 / Super Plus 98]                                                                   1\n",
       "Name: Type, Length: 170, dtype: int64"
      ]
     },
     "execution_count": 803,
     "metadata": {},
     "output_type": "execute_result"
    }
   ],
   "source": [
    "scout['Type'].value_counts(dropna = False)"
   ]
  },
  {
   "cell_type": "code",
   "execution_count": 804,
   "metadata": {},
   "outputs": [
    {
     "data": {
      "text/plain": [
       "Used              11096\n",
       "New                1650\n",
       "Pre-registered     1364\n",
       "Employee's car     1011\n",
       "Demonstration       796\n",
       "NaN                   2\n",
       "Name: Type, dtype: int64"
      ]
     },
     "execution_count": 804,
     "metadata": {},
     "output_type": "execute_result"
    }
   ],
   "source": [
    "scout['Type'].str[1].value_counts(dropna = False)"
   ]
  },
  {
   "cell_type": "code",
   "execution_count": 805,
   "metadata": {},
   "outputs": [],
   "source": [
    "scout['Type'] = scout['Type'].str[1]"
   ]
  },
  {
   "cell_type": "markdown",
   "metadata": {},
   "source": [
    "## scout['null']"
   ]
  },
  {
   "cell_type": "code",
   "execution_count": 809,
   "metadata": {},
   "outputs": [
    {
     "ename": "TypeError",
     "evalue": "unhashable type: 'list'",
     "output_type": "error",
     "traceback": [
      "\u001b[0;31m---------------------------------------------------------------------------\u001b[0m",
      "\u001b[0;31mTypeError\u001b[0m                                 Traceback (most recent call last)",
      "\u001b[0;32mpandas/_libs/hashtable_class_helper.pxi\u001b[0m in \u001b[0;36mpandas._libs.hashtable.PyObjectHashTable.map_locations\u001b[0;34m()\u001b[0m\n",
      "\u001b[0;31mTypeError\u001b[0m: unhashable type: 'list'"
     ]
    },
    {
     "name": "stderr",
     "output_type": "stream",
     "text": [
      "Exception ignored in: 'pandas._libs.index.IndexEngine._call_map_locations'\n",
      "Traceback (most recent call last):\n",
      "  File \"pandas/_libs/hashtable_class_helper.pxi\", line 1652, in pandas._libs.hashtable.PyObjectHashTable.map_locations\n",
      "TypeError: unhashable type: 'list'\n"
     ]
    },
    {
     "data": {
      "text/plain": [
       "[]    15919\n",
       "Name: null, dtype: int64"
      ]
     },
     "execution_count": 809,
     "metadata": {},
     "output_type": "execute_result"
    }
   ],
   "source": [
    "scout['null'].value_counts(dropna = False)"
   ]
  },
  {
   "cell_type": "code",
   "execution_count": 811,
   "metadata": {},
   "outputs": [],
   "source": [
    "scout.drop(columns = ['null'], inplace = True)"
   ]
  },
  {
   "cell_type": "markdown",
   "metadata": {},
   "source": [
    "## scout['Offer Number']"
   ]
  },
  {
   "cell_type": "code",
   "execution_count": 815,
   "metadata": {},
   "outputs": [
    {
     "ename": "TypeError",
     "evalue": "unhashable type: 'list'",
     "output_type": "error",
     "traceback": [
      "\u001b[0;31m---------------------------------------------------------------------------\u001b[0m",
      "\u001b[0;31mTypeError\u001b[0m                                 Traceback (most recent call last)",
      "\u001b[0;32mpandas/_libs/hashtable_class_helper.pxi\u001b[0m in \u001b[0;36mpandas._libs.hashtable.PyObjectHashTable.map_locations\u001b[0;34m()\u001b[0m\n",
      "\u001b[0;31mTypeError\u001b[0m: unhashable type: 'list'"
     ]
    },
    {
     "name": "stderr",
     "output_type": "stream",
     "text": [
      "Exception ignored in: 'pandas._libs.index.IndexEngine._call_map_locations'\n",
      "Traceback (most recent call last):\n",
      "  File \"pandas/_libs/hashtable_class_helper.pxi\", line 1652, in pandas._libs.hashtable.PyObjectHashTable.map_locations\n",
      "TypeError: unhashable type: 'list'\n"
     ]
    },
    {
     "data": {
      "text/plain": [
       "NaN                       3175\n",
       "[\\nXJ38068\\n]               27\n",
       "[\\nHM53619\\n]               27\n",
       "[\\nLT67679\\n]               27\n",
       "[\\nJV03654\\n]               27\n",
       "                          ... \n",
       "[\\nE84_474_6130_158\\n]       1\n",
       "[\\n101\\n]                    1\n",
       "[\\n418394\\n]                 1\n",
       "[\\nrv290009\\n]               1\n",
       "[\\nG02394\\n]                 1\n",
       "Name: Offer Number, Length: 11441, dtype: int64"
      ]
     },
     "execution_count": 815,
     "metadata": {},
     "output_type": "execute_result"
    }
   ],
   "source": [
    "scout['Offer Number'].value_counts(dropna = False)"
   ]
  },
  {
   "cell_type": "code",
   "execution_count": 822,
   "metadata": {},
   "outputs": [
    {
     "data": {
      "text/plain": [
       "0             LR-062483\n",
       "1                   NaN\n",
       "2              AM-95365\n",
       "3                   NaN\n",
       "4                 C1626\n",
       "              ...      \n",
       "15914          10988301\n",
       "15915       507370_3223\n",
       "15916          Espace16\n",
       "15917           2691331\n",
       "15918    Re_30000008029\n",
       "Name: Offer Number, Length: 15919, dtype: object"
      ]
     },
     "execution_count": 822,
     "metadata": {},
     "output_type": "execute_result"
    }
   ],
   "source": [
    "scout['Offer Number'].str[0].str.strip()"
   ]
  },
  {
   "cell_type": "markdown",
   "metadata": {},
   "source": [
    "Since the content is not intuitive we will drop the 'Offer Number' column."
   ]
  },
  {
   "cell_type": "code",
   "execution_count": 823,
   "metadata": {},
   "outputs": [],
   "source": [
    "scout.drop(columns = ['Offer Number'], inplace = True)"
   ]
  },
  {
   "cell_type": "markdown",
   "metadata": {},
   "source": [
    "## scout['First Registration']"
   ]
  },
  {
   "cell_type": "code",
   "execution_count": 825,
   "metadata": {},
   "outputs": [
    {
     "ename": "TypeError",
     "evalue": "unhashable type: 'list'",
     "output_type": "error",
     "traceback": [
      "\u001b[0;31m---------------------------------------------------------------------------\u001b[0m",
      "\u001b[0;31mTypeError\u001b[0m                                 Traceback (most recent call last)",
      "\u001b[0;32mpandas/_libs/hashtable_class_helper.pxi\u001b[0m in \u001b[0;36mpandas._libs.hashtable.PyObjectHashTable.map_locations\u001b[0;34m()\u001b[0m\n",
      "\u001b[0;31mTypeError\u001b[0m: unhashable type: 'list'"
     ]
    },
    {
     "name": "stderr",
     "output_type": "stream",
     "text": [
      "Exception ignored in: 'pandas._libs.index.IndexEngine._call_map_locations'\n",
      "Traceback (most recent call last):\n",
      "  File \"pandas/_libs/hashtable_class_helper.pxi\", line 1652, in pandas._libs.hashtable.PyObjectHashTable.map_locations\n",
      "TypeError: unhashable type: 'list'\n"
     ]
    },
    {
     "data": {
      "text/plain": [
       "[\\n, 2018, \\n]    4522\n",
       "[\\n, 2016, \\n]    3674\n",
       "[\\n, 2017, \\n]    3273\n",
       "[\\n, 2019, \\n]    2853\n",
       "NaN               1597\n",
       "Name: First Registration, dtype: int64"
      ]
     },
     "execution_count": 825,
     "metadata": {},
     "output_type": "execute_result"
    }
   ],
   "source": [
    "scout['First Registration'].value_counts(dropna = False)"
   ]
  },
  {
   "cell_type": "code",
   "execution_count": 827,
   "metadata": {},
   "outputs": [
    {
     "data": {
      "text/plain": [
       "2018    4522\n",
       "2016    3674\n",
       "2017    3273\n",
       "2019    2853\n",
       "NaN     1597\n",
       "Name: First Registration, dtype: int64"
      ]
     },
     "execution_count": 827,
     "metadata": {},
     "output_type": "execute_result"
    }
   ],
   "source": [
    "scout['First Registration'].str[1].value_counts(dropna = False)"
   ]
  },
  {
   "cell_type": "code",
   "execution_count": 828,
   "metadata": {},
   "outputs": [],
   "source": [
    "scout['first_registration'] = scout['First Registration'].str[1]"
   ]
  },
  {
   "cell_type": "code",
   "execution_count": 829,
   "metadata": {},
   "outputs": [],
   "source": [
    "scout.drop(columns = ['First Registration'], inplace = True)"
   ]
  },
  {
   "cell_type": "markdown",
   "metadata": {},
   "source": [
    "## scout['Body Color']"
   ]
  },
  {
   "cell_type": "code",
   "execution_count": 831,
   "metadata": {},
   "outputs": [
    {
     "ename": "TypeError",
     "evalue": "unhashable type: 'list'",
     "output_type": "error",
     "traceback": [
      "\u001b[0;31m---------------------------------------------------------------------------\u001b[0m",
      "\u001b[0;31mTypeError\u001b[0m                                 Traceback (most recent call last)",
      "\u001b[0;32mpandas/_libs/hashtable_class_helper.pxi\u001b[0m in \u001b[0;36mpandas._libs.hashtable.PyObjectHashTable.map_locations\u001b[0;34m()\u001b[0m\n",
      "\u001b[0;31mTypeError\u001b[0m: unhashable type: 'list'"
     ]
    },
    {
     "name": "stderr",
     "output_type": "stream",
     "text": [
      "Exception ignored in: 'pandas._libs.index.IndexEngine._call_map_locations'\n",
      "Traceback (most recent call last):\n",
      "  File \"pandas/_libs/hashtable_class_helper.pxi\", line 1652, in pandas._libs.hashtable.PyObjectHashTable.map_locations\n",
      "TypeError: unhashable type: 'list'\n"
     ]
    },
    {
     "data": {
      "text/plain": [
       "[\\n, Black, \\n]     3745\n",
       "[\\n, Grey, \\n]      3505\n",
       "[\\n, White, \\n]     3406\n",
       "[\\n, Silver, \\n]    1647\n",
       "[\\n, Blue, \\n]      1431\n",
       "[\\n, Red, \\n]        957\n",
       "NaN                  597\n",
       "[\\n, Brown, \\n]      289\n",
       "[\\n, Green, \\n]      154\n",
       "[\\n, Beige, \\n]      108\n",
       "[\\n, Yellow, \\n]      51\n",
       "[\\n, Violet, \\n]      18\n",
       "[\\n, Bronze, \\n]       6\n",
       "[\\n, Orange, \\n]       3\n",
       "[\\n, Gold, \\n]         2\n",
       "Name: Body Color, dtype: int64"
      ]
     },
     "execution_count": 831,
     "metadata": {},
     "output_type": "execute_result"
    }
   ],
   "source": [
    "scout['Body Color'].value_counts(dropna = False)"
   ]
  },
  {
   "cell_type": "code",
   "execution_count": 832,
   "metadata": {},
   "outputs": [
    {
     "data": {
      "text/plain": [
       "Black     3745\n",
       "Grey      3505\n",
       "White     3406\n",
       "Silver    1647\n",
       "Blue      1431\n",
       "Red        957\n",
       "NaN        597\n",
       "Brown      289\n",
       "Green      154\n",
       "Beige      108\n",
       "Yellow      51\n",
       "Violet      18\n",
       "Bronze       6\n",
       "Orange       3\n",
       "Gold         2\n",
       "Name: Body Color, dtype: int64"
      ]
     },
     "execution_count": 832,
     "metadata": {},
     "output_type": "execute_result"
    }
   ],
   "source": [
    "scout['Body Color'].str[1].value_counts(dropna = False)"
   ]
  },
  {
   "cell_type": "code",
   "execution_count": 833,
   "metadata": {},
   "outputs": [],
   "source": [
    "scout['body_color'] = scout['Body Color'].str[1]"
   ]
  },
  {
   "cell_type": "code",
   "execution_count": 834,
   "metadata": {},
   "outputs": [],
   "source": [
    "scout.drop(columns = ['Body Color'], inplace = True)"
   ]
  },
  {
   "cell_type": "markdown",
   "metadata": {},
   "source": [
    "## scout['Body']"
   ]
  },
  {
   "cell_type": "code",
   "execution_count": 836,
   "metadata": {},
   "outputs": [
    {
     "ename": "TypeError",
     "evalue": "unhashable type: 'list'",
     "output_type": "error",
     "traceback": [
      "\u001b[0;31m---------------------------------------------------------------------------\u001b[0m",
      "\u001b[0;31mTypeError\u001b[0m                                 Traceback (most recent call last)",
      "\u001b[0;32mpandas/_libs/hashtable_class_helper.pxi\u001b[0m in \u001b[0;36mpandas._libs.hashtable.PyObjectHashTable.map_locations\u001b[0;34m()\u001b[0m\n",
      "\u001b[0;31mTypeError\u001b[0m: unhashable type: 'list'"
     ]
    },
    {
     "name": "stderr",
     "output_type": "stream",
     "text": [
      "Exception ignored in: 'pandas._libs.index.IndexEngine._call_map_locations'\n",
      "Traceback (most recent call last):\n",
      "  File \"pandas/_libs/hashtable_class_helper.pxi\", line 1652, in pandas._libs.hashtable.PyObjectHashTable.map_locations\n",
      "TypeError: unhashable type: 'list'\n"
     ]
    },
    {
     "data": {
      "text/plain": [
       "[\\n, Sedans, \\n]           7903\n",
       "[\\n, Station wagon, \\n]    3553\n",
       "[\\n, Compact, \\n]          3153\n",
       "[\\n, Van, \\n]               783\n",
       "[\\n, Other, \\n]             290\n",
       "[\\n, Transporter, \\n]        88\n",
       "NaN                          60\n",
       "[\\n, Off-Road, \\n]           56\n",
       "[\\n, Coupe, \\n]              25\n",
       "[\\n, Convertible, \\n]         8\n",
       "Name: Body, dtype: int64"
      ]
     },
     "execution_count": 836,
     "metadata": {},
     "output_type": "execute_result"
    }
   ],
   "source": [
    "scout['Body'].value_counts(dropna = False)"
   ]
  },
  {
   "cell_type": "code",
   "execution_count": 837,
   "metadata": {},
   "outputs": [
    {
     "data": {
      "text/plain": [
       "Sedans           7903\n",
       "Station wagon    3553\n",
       "Compact          3153\n",
       "Van               783\n",
       "Other             290\n",
       "Transporter        88\n",
       "NaN                60\n",
       "Off-Road           56\n",
       "Coupe              25\n",
       "Convertible         8\n",
       "Name: Body, dtype: int64"
      ]
     },
     "execution_count": 837,
     "metadata": {},
     "output_type": "execute_result"
    }
   ],
   "source": [
    "scout['Body'].str[1].value_counts(dropna = False)"
   ]
  },
  {
   "cell_type": "code",
   "execution_count": 838,
   "metadata": {},
   "outputs": [],
   "source": [
    "scout['Body'] = scout['Body'].str[1]"
   ]
  },
  {
   "cell_type": "markdown",
   "metadata": {},
   "source": [
    "## scout['CO2 Emission']"
   ]
  },
  {
   "cell_type": "code",
   "execution_count": 840,
   "metadata": {},
   "outputs": [
    {
     "ename": "TypeError",
     "evalue": "unhashable type: 'list'",
     "output_type": "error",
     "traceback": [
      "\u001b[0;31m---------------------------------------------------------------------------\u001b[0m",
      "\u001b[0;31mTypeError\u001b[0m                                 Traceback (most recent call last)",
      "\u001b[0;32mpandas/_libs/hashtable_class_helper.pxi\u001b[0m in \u001b[0;36mpandas._libs.hashtable.PyObjectHashTable.map_locations\u001b[0;34m()\u001b[0m\n",
      "\u001b[0;31mTypeError\u001b[0m: unhashable type: 'list'"
     ]
    },
    {
     "name": "stderr",
     "output_type": "stream",
     "text": [
      "Exception ignored in: 'pandas._libs.index.IndexEngine._call_map_locations'\n",
      "Traceback (most recent call last):\n",
      "  File \"pandas/_libs/hashtable_class_helper.pxi\", line 1652, in pandas._libs.hashtable.PyObjectHashTable.map_locations\n",
      "TypeError: unhashable type: 'list'\n"
     ]
    },
    {
     "data": {
      "text/plain": [
       "NaN                            1808\n",
       "[\\n120 g CO2/km (comb)\\n]       740\n",
       "[[], [], []]                    628\n",
       "[\\n99 g CO2/km (comb)\\n]        545\n",
       "[\\n97 g CO2/km (comb)\\n]        537\n",
       "                               ... \n",
       "[\\n193 g CO2/km (comb)\\n]         1\n",
       "[\\n171 g CO2/km (comb)\\n]         1\n",
       "[\\n990 g CO2/km (comb)\\n]         1\n",
       "[\\n1,060 g CO2/km (comb)\\n]       1\n",
       "[\\n183 g CO2/km (comb)\\n]         1\n",
       "Name: CO2 Emission, Length: 124, dtype: int64"
      ]
     },
     "execution_count": 840,
     "metadata": {},
     "output_type": "execute_result"
    }
   ],
   "source": [
    "scout['CO2 Emission'].value_counts(dropna = False)"
   ]
  },
  {
   "cell_type": "code",
   "execution_count": 846,
   "metadata": {},
   "outputs": [
    {
     "data": {
      "text/plain": [
       "NaN                      2436\n",
       "120 g CO2/km (comb)       740\n",
       "99 g CO2/km (comb)        545\n",
       "97 g CO2/km (comb)        537\n",
       "104 g CO2/km (comb)       501\n",
       "                         ... \n",
       "165 g CO2/km (comb)         1\n",
       "181 g CO2/km (comb)         1\n",
       "45 g CO2/km (comb)          1\n",
       "1,060 g CO2/km (comb)       1\n",
       "990 g CO2/km (comb)         1\n",
       "Name: CO2 Emission, Length: 123, dtype: int64"
      ]
     },
     "execution_count": 846,
     "metadata": {},
     "output_type": "execute_result"
    }
   ],
   "source": [
    "scout['CO2 Emission'].str[0].str.strip().value_counts(dropna = False)"
   ]
  },
  {
   "cell_type": "code",
   "execution_count": 857,
   "metadata": {},
   "outputs": [
    {
     "data": {
      "text/plain": [
       "NaN       2436\n",
       "120        740\n",
       "99         545\n",
       "97         537\n",
       "104        501\n",
       "          ... \n",
       "45           1\n",
       "190          1\n",
       "14           1\n",
       "177          1\n",
       "14,457       1\n",
       "Name: 0, Length: 123, dtype: int64"
      ]
     },
     "execution_count": 857,
     "metadata": {},
     "output_type": "execute_result"
    }
   ],
   "source": [
    "scout['CO2 Emission'].str[0].str.strip().str.extract('(\\d+.{0,1}\\d*)')[0].value_counts(dropna = False)"
   ]
  },
  {
   "cell_type": "code",
   "execution_count": 859,
   "metadata": {},
   "outputs": [],
   "source": [
    "scout['CO2_Emission'] = scout['CO2 Emission'].str[0].str.strip().str.extract('(\\d+.{0,1}\\d*)')[0].str.replace(',','')"
   ]
  },
  {
   "cell_type": "code",
   "execution_count": 860,
   "metadata": {},
   "outputs": [
    {
     "data": {
      "text/plain": [
       "array(['99 ', '129 ', '109 ', '92 ', '98 ', '97 ', nan, '105 ', '112 ',\n",
       "       '103 ', '102 ', '95 ', '104 ', '91 ', '94 ', '117 ', '123 ',\n",
       "       '106 ', '108 ', '121 ', '107 ', '101 ', '113 ', '137 ', '100 ',\n",
       "       '116 ', '114 ', '118 ', '331 ', '115 ', '119 ', '90 ', '136 ',\n",
       "       '134 ', '110 ', '111 ', '120 ', '89 ', '142 ', '126 ', '122 ',\n",
       "       '128 ', '127 ', '138 ', '130 ', '125 ', '85 ', '124 ', '152 ',\n",
       "       '88 ', '189 ', '194 ', '149 ', '153 ', '188 ', '36 ', '1060',\n",
       "       '96 ', '990 ', '146 ', '135 ', '158 ', '12087', '141 ', '172 ',\n",
       "       '154 ', '150 ', '167 ', '174 ', '93 ', '133 ', '131 ', '145 ',\n",
       "       '147 ', '156 ', '87 ', '5 ', '148 ', '139 ', '151 ', '144 ',\n",
       "       '168 ', '160 ', '170 ', '80 ', '132 ', '155 ', '14 ', '159 ', '0 ',\n",
       "       '143 ', '140 ', '82 ', '12324', '84 ', '165 ', '51 ', '157 ',\n",
       "       '169 ', '166 ', '253 ', '164 ', '175 ', '190 ', '161 ', '239 ',\n",
       "       '197 ', '184 ', '14457', '199 ', '13983', '187 ', '181 ', '186 ',\n",
       "       '177 ', '180 ', '162 ', '45 ', '171 ', '183 ', '1 ', '191 ',\n",
       "       '193 '], dtype=object)"
      ]
     },
     "execution_count": 860,
     "metadata": {},
     "output_type": "execute_result"
    }
   ],
   "source": [
    "scout['CO2_Emission'].unique()"
   ]
  },
  {
   "cell_type": "code",
   "execution_count": 864,
   "metadata": {},
   "outputs": [],
   "source": [
    "scout['CO2_Emission'] = scout['CO2_Emission'].str.replace(' ', '')"
   ]
  },
  {
   "cell_type": "code",
   "execution_count": 865,
   "metadata": {},
   "outputs": [
    {
     "data": {
      "text/plain": [
       "116.0"
      ]
     },
     "execution_count": 865,
     "metadata": {},
     "output_type": "execute_result"
    }
   ],
   "source": [
    "scout.CO2_Emission.median()"
   ]
  },
  {
   "cell_type": "markdown",
   "metadata": {},
   "source": [
    "We have extreme otliers. Filling out null values with median seems to be logical."
   ]
  },
  {
   "cell_type": "code",
   "execution_count": 866,
   "metadata": {},
   "outputs": [],
   "source": [
    "scout.CO2_Emission.fillna(scout.CO2_Emission.median(), inplace = True)"
   ]
  },
  {
   "cell_type": "code",
   "execution_count": 867,
   "metadata": {},
   "outputs": [],
   "source": [
    "scout.drop(columns = ['CO2 Emission'], inplace = True)"
   ]
  },
  {
   "cell_type": "markdown",
   "metadata": {},
   "source": [
    "## scout['Emission Class']"
   ]
  },
  {
   "cell_type": "code",
   "execution_count": 870,
   "metadata": {},
   "outputs": [
    {
     "ename": "TypeError",
     "evalue": "unhashable type: 'list'",
     "output_type": "error",
     "traceback": [
      "\u001b[0;31m---------------------------------------------------------------------------\u001b[0m",
      "\u001b[0;31mTypeError\u001b[0m                                 Traceback (most recent call last)",
      "\u001b[0;32mpandas/_libs/hashtable_class_helper.pxi\u001b[0m in \u001b[0;36mpandas._libs.hashtable.PyObjectHashTable.map_locations\u001b[0;34m()\u001b[0m\n",
      "\u001b[0;31mTypeError\u001b[0m: unhashable type: 'list'"
     ]
    },
    {
     "name": "stderr",
     "output_type": "stream",
     "text": [
      "Exception ignored in: 'pandas._libs.index.IndexEngine._call_map_locations'\n",
      "Traceback (most recent call last):\n",
      "  File \"pandas/_libs/hashtable_class_helper.pxi\", line 1652, in pandas._libs.hashtable.PyObjectHashTable.map_locations\n",
      "TypeError: unhashable type: 'list'\n"
     ]
    },
    {
     "data": {
      "text/plain": [
       "[\\nEuro 6\\n]          10139\n",
       "NaN                    3021\n",
       "[\\nEuro 6d-TEMP\\n]     1845\n",
       "[[], [], []]            607\n",
       "[\\nEuro 6c\\n]           127\n",
       "[\\nEuro 5\\n]             78\n",
       "[\\nEuro 6d\\n]            62\n",
       "[\\nEuro 4\\n]             40\n",
       "Name: Emission Class, dtype: int64"
      ]
     },
     "execution_count": 870,
     "metadata": {},
     "output_type": "execute_result"
    }
   ],
   "source": [
    "scout['Emission Class'].value_counts(dropna = False)"
   ]
  },
  {
   "cell_type": "code",
   "execution_count": 871,
   "metadata": {},
   "outputs": [
    {
     "data": {
      "text/plain": [
       "Euro 6          10139\n",
       "NaN              3628\n",
       "Euro 6d-TEMP     1845\n",
       "Euro 6c           127\n",
       "Euro 5             78\n",
       "Euro 6d            62\n",
       "Euro 4             40\n",
       "Name: Emission Class, dtype: int64"
      ]
     },
     "execution_count": 871,
     "metadata": {},
     "output_type": "execute_result"
    }
   ],
   "source": [
    "scout['Emission Class'].str[0].str.strip().value_counts(dropna = False)"
   ]
  },
  {
   "cell_type": "code",
   "execution_count": 872,
   "metadata": {},
   "outputs": [],
   "source": [
    "scout['emission_class'] = scout['Emission Class'].str[0].str.strip()"
   ]
  },
  {
   "cell_type": "code",
   "execution_count": 874,
   "metadata": {},
   "outputs": [],
   "source": [
    "scout['emission_class'].replace({'Euro 6d-TEMP':'Euro 6', 'Euro 6c':'Euro 6', 'Euro 6d':'Euro 6'}, inplace = True)"
   ]
  },
  {
   "cell_type": "code",
   "execution_count": 875,
   "metadata": {},
   "outputs": [
    {
     "data": {
      "text/plain": [
       "Euro 6    12173\n",
       "NaN        3628\n",
       "Euro 5       78\n",
       "Euro 4       40\n",
       "Name: emission_class, dtype: int64"
      ]
     },
     "execution_count": 875,
     "metadata": {},
     "output_type": "execute_result"
    }
   ],
   "source": [
    "scout.emission_class.value_counts(dropna = False)"
   ]
  },
  {
   "cell_type": "code",
   "execution_count": 876,
   "metadata": {},
   "outputs": [],
   "source": [
    "scout.drop(columns = ['Emission Class'], inplace = True)"
   ]
  },
  {
   "cell_type": "markdown",
   "metadata": {},
   "source": [
    "## scout['\\nComfort & Convenience\\n']"
   ]
  },
  {
   "cell_type": "code",
   "execution_count": 879,
   "metadata": {},
   "outputs": [
    {
     "ename": "TypeError",
     "evalue": "unhashable type: 'list'",
     "output_type": "error",
     "traceback": [
      "\u001b[0;31m---------------------------------------------------------------------------\u001b[0m",
      "\u001b[0;31mTypeError\u001b[0m                                 Traceback (most recent call last)",
      "\u001b[0;32mpandas/_libs/hashtable_class_helper.pxi\u001b[0m in \u001b[0;36mpandas._libs.hashtable.PyObjectHashTable.map_locations\u001b[0;34m()\u001b[0m\n",
      "\u001b[0;31mTypeError\u001b[0m: unhashable type: 'list'"
     ]
    },
    {
     "name": "stderr",
     "output_type": "stream",
     "text": [
      "Exception ignored in: 'pandas._libs.index.IndexEngine._call_map_locations'\n",
      "Traceback (most recent call last):\n",
      "  File \"pandas/_libs/hashtable_class_helper.pxi\", line 1652, in pandas._libs.hashtable.PyObjectHashTable.map_locations\n",
      "TypeError: unhashable type: 'list'\n"
     ]
    },
    {
     "data": {
      "text/plain": [
       "NaN                                                                                                                                                                                                                                                                                                                                                                     920\n",
       "[Air conditioning, Electrical side mirrors, Hill Holder, Power windows]                                                                                                                                                                                                                                                                                                 216\n",
       "[Air conditioning, Electrical side mirrors, Power windows]                                                                                                                                                                                                                                                                                                              134\n",
       "[Air conditioning, Power windows]                                                                                                                                                                                                                                                                                                                                       130\n",
       "[Air conditioning, Armrest, Automatic climate control, Cruise control, Electrical side mirrors, Leather steering wheel, Light sensor, Lumbar support, Multi-function steering wheel, Navigation system, Park Distance Control, Parking assist system sensors front, Parking assist system sensors rear, Power windows, Rain sensor, Seat heating, Start-stop system]    105\n",
       "                                                                                                                                                                                                                                                                                                                                                                       ... \n",
       "[Air conditioning, Armrest, Automatic climate control, Cruise control, Leather steering wheel, Lumbar support, Multi-function steering wheel, Navigation system, Park Distance Control, Parking assist system sensors front, Parking assist system sensors rear, Power windows, Rain sensor]                                                                              1\n",
       "[Air conditioning, Armrest, Automatic climate control, Electrical side mirrors, Hill Holder, Keyless central door lock, Leather steering wheel, Light sensor, Park Distance Control, Parking assist system sensors rear, Power windows, Rain sensor]                                                                                                                      1\n",
       "[Air conditioning, Automatic climate control, Cruise control, Electrical side mirrors, Leather steering wheel, Light sensor, Multi-function steering wheel, Navigation system, Park Distance Control, Parking assist system sensors rear, Power windows, Rain sensor, Start-stop system]                                                                                  1\n",
       "[Air conditioning, Armrest, Cruise control, Electrical side mirrors, Leather steering wheel, Light sensor, Multi-function steering wheel, Park Distance Control, Parking assist system camera, Parking assist system sensors front, Parking assist system sensors rear, Power windows, Rain sensor, Seat heating, Start-stop system]                                      1\n",
       "[Air conditioning, Armrest, Automatic climate control, Auxiliary heating, Electrical side mirrors, Leather steering wheel, Light sensor, Multi-function steering wheel, Navigation system, Park Distance Control, Parking assist system sensors front, Parking assist system sensors rear, Power windows, Seat heating]                                                   1\n",
       "Name: \\nComfort & Convenience\\n, Length: 6199, dtype: int64"
      ]
     },
     "execution_count": 879,
     "metadata": {},
     "output_type": "execute_result"
    }
   ],
   "source": [
    "scout['\\nComfort & Convenience\\n'].value_counts(dropna = False)"
   ]
  },
  {
   "cell_type": "code",
   "execution_count": 889,
   "metadata": {},
   "outputs": [],
   "source": [
    "def unique_value_list(df, column):\n",
    "    '''\n",
    "    Iterates over a column to obtain a unique values list.\n",
    "    '''\n",
    "    unique_set = set()\n",
    "    for row in df[column]:\n",
    "        unique_set.update(row)\n",
    "    return list(unique_set) \n"
   ]
  },
  {
   "cell_type": "code",
   "execution_count": 885,
   "metadata": {},
   "outputs": [],
   "source": [
    "def null_temporary_lst(df, column):\n",
    "    '''\n",
    "    Iterates over a clolumn to convert all Null values to empty list value in order to let further iterative operations.\n",
    "    '''\n",
    "    null_rows = df[column].isnull()\n",
    "    df.loc[null_rows, column] = df.loc[null_rows, column].apply(lambda x : [])"
   ]
  },
  {
   "cell_type": "code",
   "execution_count": 886,
   "metadata": {},
   "outputs": [],
   "source": [
    "null_temporary_lst(scout, '\\nComfort & Convenience\\n')"
   ]
  },
  {
   "cell_type": "code",
   "execution_count": 890,
   "metadata": {
    "collapsed": true,
    "jupyter": {
     "outputs_hidden": true
    }
   },
   "outputs": [
    {
     "data": {
      "text/plain": [
       "['Electric tailgate',\n",
       " 'Hill Holder',\n",
       " 'Start-stop system',\n",
       " 'Split rear seats',\n",
       " 'Keyless central door lock',\n",
       " 'Park Distance Control',\n",
       " 'Electrically heated windshield',\n",
       " 'Seat ventilation',\n",
       " 'Panorama roof',\n",
       " 'Auxiliary heating',\n",
       " 'Parking assist system camera',\n",
       " 'Leather seats',\n",
       " 'Seat heating',\n",
       " 'Massage seats',\n",
       " 'Parking assist system self-steering',\n",
       " 'Navigation system',\n",
       " 'Heated steering wheel',\n",
       " 'Tinted windows',\n",
       " 'Windshield',\n",
       " 'Sunroof',\n",
       " 'Power windows',\n",
       " 'Heads-up display',\n",
       " 'Armrest',\n",
       " 'Lumbar support',\n",
       " 'Cruise control',\n",
       " 'Parking assist system sensors front',\n",
       " 'Air suspension',\n",
       " 'Parking assist system sensors rear',\n",
       " 'Leather steering wheel',\n",
       " 'Air conditioning',\n",
       " 'Electrical side mirrors',\n",
       " 'Wind deflector',\n",
       " 'Light sensor',\n",
       " 'Electric Starter',\n",
       " 'Electrically adjustable seats',\n",
       " 'Automatic climate control',\n",
       " 'Rain sensor',\n",
       " 'Multi-function steering wheel']"
      ]
     },
     "execution_count": 890,
     "metadata": {},
     "output_type": "execute_result"
    }
   ],
   "source": [
    "unique_value_list(scout, '\\nComfort & Convenience\\n')"
   ]
  },
  {
   "cell_type": "code",
   "execution_count": 891,
   "metadata": {},
   "outputs": [
    {
     "data": {
      "text/plain": [
       "0"
      ]
     },
     "execution_count": 891,
     "metadata": {},
     "output_type": "execute_result"
    }
   ],
   "source": [
    "scout['\\nComfort & Convenience\\n'].isnull().sum()"
   ]
  },
  {
   "cell_type": "code",
   "execution_count": 893,
   "metadata": {},
   "outputs": [],
   "source": [
    "comfort_str_lst = [','.join(i).strip() if isinstance(i, list) else i for i in scout['\\nComfort & Convenience\\n']]"
   ]
  },
  {
   "cell_type": "code",
   "execution_count": 894,
   "metadata": {},
   "outputs": [],
   "source": [
    "scout['comfort_convenience'] = pd.Series(comfort_str_lst)"
   ]
  },
  {
   "cell_type": "code",
   "execution_count": 895,
   "metadata": {},
   "outputs": [
    {
     "data": {
      "text/plain": [
       "                                                                                                                                                                                                                                                                                                                                                             920\n",
       "Air conditioning,Electrical side mirrors,Hill Holder,Power windows                                                                                                                                                                                                                                                                                           216\n",
       "Air conditioning,Electrical side mirrors,Power windows                                                                                                                                                                                                                                                                                                       134\n",
       "Air conditioning,Power windows                                                                                                                                                                                                                                                                                                                               130\n",
       "Air conditioning,Armrest,Automatic climate control,Cruise control,Electrical side mirrors,Leather steering wheel,Light sensor,Lumbar support,Multi-function steering wheel,Navigation system,Park Distance Control,Parking assist system sensors front,Parking assist system sensors rear,Power windows,Rain sensor,Seat heating,Start-stop system           105\n",
       "                                                                                                                                                                                                                                                                                                                                                            ... \n",
       "Air conditioning,Armrest,Automatic climate control,Cruise control,Electrically adjustable seats,Electrical side mirrors,Leather steering wheel,Light sensor,Multi-function steering wheel,Navigation system,Park Distance Control,Parking assist system sensors front,Parking assist system sensors rear,Power windows,Split rear seats,Start-stop system      1\n",
       "Air conditioning,Armrest,Automatic climate control,Electrical side mirrors,Light sensor,Navigation system,Power windows,Rain sensor,Start-stop system                                                                                                                                                                                                          1\n",
       "Air conditioning,Automatic climate control,Cruise control,Multi-function steering wheel,Navigation system,Power windows,Rain sensor,Seat heating,Start-stop system                                                                                                                                                                                             1\n",
       "Air conditioning,Armrest,Automatic climate control,Electrical side mirrors,Leather steering wheel,Light sensor,Lumbar support,Multi-function steering wheel,Park Distance Control,Parking assist system sensors rear,Power windows,Rain sensor,Seat heating,Start-stop system,Tinted windows                                                                   1\n",
       "Air conditioning,Armrest,Automatic climate control,Cruise control,Electrical side mirrors,Light sensor,Navigation system,Park Distance Control,Parking assist system sensors front,Parking assist system sensors rear,Rain sensor,Seat heating                                                                                                                 1\n",
       "Name: comfort_convenience, Length: 6199, dtype: int64"
      ]
     },
     "execution_count": 895,
     "metadata": {},
     "output_type": "execute_result"
    }
   ],
   "source": [
    "scout.comfort_convenience.value_counts(dropna = False)"
   ]
  },
  {
   "cell_type": "code",
   "execution_count": 898,
   "metadata": {},
   "outputs": [],
   "source": [
    "nulls_back = [np.nan if scout.comfort_convenience.iloc[i] == '' else scout.comfort_convenience.iloc[i] for i in range(len(scout.comfort_convenience))]"
   ]
  },
  {
   "cell_type": "code",
   "execution_count": 899,
   "metadata": {},
   "outputs": [],
   "source": [
    "scout.comfort_convenience = pd.Series(nulls_back)"
   ]
  },
  {
   "cell_type": "code",
   "execution_count": 900,
   "metadata": {},
   "outputs": [
    {
     "data": {
      "text/plain": [
       "NaN                                                                                                                                                                                                                                                                                                                                                                                                                                             920\n",
       "Air conditioning,Electrical side mirrors,Hill Holder,Power windows                                                                                                                                                                                                                                                                                                                                                                              216\n",
       "Air conditioning,Electrical side mirrors,Power windows                                                                                                                                                                                                                                                                                                                                                                                          134\n",
       "Air conditioning,Power windows                                                                                                                                                                                                                                                                                                                                                                                                                  130\n",
       "Air conditioning,Armrest,Automatic climate control,Cruise control,Electrical side mirrors,Leather steering wheel,Light sensor,Lumbar support,Multi-function steering wheel,Navigation system,Park Distance Control,Parking assist system sensors front,Parking assist system sensors rear,Power windows,Rain sensor,Seat heating,Start-stop system                                                                                              105\n",
       "                                                                                                                                                                                                                                                                                                                                                                                                                                               ... \n",
       "Air conditioning,Armrest,Automatic climate control,Cruise control,Electrically adjustable seats,Electrical side mirrors,Electric tailgate,Keyless central door lock,Leather steering wheel,Light sensor,Multi-function steering wheel,Navigation system,Park Distance Control,Parking assist system camera,Parking assist system sensors front,Parking assist system sensors rear,Power windows,Rain sensor,Start-stop system,Tinted windows      1\n",
       "Air conditioning,Armrest,Electrical side mirrors,Hill Holder,Leather steering wheel,Lumbar support,Navigation system,Park Distance Control,Parking assist system sensors rear,Power windows,Rain sensor,Seat heating,Start-stop system                                                                                                                                                                                                            1\n",
       "Air conditioning,Armrest,Automatic climate control,Cruise control,Hill Holder,Keyless central door lock,Multi-function steering wheel,Navigation system,Park Distance Control,Parking assist system sensors front,Parking assist system sensors rear,Power windows,Seat heating                                                                                                                                                                   1\n",
       "Air conditioning,Armrest,Automatic climate control,Cruise control,Electrical side mirrors,Leather steering wheel,Multi-function steering wheel,Navigation system,Power windows,Split rear seats                                                                                                                                                                                                                                                   1\n",
       "Air conditioning,Armrest,Automatic climate control,Electrical side mirrors,Leather steering wheel,Light sensor,Multi-function steering wheel,Navigation system,Park Distance Control,Parking assist system sensors rear,Power windows,Rain sensor,Seat ventilation,Split rear seats,Start-stop system                                                                                                                                             1\n",
       "Name: comfort_convenience, Length: 6199, dtype: int64"
      ]
     },
     "execution_count": 900,
     "metadata": {},
     "output_type": "execute_result"
    }
   ],
   "source": [
    "scout.comfort_convenience.value_counts(dropna = False)"
   ]
  },
  {
   "cell_type": "code",
   "execution_count": 919,
   "metadata": {},
   "outputs": [],
   "source": [
    "def fillna_group_by(df, group, column, fill_methode):\n",
    "    '''\n",
    "    Fills null values of a column regarding its designated group and fill methode.\n",
    "    '''\n",
    "    for grp in list(df[group].unique()) :\n",
    "        grp_index = list(df[df[group] == grp][column].index)\n",
    "        if fill_methode == 'mode':\n",
    "            df[column].iloc[grp_index] = df[column].iloc[grp_index].fillna(df[df[group] == grp][column].mode()[0])\n",
    "        if fill_methode == 'mean':\n",
    "            df[column].iloc[grp_index] = df[column].iloc[grp_index].fillna(df[df[group] == grp][column].mean()[0])"
   ]
  },
  {
   "cell_type": "code",
   "execution_count": 920,
   "metadata": {},
   "outputs": [],
   "source": [
    "fillna_group_by(scout, 'make_model', 'comfort_convenience', 'mode')"
   ]
  },
  {
   "cell_type": "code",
   "execution_count": 921,
   "metadata": {},
   "outputs": [
    {
     "data": {
      "text/plain": [
       "0"
      ]
     },
     "execution_count": 921,
     "metadata": {},
     "output_type": "execute_result"
    }
   ],
   "source": [
    "scout.comfort_convenience.isnull().sum()"
   ]
  },
  {
   "cell_type": "code",
   "execution_count": 922,
   "metadata": {},
   "outputs": [
    {
     "data": {
      "text/html": [
       "<div>\n",
       "<style scoped>\n",
       "    .dataframe tbody tr th:only-of-type {\n",
       "        vertical-align: middle;\n",
       "    }\n",
       "\n",
       "    .dataframe tbody tr th {\n",
       "        vertical-align: top;\n",
       "    }\n",
       "\n",
       "    .dataframe thead th {\n",
       "        text-align: right;\n",
       "    }\n",
       "</style>\n",
       "<table border=\"1\" class=\"dataframe\">\n",
       "  <thead>\n",
       "    <tr style=\"text-align: right;\">\n",
       "      <th></th>\n",
       "      <th>Air conditioning</th>\n",
       "      <th>Air suspension</th>\n",
       "      <th>Armrest</th>\n",
       "      <th>Automatic climate control</th>\n",
       "      <th>Auxiliary heating</th>\n",
       "      <th>Cruise control</th>\n",
       "      <th>Electric Starter</th>\n",
       "      <th>Electric tailgate</th>\n",
       "      <th>Electrical side mirrors</th>\n",
       "      <th>Electrically adjustable seats</th>\n",
       "      <th>Electrically heated windshield</th>\n",
       "      <th>Heads-up display</th>\n",
       "      <th>Heated steering wheel</th>\n",
       "      <th>Hill Holder</th>\n",
       "      <th>Keyless central door lock</th>\n",
       "      <th>Leather seats</th>\n",
       "      <th>Leather steering wheel</th>\n",
       "      <th>Light sensor</th>\n",
       "      <th>Lumbar support</th>\n",
       "      <th>Massage seats</th>\n",
       "      <th>Multi-function steering wheel</th>\n",
       "      <th>Navigation system</th>\n",
       "      <th>Panorama roof</th>\n",
       "      <th>Park Distance Control</th>\n",
       "      <th>Parking assist system camera</th>\n",
       "      <th>Parking assist system self-steering</th>\n",
       "      <th>Parking assist system sensors front</th>\n",
       "      <th>Parking assist system sensors rear</th>\n",
       "      <th>Power windows</th>\n",
       "      <th>Rain sensor</th>\n",
       "      <th>Seat heating</th>\n",
       "      <th>Seat ventilation</th>\n",
       "      <th>Split rear seats</th>\n",
       "      <th>Start-stop system</th>\n",
       "      <th>Sunroof</th>\n",
       "      <th>Tinted windows</th>\n",
       "      <th>Wind deflector</th>\n",
       "      <th>Windshield</th>\n",
       "    </tr>\n",
       "  </thead>\n",
       "  <tbody>\n",
       "    <tr>\n",
       "      <th>0</th>\n",
       "      <td>1</td>\n",
       "      <td>0</td>\n",
       "      <td>1</td>\n",
       "      <td>1</td>\n",
       "      <td>0</td>\n",
       "      <td>1</td>\n",
       "      <td>0</td>\n",
       "      <td>0</td>\n",
       "      <td>1</td>\n",
       "      <td>0</td>\n",
       "      <td>0</td>\n",
       "      <td>0</td>\n",
       "      <td>0</td>\n",
       "      <td>1</td>\n",
       "      <td>0</td>\n",
       "      <td>0</td>\n",
       "      <td>1</td>\n",
       "      <td>1</td>\n",
       "      <td>0</td>\n",
       "      <td>0</td>\n",
       "      <td>1</td>\n",
       "      <td>1</td>\n",
       "      <td>0</td>\n",
       "      <td>1</td>\n",
       "      <td>0</td>\n",
       "      <td>0</td>\n",
       "      <td>0</td>\n",
       "      <td>1</td>\n",
       "      <td>1</td>\n",
       "      <td>1</td>\n",
       "      <td>1</td>\n",
       "      <td>0</td>\n",
       "      <td>0</td>\n",
       "      <td>1</td>\n",
       "      <td>0</td>\n",
       "      <td>0</td>\n",
       "      <td>0</td>\n",
       "      <td>0</td>\n",
       "    </tr>\n",
       "    <tr>\n",
       "      <th>1</th>\n",
       "      <td>1</td>\n",
       "      <td>0</td>\n",
       "      <td>0</td>\n",
       "      <td>1</td>\n",
       "      <td>0</td>\n",
       "      <td>0</td>\n",
       "      <td>0</td>\n",
       "      <td>0</td>\n",
       "      <td>0</td>\n",
       "      <td>0</td>\n",
       "      <td>0</td>\n",
       "      <td>0</td>\n",
       "      <td>0</td>\n",
       "      <td>1</td>\n",
       "      <td>0</td>\n",
       "      <td>0</td>\n",
       "      <td>1</td>\n",
       "      <td>0</td>\n",
       "      <td>1</td>\n",
       "      <td>0</td>\n",
       "      <td>0</td>\n",
       "      <td>0</td>\n",
       "      <td>0</td>\n",
       "      <td>0</td>\n",
       "      <td>0</td>\n",
       "      <td>0</td>\n",
       "      <td>0</td>\n",
       "      <td>1</td>\n",
       "      <td>1</td>\n",
       "      <td>0</td>\n",
       "      <td>0</td>\n",
       "      <td>0</td>\n",
       "      <td>0</td>\n",
       "      <td>1</td>\n",
       "      <td>0</td>\n",
       "      <td>1</td>\n",
       "      <td>0</td>\n",
       "      <td>0</td>\n",
       "    </tr>\n",
       "    <tr>\n",
       "      <th>2</th>\n",
       "      <td>1</td>\n",
       "      <td>0</td>\n",
       "      <td>0</td>\n",
       "      <td>0</td>\n",
       "      <td>0</td>\n",
       "      <td>1</td>\n",
       "      <td>0</td>\n",
       "      <td>0</td>\n",
       "      <td>1</td>\n",
       "      <td>0</td>\n",
       "      <td>0</td>\n",
       "      <td>0</td>\n",
       "      <td>0</td>\n",
       "      <td>1</td>\n",
       "      <td>0</td>\n",
       "      <td>0</td>\n",
       "      <td>1</td>\n",
       "      <td>0</td>\n",
       "      <td>0</td>\n",
       "      <td>0</td>\n",
       "      <td>1</td>\n",
       "      <td>1</td>\n",
       "      <td>0</td>\n",
       "      <td>1</td>\n",
       "      <td>0</td>\n",
       "      <td>0</td>\n",
       "      <td>1</td>\n",
       "      <td>1</td>\n",
       "      <td>1</td>\n",
       "      <td>0</td>\n",
       "      <td>1</td>\n",
       "      <td>0</td>\n",
       "      <td>0</td>\n",
       "      <td>1</td>\n",
       "      <td>0</td>\n",
       "      <td>0</td>\n",
       "      <td>0</td>\n",
       "      <td>0</td>\n",
       "    </tr>\n",
       "    <tr>\n",
       "      <th>3</th>\n",
       "      <td>0</td>\n",
       "      <td>1</td>\n",
       "      <td>1</td>\n",
       "      <td>0</td>\n",
       "      <td>1</td>\n",
       "      <td>0</td>\n",
       "      <td>0</td>\n",
       "      <td>0</td>\n",
       "      <td>1</td>\n",
       "      <td>0</td>\n",
       "      <td>0</td>\n",
       "      <td>1</td>\n",
       "      <td>0</td>\n",
       "      <td>1</td>\n",
       "      <td>0</td>\n",
       "      <td>0</td>\n",
       "      <td>1</td>\n",
       "      <td>1</td>\n",
       "      <td>1</td>\n",
       "      <td>0</td>\n",
       "      <td>1</td>\n",
       "      <td>1</td>\n",
       "      <td>0</td>\n",
       "      <td>0</td>\n",
       "      <td>0</td>\n",
       "      <td>0</td>\n",
       "      <td>0</td>\n",
       "      <td>0</td>\n",
       "      <td>1</td>\n",
       "      <td>1</td>\n",
       "      <td>1</td>\n",
       "      <td>0</td>\n",
       "      <td>1</td>\n",
       "      <td>1</td>\n",
       "      <td>0</td>\n",
       "      <td>0</td>\n",
       "      <td>0</td>\n",
       "      <td>0</td>\n",
       "    </tr>\n",
       "    <tr>\n",
       "      <th>4</th>\n",
       "      <td>1</td>\n",
       "      <td>0</td>\n",
       "      <td>1</td>\n",
       "      <td>1</td>\n",
       "      <td>0</td>\n",
       "      <td>0</td>\n",
       "      <td>0</td>\n",
       "      <td>0</td>\n",
       "      <td>1</td>\n",
       "      <td>0</td>\n",
       "      <td>0</td>\n",
       "      <td>0</td>\n",
       "      <td>0</td>\n",
       "      <td>1</td>\n",
       "      <td>0</td>\n",
       "      <td>0</td>\n",
       "      <td>1</td>\n",
       "      <td>1</td>\n",
       "      <td>0</td>\n",
       "      <td>0</td>\n",
       "      <td>1</td>\n",
       "      <td>0</td>\n",
       "      <td>0</td>\n",
       "      <td>1</td>\n",
       "      <td>0</td>\n",
       "      <td>0</td>\n",
       "      <td>0</td>\n",
       "      <td>1</td>\n",
       "      <td>1</td>\n",
       "      <td>1</td>\n",
       "      <td>0</td>\n",
       "      <td>0</td>\n",
       "      <td>0</td>\n",
       "      <td>1</td>\n",
       "      <td>0</td>\n",
       "      <td>0</td>\n",
       "      <td>0</td>\n",
       "      <td>0</td>\n",
       "    </tr>\n",
       "    <tr>\n",
       "      <th>...</th>\n",
       "      <td>...</td>\n",
       "      <td>...</td>\n",
       "      <td>...</td>\n",
       "      <td>...</td>\n",
       "      <td>...</td>\n",
       "      <td>...</td>\n",
       "      <td>...</td>\n",
       "      <td>...</td>\n",
       "      <td>...</td>\n",
       "      <td>...</td>\n",
       "      <td>...</td>\n",
       "      <td>...</td>\n",
       "      <td>...</td>\n",
       "      <td>...</td>\n",
       "      <td>...</td>\n",
       "      <td>...</td>\n",
       "      <td>...</td>\n",
       "      <td>...</td>\n",
       "      <td>...</td>\n",
       "      <td>...</td>\n",
       "      <td>...</td>\n",
       "      <td>...</td>\n",
       "      <td>...</td>\n",
       "      <td>...</td>\n",
       "      <td>...</td>\n",
       "      <td>...</td>\n",
       "      <td>...</td>\n",
       "      <td>...</td>\n",
       "      <td>...</td>\n",
       "      <td>...</td>\n",
       "      <td>...</td>\n",
       "      <td>...</td>\n",
       "      <td>...</td>\n",
       "      <td>...</td>\n",
       "      <td>...</td>\n",
       "      <td>...</td>\n",
       "      <td>...</td>\n",
       "      <td>...</td>\n",
       "    </tr>\n",
       "    <tr>\n",
       "      <th>15914</th>\n",
       "      <td>1</td>\n",
       "      <td>0</td>\n",
       "      <td>0</td>\n",
       "      <td>1</td>\n",
       "      <td>0</td>\n",
       "      <td>1</td>\n",
       "      <td>0</td>\n",
       "      <td>0</td>\n",
       "      <td>1</td>\n",
       "      <td>1</td>\n",
       "      <td>0</td>\n",
       "      <td>0</td>\n",
       "      <td>0</td>\n",
       "      <td>1</td>\n",
       "      <td>1</td>\n",
       "      <td>0</td>\n",
       "      <td>1</td>\n",
       "      <td>1</td>\n",
       "      <td>0</td>\n",
       "      <td>1</td>\n",
       "      <td>1</td>\n",
       "      <td>1</td>\n",
       "      <td>0</td>\n",
       "      <td>1</td>\n",
       "      <td>0</td>\n",
       "      <td>0</td>\n",
       "      <td>1</td>\n",
       "      <td>1</td>\n",
       "      <td>1</td>\n",
       "      <td>1</td>\n",
       "      <td>0</td>\n",
       "      <td>0</td>\n",
       "      <td>1</td>\n",
       "      <td>1</td>\n",
       "      <td>0</td>\n",
       "      <td>1</td>\n",
       "      <td>0</td>\n",
       "      <td>0</td>\n",
       "    </tr>\n",
       "    <tr>\n",
       "      <th>15915</th>\n",
       "      <td>1</td>\n",
       "      <td>0</td>\n",
       "      <td>0</td>\n",
       "      <td>1</td>\n",
       "      <td>0</td>\n",
       "      <td>1</td>\n",
       "      <td>0</td>\n",
       "      <td>1</td>\n",
       "      <td>1</td>\n",
       "      <td>0</td>\n",
       "      <td>1</td>\n",
       "      <td>1</td>\n",
       "      <td>1</td>\n",
       "      <td>1</td>\n",
       "      <td>1</td>\n",
       "      <td>0</td>\n",
       "      <td>1</td>\n",
       "      <td>1</td>\n",
       "      <td>1</td>\n",
       "      <td>0</td>\n",
       "      <td>0</td>\n",
       "      <td>1</td>\n",
       "      <td>0</td>\n",
       "      <td>1</td>\n",
       "      <td>1</td>\n",
       "      <td>1</td>\n",
       "      <td>1</td>\n",
       "      <td>1</td>\n",
       "      <td>1</td>\n",
       "      <td>1</td>\n",
       "      <td>1</td>\n",
       "      <td>0</td>\n",
       "      <td>0</td>\n",
       "      <td>0</td>\n",
       "      <td>1</td>\n",
       "      <td>0</td>\n",
       "      <td>0</td>\n",
       "      <td>0</td>\n",
       "    </tr>\n",
       "    <tr>\n",
       "      <th>15916</th>\n",
       "      <td>1</td>\n",
       "      <td>0</td>\n",
       "      <td>1</td>\n",
       "      <td>1</td>\n",
       "      <td>0</td>\n",
       "      <td>1</td>\n",
       "      <td>0</td>\n",
       "      <td>1</td>\n",
       "      <td>1</td>\n",
       "      <td>0</td>\n",
       "      <td>1</td>\n",
       "      <td>1</td>\n",
       "      <td>1</td>\n",
       "      <td>0</td>\n",
       "      <td>0</td>\n",
       "      <td>0</td>\n",
       "      <td>1</td>\n",
       "      <td>1</td>\n",
       "      <td>0</td>\n",
       "      <td>1</td>\n",
       "      <td>1</td>\n",
       "      <td>1</td>\n",
       "      <td>1</td>\n",
       "      <td>1</td>\n",
       "      <td>1</td>\n",
       "      <td>0</td>\n",
       "      <td>1</td>\n",
       "      <td>1</td>\n",
       "      <td>1</td>\n",
       "      <td>1</td>\n",
       "      <td>1</td>\n",
       "      <td>1</td>\n",
       "      <td>0</td>\n",
       "      <td>0</td>\n",
       "      <td>1</td>\n",
       "      <td>0</td>\n",
       "      <td>0</td>\n",
       "      <td>0</td>\n",
       "    </tr>\n",
       "    <tr>\n",
       "      <th>15917</th>\n",
       "      <td>1</td>\n",
       "      <td>0</td>\n",
       "      <td>0</td>\n",
       "      <td>1</td>\n",
       "      <td>0</td>\n",
       "      <td>1</td>\n",
       "      <td>0</td>\n",
       "      <td>0</td>\n",
       "      <td>1</td>\n",
       "      <td>1</td>\n",
       "      <td>0</td>\n",
       "      <td>0</td>\n",
       "      <td>0</td>\n",
       "      <td>0</td>\n",
       "      <td>0</td>\n",
       "      <td>0</td>\n",
       "      <td>1</td>\n",
       "      <td>1</td>\n",
       "      <td>0</td>\n",
       "      <td>0</td>\n",
       "      <td>0</td>\n",
       "      <td>0</td>\n",
       "      <td>0</td>\n",
       "      <td>1</td>\n",
       "      <td>0</td>\n",
       "      <td>0</td>\n",
       "      <td>0</td>\n",
       "      <td>0</td>\n",
       "      <td>1</td>\n",
       "      <td>0</td>\n",
       "      <td>0</td>\n",
       "      <td>0</td>\n",
       "      <td>0</td>\n",
       "      <td>1</td>\n",
       "      <td>0</td>\n",
       "      <td>0</td>\n",
       "      <td>0</td>\n",
       "      <td>0</td>\n",
       "    </tr>\n",
       "    <tr>\n",
       "      <th>15918</th>\n",
       "      <td>1</td>\n",
       "      <td>0</td>\n",
       "      <td>0</td>\n",
       "      <td>1</td>\n",
       "      <td>0</td>\n",
       "      <td>1</td>\n",
       "      <td>0</td>\n",
       "      <td>1</td>\n",
       "      <td>1</td>\n",
       "      <td>1</td>\n",
       "      <td>0</td>\n",
       "      <td>0</td>\n",
       "      <td>0</td>\n",
       "      <td>1</td>\n",
       "      <td>0</td>\n",
       "      <td>0</td>\n",
       "      <td>1</td>\n",
       "      <td>0</td>\n",
       "      <td>0</td>\n",
       "      <td>0</td>\n",
       "      <td>0</td>\n",
       "      <td>1</td>\n",
       "      <td>0</td>\n",
       "      <td>0</td>\n",
       "      <td>0</td>\n",
       "      <td>0</td>\n",
       "      <td>0</td>\n",
       "      <td>0</td>\n",
       "      <td>1</td>\n",
       "      <td>0</td>\n",
       "      <td>1</td>\n",
       "      <td>0</td>\n",
       "      <td>0</td>\n",
       "      <td>0</td>\n",
       "      <td>0</td>\n",
       "      <td>0</td>\n",
       "      <td>0</td>\n",
       "      <td>0</td>\n",
       "    </tr>\n",
       "  </tbody>\n",
       "</table>\n",
       "<p>15919 rows × 38 columns</p>\n",
       "</div>"
      ],
      "text/plain": [
       "       Air conditioning  Air suspension  Armrest  Automatic climate control  Auxiliary heating  Cruise control  Electric Starter  Electric tailgate  Electrical side mirrors  Electrically adjustable seats  Electrically heated windshield  Heads-up display  Heated steering wheel  Hill Holder  Keyless central door lock  Leather seats  Leather steering wheel  Light sensor  Lumbar support  Massage seats  Multi-function steering wheel  Navigation system  Panorama roof  Park Distance Control  Parking assist system camera  Parking assist system self-steering  Parking assist system sensors front  Parking assist system sensors rear  Power windows  Rain sensor  Seat heating  Seat ventilation  Split rear seats  Start-stop system  Sunroof  Tinted windows  Wind deflector  Windshield\n",
       "0                     1               0        1                          1                  0               1                 0                  0                        1                              0                               0                 0                      0            1                          0              0                       1             1               0              0                              1                  1              0                      1                             0                                    0                                    0                                   1              1            1             1                 0                 0                  1        0               0               0           0\n",
       "1                     1               0        0                          1                  0               0                 0                  0                        0                              0                               0                 0                      0            1                          0              0                       1             0               1              0                              0                  0              0                      0                             0                                    0                                    0                                   1              1            0             0                 0                 0                  1        0               1               0           0\n",
       "2                     1               0        0                          0                  0               1                 0                  0                        1                              0                               0                 0                      0            1                          0              0                       1             0               0              0                              1                  1              0                      1                             0                                    0                                    1                                   1              1            0             1                 0                 0                  1        0               0               0           0\n",
       "3                     0               1        1                          0                  1               0                 0                  0                        1                              0                               0                 1                      0            1                          0              0                       1             1               1              0                              1                  1              0                      0                             0                                    0                                    0                                   0              1            1             1                 0                 1                  1        0               0               0           0\n",
       "4                     1               0        1                          1                  0               0                 0                  0                        1                              0                               0                 0                      0            1                          0              0                       1             1               0              0                              1                  0              0                      1                             0                                    0                                    0                                   1              1            1             0                 0                 0                  1        0               0               0           0\n",
       "...                 ...             ...      ...                        ...                ...             ...               ...                ...                      ...                            ...                             ...               ...                    ...          ...                        ...            ...                     ...           ...             ...            ...                            ...                ...            ...                    ...                           ...                                  ...                                  ...                                 ...            ...          ...           ...               ...               ...                ...      ...             ...             ...         ...\n",
       "15914                 1               0        0                          1                  0               1                 0                  0                        1                              1                               0                 0                      0            1                          1              0                       1             1               0              1                              1                  1              0                      1                             0                                    0                                    1                                   1              1            1             0                 0                 1                  1        0               1               0           0\n",
       "15915                 1               0        0                          1                  0               1                 0                  1                        1                              0                               1                 1                      1            1                          1              0                       1             1               1              0                              0                  1              0                      1                             1                                    1                                    1                                   1              1            1             1                 0                 0                  0        1               0               0           0\n",
       "15916                 1               0        1                          1                  0               1                 0                  1                        1                              0                               1                 1                      1            0                          0              0                       1             1               0              1                              1                  1              1                      1                             1                                    0                                    1                                   1              1            1             1                 1                 0                  0        1               0               0           0\n",
       "15917                 1               0        0                          1                  0               1                 0                  0                        1                              1                               0                 0                      0            0                          0              0                       1             1               0              0                              0                  0              0                      1                             0                                    0                                    0                                   0              1            0             0                 0                 0                  1        0               0               0           0\n",
       "15918                 1               0        0                          1                  0               1                 0                  1                        1                              1                               0                 0                      0            1                          0              0                       1             0               0              0                              0                  1              0                      0                             0                                    0                                    0                                   0              1            0             1                 0                 0                  0        0               0               0           0\n",
       "\n",
       "[15919 rows x 38 columns]"
      ]
     },
     "execution_count": 922,
     "metadata": {},
     "output_type": "execute_result"
    }
   ],
   "source": [
    "scout.comfort_convenience.str.get_dummies(sep = ',')"
   ]
  },
  {
   "cell_type": "code",
   "execution_count": 924,
   "metadata": {},
   "outputs": [],
   "source": [
    "scout = scout.join(scout.comfort_convenience.str.get_dummies(sep = ',').add_prefix('conf_conv_'))"
   ]
  },
  {
   "cell_type": "code",
   "execution_count": 925,
   "metadata": {},
   "outputs": [],
   "source": [
    "scout.drop(columns = ['\\nComfort & Convenience\\n'], inplace = True)"
   ]
  },
  {
   "cell_type": "code",
   "execution_count": 926,
   "metadata": {},
   "outputs": [
    {
     "data": {
      "text/html": [
       "<div>\n",
       "<style scoped>\n",
       "    .dataframe tbody tr th:only-of-type {\n",
       "        vertical-align: middle;\n",
       "    }\n",
       "\n",
       "    .dataframe tbody tr th {\n",
       "        vertical-align: top;\n",
       "    }\n",
       "\n",
       "    .dataframe thead th {\n",
       "        text-align: right;\n",
       "    }\n",
       "</style>\n",
       "<table border=\"1\" class=\"dataframe\">\n",
       "  <thead>\n",
       "    <tr style=\"text-align: right;\">\n",
       "      <th></th>\n",
       "      <th>make_model</th>\n",
       "      <th>body_type</th>\n",
       "      <th>price</th>\n",
       "      <th>vat</th>\n",
       "      <th>km</th>\n",
       "      <th>registration</th>\n",
       "      <th>hp</th>\n",
       "      <th>Type</th>\n",
       "      <th>Make</th>\n",
       "      <th>Model</th>\n",
       "      <th>Upholstery</th>\n",
       "      <th>Body</th>\n",
       "      <th>Displacement</th>\n",
       "      <th>Cylinders</th>\n",
       "      <th>\\nEntertainment &amp; Media\\n</th>\n",
       "      <th>\\nExtras\\n</th>\n",
       "      <th>\\nSafety &amp; Security\\n</th>\n",
       "      <th>description</th>\n",
       "      <th>Gears</th>\n",
       "      <th>Paint_Type</th>\n",
       "      <th>Previous_Owners</th>\n",
       "      <th>drive_chain</th>\n",
       "      <th>country</th>\n",
       "      <th>emission_label</th>\n",
       "      <th>inspection_new</th>\n",
       "      <th>next_inspection</th>\n",
       "      <th>body_color</th>\n",
       "      <th>door_number</th>\n",
       "      <th>seat_number</th>\n",
       "      <th>gear_type</th>\n",
       "      <th>fuel_new</th>\n",
       "      <th>consumption_comb</th>\n",
       "      <th>consumption_city</th>\n",
       "      <th>consumption_country</th>\n",
       "      <th>first_registration</th>\n",
       "      <th>CO2_Emission</th>\n",
       "      <th>emission_class</th>\n",
       "      <th>comfort_convenience</th>\n",
       "      <th>conf_conv_Air conditioning</th>\n",
       "      <th>conf_conv_Air suspension</th>\n",
       "      <th>conf_conv_Armrest</th>\n",
       "      <th>conf_conv_Automatic climate control</th>\n",
       "      <th>conf_conv_Auxiliary heating</th>\n",
       "      <th>conf_conv_Cruise control</th>\n",
       "      <th>conf_conv_Electric Starter</th>\n",
       "      <th>conf_conv_Electric tailgate</th>\n",
       "      <th>conf_conv_Electrical side mirrors</th>\n",
       "      <th>conf_conv_Electrically adjustable seats</th>\n",
       "      <th>conf_conv_Electrically heated windshield</th>\n",
       "      <th>conf_conv_Heads-up display</th>\n",
       "      <th>conf_conv_Heated steering wheel</th>\n",
       "      <th>conf_conv_Hill Holder</th>\n",
       "      <th>conf_conv_Keyless central door lock</th>\n",
       "      <th>conf_conv_Leather seats</th>\n",
       "      <th>conf_conv_Leather steering wheel</th>\n",
       "      <th>conf_conv_Light sensor</th>\n",
       "      <th>conf_conv_Lumbar support</th>\n",
       "      <th>conf_conv_Massage seats</th>\n",
       "      <th>conf_conv_Multi-function steering wheel</th>\n",
       "      <th>conf_conv_Navigation system</th>\n",
       "      <th>conf_conv_Panorama roof</th>\n",
       "      <th>conf_conv_Park Distance Control</th>\n",
       "      <th>conf_conv_Parking assist system camera</th>\n",
       "      <th>conf_conv_Parking assist system self-steering</th>\n",
       "      <th>conf_conv_Parking assist system sensors front</th>\n",
       "      <th>conf_conv_Parking assist system sensors rear</th>\n",
       "      <th>conf_conv_Power windows</th>\n",
       "      <th>conf_conv_Rain sensor</th>\n",
       "      <th>conf_conv_Seat heating</th>\n",
       "      <th>conf_conv_Seat ventilation</th>\n",
       "      <th>conf_conv_Split rear seats</th>\n",
       "      <th>conf_conv_Start-stop system</th>\n",
       "      <th>conf_conv_Sunroof</th>\n",
       "      <th>conf_conv_Tinted windows</th>\n",
       "      <th>conf_conv_Wind deflector</th>\n",
       "      <th>conf_conv_Windshield</th>\n",
       "    </tr>\n",
       "  </thead>\n",
       "  <tbody>\n",
       "    <tr>\n",
       "      <th>0</th>\n",
       "      <td>Audi A1</td>\n",
       "      <td>Sedans</td>\n",
       "      <td>15770</td>\n",
       "      <td>VAT deductible</td>\n",
       "      <td>56,013 km</td>\n",
       "      <td>01/2016</td>\n",
       "      <td>66 kW</td>\n",
       "      <td>Used</td>\n",
       "      <td>Audi</td>\n",
       "      <td>A1</td>\n",
       "      <td>Cloth, Black</td>\n",
       "      <td>Sedans</td>\n",
       "      <td>1422</td>\n",
       "      <td>3</td>\n",
       "      <td>[Bluetooth, Hands-free equipment, On-board computer, Radio]</td>\n",
       "      <td>[Alloy wheels, Catalytic Converter, Voice Control]</td>\n",
       "      <td>[ABS, Central door lock, Daytime running lights, Driver-side airbag, Electronic stability control, Fog lights, Immobilizer, Isofix, Passenger-side airbag, Power steering, Side airbag, Tire pressure monitoring system, Traction control, Xenon headlights]</td>\n",
       "      <td>[\\n, Sicherheit:,  , Deaktivierung für Beifahrer-Airbag,  , ESC mit elektronischer Quersperre,  , Tagfahrlicht,  , Reifendruck-Kontrollanzeige,  , Kopfairbag-System mit Seiten-Airbags vorn,  , Sicherheitslenksäule, Assistenzsysteme:,  , Berganfahrassistent, Komfort:,  , Scheinwerferreinigung,  , Xenon plus inklusive Scheinwerfer-Reinigungsanlage,  , Scheinwerfer-Reinigungsanlage,  , Einparkhilfe hinten,  , Licht-/Regensensor,  , Funkfernbedienung,  , Elektrische Luftzusatzheizung, Interieur:...</td>\n",
       "      <td>NaN</td>\n",
       "      <td>Metallic</td>\n",
       "      <td>2</td>\n",
       "      <td>front</td>\n",
       "      <td>NaN</td>\n",
       "      <td>NaN</td>\n",
       "      <td>1</td>\n",
       "      <td>2021-06-01</td>\n",
       "      <td>Black</td>\n",
       "      <td>5</td>\n",
       "      <td>5</td>\n",
       "      <td>Automatic</td>\n",
       "      <td>Diesel</td>\n",
       "      <td>3.8</td>\n",
       "      <td>3.8</td>\n",
       "      <td>3.8</td>\n",
       "      <td>2016</td>\n",
       "      <td>99</td>\n",
       "      <td>Euro 6</td>\n",
       "      <td>Air conditioning,Armrest,Automatic climate control,Cruise control,Electrical side mirrors,Hill Holder,Leather steering wheel,Light sensor,Multi-function steering wheel,Navigation system,Park Distance Control,Parking assist system sensors rear,Power windows,Rain sensor,Seat heating,Start-stop system</td>\n",
       "      <td>1</td>\n",
       "      <td>0</td>\n",
       "      <td>1</td>\n",
       "      <td>1</td>\n",
       "      <td>0</td>\n",
       "      <td>1</td>\n",
       "      <td>0</td>\n",
       "      <td>0</td>\n",
       "      <td>1</td>\n",
       "      <td>0</td>\n",
       "      <td>0</td>\n",
       "      <td>0</td>\n",
       "      <td>0</td>\n",
       "      <td>1</td>\n",
       "      <td>0</td>\n",
       "      <td>0</td>\n",
       "      <td>1</td>\n",
       "      <td>1</td>\n",
       "      <td>0</td>\n",
       "      <td>0</td>\n",
       "      <td>1</td>\n",
       "      <td>1</td>\n",
       "      <td>0</td>\n",
       "      <td>1</td>\n",
       "      <td>0</td>\n",
       "      <td>0</td>\n",
       "      <td>0</td>\n",
       "      <td>1</td>\n",
       "      <td>1</td>\n",
       "      <td>1</td>\n",
       "      <td>1</td>\n",
       "      <td>0</td>\n",
       "      <td>0</td>\n",
       "      <td>1</td>\n",
       "      <td>0</td>\n",
       "      <td>0</td>\n",
       "      <td>0</td>\n",
       "      <td>0</td>\n",
       "    </tr>\n",
       "  </tbody>\n",
       "</table>\n",
       "</div>"
      ],
      "text/plain": [
       "  make_model body_type  price             vat         km registration     hp  Type  Make Model    Upholstery    Body Displacement Cylinders                                    \\nEntertainment & Media\\n                                          \\nExtras\\n                                                                                                                                                                                                                                         \\nSafety & Security\\n                                                                                                                                                                                                                                                                                                                                                                                                                                                                                                          description Gears Paint_Type Previous_Owners drive_chain country emission_label  inspection_new next_inspection body_color door_number seat_number  gear_type fuel_new consumption_comb consumption_city consumption_country first_registration CO2_Emission emission_class                                                                                                                                                                                                                                                                                          comfort_convenience  conf_conv_Air conditioning  conf_conv_Air suspension  conf_conv_Armrest  conf_conv_Automatic climate control  conf_conv_Auxiliary heating  conf_conv_Cruise control  conf_conv_Electric Starter  conf_conv_Electric tailgate  conf_conv_Electrical side mirrors  conf_conv_Electrically adjustable seats  conf_conv_Electrically heated windshield  conf_conv_Heads-up display  conf_conv_Heated steering wheel  conf_conv_Hill Holder  \\\n",
       "0    Audi A1    Sedans  15770  VAT deductible  56,013 km      01/2016  66 kW  Used  Audi    A1  Cloth, Black  Sedans         1422         3  [Bluetooth, Hands-free equipment, On-board computer, Radio]  [Alloy wheels, Catalytic Converter, Voice Control]  [ABS, Central door lock, Daytime running lights, Driver-side airbag, Electronic stability control, Fog lights, Immobilizer, Isofix, Passenger-side airbag, Power steering, Side airbag, Tire pressure monitoring system, Traction control, Xenon headlights]  [\\n, Sicherheit:,  , Deaktivierung für Beifahrer-Airbag,  , ESC mit elektronischer Quersperre,  , Tagfahrlicht,  , Reifendruck-Kontrollanzeige,  , Kopfairbag-System mit Seiten-Airbags vorn,  , Sicherheitslenksäule, Assistenzsysteme:,  , Berganfahrassistent, Komfort:,  , Scheinwerferreinigung,  , Xenon plus inklusive Scheinwerfer-Reinigungsanlage,  , Scheinwerfer-Reinigungsanlage,  , Einparkhilfe hinten,  , Licht-/Regensensor,  , Funkfernbedienung,  , Elektrische Luftzusatzheizung, Interieur:...   NaN   Metallic               2       front     NaN            NaN               1      2021-06-01      Black           5           5  Automatic   Diesel              3.8              3.8                 3.8               2016           99         Euro 6  Air conditioning,Armrest,Automatic climate control,Cruise control,Electrical side mirrors,Hill Holder,Leather steering wheel,Light sensor,Multi-function steering wheel,Navigation system,Park Distance Control,Parking assist system sensors rear,Power windows,Rain sensor,Seat heating,Start-stop system                           1                         0                  1                                    1                            0                         1                           0                            0                                  1                                        0                                         0                           0                                0                      1   \n",
       "\n",
       "   conf_conv_Keyless central door lock  conf_conv_Leather seats  conf_conv_Leather steering wheel  conf_conv_Light sensor  conf_conv_Lumbar support  conf_conv_Massage seats  conf_conv_Multi-function steering wheel  conf_conv_Navigation system  conf_conv_Panorama roof  conf_conv_Park Distance Control  conf_conv_Parking assist system camera  conf_conv_Parking assist system self-steering  conf_conv_Parking assist system sensors front  conf_conv_Parking assist system sensors rear  conf_conv_Power windows  conf_conv_Rain sensor  conf_conv_Seat heating  conf_conv_Seat ventilation  conf_conv_Split rear seats  conf_conv_Start-stop system  conf_conv_Sunroof  conf_conv_Tinted windows  conf_conv_Wind deflector  conf_conv_Windshield  \n",
       "0                                    0                        0                                 1                       1                         0                        0                                        1                            1                        0                                1                                       0                                              0                                              0                                             1                        1                      1                       1                           0                           0                            1                  0                         0                         0                     0  "
      ]
     },
     "execution_count": 926,
     "metadata": {},
     "output_type": "execute_result"
    }
   ],
   "source": [
    "scout.head(1)"
   ]
  },
  {
   "cell_type": "code",
   "execution_count": 927,
   "metadata": {},
   "outputs": [],
   "source": [
    "scout.drop(columns = ['comfort_convenience'], inplace = True)"
   ]
  },
  {
   "cell_type": "markdown",
   "metadata": {},
   "source": [
    "## scout['\\nEntertainment & Media\\n']"
   ]
  },
  {
   "cell_type": "code",
   "execution_count": 928,
   "metadata": {},
   "outputs": [
    {
     "ename": "TypeError",
     "evalue": "unhashable type: 'list'",
     "output_type": "error",
     "traceback": [
      "\u001b[0;31m---------------------------------------------------------------------------\u001b[0m",
      "\u001b[0;31mTypeError\u001b[0m                                 Traceback (most recent call last)",
      "\u001b[0;32mpandas/_libs/hashtable_class_helper.pxi\u001b[0m in \u001b[0;36mpandas._libs.hashtable.PyObjectHashTable.map_locations\u001b[0;34m()\u001b[0m\n",
      "\u001b[0;31mTypeError\u001b[0m: unhashable type: 'list'"
     ]
    },
    {
     "name": "stderr",
     "output_type": "stream",
     "text": [
      "Exception ignored in: 'pandas._libs.index.IndexEngine._call_map_locations'\n",
      "Traceback (most recent call last):\n",
      "  File \"pandas/_libs/hashtable_class_helper.pxi\", line 1652, in pandas._libs.hashtable.PyObjectHashTable.map_locations\n",
      "TypeError: unhashable type: 'list'\n"
     ]
    },
    {
     "data": {
      "text/plain": [
       "NaN                                                                                      1374\n",
       "[Bluetooth, Hands-free equipment, On-board computer, Radio, USB]                         1282\n",
       "[Bluetooth, Hands-free equipment, MP3, On-board computer, Radio, USB]                     982\n",
       "[Bluetooth, CD player, Hands-free equipment, MP3, On-board computer, Radio, USB]          783\n",
       "[On-board computer, Radio]                                                                487\n",
       "                                                                                         ... \n",
       "[Bluetooth, MP3, On-board computer, Sound system, USB]                                      1\n",
       "[CD player, Hands-free equipment, On-board computer, Radio, Sound system, Television]       1\n",
       "[Bluetooth, Digital radio, On-board computer, Sound system, USB]                            1\n",
       "[CD player, Hands-free equipment, MP3, Radio, USB]                                          1\n",
       "[CD player, Digital radio, Radio]                                                           1\n",
       "Name: \\nEntertainment & Media\\n, Length: 347, dtype: int64"
      ]
     },
     "execution_count": 928,
     "metadata": {},
     "output_type": "execute_result"
    }
   ],
   "source": [
    "scout['\\nEntertainment & Media\\n'].value_counts(dropna = False)"
   ]
  },
  {
   "cell_type": "code",
   "execution_count": 929,
   "metadata": {},
   "outputs": [],
   "source": [
    "null_temporary_lst(scout, '\\nEntertainment & Media\\n')"
   ]
  },
  {
   "cell_type": "code",
   "execution_count": 930,
   "metadata": {},
   "outputs": [
    {
     "data": {
      "text/plain": [
       "['Sound system',\n",
       " 'MP3',\n",
       " 'Bluetooth',\n",
       " 'Radio',\n",
       " 'CD player',\n",
       " 'Digital radio',\n",
       " 'USB',\n",
       " 'On-board computer',\n",
       " 'Hands-free equipment',\n",
       " 'Television']"
      ]
     },
     "execution_count": 930,
     "metadata": {},
     "output_type": "execute_result"
    }
   ],
   "source": [
    "unique_value_list(scout, '\\nEntertainment & Media\\n')"
   ]
  },
  {
   "cell_type": "code",
   "execution_count": 931,
   "metadata": {},
   "outputs": [
    {
     "data": {
      "text/plain": [
       "0"
      ]
     },
     "execution_count": 931,
     "metadata": {},
     "output_type": "execute_result"
    }
   ],
   "source": [
    "scout['\\nEntertainment & Media\\n'].isnull().sum()"
   ]
  },
  {
   "cell_type": "code",
   "execution_count": 932,
   "metadata": {},
   "outputs": [],
   "source": [
    "entert_str_lst = [','.join(i).strip() if isinstance(i, list) else i for i in scout['\\nEntertainment & Media\\n']]"
   ]
  },
  {
   "cell_type": "code",
   "execution_count": 933,
   "metadata": {},
   "outputs": [],
   "source": [
    "scout['entertainment_media'] = pd.Series(entert_str_lst)"
   ]
  },
  {
   "cell_type": "code",
   "execution_count": 934,
   "metadata": {},
   "outputs": [
    {
     "data": {
      "text/plain": [
       "                                                                            1374\n",
       "Bluetooth,Hands-free equipment,On-board computer,Radio,USB                  1282\n",
       "Bluetooth,Hands-free equipment,MP3,On-board computer,Radio,USB               982\n",
       "Bluetooth,CD player,Hands-free equipment,MP3,On-board computer,Radio,USB     783\n",
       "On-board computer,Radio                                                      487\n",
       "                                                                            ... \n",
       "CD player,Digital radio,Hands-free equipment,MP3,On-board computer,Radio       1\n",
       "CD player,Hands-free equipment,MP3,On-board computer,Radio,Sound system        1\n",
       "Bluetooth,Sound system,USB                                                     1\n",
       "Digital radio,Sound system,USB                                                 1\n",
       "Bluetooth,CD player,Digital radio,On-board computer,Radio                      1\n",
       "Name: entertainment_media, Length: 347, dtype: int64"
      ]
     },
     "execution_count": 934,
     "metadata": {},
     "output_type": "execute_result"
    }
   ],
   "source": [
    "scout.entertainment_media.value_counts(dropna = False)"
   ]
  },
  {
   "cell_type": "code",
   "execution_count": 935,
   "metadata": {},
   "outputs": [],
   "source": [
    "nulls_back = [np.nan if scout.entertainment_media.iloc[i] == '' else scout.entertainment_media.iloc[i] for i in range(len(scout.entertainment_media))]"
   ]
  },
  {
   "cell_type": "code",
   "execution_count": 936,
   "metadata": {},
   "outputs": [],
   "source": [
    "scout.entertainment_media = pd.Series(nulls_back)"
   ]
  },
  {
   "cell_type": "code",
   "execution_count": 937,
   "metadata": {},
   "outputs": [
    {
     "data": {
      "text/plain": [
       "NaN                                                                         1374\n",
       "Bluetooth,Hands-free equipment,On-board computer,Radio,USB                  1282\n",
       "Bluetooth,Hands-free equipment,MP3,On-board computer,Radio,USB               982\n",
       "Bluetooth,CD player,Hands-free equipment,MP3,On-board computer,Radio,USB     783\n",
       "On-board computer,Radio                                                      487\n",
       "                                                                            ... \n",
       "CD player,Digital radio,Hands-free equipment,MP3,On-board computer,Radio       1\n",
       "CD player,Hands-free equipment,MP3,On-board computer,Radio,Sound system        1\n",
       "Bluetooth,Sound system,USB                                                     1\n",
       "Digital radio,Sound system,USB                                                 1\n",
       "Bluetooth,CD player,Digital radio,On-board computer,Radio                      1\n",
       "Name: entertainment_media, Length: 347, dtype: int64"
      ]
     },
     "execution_count": 937,
     "metadata": {},
     "output_type": "execute_result"
    }
   ],
   "source": [
    "scout.entertainment_media.value_counts(dropna = False)"
   ]
  },
  {
   "cell_type": "code",
   "execution_count": 938,
   "metadata": {},
   "outputs": [],
   "source": [
    "fillna_group_by(scout, 'make_model', 'entertainment_media', 'mode')"
   ]
  },
  {
   "cell_type": "code",
   "execution_count": 939,
   "metadata": {},
   "outputs": [
    {
     "data": {
      "text/plain": [
       "0"
      ]
     },
     "execution_count": 939,
     "metadata": {},
     "output_type": "execute_result"
    }
   ],
   "source": [
    "scout.entertainment_media.isnull().sum()"
   ]
  },
  {
   "cell_type": "code",
   "execution_count": 940,
   "metadata": {},
   "outputs": [
    {
     "data": {
      "text/html": [
       "<div>\n",
       "<style scoped>\n",
       "    .dataframe tbody tr th:only-of-type {\n",
       "        vertical-align: middle;\n",
       "    }\n",
       "\n",
       "    .dataframe tbody tr th {\n",
       "        vertical-align: top;\n",
       "    }\n",
       "\n",
       "    .dataframe thead th {\n",
       "        text-align: right;\n",
       "    }\n",
       "</style>\n",
       "<table border=\"1\" class=\"dataframe\">\n",
       "  <thead>\n",
       "    <tr style=\"text-align: right;\">\n",
       "      <th></th>\n",
       "      <th>Bluetooth</th>\n",
       "      <th>CD player</th>\n",
       "      <th>Digital radio</th>\n",
       "      <th>Hands-free equipment</th>\n",
       "      <th>MP3</th>\n",
       "      <th>On-board computer</th>\n",
       "      <th>Radio</th>\n",
       "      <th>Sound system</th>\n",
       "      <th>Television</th>\n",
       "      <th>USB</th>\n",
       "    </tr>\n",
       "  </thead>\n",
       "  <tbody>\n",
       "    <tr>\n",
       "      <th>0</th>\n",
       "      <td>1</td>\n",
       "      <td>0</td>\n",
       "      <td>0</td>\n",
       "      <td>1</td>\n",
       "      <td>0</td>\n",
       "      <td>1</td>\n",
       "      <td>1</td>\n",
       "      <td>0</td>\n",
       "      <td>0</td>\n",
       "      <td>0</td>\n",
       "    </tr>\n",
       "    <tr>\n",
       "      <th>1</th>\n",
       "      <td>1</td>\n",
       "      <td>0</td>\n",
       "      <td>0</td>\n",
       "      <td>1</td>\n",
       "      <td>0</td>\n",
       "      <td>1</td>\n",
       "      <td>1</td>\n",
       "      <td>1</td>\n",
       "      <td>0</td>\n",
       "      <td>0</td>\n",
       "    </tr>\n",
       "    <tr>\n",
       "      <th>2</th>\n",
       "      <td>0</td>\n",
       "      <td>0</td>\n",
       "      <td>0</td>\n",
       "      <td>0</td>\n",
       "      <td>1</td>\n",
       "      <td>1</td>\n",
       "      <td>0</td>\n",
       "      <td>0</td>\n",
       "      <td>0</td>\n",
       "      <td>0</td>\n",
       "    </tr>\n",
       "    <tr>\n",
       "      <th>3</th>\n",
       "      <td>1</td>\n",
       "      <td>1</td>\n",
       "      <td>0</td>\n",
       "      <td>1</td>\n",
       "      <td>1</td>\n",
       "      <td>1</td>\n",
       "      <td>1</td>\n",
       "      <td>1</td>\n",
       "      <td>0</td>\n",
       "      <td>1</td>\n",
       "    </tr>\n",
       "    <tr>\n",
       "      <th>4</th>\n",
       "      <td>1</td>\n",
       "      <td>1</td>\n",
       "      <td>0</td>\n",
       "      <td>1</td>\n",
       "      <td>1</td>\n",
       "      <td>1</td>\n",
       "      <td>1</td>\n",
       "      <td>0</td>\n",
       "      <td>0</td>\n",
       "      <td>1</td>\n",
       "    </tr>\n",
       "    <tr>\n",
       "      <th>...</th>\n",
       "      <td>...</td>\n",
       "      <td>...</td>\n",
       "      <td>...</td>\n",
       "      <td>...</td>\n",
       "      <td>...</td>\n",
       "      <td>...</td>\n",
       "      <td>...</td>\n",
       "      <td>...</td>\n",
       "      <td>...</td>\n",
       "      <td>...</td>\n",
       "    </tr>\n",
       "    <tr>\n",
       "      <th>15914</th>\n",
       "      <td>1</td>\n",
       "      <td>0</td>\n",
       "      <td>1</td>\n",
       "      <td>1</td>\n",
       "      <td>0</td>\n",
       "      <td>1</td>\n",
       "      <td>1</td>\n",
       "      <td>0</td>\n",
       "      <td>0</td>\n",
       "      <td>1</td>\n",
       "    </tr>\n",
       "    <tr>\n",
       "      <th>15915</th>\n",
       "      <td>1</td>\n",
       "      <td>0</td>\n",
       "      <td>1</td>\n",
       "      <td>1</td>\n",
       "      <td>0</td>\n",
       "      <td>0</td>\n",
       "      <td>1</td>\n",
       "      <td>0</td>\n",
       "      <td>0</td>\n",
       "      <td>1</td>\n",
       "    </tr>\n",
       "    <tr>\n",
       "      <th>15916</th>\n",
       "      <td>1</td>\n",
       "      <td>0</td>\n",
       "      <td>0</td>\n",
       "      <td>1</td>\n",
       "      <td>0</td>\n",
       "      <td>1</td>\n",
       "      <td>1</td>\n",
       "      <td>0</td>\n",
       "      <td>0</td>\n",
       "      <td>0</td>\n",
       "    </tr>\n",
       "    <tr>\n",
       "      <th>15917</th>\n",
       "      <td>1</td>\n",
       "      <td>0</td>\n",
       "      <td>1</td>\n",
       "      <td>0</td>\n",
       "      <td>0</td>\n",
       "      <td>0</td>\n",
       "      <td>1</td>\n",
       "      <td>0</td>\n",
       "      <td>0</td>\n",
       "      <td>1</td>\n",
       "    </tr>\n",
       "    <tr>\n",
       "      <th>15918</th>\n",
       "      <td>0</td>\n",
       "      <td>0</td>\n",
       "      <td>0</td>\n",
       "      <td>0</td>\n",
       "      <td>0</td>\n",
       "      <td>0</td>\n",
       "      <td>0</td>\n",
       "      <td>0</td>\n",
       "      <td>0</td>\n",
       "      <td>1</td>\n",
       "    </tr>\n",
       "  </tbody>\n",
       "</table>\n",
       "<p>15919 rows × 10 columns</p>\n",
       "</div>"
      ],
      "text/plain": [
       "       Bluetooth  CD player  Digital radio  Hands-free equipment  MP3  On-board computer  Radio  Sound system  Television  USB\n",
       "0              1          0              0                     1    0                  1      1             0           0    0\n",
       "1              1          0              0                     1    0                  1      1             1           0    0\n",
       "2              0          0              0                     0    1                  1      0             0           0    0\n",
       "3              1          1              0                     1    1                  1      1             1           0    1\n",
       "4              1          1              0                     1    1                  1      1             0           0    1\n",
       "...          ...        ...            ...                   ...  ...                ...    ...           ...         ...  ...\n",
       "15914          1          0              1                     1    0                  1      1             0           0    1\n",
       "15915          1          0              1                     1    0                  0      1             0           0    1\n",
       "15916          1          0              0                     1    0                  1      1             0           0    0\n",
       "15917          1          0              1                     0    0                  0      1             0           0    1\n",
       "15918          0          0              0                     0    0                  0      0             0           0    1\n",
       "\n",
       "[15919 rows x 10 columns]"
      ]
     },
     "execution_count": 940,
     "metadata": {},
     "output_type": "execute_result"
    }
   ],
   "source": [
    "scout.entertainment_media.str.get_dummies(sep = ',')"
   ]
  },
  {
   "cell_type": "code",
   "execution_count": 941,
   "metadata": {},
   "outputs": [],
   "source": [
    "scout = scout.join(scout.entertainment_media.str.get_dummies(sep = ',').add_prefix('ent_media_'))"
   ]
  },
  {
   "cell_type": "code",
   "execution_count": 942,
   "metadata": {},
   "outputs": [],
   "source": [
    "scout.drop(columns = ['\\nEntertainment & Media\\n', 'entertainment_media'], inplace = True)"
   ]
  },
  {
   "cell_type": "code",
   "execution_count": 943,
   "metadata": {},
   "outputs": [
    {
     "data": {
      "text/html": [
       "<div>\n",
       "<style scoped>\n",
       "    .dataframe tbody tr th:only-of-type {\n",
       "        vertical-align: middle;\n",
       "    }\n",
       "\n",
       "    .dataframe tbody tr th {\n",
       "        vertical-align: top;\n",
       "    }\n",
       "\n",
       "    .dataframe thead th {\n",
       "        text-align: right;\n",
       "    }\n",
       "</style>\n",
       "<table border=\"1\" class=\"dataframe\">\n",
       "  <thead>\n",
       "    <tr style=\"text-align: right;\">\n",
       "      <th></th>\n",
       "      <th>make_model</th>\n",
       "      <th>body_type</th>\n",
       "      <th>price</th>\n",
       "      <th>vat</th>\n",
       "      <th>km</th>\n",
       "      <th>registration</th>\n",
       "      <th>hp</th>\n",
       "      <th>Type</th>\n",
       "      <th>Make</th>\n",
       "      <th>Model</th>\n",
       "      <th>Upholstery</th>\n",
       "      <th>Body</th>\n",
       "      <th>Displacement</th>\n",
       "      <th>Cylinders</th>\n",
       "      <th>\\nExtras\\n</th>\n",
       "      <th>\\nSafety &amp; Security\\n</th>\n",
       "      <th>description</th>\n",
       "      <th>Gears</th>\n",
       "      <th>Paint_Type</th>\n",
       "      <th>Previous_Owners</th>\n",
       "      <th>drive_chain</th>\n",
       "      <th>country</th>\n",
       "      <th>emission_label</th>\n",
       "      <th>inspection_new</th>\n",
       "      <th>next_inspection</th>\n",
       "      <th>body_color</th>\n",
       "      <th>door_number</th>\n",
       "      <th>seat_number</th>\n",
       "      <th>gear_type</th>\n",
       "      <th>fuel_new</th>\n",
       "      <th>consumption_comb</th>\n",
       "      <th>consumption_city</th>\n",
       "      <th>consumption_country</th>\n",
       "      <th>first_registration</th>\n",
       "      <th>CO2_Emission</th>\n",
       "      <th>emission_class</th>\n",
       "      <th>conf_conv_Air conditioning</th>\n",
       "      <th>conf_conv_Air suspension</th>\n",
       "      <th>conf_conv_Armrest</th>\n",
       "      <th>conf_conv_Automatic climate control</th>\n",
       "      <th>conf_conv_Auxiliary heating</th>\n",
       "      <th>conf_conv_Cruise control</th>\n",
       "      <th>conf_conv_Electric Starter</th>\n",
       "      <th>conf_conv_Electric tailgate</th>\n",
       "      <th>conf_conv_Electrical side mirrors</th>\n",
       "      <th>conf_conv_Electrically adjustable seats</th>\n",
       "      <th>conf_conv_Electrically heated windshield</th>\n",
       "      <th>conf_conv_Heads-up display</th>\n",
       "      <th>conf_conv_Heated steering wheel</th>\n",
       "      <th>conf_conv_Hill Holder</th>\n",
       "      <th>conf_conv_Keyless central door lock</th>\n",
       "      <th>conf_conv_Leather seats</th>\n",
       "      <th>conf_conv_Leather steering wheel</th>\n",
       "      <th>conf_conv_Light sensor</th>\n",
       "      <th>conf_conv_Lumbar support</th>\n",
       "      <th>conf_conv_Massage seats</th>\n",
       "      <th>conf_conv_Multi-function steering wheel</th>\n",
       "      <th>conf_conv_Navigation system</th>\n",
       "      <th>conf_conv_Panorama roof</th>\n",
       "      <th>conf_conv_Park Distance Control</th>\n",
       "      <th>conf_conv_Parking assist system camera</th>\n",
       "      <th>conf_conv_Parking assist system self-steering</th>\n",
       "      <th>conf_conv_Parking assist system sensors front</th>\n",
       "      <th>conf_conv_Parking assist system sensors rear</th>\n",
       "      <th>conf_conv_Power windows</th>\n",
       "      <th>conf_conv_Rain sensor</th>\n",
       "      <th>conf_conv_Seat heating</th>\n",
       "      <th>conf_conv_Seat ventilation</th>\n",
       "      <th>conf_conv_Split rear seats</th>\n",
       "      <th>conf_conv_Start-stop system</th>\n",
       "      <th>conf_conv_Sunroof</th>\n",
       "      <th>conf_conv_Tinted windows</th>\n",
       "      <th>conf_conv_Wind deflector</th>\n",
       "      <th>conf_conv_Windshield</th>\n",
       "      <th>ent_media_Bluetooth</th>\n",
       "      <th>ent_media_CD player</th>\n",
       "      <th>ent_media_Digital radio</th>\n",
       "      <th>ent_media_Hands-free equipment</th>\n",
       "      <th>ent_media_MP3</th>\n",
       "      <th>ent_media_On-board computer</th>\n",
       "      <th>ent_media_Radio</th>\n",
       "      <th>ent_media_Sound system</th>\n",
       "      <th>ent_media_Television</th>\n",
       "      <th>ent_media_USB</th>\n",
       "    </tr>\n",
       "  </thead>\n",
       "  <tbody>\n",
       "    <tr>\n",
       "      <th>0</th>\n",
       "      <td>Audi A1</td>\n",
       "      <td>Sedans</td>\n",
       "      <td>15770</td>\n",
       "      <td>VAT deductible</td>\n",
       "      <td>56,013 km</td>\n",
       "      <td>01/2016</td>\n",
       "      <td>66 kW</td>\n",
       "      <td>Used</td>\n",
       "      <td>Audi</td>\n",
       "      <td>A1</td>\n",
       "      <td>Cloth, Black</td>\n",
       "      <td>Sedans</td>\n",
       "      <td>1422</td>\n",
       "      <td>3</td>\n",
       "      <td>[Alloy wheels, Catalytic Converter, Voice Control]</td>\n",
       "      <td>[ABS, Central door lock, Daytime running lights, Driver-side airbag, Electronic stability control, Fog lights, Immobilizer, Isofix, Passenger-side airbag, Power steering, Side airbag, Tire pressure monitoring system, Traction control, Xenon headlights]</td>\n",
       "      <td>[\\n, Sicherheit:,  , Deaktivierung für Beifahrer-Airbag,  , ESC mit elektronischer Quersperre,  , Tagfahrlicht,  , Reifendruck-Kontrollanzeige,  , Kopfairbag-System mit Seiten-Airbags vorn,  , Sicherheitslenksäule, Assistenzsysteme:,  , Berganfahrassistent, Komfort:,  , Scheinwerferreinigung,  , Xenon plus inklusive Scheinwerfer-Reinigungsanlage,  , Scheinwerfer-Reinigungsanlage,  , Einparkhilfe hinten,  , Licht-/Regensensor,  , Funkfernbedienung,  , Elektrische Luftzusatzheizung, Interieur:...</td>\n",
       "      <td>NaN</td>\n",
       "      <td>Metallic</td>\n",
       "      <td>2</td>\n",
       "      <td>front</td>\n",
       "      <td>NaN</td>\n",
       "      <td>NaN</td>\n",
       "      <td>1</td>\n",
       "      <td>2021-06-01</td>\n",
       "      <td>Black</td>\n",
       "      <td>5</td>\n",
       "      <td>5</td>\n",
       "      <td>Automatic</td>\n",
       "      <td>Diesel</td>\n",
       "      <td>3.8</td>\n",
       "      <td>3.8</td>\n",
       "      <td>3.8</td>\n",
       "      <td>2016</td>\n",
       "      <td>99</td>\n",
       "      <td>Euro 6</td>\n",
       "      <td>1</td>\n",
       "      <td>0</td>\n",
       "      <td>1</td>\n",
       "      <td>1</td>\n",
       "      <td>0</td>\n",
       "      <td>1</td>\n",
       "      <td>0</td>\n",
       "      <td>0</td>\n",
       "      <td>1</td>\n",
       "      <td>0</td>\n",
       "      <td>0</td>\n",
       "      <td>0</td>\n",
       "      <td>0</td>\n",
       "      <td>1</td>\n",
       "      <td>0</td>\n",
       "      <td>0</td>\n",
       "      <td>1</td>\n",
       "      <td>1</td>\n",
       "      <td>0</td>\n",
       "      <td>0</td>\n",
       "      <td>1</td>\n",
       "      <td>1</td>\n",
       "      <td>0</td>\n",
       "      <td>1</td>\n",
       "      <td>0</td>\n",
       "      <td>0</td>\n",
       "      <td>0</td>\n",
       "      <td>1</td>\n",
       "      <td>1</td>\n",
       "      <td>1</td>\n",
       "      <td>1</td>\n",
       "      <td>0</td>\n",
       "      <td>0</td>\n",
       "      <td>1</td>\n",
       "      <td>0</td>\n",
       "      <td>0</td>\n",
       "      <td>0</td>\n",
       "      <td>0</td>\n",
       "      <td>1</td>\n",
       "      <td>0</td>\n",
       "      <td>0</td>\n",
       "      <td>1</td>\n",
       "      <td>0</td>\n",
       "      <td>1</td>\n",
       "      <td>1</td>\n",
       "      <td>0</td>\n",
       "      <td>0</td>\n",
       "      <td>0</td>\n",
       "    </tr>\n",
       "  </tbody>\n",
       "</table>\n",
       "</div>"
      ],
      "text/plain": [
       "  make_model body_type  price             vat         km registration     hp  Type  Make Model    Upholstery    Body Displacement Cylinders                                          \\nExtras\\n                                                                                                                                                                                                                                         \\nSafety & Security\\n                                                                                                                                                                                                                                                                                                                                                                                                                                                                                                          description Gears Paint_Type Previous_Owners drive_chain country emission_label  inspection_new next_inspection body_color door_number seat_number  gear_type fuel_new consumption_comb consumption_city consumption_country first_registration CO2_Emission emission_class  conf_conv_Air conditioning  conf_conv_Air suspension  conf_conv_Armrest  conf_conv_Automatic climate control  conf_conv_Auxiliary heating  conf_conv_Cruise control  conf_conv_Electric Starter  conf_conv_Electric tailgate  conf_conv_Electrical side mirrors  conf_conv_Electrically adjustable seats  conf_conv_Electrically heated windshield  conf_conv_Heads-up display  conf_conv_Heated steering wheel  conf_conv_Hill Holder  conf_conv_Keyless central door lock  conf_conv_Leather seats  conf_conv_Leather steering wheel  conf_conv_Light sensor  conf_conv_Lumbar support  conf_conv_Massage seats  conf_conv_Multi-function steering wheel  conf_conv_Navigation system  conf_conv_Panorama roof  conf_conv_Park Distance Control  conf_conv_Parking assist system camera  \\\n",
       "0    Audi A1    Sedans  15770  VAT deductible  56,013 km      01/2016  66 kW  Used  Audi    A1  Cloth, Black  Sedans         1422         3  [Alloy wheels, Catalytic Converter, Voice Control]  [ABS, Central door lock, Daytime running lights, Driver-side airbag, Electronic stability control, Fog lights, Immobilizer, Isofix, Passenger-side airbag, Power steering, Side airbag, Tire pressure monitoring system, Traction control, Xenon headlights]  [\\n, Sicherheit:,  , Deaktivierung für Beifahrer-Airbag,  , ESC mit elektronischer Quersperre,  , Tagfahrlicht,  , Reifendruck-Kontrollanzeige,  , Kopfairbag-System mit Seiten-Airbags vorn,  , Sicherheitslenksäule, Assistenzsysteme:,  , Berganfahrassistent, Komfort:,  , Scheinwerferreinigung,  , Xenon plus inklusive Scheinwerfer-Reinigungsanlage,  , Scheinwerfer-Reinigungsanlage,  , Einparkhilfe hinten,  , Licht-/Regensensor,  , Funkfernbedienung,  , Elektrische Luftzusatzheizung, Interieur:...   NaN   Metallic               2       front     NaN            NaN               1      2021-06-01      Black           5           5  Automatic   Diesel              3.8              3.8                 3.8               2016           99         Euro 6                           1                         0                  1                                    1                            0                         1                           0                            0                                  1                                        0                                         0                           0                                0                      1                                    0                        0                                 1                       1                         0                        0                                        1                            1                        0                                1                                       0   \n",
       "\n",
       "   conf_conv_Parking assist system self-steering  conf_conv_Parking assist system sensors front  conf_conv_Parking assist system sensors rear  conf_conv_Power windows  conf_conv_Rain sensor  conf_conv_Seat heating  conf_conv_Seat ventilation  conf_conv_Split rear seats  conf_conv_Start-stop system  conf_conv_Sunroof  conf_conv_Tinted windows  conf_conv_Wind deflector  conf_conv_Windshield  ent_media_Bluetooth  ent_media_CD player  ent_media_Digital radio  ent_media_Hands-free equipment  ent_media_MP3  ent_media_On-board computer  ent_media_Radio  ent_media_Sound system  ent_media_Television  ent_media_USB  \n",
       "0                                              0                                              0                                             1                        1                      1                       1                           0                           0                            1                  0                         0                         0                     0                    1                    0                        0                               1              0                            1                1                       0                     0              0  "
      ]
     },
     "execution_count": 943,
     "metadata": {},
     "output_type": "execute_result"
    }
   ],
   "source": [
    "scout.head(1)"
   ]
  },
  {
   "cell_type": "markdown",
   "metadata": {},
   "source": [
    "## scout['\\nExtras\\n']"
   ]
  },
  {
   "cell_type": "code",
   "execution_count": 944,
   "metadata": {},
   "outputs": [
    {
     "ename": "TypeError",
     "evalue": "unhashable type: 'list'",
     "output_type": "error",
     "traceback": [
      "\u001b[0;31m---------------------------------------------------------------------------\u001b[0m",
      "\u001b[0;31mTypeError\u001b[0m                                 Traceback (most recent call last)",
      "\u001b[0;32mpandas/_libs/hashtable_class_helper.pxi\u001b[0m in \u001b[0;36mpandas._libs.hashtable.PyObjectHashTable.map_locations\u001b[0;34m()\u001b[0m\n",
      "\u001b[0;31mTypeError\u001b[0m: unhashable type: 'list'"
     ]
    },
    {
     "name": "stderr",
     "output_type": "stream",
     "text": [
      "Exception ignored in: 'pandas._libs.index.IndexEngine._call_map_locations'\n",
      "Traceback (most recent call last):\n",
      "  File \"pandas/_libs/hashtable_class_helper.pxi\", line 1652, in pandas._libs.hashtable.PyObjectHashTable.map_locations\n",
      "TypeError: unhashable type: 'list'\n"
     ]
    },
    {
     "data": {
      "text/plain": [
       "[Alloy wheels]                                                                                         3245\n",
       "NaN                                                                                                    2962\n",
       "[Alloy wheels, Touch screen]                                                                            697\n",
       "[Alloy wheels, Voice Control]                                                                           577\n",
       "[Alloy wheels, Touch screen, Voice Control]                                                             541\n",
       "                                                                                                       ... \n",
       "[Alloy wheels, Sport suspension, Touch screen, Trailer hitch, Voice Control]                              1\n",
       "[Alloy wheels, Catalytic Converter, Handicapped enabled, Touch screen, Voice Control, Winter tyres]       1\n",
       "[Ski bag, Sport suspension]                                                                               1\n",
       "[Alloy wheels, Sport package, Sport seats, Sport suspension, Tuned car]                                   1\n",
       "[Sport seats, Sport suspension, Voice Control]                                                            1\n",
       "Name: \\nExtras\\n, Length: 660, dtype: int64"
      ]
     },
     "execution_count": 944,
     "metadata": {},
     "output_type": "execute_result"
    }
   ],
   "source": [
    "scout['\\nExtras\\n'].value_counts(dropna = False)"
   ]
  },
  {
   "cell_type": "code",
   "execution_count": 946,
   "metadata": {},
   "outputs": [],
   "source": [
    "null_temporary_lst(scout, '\\nExtras\\n')"
   ]
  },
  {
   "cell_type": "code",
   "execution_count": 947,
   "metadata": {},
   "outputs": [
    {
     "data": {
      "text/plain": [
       "['Winter tyres',\n",
       " 'Alloy wheels',\n",
       " 'Voice Control',\n",
       " 'Roof rack',\n",
       " 'Ski bag',\n",
       " 'Shift paddles',\n",
       " 'Handicapped enabled',\n",
       " 'Trailer hitch',\n",
       " 'Right hand drive',\n",
       " 'Catalytic Converter',\n",
       " 'Cab or rented Car',\n",
       " 'Touch screen',\n",
       " 'Sport suspension',\n",
       " 'Sport package',\n",
       " 'Tuned car',\n",
       " 'Sliding door',\n",
       " 'Sport seats']"
      ]
     },
     "execution_count": 947,
     "metadata": {},
     "output_type": "execute_result"
    }
   ],
   "source": [
    "unique_value_list(scout, '\\nExtras\\n')"
   ]
  },
  {
   "cell_type": "code",
   "execution_count": 948,
   "metadata": {},
   "outputs": [
    {
     "data": {
      "text/plain": [
       "0"
      ]
     },
     "execution_count": 948,
     "metadata": {},
     "output_type": "execute_result"
    }
   ],
   "source": [
    "scout['\\nExtras\\n'].isnull().sum()"
   ]
  },
  {
   "cell_type": "code",
   "execution_count": 949,
   "metadata": {},
   "outputs": [],
   "source": [
    "comfort_str_lst = [','.join(i).strip() if isinstance(i, list) else i for i in scout['\\nExtras\\n']]"
   ]
  },
  {
   "cell_type": "code",
   "execution_count": 950,
   "metadata": {},
   "outputs": [],
   "source": [
    "scout['Extras'] = pd.Series(comfort_str_lst)"
   ]
  },
  {
   "cell_type": "code",
   "execution_count": 951,
   "metadata": {},
   "outputs": [
    {
     "data": {
      "text/plain": [
       "Alloy wheels                                                                                        3245\n",
       "                                                                                                    2962\n",
       "Alloy wheels,Touch screen                                                                            697\n",
       "Alloy wheels,Voice Control                                                                           577\n",
       "Alloy wheels,Touch screen,Voice Control                                                              541\n",
       "                                                                                                    ... \n",
       "Alloy wheels,Catalytic Converter,Handicapped enabled,Shift paddles,Touch screen                        1\n",
       "Alloy wheels,Shift paddles,Sport package,Sport suspension,Winter tyres                                 1\n",
       "Alloy wheels,Shift paddles,Touch screen,Trailer hitch                                                  1\n",
       "Alloy wheels,Shift paddles,Sport seats,Sport suspension,Touch screen,Trailer hitch,Voice Control       1\n",
       "Handicapped enabled,Touch screen                                                                       1\n",
       "Name: Extras, Length: 660, dtype: int64"
      ]
     },
     "execution_count": 951,
     "metadata": {},
     "output_type": "execute_result"
    }
   ],
   "source": [
    "scout.Extras.value_counts(dropna = False)"
   ]
  },
  {
   "cell_type": "code",
   "execution_count": 952,
   "metadata": {},
   "outputs": [],
   "source": [
    "nulls_back = [np.nan if scout.Extras.iloc[i] == '' else scout.Extras.iloc[i] for i in range(len(scout.Extras))]"
   ]
  },
  {
   "cell_type": "code",
   "execution_count": 953,
   "metadata": {},
   "outputs": [],
   "source": [
    "scout.Extras = pd.Series(nulls_back)"
   ]
  },
  {
   "cell_type": "code",
   "execution_count": 954,
   "metadata": {},
   "outputs": [
    {
     "data": {
      "text/plain": [
       "Alloy wheels                                                                                        3245\n",
       "NaN                                                                                                 2962\n",
       "Alloy wheels,Touch screen                                                                            697\n",
       "Alloy wheels,Voice Control                                                                           577\n",
       "Alloy wheels,Touch screen,Voice Control                                                              541\n",
       "                                                                                                    ... \n",
       "Alloy wheels,Catalytic Converter,Handicapped enabled,Shift paddles,Touch screen                        1\n",
       "Alloy wheels,Shift paddles,Sport package,Sport suspension,Winter tyres                                 1\n",
       "Alloy wheels,Shift paddles,Touch screen,Trailer hitch                                                  1\n",
       "Alloy wheels,Shift paddles,Sport seats,Sport suspension,Touch screen,Trailer hitch,Voice Control       1\n",
       "Handicapped enabled,Touch screen                                                                       1\n",
       "Name: Extras, Length: 660, dtype: int64"
      ]
     },
     "execution_count": 954,
     "metadata": {},
     "output_type": "execute_result"
    }
   ],
   "source": [
    "scout.Extras.value_counts(dropna = False)"
   ]
  },
  {
   "cell_type": "code",
   "execution_count": 955,
   "metadata": {},
   "outputs": [],
   "source": [
    "fillna_group_by(scout, 'make_model', 'Extras', 'mode')"
   ]
  },
  {
   "cell_type": "code",
   "execution_count": 956,
   "metadata": {},
   "outputs": [
    {
     "data": {
      "text/plain": [
       "0"
      ]
     },
     "execution_count": 956,
     "metadata": {},
     "output_type": "execute_result"
    }
   ],
   "source": [
    "scout.Extras.isnull().sum()"
   ]
  },
  {
   "cell_type": "code",
   "execution_count": 957,
   "metadata": {},
   "outputs": [
    {
     "data": {
      "text/html": [
       "<div>\n",
       "<style scoped>\n",
       "    .dataframe tbody tr th:only-of-type {\n",
       "        vertical-align: middle;\n",
       "    }\n",
       "\n",
       "    .dataframe tbody tr th {\n",
       "        vertical-align: top;\n",
       "    }\n",
       "\n",
       "    .dataframe thead th {\n",
       "        text-align: right;\n",
       "    }\n",
       "</style>\n",
       "<table border=\"1\" class=\"dataframe\">\n",
       "  <thead>\n",
       "    <tr style=\"text-align: right;\">\n",
       "      <th></th>\n",
       "      <th>Alloy wheels</th>\n",
       "      <th>Cab or rented Car</th>\n",
       "      <th>Catalytic Converter</th>\n",
       "      <th>Handicapped enabled</th>\n",
       "      <th>Right hand drive</th>\n",
       "      <th>Roof rack</th>\n",
       "      <th>Shift paddles</th>\n",
       "      <th>Ski bag</th>\n",
       "      <th>Sliding door</th>\n",
       "      <th>Sport package</th>\n",
       "      <th>Sport seats</th>\n",
       "      <th>Sport suspension</th>\n",
       "      <th>Touch screen</th>\n",
       "      <th>Trailer hitch</th>\n",
       "      <th>Tuned car</th>\n",
       "      <th>Voice Control</th>\n",
       "      <th>Winter tyres</th>\n",
       "    </tr>\n",
       "  </thead>\n",
       "  <tbody>\n",
       "    <tr>\n",
       "      <th>0</th>\n",
       "      <td>1</td>\n",
       "      <td>0</td>\n",
       "      <td>1</td>\n",
       "      <td>0</td>\n",
       "      <td>0</td>\n",
       "      <td>0</td>\n",
       "      <td>0</td>\n",
       "      <td>0</td>\n",
       "      <td>0</td>\n",
       "      <td>0</td>\n",
       "      <td>0</td>\n",
       "      <td>0</td>\n",
       "      <td>0</td>\n",
       "      <td>0</td>\n",
       "      <td>0</td>\n",
       "      <td>1</td>\n",
       "      <td>0</td>\n",
       "    </tr>\n",
       "    <tr>\n",
       "      <th>1</th>\n",
       "      <td>1</td>\n",
       "      <td>0</td>\n",
       "      <td>0</td>\n",
       "      <td>0</td>\n",
       "      <td>0</td>\n",
       "      <td>0</td>\n",
       "      <td>0</td>\n",
       "      <td>0</td>\n",
       "      <td>0</td>\n",
       "      <td>0</td>\n",
       "      <td>1</td>\n",
       "      <td>1</td>\n",
       "      <td>0</td>\n",
       "      <td>0</td>\n",
       "      <td>0</td>\n",
       "      <td>1</td>\n",
       "      <td>0</td>\n",
       "    </tr>\n",
       "    <tr>\n",
       "      <th>2</th>\n",
       "      <td>1</td>\n",
       "      <td>0</td>\n",
       "      <td>0</td>\n",
       "      <td>0</td>\n",
       "      <td>0</td>\n",
       "      <td>0</td>\n",
       "      <td>0</td>\n",
       "      <td>0</td>\n",
       "      <td>0</td>\n",
       "      <td>0</td>\n",
       "      <td>0</td>\n",
       "      <td>0</td>\n",
       "      <td>0</td>\n",
       "      <td>0</td>\n",
       "      <td>0</td>\n",
       "      <td>1</td>\n",
       "      <td>0</td>\n",
       "    </tr>\n",
       "    <tr>\n",
       "      <th>3</th>\n",
       "      <td>1</td>\n",
       "      <td>0</td>\n",
       "      <td>0</td>\n",
       "      <td>0</td>\n",
       "      <td>0</td>\n",
       "      <td>0</td>\n",
       "      <td>0</td>\n",
       "      <td>0</td>\n",
       "      <td>0</td>\n",
       "      <td>0</td>\n",
       "      <td>1</td>\n",
       "      <td>0</td>\n",
       "      <td>0</td>\n",
       "      <td>0</td>\n",
       "      <td>0</td>\n",
       "      <td>1</td>\n",
       "      <td>0</td>\n",
       "    </tr>\n",
       "    <tr>\n",
       "      <th>4</th>\n",
       "      <td>1</td>\n",
       "      <td>0</td>\n",
       "      <td>0</td>\n",
       "      <td>0</td>\n",
       "      <td>0</td>\n",
       "      <td>0</td>\n",
       "      <td>0</td>\n",
       "      <td>0</td>\n",
       "      <td>0</td>\n",
       "      <td>1</td>\n",
       "      <td>0</td>\n",
       "      <td>1</td>\n",
       "      <td>0</td>\n",
       "      <td>0</td>\n",
       "      <td>0</td>\n",
       "      <td>1</td>\n",
       "      <td>0</td>\n",
       "    </tr>\n",
       "    <tr>\n",
       "      <th>...</th>\n",
       "      <td>...</td>\n",
       "      <td>...</td>\n",
       "      <td>...</td>\n",
       "      <td>...</td>\n",
       "      <td>...</td>\n",
       "      <td>...</td>\n",
       "      <td>...</td>\n",
       "      <td>...</td>\n",
       "      <td>...</td>\n",
       "      <td>...</td>\n",
       "      <td>...</td>\n",
       "      <td>...</td>\n",
       "      <td>...</td>\n",
       "      <td>...</td>\n",
       "      <td>...</td>\n",
       "      <td>...</td>\n",
       "      <td>...</td>\n",
       "    </tr>\n",
       "    <tr>\n",
       "      <th>15914</th>\n",
       "      <td>1</td>\n",
       "      <td>0</td>\n",
       "      <td>0</td>\n",
       "      <td>0</td>\n",
       "      <td>0</td>\n",
       "      <td>0</td>\n",
       "      <td>0</td>\n",
       "      <td>0</td>\n",
       "      <td>0</td>\n",
       "      <td>0</td>\n",
       "      <td>0</td>\n",
       "      <td>0</td>\n",
       "      <td>1</td>\n",
       "      <td>0</td>\n",
       "      <td>0</td>\n",
       "      <td>0</td>\n",
       "      <td>0</td>\n",
       "    </tr>\n",
       "    <tr>\n",
       "      <th>15915</th>\n",
       "      <td>1</td>\n",
       "      <td>0</td>\n",
       "      <td>0</td>\n",
       "      <td>0</td>\n",
       "      <td>0</td>\n",
       "      <td>0</td>\n",
       "      <td>0</td>\n",
       "      <td>0</td>\n",
       "      <td>0</td>\n",
       "      <td>0</td>\n",
       "      <td>0</td>\n",
       "      <td>0</td>\n",
       "      <td>1</td>\n",
       "      <td>0</td>\n",
       "      <td>0</td>\n",
       "      <td>1</td>\n",
       "      <td>0</td>\n",
       "    </tr>\n",
       "    <tr>\n",
       "      <th>15916</th>\n",
       "      <td>1</td>\n",
       "      <td>0</td>\n",
       "      <td>0</td>\n",
       "      <td>0</td>\n",
       "      <td>0</td>\n",
       "      <td>0</td>\n",
       "      <td>0</td>\n",
       "      <td>0</td>\n",
       "      <td>0</td>\n",
       "      <td>0</td>\n",
       "      <td>0</td>\n",
       "      <td>0</td>\n",
       "      <td>0</td>\n",
       "      <td>0</td>\n",
       "      <td>0</td>\n",
       "      <td>0</td>\n",
       "      <td>0</td>\n",
       "    </tr>\n",
       "    <tr>\n",
       "      <th>15917</th>\n",
       "      <td>1</td>\n",
       "      <td>0</td>\n",
       "      <td>0</td>\n",
       "      <td>0</td>\n",
       "      <td>0</td>\n",
       "      <td>0</td>\n",
       "      <td>0</td>\n",
       "      <td>0</td>\n",
       "      <td>0</td>\n",
       "      <td>0</td>\n",
       "      <td>0</td>\n",
       "      <td>0</td>\n",
       "      <td>1</td>\n",
       "      <td>0</td>\n",
       "      <td>0</td>\n",
       "      <td>0</td>\n",
       "      <td>0</td>\n",
       "    </tr>\n",
       "    <tr>\n",
       "      <th>15918</th>\n",
       "      <td>1</td>\n",
       "      <td>0</td>\n",
       "      <td>0</td>\n",
       "      <td>0</td>\n",
       "      <td>0</td>\n",
       "      <td>0</td>\n",
       "      <td>0</td>\n",
       "      <td>0</td>\n",
       "      <td>0</td>\n",
       "      <td>0</td>\n",
       "      <td>0</td>\n",
       "      <td>0</td>\n",
       "      <td>1</td>\n",
       "      <td>0</td>\n",
       "      <td>0</td>\n",
       "      <td>0</td>\n",
       "      <td>0</td>\n",
       "    </tr>\n",
       "  </tbody>\n",
       "</table>\n",
       "<p>15919 rows × 17 columns</p>\n",
       "</div>"
      ],
      "text/plain": [
       "       Alloy wheels  Cab or rented Car  Catalytic Converter  Handicapped enabled  Right hand drive  Roof rack  Shift paddles  Ski bag  Sliding door  Sport package  Sport seats  Sport suspension  Touch screen  Trailer hitch  Tuned car  Voice Control  Winter tyres\n",
       "0                 1                  0                    1                    0                 0          0              0        0             0              0            0                 0             0              0          0              1             0\n",
       "1                 1                  0                    0                    0                 0          0              0        0             0              0            1                 1             0              0          0              1             0\n",
       "2                 1                  0                    0                    0                 0          0              0        0             0              0            0                 0             0              0          0              1             0\n",
       "3                 1                  0                    0                    0                 0          0              0        0             0              0            1                 0             0              0          0              1             0\n",
       "4                 1                  0                    0                    0                 0          0              0        0             0              1            0                 1             0              0          0              1             0\n",
       "...             ...                ...                  ...                  ...               ...        ...            ...      ...           ...            ...          ...               ...           ...            ...        ...            ...           ...\n",
       "15914             1                  0                    0                    0                 0          0              0        0             0              0            0                 0             1              0          0              0             0\n",
       "15915             1                  0                    0                    0                 0          0              0        0             0              0            0                 0             1              0          0              1             0\n",
       "15916             1                  0                    0                    0                 0          0              0        0             0              0            0                 0             0              0          0              0             0\n",
       "15917             1                  0                    0                    0                 0          0              0        0             0              0            0                 0             1              0          0              0             0\n",
       "15918             1                  0                    0                    0                 0          0              0        0             0              0            0                 0             1              0          0              0             0\n",
       "\n",
       "[15919 rows x 17 columns]"
      ]
     },
     "execution_count": 957,
     "metadata": {},
     "output_type": "execute_result"
    }
   ],
   "source": [
    "scout.Extras.str.get_dummies(sep = ',')"
   ]
  },
  {
   "cell_type": "code",
   "execution_count": 958,
   "metadata": {},
   "outputs": [],
   "source": [
    "scout = scout.join(scout.Extras.str.get_dummies(sep = ',').add_prefix('extra_'))"
   ]
  },
  {
   "cell_type": "code",
   "execution_count": 959,
   "metadata": {},
   "outputs": [],
   "source": [
    "scout.drop(columns = ['\\nExtras\\n', 'Extras'], inplace = True)"
   ]
  },
  {
   "cell_type": "code",
   "execution_count": 960,
   "metadata": {},
   "outputs": [
    {
     "data": {
      "text/html": [
       "<div>\n",
       "<style scoped>\n",
       "    .dataframe tbody tr th:only-of-type {\n",
       "        vertical-align: middle;\n",
       "    }\n",
       "\n",
       "    .dataframe tbody tr th {\n",
       "        vertical-align: top;\n",
       "    }\n",
       "\n",
       "    .dataframe thead th {\n",
       "        text-align: right;\n",
       "    }\n",
       "</style>\n",
       "<table border=\"1\" class=\"dataframe\">\n",
       "  <thead>\n",
       "    <tr style=\"text-align: right;\">\n",
       "      <th></th>\n",
       "      <th>make_model</th>\n",
       "      <th>body_type</th>\n",
       "      <th>price</th>\n",
       "      <th>vat</th>\n",
       "      <th>km</th>\n",
       "      <th>registration</th>\n",
       "      <th>hp</th>\n",
       "      <th>Type</th>\n",
       "      <th>Make</th>\n",
       "      <th>Model</th>\n",
       "      <th>Upholstery</th>\n",
       "      <th>Body</th>\n",
       "      <th>Displacement</th>\n",
       "      <th>Cylinders</th>\n",
       "      <th>\\nSafety &amp; Security\\n</th>\n",
       "      <th>description</th>\n",
       "      <th>Gears</th>\n",
       "      <th>Paint_Type</th>\n",
       "      <th>Previous_Owners</th>\n",
       "      <th>drive_chain</th>\n",
       "      <th>country</th>\n",
       "      <th>emission_label</th>\n",
       "      <th>inspection_new</th>\n",
       "      <th>next_inspection</th>\n",
       "      <th>body_color</th>\n",
       "      <th>door_number</th>\n",
       "      <th>seat_number</th>\n",
       "      <th>gear_type</th>\n",
       "      <th>fuel_new</th>\n",
       "      <th>consumption_comb</th>\n",
       "      <th>consumption_city</th>\n",
       "      <th>consumption_country</th>\n",
       "      <th>first_registration</th>\n",
       "      <th>CO2_Emission</th>\n",
       "      <th>emission_class</th>\n",
       "      <th>conf_conv_Air conditioning</th>\n",
       "      <th>conf_conv_Air suspension</th>\n",
       "      <th>conf_conv_Armrest</th>\n",
       "      <th>conf_conv_Automatic climate control</th>\n",
       "      <th>conf_conv_Auxiliary heating</th>\n",
       "      <th>conf_conv_Cruise control</th>\n",
       "      <th>conf_conv_Electric Starter</th>\n",
       "      <th>conf_conv_Electric tailgate</th>\n",
       "      <th>conf_conv_Electrical side mirrors</th>\n",
       "      <th>conf_conv_Electrically adjustable seats</th>\n",
       "      <th>conf_conv_Electrically heated windshield</th>\n",
       "      <th>conf_conv_Heads-up display</th>\n",
       "      <th>conf_conv_Heated steering wheel</th>\n",
       "      <th>conf_conv_Hill Holder</th>\n",
       "      <th>conf_conv_Keyless central door lock</th>\n",
       "      <th>conf_conv_Leather seats</th>\n",
       "      <th>conf_conv_Leather steering wheel</th>\n",
       "      <th>conf_conv_Light sensor</th>\n",
       "      <th>conf_conv_Lumbar support</th>\n",
       "      <th>conf_conv_Massage seats</th>\n",
       "      <th>conf_conv_Multi-function steering wheel</th>\n",
       "      <th>conf_conv_Navigation system</th>\n",
       "      <th>conf_conv_Panorama roof</th>\n",
       "      <th>conf_conv_Park Distance Control</th>\n",
       "      <th>conf_conv_Parking assist system camera</th>\n",
       "      <th>conf_conv_Parking assist system self-steering</th>\n",
       "      <th>conf_conv_Parking assist system sensors front</th>\n",
       "      <th>conf_conv_Parking assist system sensors rear</th>\n",
       "      <th>conf_conv_Power windows</th>\n",
       "      <th>conf_conv_Rain sensor</th>\n",
       "      <th>conf_conv_Seat heating</th>\n",
       "      <th>conf_conv_Seat ventilation</th>\n",
       "      <th>conf_conv_Split rear seats</th>\n",
       "      <th>conf_conv_Start-stop system</th>\n",
       "      <th>conf_conv_Sunroof</th>\n",
       "      <th>conf_conv_Tinted windows</th>\n",
       "      <th>conf_conv_Wind deflector</th>\n",
       "      <th>conf_conv_Windshield</th>\n",
       "      <th>ent_media_Bluetooth</th>\n",
       "      <th>ent_media_CD player</th>\n",
       "      <th>ent_media_Digital radio</th>\n",
       "      <th>ent_media_Hands-free equipment</th>\n",
       "      <th>ent_media_MP3</th>\n",
       "      <th>ent_media_On-board computer</th>\n",
       "      <th>ent_media_Radio</th>\n",
       "      <th>ent_media_Sound system</th>\n",
       "      <th>ent_media_Television</th>\n",
       "      <th>ent_media_USB</th>\n",
       "      <th>extra_Alloy wheels</th>\n",
       "      <th>extra_Cab or rented Car</th>\n",
       "      <th>extra_Catalytic Converter</th>\n",
       "      <th>extra_Handicapped enabled</th>\n",
       "      <th>extra_Right hand drive</th>\n",
       "      <th>extra_Roof rack</th>\n",
       "      <th>extra_Shift paddles</th>\n",
       "      <th>extra_Ski bag</th>\n",
       "      <th>extra_Sliding door</th>\n",
       "      <th>extra_Sport package</th>\n",
       "      <th>extra_Sport seats</th>\n",
       "      <th>extra_Sport suspension</th>\n",
       "      <th>extra_Touch screen</th>\n",
       "      <th>extra_Trailer hitch</th>\n",
       "      <th>extra_Tuned car</th>\n",
       "      <th>extra_Voice Control</th>\n",
       "      <th>extra_Winter tyres</th>\n",
       "    </tr>\n",
       "  </thead>\n",
       "  <tbody>\n",
       "    <tr>\n",
       "      <th>0</th>\n",
       "      <td>Audi A1</td>\n",
       "      <td>Sedans</td>\n",
       "      <td>15770</td>\n",
       "      <td>VAT deductible</td>\n",
       "      <td>56,013 km</td>\n",
       "      <td>01/2016</td>\n",
       "      <td>66 kW</td>\n",
       "      <td>Used</td>\n",
       "      <td>Audi</td>\n",
       "      <td>A1</td>\n",
       "      <td>Cloth, Black</td>\n",
       "      <td>Sedans</td>\n",
       "      <td>1422</td>\n",
       "      <td>3</td>\n",
       "      <td>[ABS, Central door lock, Daytime running lights, Driver-side airbag, Electronic stability control, Fog lights, Immobilizer, Isofix, Passenger-side airbag, Power steering, Side airbag, Tire pressure monitoring system, Traction control, Xenon headlights]</td>\n",
       "      <td>[\\n, Sicherheit:,  , Deaktivierung für Beifahrer-Airbag,  , ESC mit elektronischer Quersperre,  , Tagfahrlicht,  , Reifendruck-Kontrollanzeige,  , Kopfairbag-System mit Seiten-Airbags vorn,  , Sicherheitslenksäule, Assistenzsysteme:,  , Berganfahrassistent, Komfort:,  , Scheinwerferreinigung,  , Xenon plus inklusive Scheinwerfer-Reinigungsanlage,  , Scheinwerfer-Reinigungsanlage,  , Einparkhilfe hinten,  , Licht-/Regensensor,  , Funkfernbedienung,  , Elektrische Luftzusatzheizung, Interieur:...</td>\n",
       "      <td>NaN</td>\n",
       "      <td>Metallic</td>\n",
       "      <td>2</td>\n",
       "      <td>front</td>\n",
       "      <td>NaN</td>\n",
       "      <td>NaN</td>\n",
       "      <td>1</td>\n",
       "      <td>2021-06-01</td>\n",
       "      <td>Black</td>\n",
       "      <td>5</td>\n",
       "      <td>5</td>\n",
       "      <td>Automatic</td>\n",
       "      <td>Diesel</td>\n",
       "      <td>3.8</td>\n",
       "      <td>3.8</td>\n",
       "      <td>3.8</td>\n",
       "      <td>2016</td>\n",
       "      <td>99</td>\n",
       "      <td>Euro 6</td>\n",
       "      <td>1</td>\n",
       "      <td>0</td>\n",
       "      <td>1</td>\n",
       "      <td>1</td>\n",
       "      <td>0</td>\n",
       "      <td>1</td>\n",
       "      <td>0</td>\n",
       "      <td>0</td>\n",
       "      <td>1</td>\n",
       "      <td>0</td>\n",
       "      <td>0</td>\n",
       "      <td>0</td>\n",
       "      <td>0</td>\n",
       "      <td>1</td>\n",
       "      <td>0</td>\n",
       "      <td>0</td>\n",
       "      <td>1</td>\n",
       "      <td>1</td>\n",
       "      <td>0</td>\n",
       "      <td>0</td>\n",
       "      <td>1</td>\n",
       "      <td>1</td>\n",
       "      <td>0</td>\n",
       "      <td>1</td>\n",
       "      <td>0</td>\n",
       "      <td>0</td>\n",
       "      <td>0</td>\n",
       "      <td>1</td>\n",
       "      <td>1</td>\n",
       "      <td>1</td>\n",
       "      <td>1</td>\n",
       "      <td>0</td>\n",
       "      <td>0</td>\n",
       "      <td>1</td>\n",
       "      <td>0</td>\n",
       "      <td>0</td>\n",
       "      <td>0</td>\n",
       "      <td>0</td>\n",
       "      <td>1</td>\n",
       "      <td>0</td>\n",
       "      <td>0</td>\n",
       "      <td>1</td>\n",
       "      <td>0</td>\n",
       "      <td>1</td>\n",
       "      <td>1</td>\n",
       "      <td>0</td>\n",
       "      <td>0</td>\n",
       "      <td>0</td>\n",
       "      <td>1</td>\n",
       "      <td>0</td>\n",
       "      <td>1</td>\n",
       "      <td>0</td>\n",
       "      <td>0</td>\n",
       "      <td>0</td>\n",
       "      <td>0</td>\n",
       "      <td>0</td>\n",
       "      <td>0</td>\n",
       "      <td>0</td>\n",
       "      <td>0</td>\n",
       "      <td>0</td>\n",
       "      <td>0</td>\n",
       "      <td>0</td>\n",
       "      <td>0</td>\n",
       "      <td>1</td>\n",
       "      <td>0</td>\n",
       "    </tr>\n",
       "  </tbody>\n",
       "</table>\n",
       "</div>"
      ],
      "text/plain": [
       "  make_model body_type  price             vat         km registration     hp  Type  Make Model    Upholstery    Body Displacement Cylinders                                                                                                                                                                                                                                         \\nSafety & Security\\n                                                                                                                                                                                                                                                                                                                                                                                                                                                                                                          description Gears Paint_Type Previous_Owners drive_chain country emission_label  inspection_new next_inspection body_color door_number seat_number  gear_type fuel_new consumption_comb consumption_city consumption_country first_registration CO2_Emission emission_class  conf_conv_Air conditioning  conf_conv_Air suspension  conf_conv_Armrest  conf_conv_Automatic climate control  conf_conv_Auxiliary heating  conf_conv_Cruise control  conf_conv_Electric Starter  conf_conv_Electric tailgate  conf_conv_Electrical side mirrors  conf_conv_Electrically adjustable seats  conf_conv_Electrically heated windshield  conf_conv_Heads-up display  conf_conv_Heated steering wheel  conf_conv_Hill Holder  conf_conv_Keyless central door lock  conf_conv_Leather seats  conf_conv_Leather steering wheel  conf_conv_Light sensor  conf_conv_Lumbar support  conf_conv_Massage seats  conf_conv_Multi-function steering wheel  conf_conv_Navigation system  conf_conv_Panorama roof  conf_conv_Park Distance Control  conf_conv_Parking assist system camera  conf_conv_Parking assist system self-steering  \\\n",
       "0    Audi A1    Sedans  15770  VAT deductible  56,013 km      01/2016  66 kW  Used  Audi    A1  Cloth, Black  Sedans         1422         3  [ABS, Central door lock, Daytime running lights, Driver-side airbag, Electronic stability control, Fog lights, Immobilizer, Isofix, Passenger-side airbag, Power steering, Side airbag, Tire pressure monitoring system, Traction control, Xenon headlights]  [\\n, Sicherheit:,  , Deaktivierung für Beifahrer-Airbag,  , ESC mit elektronischer Quersperre,  , Tagfahrlicht,  , Reifendruck-Kontrollanzeige,  , Kopfairbag-System mit Seiten-Airbags vorn,  , Sicherheitslenksäule, Assistenzsysteme:,  , Berganfahrassistent, Komfort:,  , Scheinwerferreinigung,  , Xenon plus inklusive Scheinwerfer-Reinigungsanlage,  , Scheinwerfer-Reinigungsanlage,  , Einparkhilfe hinten,  , Licht-/Regensensor,  , Funkfernbedienung,  , Elektrische Luftzusatzheizung, Interieur:...   NaN   Metallic               2       front     NaN            NaN               1      2021-06-01      Black           5           5  Automatic   Diesel              3.8              3.8                 3.8               2016           99         Euro 6                           1                         0                  1                                    1                            0                         1                           0                            0                                  1                                        0                                         0                           0                                0                      1                                    0                        0                                 1                       1                         0                        0                                        1                            1                        0                                1                                       0                                              0   \n",
       "\n",
       "   conf_conv_Parking assist system sensors front  conf_conv_Parking assist system sensors rear  conf_conv_Power windows  conf_conv_Rain sensor  conf_conv_Seat heating  conf_conv_Seat ventilation  conf_conv_Split rear seats  conf_conv_Start-stop system  conf_conv_Sunroof  conf_conv_Tinted windows  conf_conv_Wind deflector  conf_conv_Windshield  ent_media_Bluetooth  ent_media_CD player  ent_media_Digital radio  ent_media_Hands-free equipment  ent_media_MP3  ent_media_On-board computer  ent_media_Radio  ent_media_Sound system  ent_media_Television  ent_media_USB  extra_Alloy wheels  extra_Cab or rented Car  extra_Catalytic Converter  extra_Handicapped enabled  extra_Right hand drive  extra_Roof rack  extra_Shift paddles  extra_Ski bag  extra_Sliding door  extra_Sport package  extra_Sport seats  extra_Sport suspension  extra_Touch screen  extra_Trailer hitch  extra_Tuned car  extra_Voice Control  extra_Winter tyres  \n",
       "0                                              0                                             1                        1                      1                       1                           0                           0                            1                  0                         0                         0                     0                    1                    0                        0                               1              0                            1                1                       0                     0              0                   1                        0                          1                          0                       0                0                    0              0                   0                    0                  0                       0                   0                    0                0                    1                   0  "
      ]
     },
     "execution_count": 960,
     "metadata": {},
     "output_type": "execute_result"
    }
   ],
   "source": [
    "scout.head(1)"
   ]
  },
  {
   "cell_type": "markdown",
   "metadata": {},
   "source": [
    "## scout['\\nSafety & Security\\n']"
   ]
  },
  {
   "cell_type": "code",
   "execution_count": 961,
   "metadata": {},
   "outputs": [
    {
     "ename": "TypeError",
     "evalue": "unhashable type: 'list'",
     "output_type": "error",
     "traceback": [
      "\u001b[0;31m---------------------------------------------------------------------------\u001b[0m",
      "\u001b[0;31mTypeError\u001b[0m                                 Traceback (most recent call last)",
      "\u001b[0;32mpandas/_libs/hashtable_class_helper.pxi\u001b[0m in \u001b[0;36mpandas._libs.hashtable.PyObjectHashTable.map_locations\u001b[0;34m()\u001b[0m\n",
      "\u001b[0;31mTypeError\u001b[0m: unhashable type: 'list'"
     ]
    },
    {
     "name": "stderr",
     "output_type": "stream",
     "text": [
      "Exception ignored in: 'pandas._libs.index.IndexEngine._call_map_locations'\n",
      "Traceback (most recent call last):\n",
      "  File \"pandas/_libs/hashtable_class_helper.pxi\", line 1652, in pandas._libs.hashtable.PyObjectHashTable.map_locations\n",
      "TypeError: unhashable type: 'list'\n"
     ]
    },
    {
     "data": {
      "text/plain": [
       "NaN                                                                                                                                                                                                                                                                                                                                                                                        982\n",
       "[ABS, Central door lock, Daytime running lights, Driver-side airbag, Electronic stability control, Fog lights, Immobilizer, Isofix, Passenger-side airbag, Power steering, Side airbag, Tire pressure monitoring system, Traction control]                                                                                                                                                 538\n",
       "[ABS, Central door lock, Daytime running lights, Driver-side airbag, Electronic stability control, Immobilizer, Isofix, Passenger-side airbag, Power steering, Side airbag, Tire pressure monitoring system, Traction control]                                                                                                                                                             480\n",
       "[ABS, Central door lock, Daytime running lights, Driver-side airbag, Electronic stability control, Immobilizer, Isofix, Passenger-side airbag, Power steering, Side airbag, Tire pressure monitoring system, Traction control, Xenon headlights]                                                                                                                                           275\n",
       "[ABS, Central door lock, Daytime running lights, Driver-side airbag, Electronic stability control, Fog lights, Immobilizer, Isofix, LED Daytime Running Lights, Passenger-side airbag, Power steering, Side airbag, Tire pressure monitoring system, Traction control]                                                                                                                     272\n",
       "                                                                                                                                                                                                                                                                                                                                                                                          ... \n",
       "[ABS, Adaptive Cruise Control, Central door lock, Driver-side airbag, Electronic stability control, Emergency brake assistant, Isofix, Lane departure warning system, Passenger-side airbag, Side airbag, Tire pressure monitoring system, Traction control]                                                                                                                                 1\n",
       "[ABS, Adaptive headlights, Central door lock, Daytime running lights, Driver-side airbag, Electronic stability control, Emergency brake assistant, Fog lights, Immobilizer, Isofix, Lane departure warning system, LED Daytime Running Lights, LED Headlights, Passenger-side airbag, Power steering, Side airbag, Tire pressure monitoring system]                                          1\n",
       "[ABS, Alarm system, Central door lock, Driver drowsiness detection, Driver-side airbag, Electronic stability control, Isofix, LED Daytime Running Lights, Passenger-side airbag, Power steering, Side airbag, Tire pressure monitoring system, Traction control, Xenon headlights]                                                                                                           1\n",
       "[ABS, Central door lock, Central door lock with remote control, Daytime running lights, Driver-side airbag, Electronic stability control, Emergency brake assistant, Emergency system, Fog lights, Head airbag, Immobilizer, Isofix, Lane departure warning system, Passenger-side airbag, Power steering, Rear airbag, Side airbag, Tire pressure monitoring system, Traction control]      1\n",
       "[ABS, Central door lock with remote control, Daytime running lights, Driver drowsiness detection, Driver-side airbag, Electronic stability control, Emergency brake assistant, Emergency system, Head airbag, Immobilizer, Isofix, LED Daytime Running Lights, Passenger-side airbag, Power steering, Side airbag, Tire pressure monitoring system, Traction control]                        1\n",
       "Name: \\nSafety & Security\\n, Length: 4444, dtype: int64"
      ]
     },
     "execution_count": 961,
     "metadata": {},
     "output_type": "execute_result"
    }
   ],
   "source": [
    "scout['\\nSafety & Security\\n'].value_counts(dropna = False)"
   ]
  },
  {
   "cell_type": "code",
   "execution_count": 962,
   "metadata": {},
   "outputs": [],
   "source": [
    "safe_str_lst = [','.join(i).strip() if isinstance(i, list) else i for i in scout['\\nSafety & Security\\n']]"
   ]
  },
  {
   "cell_type": "code",
   "execution_count": 963,
   "metadata": {},
   "outputs": [],
   "source": [
    "scout['safety_security'] = pd.Series(safe_str_lst)"
   ]
  },
  {
   "cell_type": "code",
   "execution_count": 964,
   "metadata": {},
   "outputs": [
    {
     "data": {
      "text/plain": [
       "NaN                                                                                                                                                                                                                                                                                                                                                                                                                                                                                                        982\n",
       "ABS,Central door lock,Daytime running lights,Driver-side airbag,Electronic stability control,Fog lights,Immobilizer,Isofix,Passenger-side airbag,Power steering,Side airbag,Tire pressure monitoring system,Traction control                                                                                                                                                                                                                                                                               538\n",
       "ABS,Central door lock,Daytime running lights,Driver-side airbag,Electronic stability control,Immobilizer,Isofix,Passenger-side airbag,Power steering,Side airbag,Tire pressure monitoring system,Traction control                                                                                                                                                                                                                                                                                          480\n",
       "ABS,Central door lock,Daytime running lights,Driver-side airbag,Electronic stability control,Immobilizer,Isofix,Passenger-side airbag,Power steering,Side airbag,Tire pressure monitoring system,Traction control,Xenon headlights                                                                                                                                                                                                                                                                         275\n",
       "ABS,Central door lock,Daytime running lights,Driver-side airbag,Electronic stability control,Fog lights,Immobilizer,Isofix,LED Daytime Running Lights,Passenger-side airbag,Power steering,Side airbag,Tire pressure monitoring system,Traction control                                                                                                                                                                                                                                                    272\n",
       "                                                                                                                                                                                                                                                                                                                                                                                                                                                                                                          ... \n",
       "ABS,Central door lock,Central door lock with remote control,Driver-side airbag,Electronic stability control,Emergency brake assistant,Fog lights,Immobilizer,Isofix,LED Daytime Running Lights,Passenger-side airbag,Power steering,Side airbag,Traction control                                                                                                                                                                                                                                             1\n",
       "ABS,Adaptive headlights,Alarm system,Blind spot monitor,Central door lock,Daytime running lights,Driver-side airbag,Electronic stability control,Emergency brake assistant,Fog lights,Isofix,Lane departure warning system,LED Daytime Running Lights,LED Headlights,Passenger-side airbag,Power steering,Side airbag,Tire pressure monitoring system,Traffic sign recognition                                                                                                                               1\n",
       "ABS,Adaptive Cruise Control,Adaptive headlights,Blind spot monitor,Central door lock,Central door lock with remote control,Daytime running lights,Driver drowsiness detection,Driver-side airbag,Electronic stability control,Emergency system,Fog lights,Head airbag,Immobilizer,Isofix,Lane departure warning system,LED Daytime Running Lights,LED Headlights,Passenger-side airbag,Power steering,Rear airbag,Side airbag,Tire pressure monitoring system,Traction control,Traffic sign recognition      1\n",
       "ABS,Adaptive headlights,Central door lock,Daytime running lights,Driver-side airbag,Emergency brake assistant,Fog lights,Isofix,LED Daytime Running Lights,LED Headlights,Passenger-side airbag,Power steering,Side airbag,Traction control                                                                                                                                                                                                                                                                  1\n",
       "ABS,Central door lock,Driver-side airbag,Isofix,Passenger-side airbag,Power steering,Side airbag,Tire pressure monitoring system                                                                                                                                                                                                                                                                                                                                                                             1\n",
       "Name: safety_security, Length: 4444, dtype: int64"
      ]
     },
     "execution_count": 964,
     "metadata": {},
     "output_type": "execute_result"
    }
   ],
   "source": [
    "scout.safety_security.value_counts(dropna = False)"
   ]
  },
  {
   "cell_type": "code",
   "execution_count": 965,
   "metadata": {},
   "outputs": [],
   "source": [
    "nulls_back = [np.nan if scout.safety_security.iloc[i] == '' else scout.safety_security.iloc[i] for i in range(len(scout.safety_security))]"
   ]
  },
  {
   "cell_type": "code",
   "execution_count": 966,
   "metadata": {},
   "outputs": [],
   "source": [
    "scout.safety_security = pd.Series(nulls_back)"
   ]
  },
  {
   "cell_type": "code",
   "execution_count": 967,
   "metadata": {},
   "outputs": [
    {
     "data": {
      "text/plain": [
       "NaN                                                                                                                                                                                                                                                                                                                                                                                                                                                                                                        982\n",
       "ABS,Central door lock,Daytime running lights,Driver-side airbag,Electronic stability control,Fog lights,Immobilizer,Isofix,Passenger-side airbag,Power steering,Side airbag,Tire pressure monitoring system,Traction control                                                                                                                                                                                                                                                                               538\n",
       "ABS,Central door lock,Daytime running lights,Driver-side airbag,Electronic stability control,Immobilizer,Isofix,Passenger-side airbag,Power steering,Side airbag,Tire pressure monitoring system,Traction control                                                                                                                                                                                                                                                                                          480\n",
       "ABS,Central door lock,Daytime running lights,Driver-side airbag,Electronic stability control,Immobilizer,Isofix,Passenger-side airbag,Power steering,Side airbag,Tire pressure monitoring system,Traction control,Xenon headlights                                                                                                                                                                                                                                                                         275\n",
       "ABS,Central door lock,Daytime running lights,Driver-side airbag,Electronic stability control,Fog lights,Immobilizer,Isofix,LED Daytime Running Lights,Passenger-side airbag,Power steering,Side airbag,Tire pressure monitoring system,Traction control                                                                                                                                                                                                                                                    272\n",
       "                                                                                                                                                                                                                                                                                                                                                                                                                                                                                                          ... \n",
       "ABS,Central door lock,Central door lock with remote control,Driver-side airbag,Electronic stability control,Emergency brake assistant,Fog lights,Immobilizer,Isofix,LED Daytime Running Lights,Passenger-side airbag,Power steering,Side airbag,Traction control                                                                                                                                                                                                                                             1\n",
       "ABS,Adaptive headlights,Alarm system,Blind spot monitor,Central door lock,Daytime running lights,Driver-side airbag,Electronic stability control,Emergency brake assistant,Fog lights,Isofix,Lane departure warning system,LED Daytime Running Lights,LED Headlights,Passenger-side airbag,Power steering,Side airbag,Tire pressure monitoring system,Traffic sign recognition                                                                                                                               1\n",
       "ABS,Adaptive Cruise Control,Adaptive headlights,Blind spot monitor,Central door lock,Central door lock with remote control,Daytime running lights,Driver drowsiness detection,Driver-side airbag,Electronic stability control,Emergency system,Fog lights,Head airbag,Immobilizer,Isofix,Lane departure warning system,LED Daytime Running Lights,LED Headlights,Passenger-side airbag,Power steering,Rear airbag,Side airbag,Tire pressure monitoring system,Traction control,Traffic sign recognition      1\n",
       "ABS,Adaptive headlights,Central door lock,Daytime running lights,Driver-side airbag,Emergency brake assistant,Fog lights,Isofix,LED Daytime Running Lights,LED Headlights,Passenger-side airbag,Power steering,Side airbag,Traction control                                                                                                                                                                                                                                                                  1\n",
       "ABS,Central door lock,Driver-side airbag,Isofix,Passenger-side airbag,Power steering,Side airbag,Tire pressure monitoring system                                                                                                                                                                                                                                                                                                                                                                             1\n",
       "Name: safety_security, Length: 4444, dtype: int64"
      ]
     },
     "execution_count": 967,
     "metadata": {},
     "output_type": "execute_result"
    }
   ],
   "source": [
    "scout.safety_security.value_counts(dropna = False)"
   ]
  },
  {
   "cell_type": "code",
   "execution_count": 968,
   "metadata": {},
   "outputs": [],
   "source": [
    "fillna_group_by(scout, 'make_model', 'safety_security', 'mode')"
   ]
  },
  {
   "cell_type": "code",
   "execution_count": 969,
   "metadata": {},
   "outputs": [
    {
     "data": {
      "text/plain": [
       "0"
      ]
     },
     "execution_count": 969,
     "metadata": {},
     "output_type": "execute_result"
    }
   ],
   "source": [
    "scout.safety_security.isnull().sum()"
   ]
  },
  {
   "cell_type": "code",
   "execution_count": 970,
   "metadata": {},
   "outputs": [
    {
     "data": {
      "text/html": [
       "<div>\n",
       "<style scoped>\n",
       "    .dataframe tbody tr th:only-of-type {\n",
       "        vertical-align: middle;\n",
       "    }\n",
       "\n",
       "    .dataframe tbody tr th {\n",
       "        vertical-align: top;\n",
       "    }\n",
       "\n",
       "    .dataframe thead th {\n",
       "        text-align: right;\n",
       "    }\n",
       "</style>\n",
       "<table border=\"1\" class=\"dataframe\">\n",
       "  <thead>\n",
       "    <tr style=\"text-align: right;\">\n",
       "      <th></th>\n",
       "      <th>ABS</th>\n",
       "      <th>Adaptive Cruise Control</th>\n",
       "      <th>Adaptive headlights</th>\n",
       "      <th>Alarm system</th>\n",
       "      <th>Blind spot monitor</th>\n",
       "      <th>Central door lock</th>\n",
       "      <th>Central door lock with remote control</th>\n",
       "      <th>Daytime running lights</th>\n",
       "      <th>Driver drowsiness detection</th>\n",
       "      <th>Driver-side airbag</th>\n",
       "      <th>Electronic stability control</th>\n",
       "      <th>Emergency brake assistant</th>\n",
       "      <th>Emergency system</th>\n",
       "      <th>Fog lights</th>\n",
       "      <th>Head airbag</th>\n",
       "      <th>Immobilizer</th>\n",
       "      <th>Isofix</th>\n",
       "      <th>LED Daytime Running Lights</th>\n",
       "      <th>LED Headlights</th>\n",
       "      <th>Lane departure warning system</th>\n",
       "      <th>Night view assist</th>\n",
       "      <th>Passenger-side airbag</th>\n",
       "      <th>Power steering</th>\n",
       "      <th>Rear airbag</th>\n",
       "      <th>Side airbag</th>\n",
       "      <th>Tire pressure monitoring system</th>\n",
       "      <th>Traction control</th>\n",
       "      <th>Traffic sign recognition</th>\n",
       "      <th>Xenon headlights</th>\n",
       "    </tr>\n",
       "  </thead>\n",
       "  <tbody>\n",
       "    <tr>\n",
       "      <th>0</th>\n",
       "      <td>1</td>\n",
       "      <td>0</td>\n",
       "      <td>0</td>\n",
       "      <td>0</td>\n",
       "      <td>0</td>\n",
       "      <td>1</td>\n",
       "      <td>0</td>\n",
       "      <td>1</td>\n",
       "      <td>0</td>\n",
       "      <td>1</td>\n",
       "      <td>1</td>\n",
       "      <td>0</td>\n",
       "      <td>0</td>\n",
       "      <td>1</td>\n",
       "      <td>0</td>\n",
       "      <td>1</td>\n",
       "      <td>1</td>\n",
       "      <td>0</td>\n",
       "      <td>0</td>\n",
       "      <td>0</td>\n",
       "      <td>0</td>\n",
       "      <td>1</td>\n",
       "      <td>1</td>\n",
       "      <td>0</td>\n",
       "      <td>1</td>\n",
       "      <td>1</td>\n",
       "      <td>1</td>\n",
       "      <td>0</td>\n",
       "      <td>1</td>\n",
       "    </tr>\n",
       "    <tr>\n",
       "      <th>1</th>\n",
       "      <td>1</td>\n",
       "      <td>0</td>\n",
       "      <td>0</td>\n",
       "      <td>0</td>\n",
       "      <td>0</td>\n",
       "      <td>1</td>\n",
       "      <td>1</td>\n",
       "      <td>1</td>\n",
       "      <td>0</td>\n",
       "      <td>1</td>\n",
       "      <td>1</td>\n",
       "      <td>0</td>\n",
       "      <td>0</td>\n",
       "      <td>0</td>\n",
       "      <td>1</td>\n",
       "      <td>1</td>\n",
       "      <td>1</td>\n",
       "      <td>0</td>\n",
       "      <td>0</td>\n",
       "      <td>0</td>\n",
       "      <td>0</td>\n",
       "      <td>1</td>\n",
       "      <td>1</td>\n",
       "      <td>0</td>\n",
       "      <td>1</td>\n",
       "      <td>1</td>\n",
       "      <td>1</td>\n",
       "      <td>0</td>\n",
       "      <td>1</td>\n",
       "    </tr>\n",
       "    <tr>\n",
       "      <th>2</th>\n",
       "      <td>1</td>\n",
       "      <td>0</td>\n",
       "      <td>0</td>\n",
       "      <td>0</td>\n",
       "      <td>0</td>\n",
       "      <td>1</td>\n",
       "      <td>0</td>\n",
       "      <td>1</td>\n",
       "      <td>0</td>\n",
       "      <td>1</td>\n",
       "      <td>1</td>\n",
       "      <td>0</td>\n",
       "      <td>0</td>\n",
       "      <td>0</td>\n",
       "      <td>0</td>\n",
       "      <td>1</td>\n",
       "      <td>1</td>\n",
       "      <td>0</td>\n",
       "      <td>0</td>\n",
       "      <td>0</td>\n",
       "      <td>0</td>\n",
       "      <td>1</td>\n",
       "      <td>1</td>\n",
       "      <td>0</td>\n",
       "      <td>1</td>\n",
       "      <td>1</td>\n",
       "      <td>1</td>\n",
       "      <td>0</td>\n",
       "      <td>0</td>\n",
       "    </tr>\n",
       "    <tr>\n",
       "      <th>3</th>\n",
       "      <td>1</td>\n",
       "      <td>0</td>\n",
       "      <td>0</td>\n",
       "      <td>1</td>\n",
       "      <td>0</td>\n",
       "      <td>0</td>\n",
       "      <td>1</td>\n",
       "      <td>0</td>\n",
       "      <td>1</td>\n",
       "      <td>1</td>\n",
       "      <td>1</td>\n",
       "      <td>0</td>\n",
       "      <td>1</td>\n",
       "      <td>0</td>\n",
       "      <td>1</td>\n",
       "      <td>1</td>\n",
       "      <td>1</td>\n",
       "      <td>0</td>\n",
       "      <td>0</td>\n",
       "      <td>0</td>\n",
       "      <td>0</td>\n",
       "      <td>1</td>\n",
       "      <td>1</td>\n",
       "      <td>0</td>\n",
       "      <td>1</td>\n",
       "      <td>1</td>\n",
       "      <td>0</td>\n",
       "      <td>0</td>\n",
       "      <td>0</td>\n",
       "    </tr>\n",
       "    <tr>\n",
       "      <th>4</th>\n",
       "      <td>1</td>\n",
       "      <td>0</td>\n",
       "      <td>0</td>\n",
       "      <td>0</td>\n",
       "      <td>0</td>\n",
       "      <td>1</td>\n",
       "      <td>0</td>\n",
       "      <td>0</td>\n",
       "      <td>0</td>\n",
       "      <td>1</td>\n",
       "      <td>1</td>\n",
       "      <td>0</td>\n",
       "      <td>0</td>\n",
       "      <td>1</td>\n",
       "      <td>0</td>\n",
       "      <td>1</td>\n",
       "      <td>1</td>\n",
       "      <td>0</td>\n",
       "      <td>0</td>\n",
       "      <td>0</td>\n",
       "      <td>0</td>\n",
       "      <td>1</td>\n",
       "      <td>1</td>\n",
       "      <td>0</td>\n",
       "      <td>1</td>\n",
       "      <td>1</td>\n",
       "      <td>1</td>\n",
       "      <td>0</td>\n",
       "      <td>1</td>\n",
       "    </tr>\n",
       "    <tr>\n",
       "      <th>...</th>\n",
       "      <td>...</td>\n",
       "      <td>...</td>\n",
       "      <td>...</td>\n",
       "      <td>...</td>\n",
       "      <td>...</td>\n",
       "      <td>...</td>\n",
       "      <td>...</td>\n",
       "      <td>...</td>\n",
       "      <td>...</td>\n",
       "      <td>...</td>\n",
       "      <td>...</td>\n",
       "      <td>...</td>\n",
       "      <td>...</td>\n",
       "      <td>...</td>\n",
       "      <td>...</td>\n",
       "      <td>...</td>\n",
       "      <td>...</td>\n",
       "      <td>...</td>\n",
       "      <td>...</td>\n",
       "      <td>...</td>\n",
       "      <td>...</td>\n",
       "      <td>...</td>\n",
       "      <td>...</td>\n",
       "      <td>...</td>\n",
       "      <td>...</td>\n",
       "      <td>...</td>\n",
       "      <td>...</td>\n",
       "      <td>...</td>\n",
       "      <td>...</td>\n",
       "    </tr>\n",
       "    <tr>\n",
       "      <th>15914</th>\n",
       "      <td>1</td>\n",
       "      <td>0</td>\n",
       "      <td>0</td>\n",
       "      <td>0</td>\n",
       "      <td>0</td>\n",
       "      <td>1</td>\n",
       "      <td>1</td>\n",
       "      <td>0</td>\n",
       "      <td>0</td>\n",
       "      <td>1</td>\n",
       "      <td>1</td>\n",
       "      <td>1</td>\n",
       "      <td>0</td>\n",
       "      <td>0</td>\n",
       "      <td>1</td>\n",
       "      <td>1</td>\n",
       "      <td>1</td>\n",
       "      <td>1</td>\n",
       "      <td>1</td>\n",
       "      <td>1</td>\n",
       "      <td>0</td>\n",
       "      <td>1</td>\n",
       "      <td>1</td>\n",
       "      <td>1</td>\n",
       "      <td>1</td>\n",
       "      <td>1</td>\n",
       "      <td>1</td>\n",
       "      <td>1</td>\n",
       "      <td>0</td>\n",
       "    </tr>\n",
       "    <tr>\n",
       "      <th>15915</th>\n",
       "      <td>1</td>\n",
       "      <td>1</td>\n",
       "      <td>0</td>\n",
       "      <td>0</td>\n",
       "      <td>1</td>\n",
       "      <td>1</td>\n",
       "      <td>0</td>\n",
       "      <td>1</td>\n",
       "      <td>0</td>\n",
       "      <td>1</td>\n",
       "      <td>1</td>\n",
       "      <td>1</td>\n",
       "      <td>0</td>\n",
       "      <td>0</td>\n",
       "      <td>0</td>\n",
       "      <td>1</td>\n",
       "      <td>1</td>\n",
       "      <td>1</td>\n",
       "      <td>1</td>\n",
       "      <td>1</td>\n",
       "      <td>0</td>\n",
       "      <td>1</td>\n",
       "      <td>1</td>\n",
       "      <td>0</td>\n",
       "      <td>1</td>\n",
       "      <td>1</td>\n",
       "      <td>1</td>\n",
       "      <td>1</td>\n",
       "      <td>0</td>\n",
       "    </tr>\n",
       "    <tr>\n",
       "      <th>15916</th>\n",
       "      <td>1</td>\n",
       "      <td>1</td>\n",
       "      <td>0</td>\n",
       "      <td>0</td>\n",
       "      <td>1</td>\n",
       "      <td>1</td>\n",
       "      <td>0</td>\n",
       "      <td>1</td>\n",
       "      <td>0</td>\n",
       "      <td>1</td>\n",
       "      <td>1</td>\n",
       "      <td>1</td>\n",
       "      <td>0</td>\n",
       "      <td>0</td>\n",
       "      <td>0</td>\n",
       "      <td>1</td>\n",
       "      <td>1</td>\n",
       "      <td>1</td>\n",
       "      <td>1</td>\n",
       "      <td>1</td>\n",
       "      <td>0</td>\n",
       "      <td>1</td>\n",
       "      <td>1</td>\n",
       "      <td>0</td>\n",
       "      <td>1</td>\n",
       "      <td>0</td>\n",
       "      <td>1</td>\n",
       "      <td>1</td>\n",
       "      <td>0</td>\n",
       "    </tr>\n",
       "    <tr>\n",
       "      <th>15917</th>\n",
       "      <td>1</td>\n",
       "      <td>0</td>\n",
       "      <td>0</td>\n",
       "      <td>0</td>\n",
       "      <td>1</td>\n",
       "      <td>0</td>\n",
       "      <td>0</td>\n",
       "      <td>0</td>\n",
       "      <td>0</td>\n",
       "      <td>1</td>\n",
       "      <td>1</td>\n",
       "      <td>1</td>\n",
       "      <td>0</td>\n",
       "      <td>0</td>\n",
       "      <td>0</td>\n",
       "      <td>0</td>\n",
       "      <td>1</td>\n",
       "      <td>0</td>\n",
       "      <td>1</td>\n",
       "      <td>0</td>\n",
       "      <td>0</td>\n",
       "      <td>1</td>\n",
       "      <td>1</td>\n",
       "      <td>0</td>\n",
       "      <td>1</td>\n",
       "      <td>1</td>\n",
       "      <td>0</td>\n",
       "      <td>1</td>\n",
       "      <td>0</td>\n",
       "    </tr>\n",
       "    <tr>\n",
       "      <th>15918</th>\n",
       "      <td>1</td>\n",
       "      <td>0</td>\n",
       "      <td>0</td>\n",
       "      <td>0</td>\n",
       "      <td>1</td>\n",
       "      <td>0</td>\n",
       "      <td>0</td>\n",
       "      <td>1</td>\n",
       "      <td>0</td>\n",
       "      <td>1</td>\n",
       "      <td>1</td>\n",
       "      <td>1</td>\n",
       "      <td>0</td>\n",
       "      <td>0</td>\n",
       "      <td>0</td>\n",
       "      <td>1</td>\n",
       "      <td>1</td>\n",
       "      <td>1</td>\n",
       "      <td>0</td>\n",
       "      <td>0</td>\n",
       "      <td>0</td>\n",
       "      <td>1</td>\n",
       "      <td>1</td>\n",
       "      <td>0</td>\n",
       "      <td>1</td>\n",
       "      <td>1</td>\n",
       "      <td>0</td>\n",
       "      <td>1</td>\n",
       "      <td>0</td>\n",
       "    </tr>\n",
       "  </tbody>\n",
       "</table>\n",
       "<p>15919 rows × 29 columns</p>\n",
       "</div>"
      ],
      "text/plain": [
       "       ABS  Adaptive Cruise Control  Adaptive headlights  Alarm system  Blind spot monitor  Central door lock  Central door lock with remote control  Daytime running lights  Driver drowsiness detection  Driver-side airbag  Electronic stability control  Emergency brake assistant  Emergency system  Fog lights  Head airbag  Immobilizer  Isofix  LED Daytime Running Lights  LED Headlights  Lane departure warning system  Night view assist  Passenger-side airbag  Power steering  Rear airbag  Side airbag  Tire pressure monitoring system  Traction control  Traffic sign recognition  Xenon headlights\n",
       "0        1                        0                    0             0                   0                  1                                      0                       1                            0                   1                             1                          0                 0           1            0            1       1                           0               0                              0                  0                      1               1            0            1                                1                 1                         0                 1\n",
       "1        1                        0                    0             0                   0                  1                                      1                       1                            0                   1                             1                          0                 0           0            1            1       1                           0               0                              0                  0                      1               1            0            1                                1                 1                         0                 1\n",
       "2        1                        0                    0             0                   0                  1                                      0                       1                            0                   1                             1                          0                 0           0            0            1       1                           0               0                              0                  0                      1               1            0            1                                1                 1                         0                 0\n",
       "3        1                        0                    0             1                   0                  0                                      1                       0                            1                   1                             1                          0                 1           0            1            1       1                           0               0                              0                  0                      1               1            0            1                                1                 0                         0                 0\n",
       "4        1                        0                    0             0                   0                  1                                      0                       0                            0                   1                             1                          0                 0           1            0            1       1                           0               0                              0                  0                      1               1            0            1                                1                 1                         0                 1\n",
       "...    ...                      ...                  ...           ...                 ...                ...                                    ...                     ...                          ...                 ...                           ...                        ...               ...         ...          ...          ...     ...                         ...             ...                            ...                ...                    ...             ...          ...          ...                              ...               ...                       ...               ...\n",
       "15914    1                        0                    0             0                   0                  1                                      1                       0                            0                   1                             1                          1                 0           0            1            1       1                           1               1                              1                  0                      1               1            1            1                                1                 1                         1                 0\n",
       "15915    1                        1                    0             0                   1                  1                                      0                       1                            0                   1                             1                          1                 0           0            0            1       1                           1               1                              1                  0                      1               1            0            1                                1                 1                         1                 0\n",
       "15916    1                        1                    0             0                   1                  1                                      0                       1                            0                   1                             1                          1                 0           0            0            1       1                           1               1                              1                  0                      1               1            0            1                                0                 1                         1                 0\n",
       "15917    1                        0                    0             0                   1                  0                                      0                       0                            0                   1                             1                          1                 0           0            0            0       1                           0               1                              0                  0                      1               1            0            1                                1                 0                         1                 0\n",
       "15918    1                        0                    0             0                   1                  0                                      0                       1                            0                   1                             1                          1                 0           0            0            1       1                           1               0                              0                  0                      1               1            0            1                                1                 0                         1                 0\n",
       "\n",
       "[15919 rows x 29 columns]"
      ]
     },
     "execution_count": 970,
     "metadata": {},
     "output_type": "execute_result"
    }
   ],
   "source": [
    "scout.safety_security.str.get_dummies(sep = ',')"
   ]
  },
  {
   "cell_type": "code",
   "execution_count": 971,
   "metadata": {},
   "outputs": [],
   "source": [
    "scout = scout.join(scout.safety_security.str.get_dummies(sep = ',').add_prefix('safety_'))"
   ]
  },
  {
   "cell_type": "code",
   "execution_count": 972,
   "metadata": {},
   "outputs": [],
   "source": [
    "scout.drop(columns = ['\\nSafety & Security\\n', 'safety_security'], inplace = True)"
   ]
  },
  {
   "cell_type": "code",
   "execution_count": 973,
   "metadata": {},
   "outputs": [
    {
     "data": {
      "text/html": [
       "<div>\n",
       "<style scoped>\n",
       "    .dataframe tbody tr th:only-of-type {\n",
       "        vertical-align: middle;\n",
       "    }\n",
       "\n",
       "    .dataframe tbody tr th {\n",
       "        vertical-align: top;\n",
       "    }\n",
       "\n",
       "    .dataframe thead th {\n",
       "        text-align: right;\n",
       "    }\n",
       "</style>\n",
       "<table border=\"1\" class=\"dataframe\">\n",
       "  <thead>\n",
       "    <tr style=\"text-align: right;\">\n",
       "      <th></th>\n",
       "      <th>make_model</th>\n",
       "      <th>body_type</th>\n",
       "      <th>price</th>\n",
       "      <th>vat</th>\n",
       "      <th>km</th>\n",
       "      <th>registration</th>\n",
       "      <th>hp</th>\n",
       "      <th>Type</th>\n",
       "      <th>Make</th>\n",
       "      <th>Model</th>\n",
       "      <th>Upholstery</th>\n",
       "      <th>Body</th>\n",
       "      <th>Displacement</th>\n",
       "      <th>Cylinders</th>\n",
       "      <th>description</th>\n",
       "      <th>Gears</th>\n",
       "      <th>Paint_Type</th>\n",
       "      <th>Previous_Owners</th>\n",
       "      <th>drive_chain</th>\n",
       "      <th>country</th>\n",
       "      <th>emission_label</th>\n",
       "      <th>inspection_new</th>\n",
       "      <th>next_inspection</th>\n",
       "      <th>body_color</th>\n",
       "      <th>door_number</th>\n",
       "      <th>seat_number</th>\n",
       "      <th>gear_type</th>\n",
       "      <th>fuel_new</th>\n",
       "      <th>consumption_comb</th>\n",
       "      <th>consumption_city</th>\n",
       "      <th>consumption_country</th>\n",
       "      <th>first_registration</th>\n",
       "      <th>CO2_Emission</th>\n",
       "      <th>emission_class</th>\n",
       "      <th>conf_conv_Air conditioning</th>\n",
       "      <th>conf_conv_Air suspension</th>\n",
       "      <th>conf_conv_Armrest</th>\n",
       "      <th>conf_conv_Automatic climate control</th>\n",
       "      <th>conf_conv_Auxiliary heating</th>\n",
       "      <th>conf_conv_Cruise control</th>\n",
       "      <th>conf_conv_Electric Starter</th>\n",
       "      <th>conf_conv_Electric tailgate</th>\n",
       "      <th>conf_conv_Electrical side mirrors</th>\n",
       "      <th>conf_conv_Electrically adjustable seats</th>\n",
       "      <th>conf_conv_Electrically heated windshield</th>\n",
       "      <th>conf_conv_Heads-up display</th>\n",
       "      <th>conf_conv_Heated steering wheel</th>\n",
       "      <th>conf_conv_Hill Holder</th>\n",
       "      <th>conf_conv_Keyless central door lock</th>\n",
       "      <th>conf_conv_Leather seats</th>\n",
       "      <th>conf_conv_Leather steering wheel</th>\n",
       "      <th>conf_conv_Light sensor</th>\n",
       "      <th>conf_conv_Lumbar support</th>\n",
       "      <th>conf_conv_Massage seats</th>\n",
       "      <th>conf_conv_Multi-function steering wheel</th>\n",
       "      <th>conf_conv_Navigation system</th>\n",
       "      <th>conf_conv_Panorama roof</th>\n",
       "      <th>conf_conv_Park Distance Control</th>\n",
       "      <th>conf_conv_Parking assist system camera</th>\n",
       "      <th>conf_conv_Parking assist system self-steering</th>\n",
       "      <th>conf_conv_Parking assist system sensors front</th>\n",
       "      <th>conf_conv_Parking assist system sensors rear</th>\n",
       "      <th>conf_conv_Power windows</th>\n",
       "      <th>conf_conv_Rain sensor</th>\n",
       "      <th>conf_conv_Seat heating</th>\n",
       "      <th>conf_conv_Seat ventilation</th>\n",
       "      <th>conf_conv_Split rear seats</th>\n",
       "      <th>conf_conv_Start-stop system</th>\n",
       "      <th>conf_conv_Sunroof</th>\n",
       "      <th>conf_conv_Tinted windows</th>\n",
       "      <th>conf_conv_Wind deflector</th>\n",
       "      <th>conf_conv_Windshield</th>\n",
       "      <th>ent_media_Bluetooth</th>\n",
       "      <th>ent_media_CD player</th>\n",
       "      <th>ent_media_Digital radio</th>\n",
       "      <th>ent_media_Hands-free equipment</th>\n",
       "      <th>ent_media_MP3</th>\n",
       "      <th>ent_media_On-board computer</th>\n",
       "      <th>ent_media_Radio</th>\n",
       "      <th>ent_media_Sound system</th>\n",
       "      <th>ent_media_Television</th>\n",
       "      <th>ent_media_USB</th>\n",
       "      <th>extra_Alloy wheels</th>\n",
       "      <th>extra_Cab or rented Car</th>\n",
       "      <th>extra_Catalytic Converter</th>\n",
       "      <th>extra_Handicapped enabled</th>\n",
       "      <th>extra_Right hand drive</th>\n",
       "      <th>extra_Roof rack</th>\n",
       "      <th>extra_Shift paddles</th>\n",
       "      <th>extra_Ski bag</th>\n",
       "      <th>extra_Sliding door</th>\n",
       "      <th>extra_Sport package</th>\n",
       "      <th>extra_Sport seats</th>\n",
       "      <th>extra_Sport suspension</th>\n",
       "      <th>extra_Touch screen</th>\n",
       "      <th>extra_Trailer hitch</th>\n",
       "      <th>extra_Tuned car</th>\n",
       "      <th>extra_Voice Control</th>\n",
       "      <th>extra_Winter tyres</th>\n",
       "      <th>safety_ABS</th>\n",
       "      <th>safety_Adaptive Cruise Control</th>\n",
       "      <th>safety_Adaptive headlights</th>\n",
       "      <th>safety_Alarm system</th>\n",
       "      <th>safety_Blind spot monitor</th>\n",
       "      <th>safety_Central door lock</th>\n",
       "      <th>safety_Central door lock with remote control</th>\n",
       "      <th>safety_Daytime running lights</th>\n",
       "      <th>safety_Driver drowsiness detection</th>\n",
       "      <th>safety_Driver-side airbag</th>\n",
       "      <th>safety_Electronic stability control</th>\n",
       "      <th>safety_Emergency brake assistant</th>\n",
       "      <th>safety_Emergency system</th>\n",
       "      <th>safety_Fog lights</th>\n",
       "      <th>safety_Head airbag</th>\n",
       "      <th>safety_Immobilizer</th>\n",
       "      <th>safety_Isofix</th>\n",
       "      <th>safety_LED Daytime Running Lights</th>\n",
       "      <th>safety_LED Headlights</th>\n",
       "      <th>safety_Lane departure warning system</th>\n",
       "      <th>safety_Night view assist</th>\n",
       "      <th>safety_Passenger-side airbag</th>\n",
       "      <th>safety_Power steering</th>\n",
       "      <th>safety_Rear airbag</th>\n",
       "      <th>safety_Side airbag</th>\n",
       "      <th>safety_Tire pressure monitoring system</th>\n",
       "      <th>safety_Traction control</th>\n",
       "      <th>safety_Traffic sign recognition</th>\n",
       "      <th>safety_Xenon headlights</th>\n",
       "    </tr>\n",
       "  </thead>\n",
       "  <tbody>\n",
       "    <tr>\n",
       "      <th>0</th>\n",
       "      <td>Audi A1</td>\n",
       "      <td>Sedans</td>\n",
       "      <td>15770</td>\n",
       "      <td>VAT deductible</td>\n",
       "      <td>56,013 km</td>\n",
       "      <td>01/2016</td>\n",
       "      <td>66 kW</td>\n",
       "      <td>Used</td>\n",
       "      <td>Audi</td>\n",
       "      <td>A1</td>\n",
       "      <td>Cloth, Black</td>\n",
       "      <td>Sedans</td>\n",
       "      <td>1422</td>\n",
       "      <td>3</td>\n",
       "      <td>[\\n, Sicherheit:,  , Deaktivierung für Beifahrer-Airbag,  , ESC mit elektronischer Quersperre,  , Tagfahrlicht,  , Reifendruck-Kontrollanzeige,  , Kopfairbag-System mit Seiten-Airbags vorn,  , Sicherheitslenksäule, Assistenzsysteme:,  , Berganfahrassistent, Komfort:,  , Scheinwerferreinigung,  , Xenon plus inklusive Scheinwerfer-Reinigungsanlage,  , Scheinwerfer-Reinigungsanlage,  , Einparkhilfe hinten,  , Licht-/Regensensor,  , Funkfernbedienung,  , Elektrische Luftzusatzheizung, Interieur:...</td>\n",
       "      <td>NaN</td>\n",
       "      <td>Metallic</td>\n",
       "      <td>2</td>\n",
       "      <td>front</td>\n",
       "      <td>NaN</td>\n",
       "      <td>NaN</td>\n",
       "      <td>1</td>\n",
       "      <td>2021-06-01</td>\n",
       "      <td>Black</td>\n",
       "      <td>5</td>\n",
       "      <td>5</td>\n",
       "      <td>Automatic</td>\n",
       "      <td>Diesel</td>\n",
       "      <td>3.8</td>\n",
       "      <td>3.8</td>\n",
       "      <td>3.8</td>\n",
       "      <td>2016</td>\n",
       "      <td>99</td>\n",
       "      <td>Euro 6</td>\n",
       "      <td>1</td>\n",
       "      <td>0</td>\n",
       "      <td>1</td>\n",
       "      <td>1</td>\n",
       "      <td>0</td>\n",
       "      <td>1</td>\n",
       "      <td>0</td>\n",
       "      <td>0</td>\n",
       "      <td>1</td>\n",
       "      <td>0</td>\n",
       "      <td>0</td>\n",
       "      <td>0</td>\n",
       "      <td>0</td>\n",
       "      <td>1</td>\n",
       "      <td>0</td>\n",
       "      <td>0</td>\n",
       "      <td>1</td>\n",
       "      <td>1</td>\n",
       "      <td>0</td>\n",
       "      <td>0</td>\n",
       "      <td>1</td>\n",
       "      <td>1</td>\n",
       "      <td>0</td>\n",
       "      <td>1</td>\n",
       "      <td>0</td>\n",
       "      <td>0</td>\n",
       "      <td>0</td>\n",
       "      <td>1</td>\n",
       "      <td>1</td>\n",
       "      <td>1</td>\n",
       "      <td>1</td>\n",
       "      <td>0</td>\n",
       "      <td>0</td>\n",
       "      <td>1</td>\n",
       "      <td>0</td>\n",
       "      <td>0</td>\n",
       "      <td>0</td>\n",
       "      <td>0</td>\n",
       "      <td>1</td>\n",
       "      <td>0</td>\n",
       "      <td>0</td>\n",
       "      <td>1</td>\n",
       "      <td>0</td>\n",
       "      <td>1</td>\n",
       "      <td>1</td>\n",
       "      <td>0</td>\n",
       "      <td>0</td>\n",
       "      <td>0</td>\n",
       "      <td>1</td>\n",
       "      <td>0</td>\n",
       "      <td>1</td>\n",
       "      <td>0</td>\n",
       "      <td>0</td>\n",
       "      <td>0</td>\n",
       "      <td>0</td>\n",
       "      <td>0</td>\n",
       "      <td>0</td>\n",
       "      <td>0</td>\n",
       "      <td>0</td>\n",
       "      <td>0</td>\n",
       "      <td>0</td>\n",
       "      <td>0</td>\n",
       "      <td>0</td>\n",
       "      <td>1</td>\n",
       "      <td>0</td>\n",
       "      <td>1</td>\n",
       "      <td>0</td>\n",
       "      <td>0</td>\n",
       "      <td>0</td>\n",
       "      <td>0</td>\n",
       "      <td>1</td>\n",
       "      <td>0</td>\n",
       "      <td>1</td>\n",
       "      <td>0</td>\n",
       "      <td>1</td>\n",
       "      <td>1</td>\n",
       "      <td>0</td>\n",
       "      <td>0</td>\n",
       "      <td>1</td>\n",
       "      <td>0</td>\n",
       "      <td>1</td>\n",
       "      <td>1</td>\n",
       "      <td>0</td>\n",
       "      <td>0</td>\n",
       "      <td>0</td>\n",
       "      <td>0</td>\n",
       "      <td>1</td>\n",
       "      <td>1</td>\n",
       "      <td>0</td>\n",
       "      <td>1</td>\n",
       "      <td>1</td>\n",
       "      <td>1</td>\n",
       "      <td>0</td>\n",
       "      <td>1</td>\n",
       "    </tr>\n",
       "  </tbody>\n",
       "</table>\n",
       "</div>"
      ],
      "text/plain": [
       "  make_model body_type  price             vat         km registration     hp  Type  Make Model    Upholstery    Body Displacement Cylinders                                                                                                                                                                                                                                                                                                                                                                                                                                                                                                          description Gears Paint_Type Previous_Owners drive_chain country emission_label  inspection_new next_inspection body_color door_number seat_number  gear_type fuel_new consumption_comb consumption_city consumption_country first_registration CO2_Emission emission_class  conf_conv_Air conditioning  conf_conv_Air suspension  conf_conv_Armrest  conf_conv_Automatic climate control  conf_conv_Auxiliary heating  conf_conv_Cruise control  conf_conv_Electric Starter  conf_conv_Electric tailgate  conf_conv_Electrical side mirrors  conf_conv_Electrically adjustable seats  conf_conv_Electrically heated windshield  conf_conv_Heads-up display  conf_conv_Heated steering wheel  conf_conv_Hill Holder  conf_conv_Keyless central door lock  conf_conv_Leather seats  conf_conv_Leather steering wheel  conf_conv_Light sensor  conf_conv_Lumbar support  conf_conv_Massage seats  conf_conv_Multi-function steering wheel  conf_conv_Navigation system  conf_conv_Panorama roof  conf_conv_Park Distance Control  conf_conv_Parking assist system camera  conf_conv_Parking assist system self-steering  conf_conv_Parking assist system sensors front  conf_conv_Parking assist system sensors rear  conf_conv_Power windows  conf_conv_Rain sensor  conf_conv_Seat heating  conf_conv_Seat ventilation  conf_conv_Split rear seats  conf_conv_Start-stop system  conf_conv_Sunroof  \\\n",
       "0    Audi A1    Sedans  15770  VAT deductible  56,013 km      01/2016  66 kW  Used  Audi    A1  Cloth, Black  Sedans         1422         3  [\\n, Sicherheit:,  , Deaktivierung für Beifahrer-Airbag,  , ESC mit elektronischer Quersperre,  , Tagfahrlicht,  , Reifendruck-Kontrollanzeige,  , Kopfairbag-System mit Seiten-Airbags vorn,  , Sicherheitslenksäule, Assistenzsysteme:,  , Berganfahrassistent, Komfort:,  , Scheinwerferreinigung,  , Xenon plus inklusive Scheinwerfer-Reinigungsanlage,  , Scheinwerfer-Reinigungsanlage,  , Einparkhilfe hinten,  , Licht-/Regensensor,  , Funkfernbedienung,  , Elektrische Luftzusatzheizung, Interieur:...   NaN   Metallic               2       front     NaN            NaN               1      2021-06-01      Black           5           5  Automatic   Diesel              3.8              3.8                 3.8               2016           99         Euro 6                           1                         0                  1                                    1                            0                         1                           0                            0                                  1                                        0                                         0                           0                                0                      1                                    0                        0                                 1                       1                         0                        0                                        1                            1                        0                                1                                       0                                              0                                              0                                             1                        1                      1                       1                           0                           0                            1                  0   \n",
       "\n",
       "   conf_conv_Tinted windows  conf_conv_Wind deflector  conf_conv_Windshield  ent_media_Bluetooth  ent_media_CD player  ent_media_Digital radio  ent_media_Hands-free equipment  ent_media_MP3  ent_media_On-board computer  ent_media_Radio  ent_media_Sound system  ent_media_Television  ent_media_USB  extra_Alloy wheels  extra_Cab or rented Car  extra_Catalytic Converter  extra_Handicapped enabled  extra_Right hand drive  extra_Roof rack  extra_Shift paddles  extra_Ski bag  extra_Sliding door  extra_Sport package  extra_Sport seats  extra_Sport suspension  extra_Touch screen  extra_Trailer hitch  extra_Tuned car  extra_Voice Control  extra_Winter tyres  safety_ABS  safety_Adaptive Cruise Control  safety_Adaptive headlights  safety_Alarm system  safety_Blind spot monitor  safety_Central door lock  safety_Central door lock with remote control  safety_Daytime running lights  safety_Driver drowsiness detection  safety_Driver-side airbag  safety_Electronic stability control  safety_Emergency brake assistant  safety_Emergency system  safety_Fog lights  safety_Head airbag  safety_Immobilizer  safety_Isofix  safety_LED Daytime Running Lights  safety_LED Headlights  safety_Lane departure warning system  safety_Night view assist  safety_Passenger-side airbag  safety_Power steering  safety_Rear airbag  safety_Side airbag  safety_Tire pressure monitoring system  safety_Traction control  safety_Traffic sign recognition  safety_Xenon headlights  \n",
       "0                         0                         0                     0                    1                    0                        0                               1              0                            1                1                       0                     0              0                   1                        0                          1                          0                       0                0                    0              0                   0                    0                  0                       0                   0                    0                0                    1                   0           1                               0                           0                    0                          0                         1                                             0                              1                                   0                          1                                    1                                 0                        0                  1                   0                   1              1                                  0                      0                                     0                         0                             1                      1                   0                   1                                       1                        1                                0                        1  "
      ]
     },
     "execution_count": 973,
     "metadata": {},
     "output_type": "execute_result"
    }
   ],
   "source": [
    "scout.head(1)"
   ]
  },
  {
   "cell_type": "markdown",
   "metadata": {},
   "source": [
    "## scout['description']"
   ]
  },
  {
   "cell_type": "code",
   "execution_count": 975,
   "metadata": {},
   "outputs": [
    {
     "ename": "TypeError",
     "evalue": "unhashable type: 'list'",
     "output_type": "error",
     "traceback": [
      "\u001b[0;31m---------------------------------------------------------------------------\u001b[0m",
      "\u001b[0;31mTypeError\u001b[0m                                 Traceback (most recent call last)",
      "\u001b[0;32mpandas/_libs/hashtable_class_helper.pxi\u001b[0m in \u001b[0;36mpandas._libs.hashtable.PyObjectHashTable.map_locations\u001b[0;34m()\u001b[0m\n",
      "\u001b[0;31mTypeError\u001b[0m: unhashable type: 'list'"
     ]
    },
    {
     "name": "stderr",
     "output_type": "stream",
     "text": [
      "Exception ignored in: 'pandas._libs.index.IndexEngine._call_map_locations'\n",
      "Traceback (most recent call last):\n",
      "  File \"pandas/_libs/hashtable_class_helper.pxi\", line 1652, in pandas._libs.hashtable.PyObjectHashTable.map_locations\n",
      "TypeError: unhashable type: 'list'\n"
     ]
    },
    {
     "data": {
      "text/plain": [
       "[]                                                                                                                                                                                                                                                                                                                                                                                                                                                                                                                                                                                                                                                                                                                                                                                                                                                                                                                                                                                                                                                                                                                                                                                                                                                                                                                                                                                                                                                                                                                                                                                                                                                                                                                                                                                                                                                                                                                                                                                                                                                                                                                                                                                                                                                                                                                                                                                                                                                                                                                                                                                                                                                                                                                                                                                                                                                                                                                                                                                                                                                                                                                                                                                                                                                                                                                                                                                                                                                                                                                                                                                     636\n",
       "[\\n, \\n]                                                                                                                                                                                                                                                                                                                                                                                                                                                                                                                                                                                                                                                                                                                                                                                                                                                                                                                                                                                                                                                                                                                                                                                                                                                                                                                                                                                                                                                                                                                                                                                                                                                                                                                                                                                                                                                                                                                                                                                                                                                                                                                                                                                                                                                                                                                                                                                                                                                                                                                                                                                                                                                                                                                                                                                                                                                                                                                                                                                                                                                                                                                                                                                                                                                                                                                                                                                                                                                                                                                                                                                30\n",
       "[\\nPosibilidad de prueba del vehículo hasta 5 días. Consultar condiciones. PVP para particulares. Varias unidades y colores disponibles. Precios publicados para vehículos industriales (furgonetas) válidos para compradores autónomos o empresas, consultar condiciones para particulares. Las imágenes y kilómetros pueden no corresponder con el modelo anunciado. Para confirmar póngase en contacto con nuestro departamento comercial. Consulta las excepcionales condiciones de financiación que tenemos disponibles. Precio de venta final IVA y gastos de transferencia incluidos. Horario de atención al cliente: Lunes a Viernes de 09:00 a 18:00.\\n]                                                                                                                                                                                                                                                                                                                                                                                                                                                                                                                                                                                                                                                                                                                                                                                                                                                                                                                                                                                                                                                                                                                                                                                                                                                                                                                                                                                                                                                                                                                                                                                                                                                                                                                                                                                                                                                                                                                                                                                                                                                                                                                                                                                                                                                                                                                                                                                                                                                                                                                                                                                                                                                                                                                                                                                                                                                                                                                       27\n",
       "[\\nSichern Sie sich diesen RENAULT CLIO 1.2 TCE ENERGY INTENS zum Top-Preis inklusive dem, AUTOHERO-RUNDUM-SORGLOS-PAKET,  , Infos:,  1.Hand, mindestens 12 Monate gültige HU und AU, deutsche Ausführung, unfallfrei,  , Highlights,  , Navigationssystem mit Touchscreen-Farbdisplay (Media Nav Evolution),  , Scheinwerfer Full-LED,  , Einparkhilfe hinten ,  , 16? Pulse Leichtmetallfelgen ,  , Sitzheizung vorn, Komfort,  , Startanlage Handsfree Entry & Drive,  , Sitz vorn links höhenverstellbar,  , Multifunktionslenkrad in Leder ,  , Eco Mode (Fahrmodusschalter),  , Berganfahr-Assistent (HSA),  , Fensterheber elektrisch hinten und vorne mit Impulsgeber links vorn,  , Geschwindigkeits-Regelanlage (Tempomat) ,  , Klimaanlage,  , Rücksitzlehne geteilt/klappbar,  , Start/Stop-Anlage ,  , Komfort-Paket Plus,  , Mittelarmlehne vorn mit Ablagefach , Multimedia,  ,  , Radioempfang digital (DAB),  , 4 Lautsprecher ,  , Bluetooth Freisprecheinrichtung ,  , USB-/AUX-Schnittstelle ,  , Bordcomputer, Licht und Sicht,  , Nebelscheinwerfer LED,  , Außenspiegel elektr. verstell-, heizbar-, und anklappbar,  , Heckscheibe heizbar ,  , Licht- und Regensensor ,  , Coming-Home-Lichtfunktion,  , Heckleuchten LED,  , Tagfahrlicht LED , Sicherheit,  , Airbag für Fahrer und Beifahrer,  , Beifahrerairbag deaktivierbar ,  , Seitenairbags vorn ,  , Kopfairbagsystem,  , Anti-Blockier-System (ABS),  , Bremsassistent,  , Elektronische Bremskraftverteilung ,  , Elektronische Stabilitäts-Programm (ESP),  , Reifendruck-Kontrollsystem ,  , Untersteuerungskontrolle (USC),  , Reserverad in Fahrbereifung,  , ISOFIX Kindersitzverankerung , Weiteres,  , Sonderlackierung Metallic Dezir Rot,  , Look-Paket Chrom (außen) ,  , ...]                                                                                                                                                                                                                                                                                                                                                                                                                                                                                                                                                                                                                                                                                                                                                                                                                                                                                                                                                                                                                                                                                                                                                                                                                                                                                                                                                                                                                                                                                                                                                                                                                                                                                                                                                                                                           27\n",
       "[\\nSichern Sie sich diesen Opel Astra K 1.4 SIDI Turbo Innovation Start/Stop zum Top-Preis inklusive dem, AUTOHERO-RUNDUM-SORGLOS-PAKET,  , Infos:,  2.Hand, deutsche Auslieferung, Unfallfrei, scheckheftgepflegt, mindestens 12 Monate gültige HU und AU,  , Highlights,  , Rückfahrkamera,  , Voll-LED-Matrix-Scheinwerfer (IntelliLux),  , Audio-Navigationssystem Navi 900 Europa Touch,  , Spurassistent,  , Leichtmetallfelgen , Komfort,  , Sitzheizung vorn,  , Klimaautomatik 2-Zonen,  , Parkpilotsystem vorn und hinten,  , 6-Stufen Automatikgetriebe,  , Tempomat (Geschwindigkeits-Regelanlage) mit Begrenzer ,  , Berganfahrassistent ,  , Servolenkung,  , Lendenwirbelstütze elektropneumatisch für Fahrer ,  , Kopfstützen vorn und hinten ,  , Multifunktionslenkrad in Leder, beheizbar ,  , Mittelarmlehne vorn verschiebbar,  , Zentralverriegelung mit Fernbedienung,  , Fensterheber elektrisch vorn + hinten,  , Berganfahr-Assistent (HSA, Hill Start Assist), Multimedia,  , 8 Zoll Touchscreen-Farbdisplay,  , Verkehrszeichenerkennung,  , Audiostreaming ,  , Apple CarPlay und Android Auto,  , 6 Lautsprecher ,  , Bluetooth-Freisprecheinrichtung ,  , Sprachsteuerung,  , Bordcomputer,  , Multimedia-Schnittstelle (USB / AUX-IN), Licht und Sicht,  , Außenspiegel elektrisch verstell-, heiz- und anklappbar,  , Abbiegelicht,  , LED Tagfahrlicht,  , Nebelscheinwerfer,  , Ambientebeleuchtung,  , Innenrückspiegel automatisch abblendend,  , Fernlichtassistent und Leuchtweitenregulierung ,  , Licht und Regensensor ,  , Wärmeschutzverglasung hinten abgedunkelt (Solar-Protect),  , LED Heckleuchten , Sicherheit,  , Abstandswarner,  , Auffahrwarnsystem,  , Isofix-Aufnahmen für Kindersitz an Rücksitz,  , Frontkamera,  , Airbag für Fahrer- und Beifahrerseite,  , Wegfahrsperre,  , ...]                                                                                                                                                                                                                                                                                                                                                                                                                                                                                                                                                                                                                                                                                                                                                                                                                                                                                                                                                                                                                                                                                                                                                                                                                                                                                                                                                                                                                                                                                                                                                                                                                                                                                                                                          27\n",
       "                                                                                                                                                                                                                                                                                                                                                                                                                                                                                                                                                                                                                                                                                                                                                                                                                                                                                                                                                                                                                                                                                                                                                                                                                                                                                                                                                                                                                                                                                                                                                                                                                                                                                                                                                                                                                                                                                                                                                                                                                                                                                                                                                                                                                                                                                                                                                                                                                                                                                                                                                                                                                                                                                                                                                                                                                                                                                                                                                                                                                                                                                                                                                                                                                                                                                                                                                                                                                                                                                                                                                                                      ... \n",
       "[\\n, OCCASIONE IN PRONTA CONSEGNA NAZIONALE UFFICIALE., DISPOBILE NEI COLORI NERO MITO E BIANCO GHIACCIO., DISPONIBILE PRESSO RIVIERA MOTORI. ,  Via Fratelli Bandiera 2 , DOLO (VE),  rivieramotori.it,  ,  , PER INFORMAZIONI ED APPUNTAMENTI:,  Sig.Andrea Pattis tel. 329/2258679,  Sig.Alessandro Palatron tel. 349/3372124,  ,  , Fissate un appuntamento telefonico, vi attenderemo direttamente con la vettura scelta, per offrirvi la possibilità di effettuare subito una prova su strada.,  Se avete deciso di raggiungerci con il treno o con l'aereo, verremo noi a prendevi alla stazione di Mestre-Venezia oppure all'aeroporto di Venezia, Verona e Treviso previo accordi.,  ,  , Http://www.rivieramotori.it,  ,  Le dotazioni tecniche e gli optional indicati nelle presenti schede sono corrispondenti a quelli presenti nell’auto. Tuttavia, a causa della non uniformità dei dati pubblicati dai diversi portali è possibile che ci siano degli errori.,  Ci scusiamo per l’inconveniente e vi invitiamo a verificare le caratteristiche di ogni specifico veicolo contattandoci.,  Riviera Motori declina ogni responsabilità per eventuali involontarie incongruenze, \\n]                                                                                                                                                                                                                                                                                                                                                                                                                                                                                                                                                                                                                                                                                                                                                                                                                                                                                                                                                                                                                                                                                                                                                                                                                                                                                                                                                                                                                                                                                                                                                                                                                                                                                                                                                                                                                                                                                                                                                                                                                                                                                                                                                                                                                                                                                                                                                                                       1\n",
       "[\\n, Das Autohaus Borgmann umfasst mittlerweile 10 Filialen und ist Vertragshändler für:, Opel, Skoda, Ford, Hyundai und Toyota, Zudem verfügen wir über 800 Neu- Kurzzulassung & Gebrauchtfahrzeuge verschiedener Marken., Dank dieser Größe können wir auf ein reichhaltiges Angebot an Bestandsfahrzeugen zugreifen., Daher können Sie uns gerne bei Fragen oder wenn Sie auf der Suche nach ein passendes Neu/Jahres/Gebraucht/Kurzzulassungs - Fahrzeug sind kontaktieren. Zusammen finden wir bestimmt genau das Richtige für Sie., #############################################################################, • Günstige Finanzierung auch ohne Anzahlung, und bis zu 84 Monate, zu kleinsten Raten möglich., • Wir bieten faire Preise für Ihren Gebrauchtwagen, egal welchen Alters oder Fabrikats., • Das Fahrzeug ist nach Erhalt aller benötigten Unterlagen binnen 3-7 Werktagen verfügbar., #############################################################################, Zusätzliche Sicherheiten beim Kauf für Sie und Ihren Gebrauchtwagen, • Opel Werksgarantie für 2 Jahre (Beginnt ab Erstzulassungsdatum), • Gebrauchtwagen Anschlussgarantie erweiterbar bis zu 60 Monaten, • Ausführliche Einführung/Erläuterung in die Funktionen und Eigenschaften Ihres Neuen Fahrzeuges, • Probefahrt zum Reinschnuppern und kennenlernen des Fahrzeuges möglich, • Mindesten 18 Monte TÜV (Hauptuntersuchung + Abgasuntersuchung (HU/AU)), #############################################################################, Opel Corsa E 1.2l 51kW (70PS) Selection in Indigo Blau als Tageszulassung Sofort Verfügbar, Ausstattungen,  , ABS,  , Airbag,  , Servolenkung,  , Katalysator,  , Funk- Zentralverriegelung,  , Elektr. Fensterheber,  , Beifahrerairbag,  , Wegfahrsperre,  , Seitenairbags,  , Elektr. Aussenspiegel,  , ESP,  , 2 Kopfstützen hinten,  , umklappbare Rücksitzbank,  , Garantie (2 Jahre Werksgarantie) optional + 5Jahre,  , Scheckheftgepflegt,  , Reifendruckkontrolle,  , Traktionskontrolle,  , Colorverglasung,  , Innenraumfilter,  , Einstellbare Lenksäule,  , Kopfairbag,  , HU/AU neu,  , Nichtraucherfahrzeug,  , ISOFIX Kindersitzbefestigung,  , Tagfahrlicht,  , Berganfahrassistent,  , Pannenkit,  , Fahrzeugpreis inkl. Überführungskosten / Zulassungskosten nicht im Preis enthalten,  , und vieles mehr..., Gegen Aufpreis besteht die Möglichkeit das Fahrzeug mit/als, -Ganzjahresreifen / Allwetterreifen, -Cool & Sound Paket (970€ Klima & Radio mit AUX), -Anhängerkupplung , - 5 Türer, - Anderen Farben, zu bekommen. Sofort Verfübar , Sprechen Sie uns einfach an.,  ... Änderungen, Zwischenverkauf und Irrtümer vorbehalten.,  by CG360.de\\n]                                                                                                                                                                                                                                                                                                                                                                                                                                                                                                                                                                                                                                                                                                                                                                                                                                                              1\n",
       "[\\n, Angeboten wird ein Opel Astra 1.6 CDTI Selection aus 1.Hand. Das Fahrzeug wurde regelmäßig beim Vertragshändler Opel Scheckheftgepflegt. , Sonderausstattung:, Audio-Navigationssystem Navi 650, Dachantenne im Haifischflossen-Design, USB-Schnittstelle, Freisprecheinrichtung (Bluetooth) mit Sprachsteuerung, Bordcomputer, Business-Paket IntelliLink Travel, Audiosystem CD 600 IntelliLink MP3 (Radio/CD-Player / Bluetooth), Vorrüstung Mobiltelefon/Handy mit Bluetooth-Schnittstelle, Geschwindigkeits-Regelanlage (Tempomat), Audiobedienung am Lenkrad, Sicherheitsnetz hinter Vordersitze, Vorrüstung Sicherheitsnetz hinter Vordersitze, Elektrische Schnellheizung (Quickheat), Ergonomiesitz vorn links, Lendenwirbelstütze Sitz vorn links, elektr. verstellbar, Sitzneigungsverstellung vorn links, Aktive Kopfstützen vorn, Sitz vorn links mit ausziehbarer Oberschenkelauflage, Ergonomiesitz vorn rechts, Sitzneigungsverstellung vorn rechts, Sitz vorn rechts höhenverstellbar, Lendenwirbelstütze Sitz vorn rechts, elektr. verstellbar, Sitz vorn rechts mit ausziehbarer Oberschenkelauflage, Fensterheber elektrisch vorn + hinten, Klimaautomatik 2-Zonen, Licht-Paket, Leseleuchten im Fond, Sonnenblenden mit Spiegel (beleuchtet), Metallic-/Mineraleffekt-Lackierung, Mittelarmlehne vorn verschiebbar, Nebelscheinwerfer, Parkpilotsystem hinten, Reserverad als Notrad, Sicht-Paket, Einschaltautomatik für Fahrlicht, Scheibenwischer mit Regensensor, Innenspiegel mit Abblendautomatik, Sitzheizung vorn, Wärmeschutzverglasung hinten abgedunkelt (Solar-Protect), Serienausstattung:, Airbag Beifahrerseite abschaltbar, Airbag Fahrer-/Beifahrerseite, Aktive Kopfstützen vorn, Anti-Blockier-System (ABS), Außenspiegel elektr. verstell- und heizbar, Außenspiegel Wagenfarbe, Bremsassistent, Dachreling schwarz, Drehzahlmesser, Elektron. Stabilitäts-Programm (ESP), Elektron. Traktionskontrolle, Fensterheber elektrisch vorn, Feststellbremse manuell, Gepäckabdeckung / Rollo ausziehbar, Getriebe 6-Gang, Heckscheibe heizbar, Heckscheibenwischer, Innenausstattung: Dekorleisten Dolomit hellgrau, Isofix-Aufnahmen für Kindersitz an Rücksitz, Karosserie: 5-türig, Kopf-Airbag-System, Kopfstützen hinten (2-fach), Lenksäule (Lenkrad) verstellbar, Leseleuchten vorn (2), Leuchtweitenregelung, Modellpflege, Motor 1,6 Ltr. - 81 kW CDTI DPF, Nebelschlussleuchte, Pollenfilter, Reifendruck-Kontrollsystem, Rußpartikelfilter, Rücksitz geteilt / klappbar, Schadstoffarm nach Abgasnorm Euro 6, Seitenairbag vorn, Servolenkung geschwindigkeitsabhängig, Sitz vorn links höhenverstellbar, Sitzbelegungserkennung für Airbag Beifahrerseite, Sitzbezug / Polsterung: Stoff, Stahlfelgen 6,5x16, Start/Stop-Anlage, Steckdose (12V-Anschluß) in Mittelkonsole, Tagfahrlicht, Türgriffe außen Wagenfarbe, Wärmeschutzverglasung, Zentralverriegelung mit Fernbedienung,  , Unser Service für Sie:, DEKRA SIEGEL , Inzahlungnahme , Sofortige Verrechnung mit dem Kaufpreis Ihres neuen Autos , Attraktive Finanzierungsmöglichkeiten. Die Höhe der Raten bestimmen Sie! , Langzeit Garantie bis zu 48. Monate., Lieferung innerhalb Deutschlands ab 99,00 Euro., Deutschlandweite Zulassung Ihres neuen Fahrzeuges ab 150,- Euro., Steuerfreies Exportgeschäft möglich., Spontane Probefahrten sind nur bedingt möglich., Hinweis: Unsere Angebote werden unverzüglich nach Kauf eingestellt, es kann dadurch sein, dass sich das von Ihnen ausgesuchte Fahrzeug noch nicht in unserer Ausstellung befindet., ...]      1\n",
       "[\\n, Sonderausstattung:, Parkpilotsystem vorn und hinten, Reifendruck-Kontrollsystem, Sonderlackierung Brillant, Weitere Ausstattung:, 3-Punkt-Sicherheitsgurt hinten mitte, Airbag Fahrer-/Beifahrerseite, Audiosystem R 4.0 IntelliLink, Bremsassistent, Drehzahlmesser, Elektron. Stabilitäts-Programm Plus (ESP), Elektron. Traktionskontrolle, Fahrassistenz-System: Berganfahr-Assistent (HSA, Hill Start Assist), Fensterheber elektrisch hinten, Feststellbremse elektrisch, Frontkamera, Heckleuchten LED, Heckscheibenwischer mit Intervallschaltung, Isofix-Aufnahmen für Kindersitz an Rücksitz, Karosserie: 5-türig, Kopf-Airbag-System, LM-Felgen, Motor 1,5 Ltr. - 103 kW 16V SIDI Turbo, OnStar SOS Service, Reifendruckwarner, Schadstoffarm nach Abgasnorm Euro 6, Seitenairbag vorn, Sonnenblenden mit Spiegel (beleuchtet), Start/Stop-Anlage, Türgriffe außen Wagenfarbe, Fahrzeugnummer: 031606, Irrtümer und Zwischenverkauf vorbehalten, \\n]                                                                                                                                                                                                                                                                                                                                                                                                                                                                                                                                                                                                                                                                                                                                                                                                                                                                                                                                                                                                                                                                                                                                                                                                                                                                                                                                                                                                                                                                                                                                                                                                                                                                                                                                                                                                                                                                                                                                                                                                                                                                                                                                                                                                                                                                                                                                                                                                                                                                                                                                                                                                                     1\n",
       "[\\n, Getriebe:,  Automatik, Technik:,  Bordcomputer, Start-Stop-Automatik, Assistenten:,  Totwinkel-Assistent, Verkehrszeichenerkennung, Park-Lenk-Assistent, Regensensor, Fernlichtassistent, Lichtsensor, Notbremsassistent, Berganfahrassistent, Spurhalteassistent, Komfort:,  Servolenkung, Zentralverriegelung, Elektrischer Fensterheber, Sitzheizung, Elektrische Aussenspiegel, Teilbare Ruecksitzlehne, Tempomat, Multifunktionslenkrad, Innenspiegel autom. abblendbar, Mittelarmlehne, ParkDistanceControl vorne und hinten, Ambiente Beleuchtung, Lederlenkrad, Klimaautomatik-2-Zonen, Sicht:,  LED-Hauptscheinwerfer, LED-Tagfahrlicht, HEAD-UP-Display, LED-Rueckleuchten, Nebelscheinwerfer, Scheinwerferregulierung, Aussenspiegel beheizbar, Rückfahrkamera, Sicherheit:,  ABS, Airbag, Beifahrer-Airbag, Wegfahrsperre, Seitenairbags, ESP, Antriebsschlupfregelung, Reifendruckkontrolle, Traktionskontrolle, Kopfairbag, Entertainment:,  Navigationssystem, Radio, Bluetooth, Freisprecheinrichtung, Apple CarPlay, Android Auto, Sprachsteuerung, DAB, Touchscreen, Musikstreaming, Umwelt:,  Grüne Umweltplakette, , Energieeffizienzklasse B, Sonstiges:,  Katalysator, Metallic, Alufelgen, Lenkradheizung, ... Änderungen, Zwischenverkauf und Irrtümer vorbehalten., \\n]                                                                                                                                                                                                                                                                                                                                                                                                                                                                                                                                                                                                                                                                                                                                                                                                                                                                                                                                                                                                                                                                                                                                                                                                                                                                                                                                                                                                                                                                                                                                                                                                                                                                                                                                                                                                                                                                                                                                                                                                                                                                                                                                                                                                                                                                                    1\n",
       "Name: description, Length: 12874, dtype: int64"
      ]
     },
     "execution_count": 975,
     "metadata": {},
     "output_type": "execute_result"
    }
   ],
   "source": [
    "scout['description'].value_counts(dropna = False)"
   ]
  },
  {
   "cell_type": "markdown",
   "metadata": {},
   "source": [
    "This column includes a great deal of unordered data. Various machine learning techniques may be considered to be used in thos column. On the other hand due to the project scope and goals we will drop 'description' column."
   ]
  },
  {
   "cell_type": "code",
   "execution_count": 977,
   "metadata": {},
   "outputs": [],
   "source": [
    "scout.drop(columns = ['description'], inplace = True)"
   ]
  },
  {
   "cell_type": "code",
   "execution_count": 978,
   "metadata": {},
   "outputs": [
    {
     "data": {
      "text/html": [
       "<div>\n",
       "<style scoped>\n",
       "    .dataframe tbody tr th:only-of-type {\n",
       "        vertical-align: middle;\n",
       "    }\n",
       "\n",
       "    .dataframe tbody tr th {\n",
       "        vertical-align: top;\n",
       "    }\n",
       "\n",
       "    .dataframe thead th {\n",
       "        text-align: right;\n",
       "    }\n",
       "</style>\n",
       "<table border=\"1\" class=\"dataframe\">\n",
       "  <thead>\n",
       "    <tr style=\"text-align: right;\">\n",
       "      <th></th>\n",
       "      <th>make_model</th>\n",
       "      <th>body_type</th>\n",
       "      <th>price</th>\n",
       "      <th>vat</th>\n",
       "      <th>km</th>\n",
       "      <th>registration</th>\n",
       "      <th>hp</th>\n",
       "      <th>Type</th>\n",
       "      <th>Make</th>\n",
       "      <th>Model</th>\n",
       "      <th>Upholstery</th>\n",
       "      <th>Body</th>\n",
       "      <th>Displacement</th>\n",
       "      <th>Cylinders</th>\n",
       "      <th>Gears</th>\n",
       "      <th>Paint_Type</th>\n",
       "      <th>Previous_Owners</th>\n",
       "      <th>drive_chain</th>\n",
       "      <th>country</th>\n",
       "      <th>emission_label</th>\n",
       "      <th>inspection_new</th>\n",
       "      <th>next_inspection</th>\n",
       "      <th>body_color</th>\n",
       "      <th>door_number</th>\n",
       "      <th>seat_number</th>\n",
       "      <th>gear_type</th>\n",
       "      <th>fuel_new</th>\n",
       "      <th>consumption_comb</th>\n",
       "      <th>consumption_city</th>\n",
       "      <th>consumption_country</th>\n",
       "      <th>first_registration</th>\n",
       "      <th>CO2_Emission</th>\n",
       "      <th>emission_class</th>\n",
       "      <th>conf_conv_Air conditioning</th>\n",
       "      <th>conf_conv_Air suspension</th>\n",
       "      <th>conf_conv_Armrest</th>\n",
       "      <th>conf_conv_Automatic climate control</th>\n",
       "      <th>conf_conv_Auxiliary heating</th>\n",
       "      <th>conf_conv_Cruise control</th>\n",
       "      <th>conf_conv_Electric Starter</th>\n",
       "      <th>conf_conv_Electric tailgate</th>\n",
       "      <th>conf_conv_Electrical side mirrors</th>\n",
       "      <th>conf_conv_Electrically adjustable seats</th>\n",
       "      <th>conf_conv_Electrically heated windshield</th>\n",
       "      <th>conf_conv_Heads-up display</th>\n",
       "      <th>conf_conv_Heated steering wheel</th>\n",
       "      <th>conf_conv_Hill Holder</th>\n",
       "      <th>conf_conv_Keyless central door lock</th>\n",
       "      <th>conf_conv_Leather seats</th>\n",
       "      <th>conf_conv_Leather steering wheel</th>\n",
       "      <th>conf_conv_Light sensor</th>\n",
       "      <th>conf_conv_Lumbar support</th>\n",
       "      <th>conf_conv_Massage seats</th>\n",
       "      <th>conf_conv_Multi-function steering wheel</th>\n",
       "      <th>conf_conv_Navigation system</th>\n",
       "      <th>conf_conv_Panorama roof</th>\n",
       "      <th>conf_conv_Park Distance Control</th>\n",
       "      <th>conf_conv_Parking assist system camera</th>\n",
       "      <th>conf_conv_Parking assist system self-steering</th>\n",
       "      <th>conf_conv_Parking assist system sensors front</th>\n",
       "      <th>conf_conv_Parking assist system sensors rear</th>\n",
       "      <th>conf_conv_Power windows</th>\n",
       "      <th>conf_conv_Rain sensor</th>\n",
       "      <th>conf_conv_Seat heating</th>\n",
       "      <th>conf_conv_Seat ventilation</th>\n",
       "      <th>conf_conv_Split rear seats</th>\n",
       "      <th>conf_conv_Start-stop system</th>\n",
       "      <th>conf_conv_Sunroof</th>\n",
       "      <th>conf_conv_Tinted windows</th>\n",
       "      <th>conf_conv_Wind deflector</th>\n",
       "      <th>conf_conv_Windshield</th>\n",
       "      <th>ent_media_Bluetooth</th>\n",
       "      <th>ent_media_CD player</th>\n",
       "      <th>ent_media_Digital radio</th>\n",
       "      <th>ent_media_Hands-free equipment</th>\n",
       "      <th>ent_media_MP3</th>\n",
       "      <th>ent_media_On-board computer</th>\n",
       "      <th>ent_media_Radio</th>\n",
       "      <th>ent_media_Sound system</th>\n",
       "      <th>ent_media_Television</th>\n",
       "      <th>ent_media_USB</th>\n",
       "      <th>extra_Alloy wheels</th>\n",
       "      <th>extra_Cab or rented Car</th>\n",
       "      <th>extra_Catalytic Converter</th>\n",
       "      <th>extra_Handicapped enabled</th>\n",
       "      <th>extra_Right hand drive</th>\n",
       "      <th>extra_Roof rack</th>\n",
       "      <th>extra_Shift paddles</th>\n",
       "      <th>extra_Ski bag</th>\n",
       "      <th>extra_Sliding door</th>\n",
       "      <th>extra_Sport package</th>\n",
       "      <th>extra_Sport seats</th>\n",
       "      <th>extra_Sport suspension</th>\n",
       "      <th>extra_Touch screen</th>\n",
       "      <th>extra_Trailer hitch</th>\n",
       "      <th>extra_Tuned car</th>\n",
       "      <th>extra_Voice Control</th>\n",
       "      <th>extra_Winter tyres</th>\n",
       "      <th>safety_ABS</th>\n",
       "      <th>safety_Adaptive Cruise Control</th>\n",
       "      <th>safety_Adaptive headlights</th>\n",
       "      <th>safety_Alarm system</th>\n",
       "      <th>safety_Blind spot monitor</th>\n",
       "      <th>safety_Central door lock</th>\n",
       "      <th>safety_Central door lock with remote control</th>\n",
       "      <th>safety_Daytime running lights</th>\n",
       "      <th>safety_Driver drowsiness detection</th>\n",
       "      <th>safety_Driver-side airbag</th>\n",
       "      <th>safety_Electronic stability control</th>\n",
       "      <th>safety_Emergency brake assistant</th>\n",
       "      <th>safety_Emergency system</th>\n",
       "      <th>safety_Fog lights</th>\n",
       "      <th>safety_Head airbag</th>\n",
       "      <th>safety_Immobilizer</th>\n",
       "      <th>safety_Isofix</th>\n",
       "      <th>safety_LED Daytime Running Lights</th>\n",
       "      <th>safety_LED Headlights</th>\n",
       "      <th>safety_Lane departure warning system</th>\n",
       "      <th>safety_Night view assist</th>\n",
       "      <th>safety_Passenger-side airbag</th>\n",
       "      <th>safety_Power steering</th>\n",
       "      <th>safety_Rear airbag</th>\n",
       "      <th>safety_Side airbag</th>\n",
       "      <th>safety_Tire pressure monitoring system</th>\n",
       "      <th>safety_Traction control</th>\n",
       "      <th>safety_Traffic sign recognition</th>\n",
       "      <th>safety_Xenon headlights</th>\n",
       "    </tr>\n",
       "  </thead>\n",
       "  <tbody>\n",
       "    <tr>\n",
       "      <th>0</th>\n",
       "      <td>Audi A1</td>\n",
       "      <td>Sedans</td>\n",
       "      <td>15770</td>\n",
       "      <td>VAT deductible</td>\n",
       "      <td>56,013 km</td>\n",
       "      <td>01/2016</td>\n",
       "      <td>66 kW</td>\n",
       "      <td>Used</td>\n",
       "      <td>Audi</td>\n",
       "      <td>A1</td>\n",
       "      <td>Cloth, Black</td>\n",
       "      <td>Sedans</td>\n",
       "      <td>1422</td>\n",
       "      <td>3</td>\n",
       "      <td>NaN</td>\n",
       "      <td>Metallic</td>\n",
       "      <td>2</td>\n",
       "      <td>front</td>\n",
       "      <td>NaN</td>\n",
       "      <td>NaN</td>\n",
       "      <td>1</td>\n",
       "      <td>2021-06-01</td>\n",
       "      <td>Black</td>\n",
       "      <td>5</td>\n",
       "      <td>5</td>\n",
       "      <td>Automatic</td>\n",
       "      <td>Diesel</td>\n",
       "      <td>3.8</td>\n",
       "      <td>3.8</td>\n",
       "      <td>3.8</td>\n",
       "      <td>2016</td>\n",
       "      <td>99</td>\n",
       "      <td>Euro 6</td>\n",
       "      <td>1</td>\n",
       "      <td>0</td>\n",
       "      <td>1</td>\n",
       "      <td>1</td>\n",
       "      <td>0</td>\n",
       "      <td>1</td>\n",
       "      <td>0</td>\n",
       "      <td>0</td>\n",
       "      <td>1</td>\n",
       "      <td>0</td>\n",
       "      <td>0</td>\n",
       "      <td>0</td>\n",
       "      <td>0</td>\n",
       "      <td>1</td>\n",
       "      <td>0</td>\n",
       "      <td>0</td>\n",
       "      <td>1</td>\n",
       "      <td>1</td>\n",
       "      <td>0</td>\n",
       "      <td>0</td>\n",
       "      <td>1</td>\n",
       "      <td>1</td>\n",
       "      <td>0</td>\n",
       "      <td>1</td>\n",
       "      <td>0</td>\n",
       "      <td>0</td>\n",
       "      <td>0</td>\n",
       "      <td>1</td>\n",
       "      <td>1</td>\n",
       "      <td>1</td>\n",
       "      <td>1</td>\n",
       "      <td>0</td>\n",
       "      <td>0</td>\n",
       "      <td>1</td>\n",
       "      <td>0</td>\n",
       "      <td>0</td>\n",
       "      <td>0</td>\n",
       "      <td>0</td>\n",
       "      <td>1</td>\n",
       "      <td>0</td>\n",
       "      <td>0</td>\n",
       "      <td>1</td>\n",
       "      <td>0</td>\n",
       "      <td>1</td>\n",
       "      <td>1</td>\n",
       "      <td>0</td>\n",
       "      <td>0</td>\n",
       "      <td>0</td>\n",
       "      <td>1</td>\n",
       "      <td>0</td>\n",
       "      <td>1</td>\n",
       "      <td>0</td>\n",
       "      <td>0</td>\n",
       "      <td>0</td>\n",
       "      <td>0</td>\n",
       "      <td>0</td>\n",
       "      <td>0</td>\n",
       "      <td>0</td>\n",
       "      <td>0</td>\n",
       "      <td>0</td>\n",
       "      <td>0</td>\n",
       "      <td>0</td>\n",
       "      <td>0</td>\n",
       "      <td>1</td>\n",
       "      <td>0</td>\n",
       "      <td>1</td>\n",
       "      <td>0</td>\n",
       "      <td>0</td>\n",
       "      <td>0</td>\n",
       "      <td>0</td>\n",
       "      <td>1</td>\n",
       "      <td>0</td>\n",
       "      <td>1</td>\n",
       "      <td>0</td>\n",
       "      <td>1</td>\n",
       "      <td>1</td>\n",
       "      <td>0</td>\n",
       "      <td>0</td>\n",
       "      <td>1</td>\n",
       "      <td>0</td>\n",
       "      <td>1</td>\n",
       "      <td>1</td>\n",
       "      <td>0</td>\n",
       "      <td>0</td>\n",
       "      <td>0</td>\n",
       "      <td>0</td>\n",
       "      <td>1</td>\n",
       "      <td>1</td>\n",
       "      <td>0</td>\n",
       "      <td>1</td>\n",
       "      <td>1</td>\n",
       "      <td>1</td>\n",
       "      <td>0</td>\n",
       "      <td>1</td>\n",
       "    </tr>\n",
       "    <tr>\n",
       "      <th>1</th>\n",
       "      <td>Audi A1</td>\n",
       "      <td>Sedans</td>\n",
       "      <td>14500</td>\n",
       "      <td>Price negotiable</td>\n",
       "      <td>80,000 km</td>\n",
       "      <td>03/2017</td>\n",
       "      <td>141 kW</td>\n",
       "      <td>Used</td>\n",
       "      <td>Audi</td>\n",
       "      <td>A1</td>\n",
       "      <td>Cloth, Grey</td>\n",
       "      <td>Sedans</td>\n",
       "      <td>1798</td>\n",
       "      <td>4</td>\n",
       "      <td>[\\n7\\n]</td>\n",
       "      <td>NaN</td>\n",
       "      <td>NaN</td>\n",
       "      <td>front</td>\n",
       "      <td>NaN</td>\n",
       "      <td>4 (Green)</td>\n",
       "      <td>0</td>\n",
       "      <td>NaT</td>\n",
       "      <td>Red</td>\n",
       "      <td>3</td>\n",
       "      <td>4</td>\n",
       "      <td>Automatic</td>\n",
       "      <td>Benzine</td>\n",
       "      <td>5.6</td>\n",
       "      <td>5.6</td>\n",
       "      <td>5.6</td>\n",
       "      <td>2017</td>\n",
       "      <td>129</td>\n",
       "      <td>Euro 6</td>\n",
       "      <td>1</td>\n",
       "      <td>0</td>\n",
       "      <td>0</td>\n",
       "      <td>1</td>\n",
       "      <td>0</td>\n",
       "      <td>0</td>\n",
       "      <td>0</td>\n",
       "      <td>0</td>\n",
       "      <td>0</td>\n",
       "      <td>0</td>\n",
       "      <td>0</td>\n",
       "      <td>0</td>\n",
       "      <td>0</td>\n",
       "      <td>1</td>\n",
       "      <td>0</td>\n",
       "      <td>0</td>\n",
       "      <td>1</td>\n",
       "      <td>0</td>\n",
       "      <td>1</td>\n",
       "      <td>0</td>\n",
       "      <td>0</td>\n",
       "      <td>0</td>\n",
       "      <td>0</td>\n",
       "      <td>0</td>\n",
       "      <td>0</td>\n",
       "      <td>0</td>\n",
       "      <td>0</td>\n",
       "      <td>1</td>\n",
       "      <td>1</td>\n",
       "      <td>0</td>\n",
       "      <td>0</td>\n",
       "      <td>0</td>\n",
       "      <td>0</td>\n",
       "      <td>1</td>\n",
       "      <td>0</td>\n",
       "      <td>1</td>\n",
       "      <td>0</td>\n",
       "      <td>0</td>\n",
       "      <td>1</td>\n",
       "      <td>0</td>\n",
       "      <td>0</td>\n",
       "      <td>1</td>\n",
       "      <td>0</td>\n",
       "      <td>1</td>\n",
       "      <td>1</td>\n",
       "      <td>1</td>\n",
       "      <td>0</td>\n",
       "      <td>0</td>\n",
       "      <td>1</td>\n",
       "      <td>0</td>\n",
       "      <td>0</td>\n",
       "      <td>0</td>\n",
       "      <td>0</td>\n",
       "      <td>0</td>\n",
       "      <td>0</td>\n",
       "      <td>0</td>\n",
       "      <td>0</td>\n",
       "      <td>0</td>\n",
       "      <td>1</td>\n",
       "      <td>1</td>\n",
       "      <td>0</td>\n",
       "      <td>0</td>\n",
       "      <td>0</td>\n",
       "      <td>1</td>\n",
       "      <td>0</td>\n",
       "      <td>1</td>\n",
       "      <td>0</td>\n",
       "      <td>0</td>\n",
       "      <td>0</td>\n",
       "      <td>0</td>\n",
       "      <td>1</td>\n",
       "      <td>1</td>\n",
       "      <td>1</td>\n",
       "      <td>0</td>\n",
       "      <td>1</td>\n",
       "      <td>1</td>\n",
       "      <td>0</td>\n",
       "      <td>0</td>\n",
       "      <td>0</td>\n",
       "      <td>1</td>\n",
       "      <td>1</td>\n",
       "      <td>1</td>\n",
       "      <td>0</td>\n",
       "      <td>0</td>\n",
       "      <td>0</td>\n",
       "      <td>0</td>\n",
       "      <td>1</td>\n",
       "      <td>1</td>\n",
       "      <td>0</td>\n",
       "      <td>1</td>\n",
       "      <td>1</td>\n",
       "      <td>1</td>\n",
       "      <td>0</td>\n",
       "      <td>1</td>\n",
       "    </tr>\n",
       "    <tr>\n",
       "      <th>2</th>\n",
       "      <td>Audi A1</td>\n",
       "      <td>Sedans</td>\n",
       "      <td>14640</td>\n",
       "      <td>VAT deductible</td>\n",
       "      <td>83,450 km</td>\n",
       "      <td>02/2016</td>\n",
       "      <td>85 kW</td>\n",
       "      <td>Used</td>\n",
       "      <td>Audi</td>\n",
       "      <td>A1</td>\n",
       "      <td>Cloth, Black</td>\n",
       "      <td>Sedans</td>\n",
       "      <td>1598</td>\n",
       "      <td>NaN</td>\n",
       "      <td>NaN</td>\n",
       "      <td>Metallic</td>\n",
       "      <td>1</td>\n",
       "      <td>front</td>\n",
       "      <td>NaN</td>\n",
       "      <td>4 (Green)</td>\n",
       "      <td>0</td>\n",
       "      <td>NaT</td>\n",
       "      <td>Black</td>\n",
       "      <td>4</td>\n",
       "      <td>4</td>\n",
       "      <td>Automatic</td>\n",
       "      <td>Diesel</td>\n",
       "      <td>3.8</td>\n",
       "      <td>3.8</td>\n",
       "      <td>3.8</td>\n",
       "      <td>2016</td>\n",
       "      <td>99</td>\n",
       "      <td>Euro 6</td>\n",
       "      <td>1</td>\n",
       "      <td>0</td>\n",
       "      <td>0</td>\n",
       "      <td>0</td>\n",
       "      <td>0</td>\n",
       "      <td>1</td>\n",
       "      <td>0</td>\n",
       "      <td>0</td>\n",
       "      <td>1</td>\n",
       "      <td>0</td>\n",
       "      <td>0</td>\n",
       "      <td>0</td>\n",
       "      <td>0</td>\n",
       "      <td>1</td>\n",
       "      <td>0</td>\n",
       "      <td>0</td>\n",
       "      <td>1</td>\n",
       "      <td>0</td>\n",
       "      <td>0</td>\n",
       "      <td>0</td>\n",
       "      <td>1</td>\n",
       "      <td>1</td>\n",
       "      <td>0</td>\n",
       "      <td>1</td>\n",
       "      <td>0</td>\n",
       "      <td>0</td>\n",
       "      <td>1</td>\n",
       "      <td>1</td>\n",
       "      <td>1</td>\n",
       "      <td>0</td>\n",
       "      <td>1</td>\n",
       "      <td>0</td>\n",
       "      <td>0</td>\n",
       "      <td>1</td>\n",
       "      <td>0</td>\n",
       "      <td>0</td>\n",
       "      <td>0</td>\n",
       "      <td>0</td>\n",
       "      <td>0</td>\n",
       "      <td>0</td>\n",
       "      <td>0</td>\n",
       "      <td>0</td>\n",
       "      <td>1</td>\n",
       "      <td>1</td>\n",
       "      <td>0</td>\n",
       "      <td>0</td>\n",
       "      <td>0</td>\n",
       "      <td>0</td>\n",
       "      <td>1</td>\n",
       "      <td>0</td>\n",
       "      <td>0</td>\n",
       "      <td>0</td>\n",
       "      <td>0</td>\n",
       "      <td>0</td>\n",
       "      <td>0</td>\n",
       "      <td>0</td>\n",
       "      <td>0</td>\n",
       "      <td>0</td>\n",
       "      <td>0</td>\n",
       "      <td>0</td>\n",
       "      <td>0</td>\n",
       "      <td>0</td>\n",
       "      <td>0</td>\n",
       "      <td>1</td>\n",
       "      <td>0</td>\n",
       "      <td>1</td>\n",
       "      <td>0</td>\n",
       "      <td>0</td>\n",
       "      <td>0</td>\n",
       "      <td>0</td>\n",
       "      <td>1</td>\n",
       "      <td>0</td>\n",
       "      <td>1</td>\n",
       "      <td>0</td>\n",
       "      <td>1</td>\n",
       "      <td>1</td>\n",
       "      <td>0</td>\n",
       "      <td>0</td>\n",
       "      <td>0</td>\n",
       "      <td>0</td>\n",
       "      <td>1</td>\n",
       "      <td>1</td>\n",
       "      <td>0</td>\n",
       "      <td>0</td>\n",
       "      <td>0</td>\n",
       "      <td>0</td>\n",
       "      <td>1</td>\n",
       "      <td>1</td>\n",
       "      <td>0</td>\n",
       "      <td>1</td>\n",
       "      <td>1</td>\n",
       "      <td>1</td>\n",
       "      <td>0</td>\n",
       "      <td>0</td>\n",
       "    </tr>\n",
       "    <tr>\n",
       "      <th>3</th>\n",
       "      <td>Audi A1</td>\n",
       "      <td>Sedans</td>\n",
       "      <td>14500</td>\n",
       "      <td>None</td>\n",
       "      <td>73,000 km</td>\n",
       "      <td>08/2016</td>\n",
       "      <td>66 kW</td>\n",
       "      <td>Used</td>\n",
       "      <td>Audi</td>\n",
       "      <td>A1</td>\n",
       "      <td>NaN</td>\n",
       "      <td>Sedans</td>\n",
       "      <td>1422</td>\n",
       "      <td>3</td>\n",
       "      <td>[\\n6\\n]</td>\n",
       "      <td>Metallic</td>\n",
       "      <td>1</td>\n",
       "      <td>NaN</td>\n",
       "      <td>NaN</td>\n",
       "      <td>NaN</td>\n",
       "      <td>0</td>\n",
       "      <td>NaT</td>\n",
       "      <td>Brown</td>\n",
       "      <td>3</td>\n",
       "      <td>4</td>\n",
       "      <td>Automatic</td>\n",
       "      <td>Diesel</td>\n",
       "      <td>3.8</td>\n",
       "      <td>3.8</td>\n",
       "      <td>3.8</td>\n",
       "      <td>2016</td>\n",
       "      <td>99</td>\n",
       "      <td>Euro 6</td>\n",
       "      <td>0</td>\n",
       "      <td>1</td>\n",
       "      <td>1</td>\n",
       "      <td>0</td>\n",
       "      <td>1</td>\n",
       "      <td>0</td>\n",
       "      <td>0</td>\n",
       "      <td>0</td>\n",
       "      <td>1</td>\n",
       "      <td>0</td>\n",
       "      <td>0</td>\n",
       "      <td>1</td>\n",
       "      <td>0</td>\n",
       "      <td>1</td>\n",
       "      <td>0</td>\n",
       "      <td>0</td>\n",
       "      <td>1</td>\n",
       "      <td>1</td>\n",
       "      <td>1</td>\n",
       "      <td>0</td>\n",
       "      <td>1</td>\n",
       "      <td>1</td>\n",
       "      <td>0</td>\n",
       "      <td>0</td>\n",
       "      <td>0</td>\n",
       "      <td>0</td>\n",
       "      <td>0</td>\n",
       "      <td>0</td>\n",
       "      <td>1</td>\n",
       "      <td>1</td>\n",
       "      <td>1</td>\n",
       "      <td>0</td>\n",
       "      <td>1</td>\n",
       "      <td>1</td>\n",
       "      <td>0</td>\n",
       "      <td>0</td>\n",
       "      <td>0</td>\n",
       "      <td>0</td>\n",
       "      <td>1</td>\n",
       "      <td>1</td>\n",
       "      <td>0</td>\n",
       "      <td>1</td>\n",
       "      <td>1</td>\n",
       "      <td>1</td>\n",
       "      <td>1</td>\n",
       "      <td>1</td>\n",
       "      <td>0</td>\n",
       "      <td>1</td>\n",
       "      <td>1</td>\n",
       "      <td>0</td>\n",
       "      <td>0</td>\n",
       "      <td>0</td>\n",
       "      <td>0</td>\n",
       "      <td>0</td>\n",
       "      <td>0</td>\n",
       "      <td>0</td>\n",
       "      <td>0</td>\n",
       "      <td>0</td>\n",
       "      <td>1</td>\n",
       "      <td>0</td>\n",
       "      <td>0</td>\n",
       "      <td>0</td>\n",
       "      <td>0</td>\n",
       "      <td>1</td>\n",
       "      <td>0</td>\n",
       "      <td>1</td>\n",
       "      <td>0</td>\n",
       "      <td>0</td>\n",
       "      <td>1</td>\n",
       "      <td>0</td>\n",
       "      <td>0</td>\n",
       "      <td>1</td>\n",
       "      <td>0</td>\n",
       "      <td>1</td>\n",
       "      <td>1</td>\n",
       "      <td>1</td>\n",
       "      <td>0</td>\n",
       "      <td>1</td>\n",
       "      <td>0</td>\n",
       "      <td>1</td>\n",
       "      <td>1</td>\n",
       "      <td>1</td>\n",
       "      <td>0</td>\n",
       "      <td>0</td>\n",
       "      <td>0</td>\n",
       "      <td>0</td>\n",
       "      <td>1</td>\n",
       "      <td>1</td>\n",
       "      <td>0</td>\n",
       "      <td>1</td>\n",
       "      <td>1</td>\n",
       "      <td>0</td>\n",
       "      <td>0</td>\n",
       "      <td>0</td>\n",
       "    </tr>\n",
       "    <tr>\n",
       "      <th>4</th>\n",
       "      <td>Audi A1</td>\n",
       "      <td>Sedans</td>\n",
       "      <td>16790</td>\n",
       "      <td>None</td>\n",
       "      <td>16,200 km</td>\n",
       "      <td>05/2016</td>\n",
       "      <td>66 kW</td>\n",
       "      <td>Used</td>\n",
       "      <td>Audi</td>\n",
       "      <td>A1</td>\n",
       "      <td>Cloth, Black</td>\n",
       "      <td>Sedans</td>\n",
       "      <td>1422</td>\n",
       "      <td>3</td>\n",
       "      <td>NaN</td>\n",
       "      <td>Metallic</td>\n",
       "      <td>1</td>\n",
       "      <td>front</td>\n",
       "      <td>Germany</td>\n",
       "      <td>NaN</td>\n",
       "      <td>1</td>\n",
       "      <td>NaT</td>\n",
       "      <td>Black</td>\n",
       "      <td>5</td>\n",
       "      <td>5</td>\n",
       "      <td>Automatic</td>\n",
       "      <td>Diesel</td>\n",
       "      <td>4.1</td>\n",
       "      <td>4.1</td>\n",
       "      <td>4.1</td>\n",
       "      <td>2016</td>\n",
       "      <td>109</td>\n",
       "      <td>Euro 6</td>\n",
       "      <td>1</td>\n",
       "      <td>0</td>\n",
       "      <td>1</td>\n",
       "      <td>1</td>\n",
       "      <td>0</td>\n",
       "      <td>0</td>\n",
       "      <td>0</td>\n",
       "      <td>0</td>\n",
       "      <td>1</td>\n",
       "      <td>0</td>\n",
       "      <td>0</td>\n",
       "      <td>0</td>\n",
       "      <td>0</td>\n",
       "      <td>1</td>\n",
       "      <td>0</td>\n",
       "      <td>0</td>\n",
       "      <td>1</td>\n",
       "      <td>1</td>\n",
       "      <td>0</td>\n",
       "      <td>0</td>\n",
       "      <td>1</td>\n",
       "      <td>0</td>\n",
       "      <td>0</td>\n",
       "      <td>1</td>\n",
       "      <td>0</td>\n",
       "      <td>0</td>\n",
       "      <td>0</td>\n",
       "      <td>1</td>\n",
       "      <td>1</td>\n",
       "      <td>1</td>\n",
       "      <td>0</td>\n",
       "      <td>0</td>\n",
       "      <td>0</td>\n",
       "      <td>1</td>\n",
       "      <td>0</td>\n",
       "      <td>0</td>\n",
       "      <td>0</td>\n",
       "      <td>0</td>\n",
       "      <td>1</td>\n",
       "      <td>1</td>\n",
       "      <td>0</td>\n",
       "      <td>1</td>\n",
       "      <td>1</td>\n",
       "      <td>1</td>\n",
       "      <td>1</td>\n",
       "      <td>0</td>\n",
       "      <td>0</td>\n",
       "      <td>1</td>\n",
       "      <td>1</td>\n",
       "      <td>0</td>\n",
       "      <td>0</td>\n",
       "      <td>0</td>\n",
       "      <td>0</td>\n",
       "      <td>0</td>\n",
       "      <td>0</td>\n",
       "      <td>0</td>\n",
       "      <td>0</td>\n",
       "      <td>1</td>\n",
       "      <td>0</td>\n",
       "      <td>1</td>\n",
       "      <td>0</td>\n",
       "      <td>0</td>\n",
       "      <td>0</td>\n",
       "      <td>1</td>\n",
       "      <td>0</td>\n",
       "      <td>1</td>\n",
       "      <td>0</td>\n",
       "      <td>0</td>\n",
       "      <td>0</td>\n",
       "      <td>0</td>\n",
       "      <td>1</td>\n",
       "      <td>0</td>\n",
       "      <td>0</td>\n",
       "      <td>0</td>\n",
       "      <td>1</td>\n",
       "      <td>1</td>\n",
       "      <td>0</td>\n",
       "      <td>0</td>\n",
       "      <td>1</td>\n",
       "      <td>0</td>\n",
       "      <td>1</td>\n",
       "      <td>1</td>\n",
       "      <td>0</td>\n",
       "      <td>0</td>\n",
       "      <td>0</td>\n",
       "      <td>0</td>\n",
       "      <td>1</td>\n",
       "      <td>1</td>\n",
       "      <td>0</td>\n",
       "      <td>1</td>\n",
       "      <td>1</td>\n",
       "      <td>1</td>\n",
       "      <td>0</td>\n",
       "      <td>1</td>\n",
       "    </tr>\n",
       "  </tbody>\n",
       "</table>\n",
       "</div>"
      ],
      "text/plain": [
       "  make_model body_type  price               vat         km registration      hp  Type  Make Model    Upholstery    Body Displacement Cylinders    Gears Paint_Type Previous_Owners drive_chain  country emission_label  inspection_new next_inspection body_color door_number seat_number  gear_type fuel_new consumption_comb consumption_city consumption_country first_registration CO2_Emission emission_class  conf_conv_Air conditioning  conf_conv_Air suspension  conf_conv_Armrest  conf_conv_Automatic climate control  conf_conv_Auxiliary heating  conf_conv_Cruise control  conf_conv_Electric Starter  conf_conv_Electric tailgate  conf_conv_Electrical side mirrors  conf_conv_Electrically adjustable seats  conf_conv_Electrically heated windshield  conf_conv_Heads-up display  conf_conv_Heated steering wheel  conf_conv_Hill Holder  conf_conv_Keyless central door lock  conf_conv_Leather seats  conf_conv_Leather steering wheel  conf_conv_Light sensor  conf_conv_Lumbar support  conf_conv_Massage seats  conf_conv_Multi-function steering wheel  conf_conv_Navigation system  conf_conv_Panorama roof  conf_conv_Park Distance Control  conf_conv_Parking assist system camera  conf_conv_Parking assist system self-steering  conf_conv_Parking assist system sensors front  conf_conv_Parking assist system sensors rear  conf_conv_Power windows  conf_conv_Rain sensor  conf_conv_Seat heating  conf_conv_Seat ventilation  conf_conv_Split rear seats  conf_conv_Start-stop system  conf_conv_Sunroof  conf_conv_Tinted windows  conf_conv_Wind deflector  conf_conv_Windshield  ent_media_Bluetooth  ent_media_CD player  ent_media_Digital radio  ent_media_Hands-free equipment  ent_media_MP3  ent_media_On-board computer  ent_media_Radio  ent_media_Sound system  ent_media_Television  ent_media_USB  extra_Alloy wheels  extra_Cab or rented Car  extra_Catalytic Converter  extra_Handicapped enabled  extra_Right hand drive  extra_Roof rack  extra_Shift paddles  extra_Ski bag  extra_Sliding door  extra_Sport package  \\\n",
       "0    Audi A1    Sedans  15770    VAT deductible  56,013 km      01/2016   66 kW  Used  Audi    A1  Cloth, Black  Sedans         1422         3      NaN   Metallic               2       front      NaN            NaN               1      2021-06-01      Black           5           5  Automatic   Diesel              3.8              3.8                 3.8               2016           99         Euro 6                           1                         0                  1                                    1                            0                         1                           0                            0                                  1                                        0                                         0                           0                                0                      1                                    0                        0                                 1                       1                         0                        0                                        1                            1                        0                                1                                       0                                              0                                              0                                             1                        1                      1                       1                           0                           0                            1                  0                         0                         0                     0                    1                    0                        0                               1              0                            1                1                       0                     0              0                   1                        0                          1                          0                       0                0                    0              0                   0                    0   \n",
       "1    Audi A1    Sedans  14500  Price negotiable  80,000 km      03/2017  141 kW  Used  Audi    A1   Cloth, Grey  Sedans         1798         4  [\\n7\\n]        NaN             NaN       front      NaN      4 (Green)               0             NaT        Red           3           4  Automatic  Benzine              5.6              5.6                 5.6               2017          129         Euro 6                           1                         0                  0                                    1                            0                         0                           0                            0                                  0                                        0                                         0                           0                                0                      1                                    0                        0                                 1                       0                         1                        0                                        0                            0                        0                                0                                       0                                              0                                              0                                             1                        1                      0                       0                           0                           0                            1                  0                         1                         0                     0                    1                    0                        0                               1              0                            1                1                       1                     0              0                   1                        0                          0                          0                       0                0                    0              0                   0                    0   \n",
       "2    Audi A1    Sedans  14640    VAT deductible  83,450 km      02/2016   85 kW  Used  Audi    A1  Cloth, Black  Sedans         1598       NaN      NaN   Metallic               1       front      NaN      4 (Green)               0             NaT      Black           4           4  Automatic   Diesel              3.8              3.8                 3.8               2016           99         Euro 6                           1                         0                  0                                    0                            0                         1                           0                            0                                  1                                        0                                         0                           0                                0                      1                                    0                        0                                 1                       0                         0                        0                                        1                            1                        0                                1                                       0                                              0                                              1                                             1                        1                      0                       1                           0                           0                            1                  0                         0                         0                     0                    0                    0                        0                               0              1                            1                0                       0                     0              0                   1                        0                          0                          0                       0                0                    0              0                   0                    0   \n",
       "3    Audi A1    Sedans  14500              None  73,000 km      08/2016   66 kW  Used  Audi    A1           NaN  Sedans         1422         3  [\\n6\\n]   Metallic               1         NaN      NaN            NaN               0             NaT      Brown           3           4  Automatic   Diesel              3.8              3.8                 3.8               2016           99         Euro 6                           0                         1                  1                                    0                            1                         0                           0                            0                                  1                                        0                                         0                           1                                0                      1                                    0                        0                                 1                       1                         1                        0                                        1                            1                        0                                0                                       0                                              0                                              0                                             0                        1                      1                       1                           0                           1                            1                  0                         0                         0                     0                    1                    1                        0                               1              1                            1                1                       1                     0              1                   1                        0                          0                          0                       0                0                    0              0                   0                    0   \n",
       "4    Audi A1    Sedans  16790              None  16,200 km      05/2016   66 kW  Used  Audi    A1  Cloth, Black  Sedans         1422         3      NaN   Metallic               1       front  Germany            NaN               1             NaT      Black           5           5  Automatic   Diesel              4.1              4.1                 4.1               2016          109         Euro 6                           1                         0                  1                                    1                            0                         0                           0                            0                                  1                                        0                                         0                           0                                0                      1                                    0                        0                                 1                       1                         0                        0                                        1                            0                        0                                1                                       0                                              0                                              0                                             1                        1                      1                       0                           0                           0                            1                  0                         0                         0                     0                    1                    1                        0                               1              1                            1                1                       0                     0              1                   1                        0                          0                          0                       0                0                    0              0                   0                    1   \n",
       "\n",
       "   extra_Sport seats  extra_Sport suspension  extra_Touch screen  extra_Trailer hitch  extra_Tuned car  extra_Voice Control  extra_Winter tyres  safety_ABS  safety_Adaptive Cruise Control  safety_Adaptive headlights  safety_Alarm system  safety_Blind spot monitor  safety_Central door lock  safety_Central door lock with remote control  safety_Daytime running lights  safety_Driver drowsiness detection  safety_Driver-side airbag  safety_Electronic stability control  safety_Emergency brake assistant  safety_Emergency system  safety_Fog lights  safety_Head airbag  safety_Immobilizer  safety_Isofix  safety_LED Daytime Running Lights  safety_LED Headlights  safety_Lane departure warning system  safety_Night view assist  safety_Passenger-side airbag  safety_Power steering  safety_Rear airbag  safety_Side airbag  safety_Tire pressure monitoring system  safety_Traction control  safety_Traffic sign recognition  safety_Xenon headlights  \n",
       "0                  0                       0                   0                    0                0                    1                   0           1                               0                           0                    0                          0                         1                                             0                              1                                   0                          1                                    1                                 0                        0                  1                   0                   1              1                                  0                      0                                     0                         0                             1                      1                   0                   1                                       1                        1                                0                        1  \n",
       "1                  1                       1                   0                    0                0                    1                   0           1                               0                           0                    0                          0                         1                                             1                              1                                   0                          1                                    1                                 0                        0                  0                   1                   1              1                                  0                      0                                     0                         0                             1                      1                   0                   1                                       1                        1                                0                        1  \n",
       "2                  0                       0                   0                    0                0                    1                   0           1                               0                           0                    0                          0                         1                                             0                              1                                   0                          1                                    1                                 0                        0                  0                   0                   1              1                                  0                      0                                     0                         0                             1                      1                   0                   1                                       1                        1                                0                        0  \n",
       "3                  1                       0                   0                    0                0                    1                   0           1                               0                           0                    1                          0                         0                                             1                              0                                   1                          1                                    1                                 0                        1                  0                   1                   1              1                                  0                      0                                     0                         0                             1                      1                   0                   1                                       1                        0                                0                        0  \n",
       "4                  0                       1                   0                    0                0                    1                   0           1                               0                           0                    0                          0                         1                                             0                              0                                   0                          1                                    1                                 0                        0                  1                   0                   1              1                                  0                      0                                     0                         0                             1                      1                   0                   1                                       1                        1                                0                        1  "
      ]
     },
     "execution_count": 978,
     "metadata": {},
     "output_type": "execute_result"
    }
   ],
   "source": [
    "scout.head()"
   ]
  },
  {
   "cell_type": "code",
   "execution_count": 979,
   "metadata": {},
   "outputs": [
    {
     "data": {
      "text/plain": [
       "(15919, 127)"
      ]
     },
     "execution_count": 979,
     "metadata": {},
     "output_type": "execute_result"
    }
   ],
   "source": [
    "scout.shape"
   ]
  },
  {
   "cell_type": "code",
   "execution_count": 1021,
   "metadata": {},
   "outputs": [],
   "source": [
    "scout.to_csv('scout_cleaned_for_step_2.csv')"
   ]
  },
  {
   "cell_type": "code",
   "execution_count": null,
   "metadata": {},
   "outputs": [],
   "source": []
  }
 ],
 "metadata": {
  "kernelspec": {
   "display_name": "Python 3",
   "language": "python",
   "name": "python3"
  },
  "language_info": {
   "codemirror_mode": {
    "name": "ipython",
    "version": 3
   },
   "file_extension": ".py",
   "mimetype": "text/x-python",
   "name": "python",
   "nbconvert_exporter": "python",
   "pygments_lexer": "ipython3",
   "version": "3.7.6"
  }
 },
 "nbformat": 4,
 "nbformat_minor": 4
}
