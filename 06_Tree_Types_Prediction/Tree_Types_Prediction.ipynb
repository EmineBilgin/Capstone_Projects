{
 "cells": [
  {
   "cell_type": "markdown",
   "metadata": {
    "id": "Aw04Z9dIASCz"
   },
   "source": [
    "---\n",
    "---\n",
    "# Tree Types Prediction Project\n",
    "---\n",
    "---"
   ]
  },
  {
   "cell_type": "markdown",
   "metadata": {
    "id": "FxA4M_USASCz"
   },
   "source": [
    "## #Determines"
   ]
  },
  {
   "cell_type": "markdown",
   "metadata": {
    "id": "rEckIoqPASCz"
   },
   "source": [
    "In this project, we must perform EDA processes for implementing predictive models. Handling outliers, domain knowledge and feature engineering will be challenges. \n",
    "\n",
    "Also, this project aims to improve the ability to implement algorithms for ***Multi-Class Classification***. Thus, we will have the opportunity to implement many algorithms commonly used for Multi-Class Classification problems."
   ]
  },
  {
   "cell_type": "markdown",
   "metadata": {
    "id": "rWUbnCOHASCz"
   },
   "source": [
    "---"
   ]
  },
  {
   "cell_type": "markdown",
   "metadata": {
    "id": "AxyFkA5PASCz"
   },
   "source": [
    "Dataset contains tree observations from four areas of one national forest district. This dataset includes information on tree type, shadow coverage, distance to nearby landmarks, soil type, and local topography. The goal of the project is to build a model that predicts what types of trees grow in an area.\n",
    "***The Forest Dataset*** contains approximately 600 thousand lines, also you can easily find many information about it on the web (especially Kaggle).\n",
    "\n",
    "---\n",
    "\n",
    "To achieve high prediction success, we must understand the data well and develop different approaches that can affect the dependent variable.\n",
    "\n",
    "Firstly, we are soing to try to understand the dataset column by column using pandas module. Do research within the scope of domain (forest, trees) knowledge on the internet to get to know the data set in the fastest way. \n",
    "\n",
    "We should implement cleaning, handling with outliers and missing values using Pandas, NumPy and other required modules for the best result in modeling. We should do Feature Engineering using SQLite local database.\n",
    "\n",
    "At this point, in order to improve our skills of using SQL with Python, we are asked to perform feature engineering operations using *sqlite3* library in Python.\n",
    "\n",
    "After that, our final dataset with the new variables we have created will be ready for model building. We will implement ***Support Vector Machine, XGBoost, Random Forest, Desicion Tree*** and ***K-Nearest Neighbors (KNN)*** algorithms. Also, evaluate the success of our models with appropriate performance metrics and visualize them using ***Yellowbrick, Seaborn*** or ***Matplotlib*** modules.\n",
    "\n",
    "At the end of the project, we will create a chart comparing the performance of all models and choose the most successful model.\n",
    "\n",
    "- ***NOTE:*** *We will evaluate our models knowing that this is [imbalanced data](https://towardsdatascience.com/having-an-imbalanced-dataset-here-is-how-you-can-solve-it-1640568947eb). This is not the primary goal of the project, but we can study solve the class [imbalance problem](https://towardsdatascience.com/handling-imbalanced-datasets-in-machine-learning-7a0e84220f28) if also.*\n",
    "\n"
   ]
  },
  {
   "cell_type": "markdown",
   "metadata": {
    "id": "xdOyfC8jASCz"
   },
   "source": [
    "---\n",
    "---"
   ]
  },
  {
   "cell_type": "markdown",
   "metadata": {
    "id": "70sZDrv1ASCz"
   },
   "source": [
    "## 1. Exploratory Data Analysis"
   ]
  },
  {
   "cell_type": "markdown",
   "metadata": {
    "id": "6AZiiwrgri2o"
   },
   "source": [
    "### Importing Libraries, Loading Dataset, Exploring Data"
   ]
  },
  {
   "cell_type": "markdown",
   "metadata": {
    "id": "YhoTMDVLASCz"
   },
   "source": [
    "#### *i. Importing the Libraries for EDA*"
   ]
  },
  {
   "cell_type": "code",
   "execution_count": null,
   "metadata": {
    "id": "0ThMJSTCASCz"
   },
   "outputs": [],
   "source": [
    "import pandas as pd\n",
    "import numpy as np\n",
    "import matplotlib.pyplot as plt\n",
    "import seaborn as sns\n",
    "%matplotlib inline"
   ]
  },
  {
   "cell_type": "code",
   "execution_count": null,
   "metadata": {},
   "outputs": [],
   "source": [
    "import warnings\n",
    "warnings.filterwarnings('ignore')\n",
    "warnings.warn(\"this will not show\")"
   ]
  },
  {
   "cell_type": "code",
   "execution_count": null,
   "metadata": {},
   "outputs": [],
   "source": [
    "pd.set_option('display.max_columns', 500)\n",
    "pd.set_option('display.max_colwidth', 500)\n",
    "pd.set_option('display.max_info_columns', 500)\n",
    "pd.set_option('display.max_info_rows', 2000)\n",
    "pd.set_option('display.expand_frame_repr', True)\n",
    "pd.set_option('display.width', 2000)"
   ]
  },
  {
   "cell_type": "markdown",
   "metadata": {
    "id": "OUxd8117ASCz"
   },
   "source": [
    "#### *ii. Loading Dataset*"
   ]
  },
  {
   "cell_type": "code",
   "execution_count": null,
   "metadata": {
    "id": "nO4IbFeNASC0"
   },
   "outputs": [],
   "source": [
    "jungle = pd.read_csv('covtype.csv')"
   ]
  },
  {
   "cell_type": "markdown",
   "metadata": {
    "id": "y8W545bnASC0"
   },
   "source": [
    "#### *iii. Exploring Data*"
   ]
  },
  {
   "cell_type": "code",
   "execution_count": null,
   "metadata": {
    "id": "BVE7_TsoASC0"
   },
   "outputs": [],
   "source": [
    "jungle.shape"
   ]
  },
  {
   "cell_type": "code",
   "execution_count": null,
   "metadata": {},
   "outputs": [],
   "source": [
    "jungle.head()"
   ]
  },
  {
   "cell_type": "code",
   "execution_count": null,
   "metadata": {},
   "outputs": [],
   "source": [
    "jungle.info()"
   ]
  },
  {
   "cell_type": "code",
   "execution_count": null,
   "metadata": {},
   "outputs": [],
   "source": [
    "jungle.describe()"
   ]
  },
  {
   "cell_type": "code",
   "execution_count": null,
   "metadata": {},
   "outputs": [],
   "source": [
    "col_list = jungle.columns\n",
    "for i in col_list:\n",
    "    print(f'column name :{i}\\n',jungle[i].value_counts(dropna=False), '\\n')"
   ]
  },
  {
   "cell_type": "code",
   "execution_count": null,
   "metadata": {},
   "outputs": [],
   "source": [
    "correlation_serie = jungle.corr()['Cover_Type'].sort_values(ascending=False)"
   ]
  },
  {
   "cell_type": "code",
   "execution_count": null,
   "metadata": {},
   "outputs": [],
   "source": [
    "plt.figure(figsize=(10,15))\n",
    "sns.barplot(x=correlation_serie, y=correlation_serie.index, orient='h')"
   ]
  },
  {
   "cell_type": "code",
   "execution_count": null,
   "metadata": {},
   "outputs": [],
   "source": [
    "jungle[['Soil_Type26', 'Soil_Type7', 'Soil_Type28', 'Soil_Type8','Cover_Type']].corr()['Cover_Type']"
   ]
  },
  {
   "cell_type": "code",
   "execution_count": null,
   "metadata": {},
   "outputs": [],
   "source": [
    "pd.DataFrame(jungle.corr())[pd.DataFrame(jungle.corr())>.5]"
   ]
  },
  {
   "cell_type": "code",
   "execution_count": null,
   "metadata": {},
   "outputs": [],
   "source": [
    "jungle.Cover_Type.value_counts(normalize=True)"
   ]
  },
  {
   "cell_type": "code",
   "execution_count": null,
   "metadata": {},
   "outputs": [],
   "source": [
    "jungle.drop(columns=['Soil_Type7', 'Soil_Type8', 'Soil_Type15', 'Soil_Type36'],axis=1, inplace=True)"
   ]
  },
  {
   "cell_type": "markdown",
   "metadata": {},
   "source": [
    "Now that some features contain highly inbalanced values we are going to drop them. \n",
    "To do so we are going to drop columns 'Soil_Type7', 'Soil_Type8', 'Soil_Type15', 'Soil_Type36'. \n"
   ]
  },
  {
   "cell_type": "markdown",
   "metadata": {
    "id": "fQeP_Dhtri3v"
   },
   "source": [
    "***\n",
    "***"
   ]
  },
  {
   "cell_type": "markdown",
   "metadata": {
    "id": "kdwJqW45ASC0"
   },
   "source": [
    "## 2.  Data Cleaning"
   ]
  },
  {
   "cell_type": "markdown",
   "metadata": {
    "id": "h95eEjnEASC0"
   },
   "source": [
    "### Detect Missing Values and Outliers"
   ]
  },
  {
   "cell_type": "markdown",
   "metadata": {
    "id": "TNvbnTdnASC0"
   },
   "source": [
    "#### *i. Missing Value Detection*"
   ]
  },
  {
   "cell_type": "code",
   "execution_count": null,
   "metadata": {
    "id": "VkLpnVcvASC0"
   },
   "outputs": [],
   "source": [
    "# Missing value check\n",
    "(jungle.isnull().sum()*100/jungle.shape[0]).sort_values()"
   ]
  },
  {
   "cell_type": "markdown",
   "metadata": {
    "id": "AdTLXhWeASC0"
   },
   "source": [
    "#### *ii. Outlier Detection*\n",
    "\n",
    "The columns which have continuous value should be examined in terms of [outliers](https://datascience.foundation/sciencewhitepaper/knowing-all-about-outliers-in-machine-learning). Some algorithms are [sensitive to outliers](https://arsrinevetha.medium.com/ml-algorithms-sensitivity-towards-outliers-f3862a13c94d), but some algorithms can tolerate them. \n",
    "- We can check the outliers shape of continous features with respect to the target (Cover_Type) classes.\n",
    "- We can check how many outliers are there of each continuous variables."
   ]
  },
  {
   "cell_type": "markdown",
   "metadata": {
    "id": "2cj4fc_jASC0"
   },
   "source": [
    "Our continuous features are:\n",
    "   * 'Elevation'\n",
    "   * 'Aspect'\n",
    "   * 'Slope' \n",
    "   * 'Horizontal_Distance_To_Hydrology'\n",
    "   * 'Vertical_Distance_To_Hydrology'\n",
    "   * 'Horizontal_Distance_To_Roadways'\n",
    "   * 'Hillshade_9am'\n",
    "   * 'Hillshade_Noon'\n",
    "   * 'Hillshade_3pm'\n",
    "   * 'Horizontal_Distance_To_Fire_Points'"
   ]
  },
  {
   "cell_type": "code",
   "execution_count": null,
   "metadata": {},
   "outputs": [],
   "source": [
    "plt.figure(figsize = (8, 12))\n",
    "plt.subplot(311)\n",
    "sns.distplot(jungle.Elevation)\n",
    "plt.subplot(312)\n",
    "sns.boxplot(jungle.Elevation, orient='h')\n",
    "plt.subplot(313)\n",
    "sns.scatterplot(y='Elevation', x = 'Cover_Type', data=jungle)"
   ]
  },
  {
   "cell_type": "code",
   "execution_count": null,
   "metadata": {},
   "outputs": [],
   "source": [
    "plt.figure(figsize = (8, 12))\n",
    "plt.subplot(311)\n",
    "sns.distplot(jungle.Aspect)\n",
    "plt.subplot(312)\n",
    "sns.boxplot(jungle.Aspect, orient='h')\n",
    "plt.subplot(313)\n",
    "sns.scatterplot(y='Aspect', x = 'Cover_Type', data=jungle)"
   ]
  },
  {
   "cell_type": "code",
   "execution_count": null,
   "metadata": {},
   "outputs": [],
   "source": [
    "plt.figure(figsize = (8, 12))\n",
    "plt.subplot(311)\n",
    "sns.distplot(jungle.Slope)\n",
    "plt.subplot(312)\n",
    "sns.boxplot(jungle.Slope, orient='h')\n",
    "plt.subplot(313)\n",
    "sns.scatterplot(y='Slope', x = 'Cover_Type', data=jungle)"
   ]
  },
  {
   "cell_type": "code",
   "execution_count": null,
   "metadata": {},
   "outputs": [],
   "source": [
    "plt.figure(figsize = (8, 12))\n",
    "plt.subplot(311)\n",
    "sns.distplot(jungle.Horizontal_Distance_To_Hydrology)\n",
    "plt.subplot(312)\n",
    "sns.boxplot(jungle.Horizontal_Distance_To_Hydrology, orient='h')\n",
    "plt.subplot(313)\n",
    "sns.scatterplot(y='Horizontal_Distance_To_Hydrology', x = 'Cover_Type', data=jungle)"
   ]
  },
  {
   "cell_type": "code",
   "execution_count": null,
   "metadata": {},
   "outputs": [],
   "source": [
    "plt.figure(figsize = (8, 12))\n",
    "plt.subplot(311)\n",
    "sns.distplot(jungle.Vertical_Distance_To_Hydrology)\n",
    "plt.subplot(312)\n",
    "sns.boxplot(jungle.Vertical_Distance_To_Hydrology, orient='h')\n",
    "plt.subplot(313)\n",
    "sns.scatterplot(y='Vertical_Distance_To_Hydrology', x = 'Cover_Type', data=jungle)"
   ]
  },
  {
   "cell_type": "code",
   "execution_count": null,
   "metadata": {},
   "outputs": [],
   "source": [
    "plt.figure(figsize = (8, 12))\n",
    "plt.subplot(311)\n",
    "sns.distplot(jungle.Horizontal_Distance_To_Roadways)\n",
    "plt.subplot(312)\n",
    "sns.boxplot(jungle.Horizontal_Distance_To_Roadways, orient='h')\n",
    "plt.subplot(313)\n",
    "sns.scatterplot(y='Horizontal_Distance_To_Roadways', x = 'Cover_Type', data=jungle)"
   ]
  },
  {
   "cell_type": "code",
   "execution_count": null,
   "metadata": {},
   "outputs": [],
   "source": [
    "plt.figure(figsize = (8, 12))\n",
    "plt.subplot(311)\n",
    "sns.distplot(jungle.Hillshade_9am)\n",
    "plt.subplot(312)\n",
    "sns.boxplot(jungle.Hillshade_9am, orient='h')\n",
    "plt.subplot(313)\n",
    "sns.scatterplot(y='Hillshade_9am', x = 'Cover_Type', data=jungle)"
   ]
  },
  {
   "cell_type": "code",
   "execution_count": null,
   "metadata": {},
   "outputs": [],
   "source": [
    "plt.figure(figsize = (8, 12))\n",
    "plt.subplot(311)\n",
    "sns.distplot(jungle.Hillshade_Noon)\n",
    "plt.subplot(312)\n",
    "sns.boxplot(jungle.Hillshade_Noon, orient='h')\n",
    "plt.subplot(313)\n",
    "sns.scatterplot(y='Hillshade_Noon', x = 'Cover_Type', data=jungle)"
   ]
  },
  {
   "cell_type": "code",
   "execution_count": null,
   "metadata": {},
   "outputs": [],
   "source": [
    "plt.figure(figsize = (8, 12))\n",
    "plt.subplot(311)\n",
    "sns.distplot(jungle.Hillshade_3pm)\n",
    "plt.subplot(312)\n",
    "sns.boxplot(jungle.Hillshade_3pm, orient='h')\n",
    "plt.subplot(313)\n",
    "sns.scatterplot(y='Hillshade_3pm', x = 'Cover_Type', data=jungle)"
   ]
  },
  {
   "cell_type": "code",
   "execution_count": null,
   "metadata": {},
   "outputs": [],
   "source": [
    "plt.figure(figsize = (8, 12))\n",
    "plt.subplot(311)\n",
    "sns.distplot(jungle.Horizontal_Distance_To_Fire_Points)\n",
    "plt.subplot(312)\n",
    "sns.boxplot(jungle.Horizontal_Distance_To_Fire_Points, orient='h')\n",
    "plt.subplot(313)\n",
    "sns.scatterplot(y='Horizontal_Distance_To_Fire_Points', x = 'Cover_Type', data=jungle)"
   ]
  },
  {
   "cell_type": "code",
   "execution_count": null,
   "metadata": {},
   "outputs": [],
   "source": []
  },
  {
   "cell_type": "markdown",
   "metadata": {
    "id": "ax0-S9b6ri3I"
   },
   "source": [
    "### Deal with Outliers"
   ]
  },
  {
   "cell_type": "markdown",
   "metadata": {
    "id": "IQPOenOmri3O"
   },
   "source": [
    "#### *i. Visualize Zscore Tresholds (how many times IQR) by Continuous Variables*"
   ]
  },
  {
   "cell_type": "markdown",
   "metadata": {
    "id": "XkpePUCYASC0"
   },
   "source": [
    "There are many different methods for outliers. We can use IQR values used as standard to deal with outliers, or you can define two functions to help you understand the outliers and how you can deal with them."
   ]
  },
  {
   "cell_type": "code",
   "execution_count": null,
   "metadata": {},
   "outputs": [],
   "source": [
    "from scipy.stats.mstats import winsorize\n",
    "from scipy.stats import zscore\n",
    "from scipy import stats"
   ]
  },
  {
   "cell_type": "code",
   "execution_count": null,
   "metadata": {},
   "outputs": [],
   "source": [
    "zscore(jungle.Elevation)"
   ]
  },
  {
   "cell_type": "code",
   "execution_count": null,
   "metadata": {
    "id": "28KUmwCLri3L"
   },
   "outputs": [],
   "source": [
    "def outlier_zscore(df, col, min_z=1, max_z = 5, step = 0.1, print_list = False):\n",
    "    z_scores = zscore(df[col].dropna())\n",
    "    threshold_list = []\n",
    "    for threshold in np.arange(min_z, max_z, step):\n",
    "        threshold_list.append((threshold, len(np.where(z_scores > threshold)[0])))\n",
    "        df_outlier = pd.DataFrame(threshold_list, columns = ['threshold', 'outlier_count'])\n",
    "        df_outlier['pct'] = (df_outlier.outlier_count - df_outlier.outlier_count.shift(-1))/df_outlier.outlier_count*100\n",
    "    plt.plot(df_outlier.threshold, df_outlier.outlier_count)\n",
    "    best_treshold = round(df_outlier.iloc[df_outlier.pct.argmax(), 0],2)\n",
    "    outlier_limit = int(df[col].dropna().mean() + (df[col].dropna().std()) * df_outlier.iloc[df_outlier.pct.argmax(), 0])\n",
    "    percentile_threshold = stats.percentileofscore(df[col].dropna(), outlier_limit)\n",
    "    plt.vlines(best_treshold, 0, df_outlier.outlier_count.max(), \n",
    "               colors=\"r\", ls = \":\"\n",
    "              )\n",
    "    plt.annotate(\"Zscore : {}\\nValue : {}\\nPercentile : {}\".format(best_treshold, outlier_limit, \n",
    "                                                                   (np.round(percentile_threshold, 3), \n",
    "                                                                    np.round(100-percentile_threshold, 3))), \n",
    "                 (best_treshold, df_outlier.outlier_count.max()/2))\n",
    "    #plt.show()\n",
    "    if print_list:\n",
    "        print(df_outlier)\n",
    "    return (plt, df_outlier, best_treshold, outlier_limit, percentile_threshold)"
   ]
  },
  {
   "cell_type": "code",
   "execution_count": null,
   "metadata": {
    "id": "Uu2x64KDri3N"
   },
   "outputs": [],
   "source": [
    "def outlier_inspect(df, col, min_z=1, max_z = 5, step = 0.5, max_hist = None, bins = 50):\n",
    "    fig = plt.figure(figsize=(20, 6))\n",
    "    fig.suptitle(col, fontsize=16)\n",
    "    plt.subplot(1,3,1)\n",
    "    if max_hist == None:\n",
    "        sns.distplot(df[col], kde=False, bins = 50)\n",
    "    else :\n",
    "        sns.distplot(df[df[col]<=max_hist][col], kde=False, bins = 50)\n",
    "    plt.subplot(1,3,2)\n",
    "    sns.boxplot(df[col])\n",
    "    plt.subplot(1,3,3)\n",
    "    z_score_inspect = outlier_zscore(df, col, min_z=min_z, max_z = max_z, step = step, print_list=True)\n",
    "    plt.show()"
   ]
  },
  {
   "cell_type": "code",
   "execution_count": null,
   "metadata": {
    "id": "G3DOlPiIASC0"
   },
   "outputs": [],
   "source": [
    "continues_features = ['Elevation', 'Aspect', 'Slope', 'Horizontal_Distance_To_Hydrology', 'Vertical_Distance_To_Hydrology', 'Horizontal_Distance_To_Roadways', 'Hillshade_9am', 'Hillshade_Noon', 'Hillshade_3pm', 'Horizontal_Distance_To_Fire_Points']"
   ]
  },
  {
   "cell_type": "code",
   "execution_count": null,
   "metadata": {
    "id": "G3DOlPiIASC0"
   },
   "outputs": [],
   "source": [
    "outlier_inspect(jungle, continues_features[0], min_z=1, max_z = 5, step = 0.5, max_hist = None, bins = 50)"
   ]
  },
  {
   "cell_type": "code",
   "execution_count": null,
   "metadata": {},
   "outputs": [],
   "source": [
    "def outliers_zscore(df, col, z_treshold=3, row_val='row'):\n",
    "    threshold = z_treshold\n",
    "    mean_y = np.mean(df[col])\n",
    "    stdev_y = np.std(df[col])\n",
    "    z_scores = [(y - mean_y) / stdev_y for y in df[col]]\n",
    "    outlier_rows = pd.DataFrame([i for i in np.where(np.abs(z_scores) > threshold)]).T[0]\n",
    "    outlier_values = pd.DataFrame([df[col].iloc[i] for i in np.where(np.abs(z_scores) > threshold)]).T\n",
    "    if row_val=='row':\n",
    "        return outlier_rows\n",
    "    else:\n",
    "        return outlier_values"
   ]
  },
  {
   "cell_type": "code",
   "execution_count": null,
   "metadata": {},
   "outputs": [],
   "source": [
    "elevation_outlier_lst = list(outliers_zscore(jungle, 'Elevation', z_treshold=3,row_val='val').Elevation)"
   ]
  },
  {
   "cell_type": "code",
   "execution_count": null,
   "metadata": {},
   "outputs": [],
   "source": [
    "elevation_outlier = jungle.Elevation.isin(elevation_outlier_lst)"
   ]
  },
  {
   "cell_type": "code",
   "execution_count": null,
   "metadata": {},
   "outputs": [],
   "source": [
    "elevation_outlier.value_counts()"
   ]
  },
  {
   "cell_type": "code",
   "execution_count": null,
   "metadata": {},
   "outputs": [],
   "source": [
    "jungle.loc[elevation_outlier,'Elevation'] = np.nan"
   ]
  },
  {
   "cell_type": "code",
   "execution_count": null,
   "metadata": {},
   "outputs": [],
   "source": [
    "jungle.Elevation.value_counts(dropna=False)"
   ]
  },
  {
   "cell_type": "code",
   "execution_count": null,
   "metadata": {},
   "outputs": [],
   "source": [
    "jungle.groupby('Cover_Type')['Elevation'].median()"
   ]
  },
  {
   "cell_type": "code",
   "execution_count": null,
   "metadata": {},
   "outputs": [],
   "source": [
    "jungle.groupby('Cover_Type')['Elevation'].mean()"
   ]
  },
  {
   "cell_type": "code",
   "execution_count": null,
   "metadata": {},
   "outputs": [],
   "source": [
    "jungle.Elevation = jungle.Elevation.fillna(jungle.groupby('Cover_Type')['Elevation'].transform('median'))"
   ]
  },
  {
   "cell_type": "code",
   "execution_count": null,
   "metadata": {},
   "outputs": [],
   "source": [
    "jungle.Elevation.isnull().value_counts()"
   ]
  },
  {
   "cell_type": "markdown",
   "metadata": {
    "id": "XfVCLwHlASC0"
   },
   "source": [
    "#### *ii. Drop Outliers*"
   ]
  },
  {
   "cell_type": "markdown",
   "metadata": {
    "id": "v1e8ZBCvASC0"
   },
   "source": [
    "You can define another function to detect outliers in accordance with the ``zscore`` (how many times IQR) value you choose according to the result from the previous functions."
   ]
  },
  {
   "cell_type": "code",
   "execution_count": null,
   "metadata": {
    "id": "vCEpJdxWASC0"
   },
   "outputs": [],
   "source": [
    "outlier_inspect(jungle, continues_features[1], min_z=1, max_z = 5, step = 0.5, max_hist = None, bins = 50)"
   ]
  },
  {
   "cell_type": "code",
   "execution_count": null,
   "metadata": {},
   "outputs": [],
   "source": [
    "outlier_inspect(jungle, continues_features[2], min_z=1, max_z = 5, step = 0.5, max_hist = None, bins = 50)"
   ]
  },
  {
   "cell_type": "code",
   "execution_count": null,
   "metadata": {},
   "outputs": [],
   "source": [
    "slope_outlier_lst = list(outliers_zscore(jungle, 'Slope', z_treshold=3,row_val='val').Slope)"
   ]
  },
  {
   "cell_type": "code",
   "execution_count": null,
   "metadata": {},
   "outputs": [],
   "source": [
    "slope_outlier = jungle.Slope.isin(slope_outlier_lst)"
   ]
  },
  {
   "cell_type": "code",
   "execution_count": null,
   "metadata": {},
   "outputs": [],
   "source": [
    "slope_outlier.value_counts()"
   ]
  },
  {
   "cell_type": "code",
   "execution_count": null,
   "metadata": {},
   "outputs": [],
   "source": [
    "jungle.loc[slope_outlier,'Slope'] = np.nan"
   ]
  },
  {
   "cell_type": "code",
   "execution_count": null,
   "metadata": {},
   "outputs": [],
   "source": [
    "jungle.Slope.value_counts(dropna=False)"
   ]
  },
  {
   "cell_type": "code",
   "execution_count": null,
   "metadata": {},
   "outputs": [],
   "source": [
    "jungle.groupby('Cover_Type')['Slope'].median()"
   ]
  },
  {
   "cell_type": "code",
   "execution_count": null,
   "metadata": {},
   "outputs": [],
   "source": [
    "jungle.groupby('Cover_Type')['Slope'].mean()"
   ]
  },
  {
   "cell_type": "code",
   "execution_count": null,
   "metadata": {},
   "outputs": [],
   "source": [
    "jungle.Slope = jungle.Slope.fillna(jungle.groupby('Cover_Type')['Slope'].transform('median'))"
   ]
  },
  {
   "cell_type": "code",
   "execution_count": null,
   "metadata": {},
   "outputs": [],
   "source": [
    "jungle.Slope.isnull().value_counts()"
   ]
  },
  {
   "cell_type": "code",
   "execution_count": null,
   "metadata": {},
   "outputs": [],
   "source": [
    "outlier_inspect(jungle, continues_features[3], min_z=1, max_z = 5, step = 0.5, max_hist = None, bins = 50)"
   ]
  },
  {
   "cell_type": "code",
   "execution_count": null,
   "metadata": {},
   "outputs": [],
   "source": [
    "horhyd_outlier_lst = list(outliers_zscore(jungle, 'Horizontal_Distance_To_Hydrology', z_treshold=4,row_val='val').Horizontal_Distance_To_Hydrology)"
   ]
  },
  {
   "cell_type": "code",
   "execution_count": null,
   "metadata": {},
   "outputs": [],
   "source": [
    "horhyd_outlier = jungle.Horizontal_Distance_To_Hydrology.isin(horhyd_outlier_lst)"
   ]
  },
  {
   "cell_type": "code",
   "execution_count": null,
   "metadata": {},
   "outputs": [],
   "source": [
    "horhyd_outlier.value_counts()"
   ]
  },
  {
   "cell_type": "code",
   "execution_count": null,
   "metadata": {},
   "outputs": [],
   "source": [
    "jungle.loc[horhyd_outlier,'Horizontal_Distance_To_Hydrology'] = np.nan"
   ]
  },
  {
   "cell_type": "code",
   "execution_count": null,
   "metadata": {},
   "outputs": [],
   "source": [
    "jungle.Horizontal_Distance_To_Hydrology.isnull().value_counts()"
   ]
  },
  {
   "cell_type": "code",
   "execution_count": null,
   "metadata": {},
   "outputs": [],
   "source": [
    "jungle.groupby('Cover_Type')['Horizontal_Distance_To_Hydrology'].median()"
   ]
  },
  {
   "cell_type": "code",
   "execution_count": null,
   "metadata": {},
   "outputs": [],
   "source": [
    "jungle.groupby('Cover_Type')['Horizontal_Distance_To_Hydrology'].mean()"
   ]
  },
  {
   "cell_type": "code",
   "execution_count": null,
   "metadata": {},
   "outputs": [],
   "source": [
    "jungle.Horizontal_Distance_To_Hydrology = jungle.Horizontal_Distance_To_Hydrology.fillna(jungle.groupby('Cover_Type')['Horizontal_Distance_To_Hydrology'].transform('median'))\n",
    "jungle.Horizontal_Distance_To_Hydrology.isnull().value_counts()"
   ]
  },
  {
   "cell_type": "code",
   "execution_count": null,
   "metadata": {},
   "outputs": [],
   "source": [
    "outlier_inspect(jungle, continues_features[4], min_z=1, max_z = 5, step = 0.5, max_hist = None, bins = 50)"
   ]
  },
  {
   "cell_type": "code",
   "execution_count": null,
   "metadata": {},
   "outputs": [],
   "source": [
    "verdist_outlier_lst = list(outliers_zscore(jungle, continues_features[4], z_treshold=2.5,row_val='val')[continues_features[4]])"
   ]
  },
  {
   "cell_type": "code",
   "execution_count": null,
   "metadata": {},
   "outputs": [],
   "source": [
    "len(verdist_outlier_lst)"
   ]
  },
  {
   "cell_type": "code",
   "execution_count": null,
   "metadata": {},
   "outputs": [],
   "source": [
    "def outliers_iqr(df, col_name):\n",
    "    '''\n",
    "    this function detects outliers based on 3 time IQR and\n",
    "    returns the number of lower and uper limit and number of outliers respectively\n",
    "    '''\n",
    "    first_quartile = np.percentile(np.array(df[col_name].tolist()), 25)\n",
    "    third_quartile = np.percentile(np.array(df[col_name].tolist()), 75)\n",
    "    IQR = third_quartile - first_quartile\n",
    "    upper_limit = third_quartile+(3*IQR)\n",
    "    lower_limit = first_quartile-(3*IQR)\n",
    "    outlier_count = 0\n",
    "    for value in df[col_name].tolist():\n",
    "        if (value < lower_limit) | (value > upper_limit):\n",
    "            outlier_count +=1\n",
    "    return lower_limit, upper_limit, outlier_count"
   ]
  },
  {
   "cell_type": "code",
   "execution_count": null,
   "metadata": {},
   "outputs": [],
   "source": [
    "jungle[(jungle[continues_features[4]] < outliers_iqr(jungle, continues_features[4])[0]) | (jungle[continues_features[4]] > outliers_iqr(jungle, continues_features[4])[1])]"
   ]
  },
  {
   "cell_type": "code",
   "execution_count": null,
   "metadata": {},
   "outputs": [],
   "source": [
    "outlier_df = jungle[(jungle[continues_features[4]] < outliers_iqr(jungle, continues_features[4])[0]) | (jungle[continues_features[4]] > outliers_iqr(jungle, continues_features[4])[1])]"
   ]
  },
  {
   "cell_type": "code",
   "execution_count": null,
   "metadata": {},
   "outputs": [],
   "source": [
    "verdist_outlier_lst = outlier_df[continues_features[4]].tolist()"
   ]
  },
  {
   "cell_type": "code",
   "execution_count": null,
   "metadata": {},
   "outputs": [],
   "source": [
    "verdist_outlier = jungle.Vertical_Distance_To_Hydrology.isin(verdist_outlier_lst)"
   ]
  },
  {
   "cell_type": "code",
   "execution_count": null,
   "metadata": {},
   "outputs": [],
   "source": [
    "verdist_outlier.value_counts()"
   ]
  },
  {
   "cell_type": "code",
   "execution_count": null,
   "metadata": {},
   "outputs": [],
   "source": [
    "jungle.loc[verdist_outlier,'Vertical_Distance_To_Hydrology'] = np.nan"
   ]
  },
  {
   "cell_type": "code",
   "execution_count": null,
   "metadata": {},
   "outputs": [],
   "source": [
    "jungle[[continues_features[4]]].isnull().value_counts()"
   ]
  },
  {
   "cell_type": "code",
   "execution_count": null,
   "metadata": {},
   "outputs": [],
   "source": [
    "jungle.groupby('Cover_Type')['Vertical_Distance_To_Hydrology'].median()"
   ]
  },
  {
   "cell_type": "code",
   "execution_count": null,
   "metadata": {},
   "outputs": [],
   "source": [
    "jungle.groupby('Cover_Type')['Vertical_Distance_To_Hydrology'].mean()"
   ]
  },
  {
   "cell_type": "code",
   "execution_count": null,
   "metadata": {},
   "outputs": [],
   "source": [
    "jungle.Vertical_Distance_To_Hydrology = jungle.Vertical_Distance_To_Hydrology.fillna(jungle.groupby('Cover_Type')['Vertical_Distance_To_Hydrology'].transform('median'))\n",
    "jungle.Vertical_Distance_To_Hydrology.isnull().value_counts()"
   ]
  },
  {
   "cell_type": "code",
   "execution_count": null,
   "metadata": {},
   "outputs": [],
   "source": [
    "outlier_inspect(jungle, continues_features[5], min_z=1, max_z = 5, step = 0.5, max_hist = None, bins = 50)"
   ]
  },
  {
   "cell_type": "code",
   "execution_count": null,
   "metadata": {},
   "outputs": [],
   "source": [
    "outlier_lst = list(outliers_zscore(jungle, continues_features[5], z_treshold=3,row_val='val')[continues_features[5]])"
   ]
  },
  {
   "cell_type": "code",
   "execution_count": null,
   "metadata": {},
   "outputs": [],
   "source": [
    "len(outlier_lst)"
   ]
  },
  {
   "cell_type": "code",
   "execution_count": null,
   "metadata": {},
   "outputs": [],
   "source": [
    "roadway_outlier = jungle[continues_features[5]].isin(outlier_lst)"
   ]
  },
  {
   "cell_type": "code",
   "execution_count": null,
   "metadata": {},
   "outputs": [],
   "source": [
    "roadway_outlier.value_counts()"
   ]
  },
  {
   "cell_type": "code",
   "execution_count": null,
   "metadata": {},
   "outputs": [],
   "source": [
    "jungle.loc[roadway_outlier,'Horizontal_Distance_To_Roadways'] = np.nan"
   ]
  },
  {
   "cell_type": "code",
   "execution_count": null,
   "metadata": {},
   "outputs": [],
   "source": [
    "jungle[[continues_features[5]]].isnull().value_counts()"
   ]
  },
  {
   "cell_type": "code",
   "execution_count": null,
   "metadata": {},
   "outputs": [],
   "source": [
    "jungle.groupby('Cover_Type')['Horizontal_Distance_To_Roadways'].median()"
   ]
  },
  {
   "cell_type": "code",
   "execution_count": null,
   "metadata": {},
   "outputs": [],
   "source": [
    "jungle.groupby('Cover_Type')['Horizontal_Distance_To_Roadways'].mean()"
   ]
  },
  {
   "cell_type": "code",
   "execution_count": null,
   "metadata": {},
   "outputs": [],
   "source": [
    "jungle.Horizontal_Distance_To_Roadways = jungle.Horizontal_Distance_To_Roadways.fillna(jungle.groupby('Cover_Type')['Horizontal_Distance_To_Roadways'].transform('median'))\n",
    "jungle.Horizontal_Distance_To_Roadways.isnull().value_counts()"
   ]
  },
  {
   "cell_type": "code",
   "execution_count": null,
   "metadata": {},
   "outputs": [],
   "source": [
    "outlier_inspect(jungle, continues_features[6], min_z=1, max_z = 5, step = 0.5, max_hist = None, bins = 50)"
   ]
  },
  {
   "cell_type": "code",
   "execution_count": null,
   "metadata": {},
   "outputs": [],
   "source": [
    "outlier_lst = list(outliers_zscore(jungle, continues_features[6], z_treshold=2,row_val='val')[continues_features[6]])"
   ]
  },
  {
   "cell_type": "code",
   "execution_count": null,
   "metadata": {},
   "outputs": [],
   "source": [
    "len(outlier_lst)"
   ]
  },
  {
   "cell_type": "code",
   "execution_count": null,
   "metadata": {},
   "outputs": [],
   "source": [
    "jungle[(jungle[continues_features[6]] < outliers_iqr(jungle, continues_features[6])[0]) | (jungle[continues_features[6]] > outliers_iqr(jungle, continues_features[6])[1])]"
   ]
  },
  {
   "cell_type": "code",
   "execution_count": null,
   "metadata": {},
   "outputs": [],
   "source": [
    "outlier_df = jungle[(jungle[continues_features[6]] < outliers_iqr(jungle, continues_features[6])[0]) | (jungle[continues_features[6]] > outliers_iqr(jungle, continues_features[6])[1])]"
   ]
  },
  {
   "cell_type": "code",
   "execution_count": null,
   "metadata": {},
   "outputs": [],
   "source": [
    "outlier_lst = outlier_df[continues_features[6]].tolist()"
   ]
  },
  {
   "cell_type": "code",
   "execution_count": null,
   "metadata": {},
   "outputs": [],
   "source": [
    "Hillshade_9am_outlier = jungle.Hillshade_9am.isin(outlier_lst)"
   ]
  },
  {
   "cell_type": "code",
   "execution_count": null,
   "metadata": {},
   "outputs": [],
   "source": [
    "Hillshade_9am_outlier.value_counts()"
   ]
  },
  {
   "cell_type": "code",
   "execution_count": null,
   "metadata": {},
   "outputs": [],
   "source": [
    "jungle.loc[Hillshade_9am_outlier,'Hillshade_9am'] = np.nan"
   ]
  },
  {
   "cell_type": "code",
   "execution_count": null,
   "metadata": {},
   "outputs": [],
   "source": [
    "jungle[[continues_features[6]]].isnull().value_counts()"
   ]
  },
  {
   "cell_type": "code",
   "execution_count": null,
   "metadata": {},
   "outputs": [],
   "source": [
    "jungle.groupby('Cover_Type')['Hillshade_9am'].median()"
   ]
  },
  {
   "cell_type": "code",
   "execution_count": null,
   "metadata": {},
   "outputs": [],
   "source": [
    "jungle.groupby('Cover_Type')['Hillshade_9am'].mean()"
   ]
  },
  {
   "cell_type": "code",
   "execution_count": null,
   "metadata": {},
   "outputs": [],
   "source": [
    "jungle.Hillshade_9am = jungle.Hillshade_9am.fillna(jungle.groupby('Cover_Type')['Hillshade_9am'].transform('median'))\n",
    "jungle.Hillshade_9am.isnull().value_counts()"
   ]
  },
  {
   "cell_type": "code",
   "execution_count": null,
   "metadata": {},
   "outputs": [],
   "source": [
    "outlier_inspect(jungle, continues_features[7], min_z=1, max_z = 5, step = 0.5, max_hist = None, bins = 50)"
   ]
  },
  {
   "cell_type": "code",
   "execution_count": null,
   "metadata": {},
   "outputs": [],
   "source": [
    "outlier_lst = list(outliers_zscore(jungle, continues_features[7], z_treshold=2,row_val='val')[continues_features[7]])"
   ]
  },
  {
   "cell_type": "code",
   "execution_count": null,
   "metadata": {},
   "outputs": [],
   "source": [
    "len(outlier_lst)"
   ]
  },
  {
   "cell_type": "code",
   "execution_count": null,
   "metadata": {},
   "outputs": [],
   "source": [
    "jungle[(jungle[continues_features[7]] < outliers_iqr(jungle, continues_features[7])[0]) | (jungle[continues_features[7]] > outliers_iqr(jungle, continues_features[7])[1])]"
   ]
  },
  {
   "cell_type": "code",
   "execution_count": null,
   "metadata": {},
   "outputs": [],
   "source": [
    "outlier_df = jungle[(jungle[continues_features[7]] < outliers_iqr(jungle, continues_features[7])[0]) | (jungle[continues_features[7]] > outliers_iqr(jungle, continues_features[7])[1])]"
   ]
  },
  {
   "cell_type": "code",
   "execution_count": null,
   "metadata": {},
   "outputs": [],
   "source": [
    "outlier_lst = outlier_df[continues_features[7]].tolist()"
   ]
  },
  {
   "cell_type": "code",
   "execution_count": null,
   "metadata": {},
   "outputs": [],
   "source": [
    "Hillshade_noon_outlier = jungle[continues_features[7]].isin(outlier_lst)"
   ]
  },
  {
   "cell_type": "code",
   "execution_count": null,
   "metadata": {},
   "outputs": [],
   "source": [
    "Hillshade_noon_outlier.value_counts()"
   ]
  },
  {
   "cell_type": "code",
   "execution_count": null,
   "metadata": {},
   "outputs": [],
   "source": [
    "jungle.loc[Hillshade_noon_outlier,continues_features[7]] = np.nan"
   ]
  },
  {
   "cell_type": "code",
   "execution_count": null,
   "metadata": {},
   "outputs": [],
   "source": [
    "jungle[[continues_features[7]]].isnull().value_counts()"
   ]
  },
  {
   "cell_type": "code",
   "execution_count": null,
   "metadata": {},
   "outputs": [],
   "source": [
    "jungle.groupby('Cover_Type')[continues_features[7]].median()"
   ]
  },
  {
   "cell_type": "code",
   "execution_count": null,
   "metadata": {},
   "outputs": [],
   "source": [
    "jungle.groupby('Cover_Type')[continues_features[7]].mean()"
   ]
  },
  {
   "cell_type": "code",
   "execution_count": null,
   "metadata": {},
   "outputs": [],
   "source": [
    "jungle[continues_features[7]] = jungle[continues_features[7]].fillna(jungle.groupby('Cover_Type')[continues_features[7]].transform('median'))\n",
    "jungle[continues_features[7]].isnull().value_counts()"
   ]
  },
  {
   "cell_type": "code",
   "execution_count": null,
   "metadata": {},
   "outputs": [],
   "source": []
  },
  {
   "cell_type": "code",
   "execution_count": null,
   "metadata": {},
   "outputs": [],
   "source": [
    "outlier_inspect(jungle, continues_features[8], min_z=1, max_z = 5, step = 0.5, max_hist = None, bins = 50)"
   ]
  },
  {
   "cell_type": "code",
   "execution_count": null,
   "metadata": {},
   "outputs": [],
   "source": [
    "outlier_lst = list(outliers_zscore(jungle, continues_features[8], z_treshold=2.5,row_val='val')[continues_features[8]])"
   ]
  },
  {
   "cell_type": "code",
   "execution_count": null,
   "metadata": {},
   "outputs": [],
   "source": [
    "len(outlier_lst)"
   ]
  },
  {
   "cell_type": "code",
   "execution_count": null,
   "metadata": {},
   "outputs": [],
   "source": [
    "Hillshade_3pm_outlier = jungle[continues_features[8]].isin(outlier_lst)"
   ]
  },
  {
   "cell_type": "code",
   "execution_count": null,
   "metadata": {},
   "outputs": [],
   "source": [
    "Hillshade_3pm_outlier.value_counts()"
   ]
  },
  {
   "cell_type": "code",
   "execution_count": null,
   "metadata": {},
   "outputs": [],
   "source": [
    "jungle.loc[Hillshade_3pm_outlier,continues_features[8]] = np.nan"
   ]
  },
  {
   "cell_type": "code",
   "execution_count": null,
   "metadata": {},
   "outputs": [],
   "source": [
    "jungle[[continues_features[8]]].isnull().value_counts()"
   ]
  },
  {
   "cell_type": "code",
   "execution_count": null,
   "metadata": {},
   "outputs": [],
   "source": [
    "jungle.groupby('Cover_Type')[continues_features[8]].median()"
   ]
  },
  {
   "cell_type": "code",
   "execution_count": null,
   "metadata": {},
   "outputs": [],
   "source": [
    "jungle.groupby('Cover_Type')[continues_features[8]].mean()"
   ]
  },
  {
   "cell_type": "code",
   "execution_count": null,
   "metadata": {},
   "outputs": [],
   "source": [
    "jungle[continues_features[8]] = jungle[continues_features[8]].fillna(jungle.groupby('Cover_Type')[continues_features[8]].transform('median'))\n",
    "jungle[continues_features[8]].isnull().value_counts()"
   ]
  },
  {
   "cell_type": "code",
   "execution_count": null,
   "metadata": {},
   "outputs": [],
   "source": [
    "outlier_inspect(jungle, continues_features[9], min_z=1, max_z = 5, step = 0.5, max_hist = None, bins = 50)"
   ]
  },
  {
   "cell_type": "code",
   "execution_count": null,
   "metadata": {},
   "outputs": [],
   "source": [
    "outlier_lst = list(outliers_zscore(jungle, continues_features[9], z_treshold=3.5,row_val='val')[continues_features[9]])"
   ]
  },
  {
   "cell_type": "code",
   "execution_count": null,
   "metadata": {},
   "outputs": [],
   "source": [
    "outliers = jungle[continues_features[9]].isin(outlier_lst)"
   ]
  },
  {
   "cell_type": "code",
   "execution_count": null,
   "metadata": {},
   "outputs": [],
   "source": [
    "outliers.value_counts()"
   ]
  },
  {
   "cell_type": "code",
   "execution_count": null,
   "metadata": {},
   "outputs": [],
   "source": [
    "jungle[continues_features[9]] = winsorize(jungle[continues_features[9]], (0, 0.0021))"
   ]
  },
  {
   "cell_type": "code",
   "execution_count": null,
   "metadata": {},
   "outputs": [],
   "source": [
    "jungle[continues_features[9]].describe()"
   ]
  },
  {
   "cell_type": "markdown",
   "metadata": {
    "id": "WjDFWFcgASC0"
   },
   "source": [
    "***\n",
    "***"
   ]
  },
  {
   "cell_type": "markdown",
   "metadata": {
    "id": "UzffSKptri3v"
   },
   "source": [
    "## 3. Feature Engineering with *sqlite3* Library"
   ]
  },
  {
   "cell_type": "markdown",
   "metadata": {
    "id": "rJy4l8xqASC0"
   },
   "source": [
    "Feature engineering is a process to increase the predictive success of the model. The effort we put in should be worth increasing success. So we can develop our own feature engineering approach.\n",
    "\n",
    "Naturally, after seeing the result of the models, there may be a possibility of making minor changes to the features in the modeling phase.\n",
    "\n",
    "We are going do feature engineering operations with SQL in order to shine up our rusty skills regrding SQL with python. We have two choices:\n",
    "1. After moving the final version of our data set to ***SQLite Browser*** and performing feature engineering operations there, we can convert the resulting data set to dataframe format and use it again in python.\n",
    "2. In Python, also we can create a database and table with our data set by using the functions of the sqlite3 library, after performing feature engineering with SQL, we can convert the resulting data set to a dataframe.\n",
    "\n",
    "In this case, we will illustrate the second method.\n",
    "\n",
    "We will follow the steps below to do feature engineering with the [sqlite3](https://docs.python.org/3/library/sqlite3.html) library:\n",
    " 1. Importing *sqlite3* library\n",
    " 2. Creating a sqlite database (``\"tree_database\"``) and transferring dataframe(``jungle``) from python into database table (``covtype2``)\n",
    "  - We can use *connect(), to_sql() and read_sql_query()* functions.\n",
    " 3. Assigning SQL codes for feature engineering to an object. (producing or transform new columns, getting rid of unnecassary columns, making the dataset ready to model)\n",
    " 4. Transforming final version of SQL table to dataframe.\n",
    " \n",
    "Finally, you can save the final version of your data as csv for use in your models and work on a different notebook. On the other hand, we can continue to work on this notebook with the last dataframe."
   ]
  },
  {
   "cell_type": "code",
   "execution_count": null,
   "metadata": {
    "id": "yP5LibfOASC0"
   },
   "outputs": [],
   "source": [
    "import sqlite3"
   ]
  },
  {
   "cell_type": "code",
   "execution_count": null,
   "metadata": {},
   "outputs": [],
   "source": [
    "sqlite3.connect('tree_database.db')"
   ]
  },
  {
   "cell_type": "code",
   "execution_count": null,
   "metadata": {},
   "outputs": [],
   "source": [
    "from sqlalchemy import create_engine\n",
    "engine = create_engine('sqlite://', echo=False)"
   ]
  },
  {
   "cell_type": "code",
   "execution_count": null,
   "metadata": {},
   "outputs": [],
   "source": [
    "jungle.to_sql('covtype_sql', con=engine)"
   ]
  },
  {
   "cell_type": "code",
   "execution_count": 134,
   "metadata": {},
   "outputs": [
    {
     "data": {
      "text/plain": [
       "<sqlalchemy.engine.result.ResultProxy at 0x7fa3710f7650>"
      ]
     },
     "execution_count": 134,
     "metadata": {},
     "output_type": "execute_result"
    }
   ],
   "source": [
    "engine.execute(\"SELECT * FROM covtype_sql\")"
   ]
  },
  {
   "cell_type": "code",
   "execution_count": null,
   "metadata": {},
   "outputs": [],
   "source": []
  },
  {
   "cell_type": "code",
   "execution_count": null,
   "metadata": {},
   "outputs": [],
   "source": []
  },
  {
   "cell_type": "code",
   "execution_count": null,
   "metadata": {},
   "outputs": [],
   "source": []
  },
  {
   "cell_type": "code",
   "execution_count": null,
   "metadata": {},
   "outputs": [],
   "source": []
  },
  {
   "cell_type": "code",
   "execution_count": null,
   "metadata": {},
   "outputs": [],
   "source": []
  },
  {
   "cell_type": "code",
   "execution_count": null,
   "metadata": {},
   "outputs": [],
   "source": []
  },
  {
   "cell_type": "code",
   "execution_count": null,
   "metadata": {},
   "outputs": [],
   "source": []
  },
  {
   "cell_type": "code",
   "execution_count": null,
   "metadata": {},
   "outputs": [],
   "source": []
  },
  {
   "cell_type": "markdown",
   "metadata": {
    "id": "45zRLFdDASC0"
   },
   "source": [
    "***\n",
    "***"
   ]
  },
  {
   "cell_type": "markdown",
   "metadata": {
    "id": "Ylwp86BnIbfD"
   },
   "source": [
    "## 4. Prediction (Multi-class Classification)"
   ]
  },
  {
   "cell_type": "markdown",
   "metadata": {
    "id": "-hmyNTpmASC0"
   },
   "source": [
    "Now that we have finished data wrangling, we are ready to dive in the most fun part of the project; using machine learning algorithms to making predictions and getting insights out of our data.\n",
    "\n",
    "In this section, we have two main tasks that apply to each algorithm:\n",
    "1. Model Building and Prediction\n",
    "\n",
    " - XGBoost (Using ``XGBClassifier`` model from``xgboost`` module)\n",
    " - SVM (Using ``LinearSVC`` model from``sklearn.svm`` module)\n",
    " - Decision Tree (Using ``DecisionTreeClassifier`` model from ``sklearn.tree`` module)\n",
    " - KNN (Using ``KNeighborsClassifier`` model from ``sklearn.neighbors`` module)\n",
    " - Random Forest (Using ``RandomForestClassifier`` model from ``sklearn.ensemble`` module) \n",
    " \n",
    "\n",
    "2. Visualizing the Result\n",
    "\n",
    "- Using [yellowbrick](https://www.scikit-yb.org/en/latest/), [seaborn](https://seaborn.pydata.org/tutorial/regression.html) or [matplotlib](https://matplotlib.org/) modules to visualize the model results.\n",
    "\n",
    "- Showing three plots for the results:\n",
    " - Class Prediction Error Bar Plot\n",
    " - Confusion Matrix\n",
    " - Classification Report"
   ]
  },
  {
   "cell_type": "markdown",
   "metadata": {
    "id": "5bKNukyEASC0"
   },
   "source": [
    "### Import Libraries"
   ]
  },
  {
   "cell_type": "code",
   "execution_count": 135,
   "metadata": {
    "id": "44t5jjukASC0"
   },
   "outputs": [],
   "source": [
    "# Librarys for all algorithms\n",
    "from sklearn.model_selection import train_test_split, GridSearchCV, cross_val_score\n",
    "from sklearn.metrics import confusion_matrix, accuracy_score, mean_squared_error, r2_score, roc_auc_score, roc_curve, classification_report, f1_score\n",
    "from sklearn.preprocessing import scale, StandardScaler\n",
    "\n",
    "# Librarys for Logistic Regression\n",
    "from sklearn.linear_model import LogisticRegression\n",
    "from sklearn.linear_model import LogisticRegressionCV\n",
    "\n",
    "# Librarys for KNN\n",
    "from sklearn.neighbors import KNeighborsClassifier\n",
    "\n",
    "\n",
    "# Librarys for Decision Tree\n",
    "from sklearn.tree import DecisionTreeClassifier\n",
    "from sklearn import tree\n",
    "\n",
    "# Librarys for Random Forest\n",
    "from sklearn.ensemble import RandomForestClassifier\n",
    "\n",
    "# Librarys for XGBoost\n",
    "from xgboost import XGBClassifier\n",
    "from sklearn.ensemble import GradientBoostingClassifier\n",
    "\n",
    "# Librarys for SVM\n",
    "from sklearn.svm import SVC\n",
    "\n",
    "# Additional/ out of context libraries\n",
    "import warnings\n",
    "warnings.filterwarnings(\"ignore\")"
   ]
  },
  {
   "cell_type": "markdown",
   "metadata": {
    "id": "c-HeuK9FIbfJ"
   },
   "source": [
    "### Data Preprocessing"
   ]
  },
  {
   "cell_type": "code",
   "execution_count": 136,
   "metadata": {},
   "outputs": [],
   "source": [
    "X = jungle.drop(['Cover_Type'], axis=1)\n",
    "y = jungle.Cover_Type"
   ]
  },
  {
   "cell_type": "code",
   "execution_count": 137,
   "metadata": {
    "id": "MFD5URwnASC0"
   },
   "outputs": [],
   "source": [
    "X_train, X_test, y_train, y_test = train_test_split(X,y,test_size=0.30, stratify=y, random_state=101)"
   ]
  },
  {
   "cell_type": "markdown",
   "metadata": {
    "id": "KFcrnBI3ASC0"
   },
   "source": [
    "### Implementing KNeighborsClassifer\n",
    "\n",
    "The first and most important step for the [KNN](https://www.analyticsvidhya.com/blog/2018/03/introduction-k-neighbours-algorithm-clustering/) algorithm is to determining the optimal k (number of neighbors). \n",
    "\n",
    "We are going to build different models with k values in the range we specify. We will observe the change of train and test accuracy values according to different k values using a plot. The point at which train accuracy and test accuracy values begin to run parallel is the optimal k value. Then we will set up our final KNN model with the optimal k value we determined and calculate accuracy.\n",
    "\n",
    "- Importing the modul\n",
    "- Fitting the model \n",
    "- Predicting the test set\n",
    "- Visualizing the result\n",
    "- Evaluating the performance"
   ]
  },
  {
   "cell_type": "code",
   "execution_count": 138,
   "metadata": {
    "id": "wbZ_N3BDASC0"
   },
   "outputs": [],
   "source": [
    "X_train_scaled = StandardScaler().fit_transform(X_train)"
   ]
  },
  {
   "cell_type": "code",
   "execution_count": 139,
   "metadata": {
    "id": "wbZ_N3BDASC0"
   },
   "outputs": [],
   "source": [
    "X_test_scaled = StandardScaler().fit_transform(X_test)"
   ]
  },
  {
   "cell_type": "code",
   "execution_count": 178,
   "metadata": {},
   "outputs": [],
   "source": [
    "knn = KNeighborsClassifier()"
   ]
  },
  {
   "cell_type": "code",
   "execution_count": 179,
   "metadata": {},
   "outputs": [
    {
     "data": {
      "text/plain": [
       "KNeighborsClassifier(algorithm='auto', leaf_size=30, metric='minkowski',\n",
       "                     metric_params=None, n_jobs=None, n_neighbors=5, p=2,\n",
       "                     weights='uniform')"
      ]
     },
     "execution_count": 179,
     "metadata": {},
     "output_type": "execute_result"
    }
   ],
   "source": [
    "knn.fit(X_train_scaled, y_train)"
   ]
  },
  {
   "cell_type": "code",
   "execution_count": 180,
   "metadata": {},
   "outputs": [],
   "source": [
    "y_pred_knn = knn.predict(X_test_scaled)"
   ]
  },
  {
   "cell_type": "code",
   "execution_count": 181,
   "metadata": {},
   "outputs": [
    {
     "data": {
      "text/plain": [
       "array([[58444,  4738,     5,     0,    42,    16,   307],\n",
       "       [ 3876, 80189,   287,     2,   316,   275,    46],\n",
       "       [   13,   330,  9670,    69,    26,   618,     0],\n",
       "       [    0,     1,   137,   629,     0,    57,     0],\n",
       "       [  105,   528,    41,     0,  2163,    11,     0],\n",
       "       [   21,   325,   712,    38,    12,  4102,     0],\n",
       "       [  400,    64,     0,     0,     1,     0,  5688]])"
      ]
     },
     "execution_count": 181,
     "metadata": {},
     "output_type": "execute_result"
    }
   ],
   "source": [
    "confusion_matrix(y_test, y_pred_knn)"
   ]
  },
  {
   "cell_type": "code",
   "execution_count": null,
   "metadata": {},
   "outputs": [],
   "source": [
    "print(classification_report(y_test, y_pred_knn))"
   ]
  },
  {
   "cell_type": "code",
   "execution_count": null,
   "metadata": {},
   "outputs": [],
   "source": [
    "error_rate = []\n",
    "\n",
    "# We have a relative large data set, thus it will take quite a long time.\n",
    "for i in range(1,40):\n",
    "    \n",
    "    knn = KNeighborsClassifier(n_neighbors=i)\n",
    "    knn.fit(X_train_scaled,y_train)\n",
    "    pred_i = knn.predict(X_test_scaled)\n",
    "    error_rate.append(np.mean(pred_i != y_test))\n",
    "    print(f'{i} of 40 is completed')"
   ]
  },
  {
   "cell_type": "code",
   "execution_count": null,
   "metadata": {},
   "outputs": [],
   "source": [
    "plt.figure(figsize=(10,6))\n",
    "plt.plot(range(1,40),error_rate,color='blue', linestyle='dashed', marker='o',\n",
    "         markerfacecolor='red', markersize=10)\n",
    "plt.title('Error Rate vs. K Value')\n",
    "plt.xlabel('K')\n",
    "plt.ylabel('Error Rate')"
   ]
  },
  {
   "cell_type": "markdown",
   "metadata": {
    "id": "s2bAc81fASC0"
   },
   "source": [
    "### Implement Decision Tree Classifier\n",
    "- Import the modul \n",
    "- Fit the model \n",
    "- Predict the test set\n",
    "- Visualize and evaluate the result (use yellowbrick module)"
   ]
  },
  {
   "cell_type": "code",
   "execution_count": 140,
   "metadata": {},
   "outputs": [],
   "source": [
    "dtree = DecisionTreeClassifier()"
   ]
  },
  {
   "cell_type": "code",
   "execution_count": 141,
   "metadata": {
    "id": "C871JJvXASC0"
   },
   "outputs": [
    {
     "data": {
      "text/plain": [
       "DecisionTreeClassifier(ccp_alpha=0.0, class_weight=None, criterion='gini',\n",
       "                       max_depth=None, max_features=None, max_leaf_nodes=None,\n",
       "                       min_impurity_decrease=0.0, min_impurity_split=None,\n",
       "                       min_samples_leaf=1, min_samples_split=2,\n",
       "                       min_weight_fraction_leaf=0.0, presort='deprecated',\n",
       "                       random_state=None, splitter='best')"
      ]
     },
     "execution_count": 141,
     "metadata": {},
     "output_type": "execute_result"
    }
   ],
   "source": [
    "dtree.fit(X_train, y_train)"
   ]
  },
  {
   "cell_type": "code",
   "execution_count": 142,
   "metadata": {},
   "outputs": [],
   "source": [
    "y_pred_dtc = dtree.predict(X_test)"
   ]
  },
  {
   "cell_type": "code",
   "execution_count": 143,
   "metadata": {},
   "outputs": [
    {
     "data": {
      "text/plain": [
       "array([[59193,  3957,     3,     0,    59,     6,   334],\n",
       "       [ 3768, 80294,   261,     5,   401,   216,    46],\n",
       "       [    8,   247,  9957,    85,    24,   405,     0],\n",
       "       [    0,     1,    84,   695,     0,    44,     0],\n",
       "       [   61,   423,    33,     0,  2310,    13,     8],\n",
       "       [   10,   232,   437,    39,     7,  4485,     0],\n",
       "       [  341,    41,     0,     0,     0,     0,  5771]])"
      ]
     },
     "execution_count": 143,
     "metadata": {},
     "output_type": "execute_result"
    }
   ],
   "source": [
    "confusion_matrix(y_test, y_pred_dtc)"
   ]
  },
  {
   "cell_type": "code",
   "execution_count": 144,
   "metadata": {},
   "outputs": [
    {
     "name": "stdout",
     "output_type": "stream",
     "text": [
      "              precision    recall  f1-score   support\n",
      "\n",
      "           1       0.93      0.93      0.93     63552\n",
      "           2       0.94      0.94      0.94     84991\n",
      "           3       0.92      0.93      0.93     10726\n",
      "           4       0.84      0.84      0.84       824\n",
      "           5       0.82      0.81      0.82      2848\n",
      "           6       0.87      0.86      0.86      5210\n",
      "           7       0.94      0.94      0.94      6153\n",
      "\n",
      "    accuracy                           0.93    174304\n",
      "   macro avg       0.90      0.89      0.90    174304\n",
      "weighted avg       0.93      0.93      0.93    174304\n",
      "\n"
     ]
    }
   ],
   "source": [
    "print(classification_report(y_test, y_pred_dtc))"
   ]
  },
  {
   "cell_type": "markdown",
   "metadata": {
    "id": "8-Hv3OSrASC0"
   },
   "source": [
    "### Implement Random Forest Classifier\n",
    "- Import the modul \n",
    "- Fit the model \n",
    "- Predict the test set\n",
    "- Visualize and evaluate the result (use yellowbrick module)"
   ]
  },
  {
   "cell_type": "code",
   "execution_count": 145,
   "metadata": {
    "id": "ZER2XJrrASC0"
   },
   "outputs": [],
   "source": [
    "rf_model=RandomForestClassifier().fit(X_train, y_train)"
   ]
  },
  {
   "cell_type": "code",
   "execution_count": 146,
   "metadata": {},
   "outputs": [],
   "source": [
    "y_pred_rf = rf_model.predict(X_test)"
   ]
  },
  {
   "cell_type": "code",
   "execution_count": 147,
   "metadata": {},
   "outputs": [
    {
     "data": {
      "text/plain": [
       "array([[59841,  3573,     0,     0,    10,    12,   116],\n",
       "       [ 1956, 82631,   174,     2,    91,   114,    23],\n",
       "       [    4,   171, 10304,    34,    10,   203,     0],\n",
       "       [    0,     0,    83,   710,     0,    31,     0],\n",
       "       [   48,   571,    32,     0,  2186,    11,     0],\n",
       "       [    5,   154,   344,    20,     4,  4683,     0],\n",
       "       [  358,    37,     0,     0,     0,     0,  5758]])"
      ]
     },
     "execution_count": 147,
     "metadata": {},
     "output_type": "execute_result"
    }
   ],
   "source": [
    "confusion_matrix(y_test, y_pred_rf)"
   ]
  },
  {
   "cell_type": "code",
   "execution_count": 148,
   "metadata": {},
   "outputs": [
    {
     "name": "stdout",
     "output_type": "stream",
     "text": [
      "              precision    recall  f1-score   support\n",
      "\n",
      "           1       0.96      0.94      0.95     63552\n",
      "           2       0.95      0.97      0.96     84991\n",
      "           3       0.94      0.96      0.95     10726\n",
      "           4       0.93      0.86      0.89       824\n",
      "           5       0.95      0.77      0.85      2848\n",
      "           6       0.93      0.90      0.91      5210\n",
      "           7       0.98      0.94      0.96      6153\n",
      "\n",
      "    accuracy                           0.95    174304\n",
      "   macro avg       0.95      0.91      0.92    174304\n",
      "weighted avg       0.95      0.95      0.95    174304\n",
      "\n"
     ]
    }
   ],
   "source": [
    "print(classification_report(y_test, y_pred_rf))"
   ]
  },
  {
   "cell_type": "markdown",
   "metadata": {},
   "source": [
    "Random Forest Model Tuning"
   ]
  },
  {
   "cell_type": "code",
   "execution_count": 149,
   "metadata": {},
   "outputs": [],
   "source": [
    "rf=RandomForestClassifier()"
   ]
  },
  {
   "cell_type": "code",
   "execution_count": 150,
   "metadata": {},
   "outputs": [],
   "source": [
    "rf_params = {\"n_estimators\":[50, 100, 300],\n",
    "              \"max_depth\":[3,5,7],\n",
    "              \"max_features\": [2,4,6,8],\n",
    "              \"min_samples_split\": [2,4,6]}"
   ]
  },
  {
   "cell_type": "code",
   "execution_count": 151,
   "metadata": {},
   "outputs": [
    {
     "name": "stdout",
     "output_type": "stream",
     "text": [
      "Fitting 5 folds for each of 108 candidates, totalling 540 fits\n"
     ]
    },
    {
     "name": "stderr",
     "output_type": "stream",
     "text": [
      "[Parallel(n_jobs=-1)]: Using backend LokyBackend with 4 concurrent workers.\n",
      "[Parallel(n_jobs=-1)]: Done  33 tasks      | elapsed:  5.3min\n",
      "[Parallel(n_jobs=-1)]: Done 154 tasks      | elapsed: 36.4min\n",
      "[Parallel(n_jobs=-1)]: Done 357 tasks      | elapsed: 118.8min\n",
      "[Parallel(n_jobs=-1)]: Done 540 out of 540 | elapsed: 222.2min finished\n"
     ]
    }
   ],
   "source": [
    "rf_cv_model = GridSearchCV(rf, rf_params, cv = 5, n_jobs = -1, verbose = 2).fit(X_train, y_train)"
   ]
  },
  {
   "cell_type": "code",
   "execution_count": 152,
   "metadata": {},
   "outputs": [
    {
     "data": {
      "text/plain": [
       "{'max_depth': 7, 'max_features': 8, 'min_samples_split': 6, 'n_estimators': 50}"
      ]
     },
     "execution_count": 152,
     "metadata": {},
     "output_type": "execute_result"
    }
   ],
   "source": [
    "rf_cv_model.best_params_"
   ]
  },
  {
   "cell_type": "code",
   "execution_count": 171,
   "metadata": {},
   "outputs": [],
   "source": [
    "rf_tuned = RandomForestClassifier(max_depth = 7,             \n",
    "                                  max_features = 8, \n",
    "                                  min_samples_split = 6, \n",
    "                                  n_estimators = 50).fit(X_train, y_train)"
   ]
  },
  {
   "cell_type": "code",
   "execution_count": 172,
   "metadata": {},
   "outputs": [
    {
     "data": {
      "text/plain": [
       "array([[46530, 16992,     0,     0,     0,     0,    30],\n",
       "       [16218, 68090,   666,     0,     0,    16,     1],\n",
       "       [    0,  2569,  8136,     6,     0,    15,     0],\n",
       "       [    0,     0,   647,   175,     0,     2,     0],\n",
       "       [    0,  2837,    11,     0,     0,     0,     0],\n",
       "       [    0,  2126,  2968,     7,     0,   109,     0],\n",
       "       [ 5049,    23,     0,     0,     0,     0,  1081]])"
      ]
     },
     "execution_count": 172,
     "metadata": {},
     "output_type": "execute_result"
    }
   ],
   "source": [
    "y_pred_rf_tuned = rf_tuned.predict(X_test)\n",
    "confusion_matrix(y_test, y_pred_rf_tuned)"
   ]
  },
  {
   "cell_type": "code",
   "execution_count": 173,
   "metadata": {},
   "outputs": [
    {
     "name": "stdout",
     "output_type": "stream",
     "text": [
      "              precision    recall  f1-score   support\n",
      "\n",
      "           1       0.69      0.73      0.71     63552\n",
      "           2       0.74      0.80      0.77     84991\n",
      "           3       0.65      0.76      0.70     10726\n",
      "           4       0.93      0.21      0.35       824\n",
      "           5       0.00      0.00      0.00      2848\n",
      "           6       0.77      0.02      0.04      5210\n",
      "           7       0.97      0.18      0.30      6153\n",
      "\n",
      "    accuracy                           0.71    174304\n",
      "   macro avg       0.68      0.39      0.41    174304\n",
      "weighted avg       0.71      0.71      0.69    174304\n",
      "\n"
     ]
    }
   ],
   "source": [
    "print(classification_report(y_test, y_pred_rf_tuned))"
   ]
  },
  {
   "cell_type": "code",
   "execution_count": 166,
   "metadata": {},
   "outputs": [
    {
     "data": {
      "image/png": "[encoded data removed]",
      "text/plain": [
       "<Figure size 864x1080 with 1 Axes>"
      ]
     },
     "metadata": {
      "needs_background": "light"
     },
     "output_type": "display_data"
    }
   ],
   "source": [
    "feature_imp = pd.Series(rf_model.feature_importances_,\n",
    "                        index=X_train.columns).sort_values(ascending=False)\n",
    "\n",
    "plt.figure(figsize=(12,15))\n",
    "sns.barplot(x=feature_imp, y=feature_imp.index)\n",
    "plt.title(\"Feature Importance\")\n",
    "plt.show()"
   ]
  },
  {
   "cell_type": "code",
   "execution_count": null,
   "metadata": {},
   "outputs": [],
   "source": []
  },
  {
   "cell_type": "markdown",
   "metadata": {
    "id": "eI7Zd8TLIbfK"
   },
   "source": [
    "### Implement XGBoost Classifer\n",
    "- Import the modul \n",
    "- Fit the model \n",
    "- Predict the test set\n",
    "- Visualize and evaluate the result (use yellowbrick module)"
   ]
  },
  {
   "cell_type": "code",
   "execution_count": 167,
   "metadata": {
    "id": "OMc5EJsiASC0"
   },
   "outputs": [],
   "source": [
    "from xgboost import XGBClassifier"
   ]
  },
  {
   "cell_type": "code",
   "execution_count": 174,
   "metadata": {},
   "outputs": [],
   "source": [
    "xgb_model = XGBClassifier().fit(X_train, y_train)"
   ]
  },
  {
   "cell_type": "code",
   "execution_count": 175,
   "metadata": {},
   "outputs": [
    {
     "data": {
      "text/plain": [
       "array([[53433,  9814,     2,     0,    24,     9,   270],\n",
       "       [ 8226, 75985,   347,     1,   148,   256,    28],\n",
       "       [    3,   497,  9718,    52,     2,   454,     0],\n",
       "       [    0,     0,    67,   719,     0,    38,     0],\n",
       "       [   22,  1062,    42,     0,  1710,    12,     0],\n",
       "       [   11,   325,   546,    16,     3,  4309,     0],\n",
       "       [  603,    14,     0,     0,     0,     0,  5536]])"
      ]
     },
     "execution_count": 175,
     "metadata": {},
     "output_type": "execute_result"
    }
   ],
   "source": [
    "y_pred_xgb = xgb_model.predict(X_test)\n",
    "confusion_matrix(y_test, y_pred_xgb)"
   ]
  },
  {
   "cell_type": "code",
   "execution_count": 176,
   "metadata": {},
   "outputs": [
    {
     "name": "stdout",
     "output_type": "stream",
     "text": [
      "              precision    recall  f1-score   support\n",
      "\n",
      "           1       0.86      0.84      0.85     63552\n",
      "           2       0.87      0.89      0.88     84991\n",
      "           3       0.91      0.91      0.91     10726\n",
      "           4       0.91      0.87      0.89       824\n",
      "           5       0.91      0.60      0.72      2848\n",
      "           6       0.85      0.83      0.84      5210\n",
      "           7       0.95      0.90      0.92      6153\n",
      "\n",
      "    accuracy                           0.87    174304\n",
      "   macro avg       0.89      0.83      0.86    174304\n",
      "weighted avg       0.87      0.87      0.87    174304\n",
      "\n"
     ]
    }
   ],
   "source": [
    "print(classification_report(y_test, y_pred_xgb))"
   ]
  },
  {
   "cell_type": "markdown",
   "metadata": {},
   "source": [
    "Tuning XGBoot Classifier"
   ]
  },
  {
   "cell_type": "code",
   "execution_count": null,
   "metadata": {},
   "outputs": [],
   "source": [
    "xgb = XGBClassifier()"
   ]
  },
  {
   "cell_type": "code",
   "execution_count": null,
   "metadata": {},
   "outputs": [],
   "source": [
    "xgb_params = {\"n_estimators\": [50, 100, 300, 1000],\n",
    "             \"subsample\":[0.5,0.8,1],\n",
    "             \"max_depth\":[3,5,7],\n",
    "             \"learning_rate\":[0.1,0.01,0.3]}"
   ]
  },
  {
   "cell_type": "code",
   "execution_count": null,
   "metadata": {},
   "outputs": [],
   "source": [
    "xgb_cv_model = GridSearchCV(xgb, xgb_params, cv = 3, \n",
    "                            n_jobs = -1, verbose = 2).fit(X_train, y_train)"
   ]
  },
  {
   "cell_type": "code",
   "execution_count": null,
   "metadata": {},
   "outputs": [],
   "source": [
    "xgb_tuned = XGBClassifier(learning_rate=,  \n",
    "                                n_estimators=, \n",
    "                                n_jobs=4).fit(X_train, y_train, eval_set=[(X_test, y_test)], early_stopping_rounds=5)"
   ]
  },
  {
   "cell_type": "code",
   "execution_count": null,
   "metadata": {},
   "outputs": [],
   "source": [
    "y_pred_xgb_tuned = xgb_tuned.predict(X_test)\n",
    "confusion_matrix(y_test, y_pred)"
   ]
  },
  {
   "cell_type": "code",
   "execution_count": null,
   "metadata": {},
   "outputs": [],
   "source": [
    "print(classification_report(y_test, y_pred_xgb_tuned))"
   ]
  },
  {
   "cell_type": "markdown",
   "metadata": {
    "id": "rOisMsLIASC0"
   },
   "source": [
    "### Implement Support Vector Machine\n",
    "- Import the modul \n",
    "- Fit the model \n",
    "- Predict the test set\n",
    "- Visualize and evaluate the result (use yellowbrick module)\n",
    "\n",
    "*Note: You probably won't get a successful result. You may need to make some changes to the model or data. This may be a topic worth investigating, you decide.*"
   ]
  },
  {
   "cell_type": "code",
   "execution_count": null,
   "metadata": {
    "id": "202mKGwcASC0"
   },
   "outputs": [],
   "source": [
    "svm_model = SVC().fit(X_train_scaled, y_train)"
   ]
  },
  {
   "cell_type": "code",
   "execution_count": null,
   "metadata": {},
   "outputs": [],
   "source": [
    "y_pred_svm = svm_model.predict(X_test_scaled)\n",
    "confusion_matrix(y_test, y_pred_svm)"
   ]
  },
  {
   "cell_type": "code",
   "execution_count": null,
   "metadata": {},
   "outputs": [],
   "source": [
    "print(classification_report(y_test, y_pred_svm))"
   ]
  },
  {
   "cell_type": "markdown",
   "metadata": {},
   "source": [
    "SVM Model Tuning"
   ]
  },
  {
   "cell_type": "code",
   "execution_count": null,
   "metadata": {},
   "outputs": [],
   "source": [
    "svm_tune = SVC()"
   ]
  },
  {
   "cell_type": "code",
   "execution_count": null,
   "metadata": {},
   "outputs": [],
   "source": [
    "svm_params = {\"kernel\": [\"linear\",\"rbf\", \"poly\", \"sigmoid\"]}"
   ]
  },
  {
   "cell_type": "code",
   "execution_count": null,
   "metadata": {},
   "outputs": [],
   "source": [
    "svm_cv_model = GridSearchCV(svm_tune, svm_params, cv = 5, n_jobs = -1, verbose = 2).fit(X_train_scaled, y_train)"
   ]
  },
  {
   "cell_type": "code",
   "execution_count": null,
   "metadata": {},
   "outputs": [],
   "source": [
    "svm_cv_model.best_params_"
   ]
  },
  {
   "cell_type": "code",
   "execution_count": null,
   "metadata": {},
   "outputs": [],
   "source": [
    "svm_tune_2 = SVC(kernel=)"
   ]
  },
  {
   "cell_type": "code",
   "execution_count": null,
   "metadata": {},
   "outputs": [],
   "source": [
    "svm_params_2 = {\"C\": [0.1,0.5,1,10,20,50]}"
   ]
  },
  {
   "cell_type": "code",
   "execution_count": null,
   "metadata": {},
   "outputs": [],
   "source": [
    "svm_cv_model_2 = GridSearchCV(svm_tune_2, svm_params_2, cv = 5, n_jobs = -1, verbose = 2).fit(X_train_scaled, y_train)"
   ]
  },
  {
   "cell_type": "code",
   "execution_count": null,
   "metadata": {},
   "outputs": [],
   "source": [
    "svm_cv_model_2.best_params_"
   ]
  },
  {
   "cell_type": "code",
   "execution_count": null,
   "metadata": {},
   "outputs": [],
   "source": [
    "svm_tuned_final = SVC(C = , kernel=\"\").fit(X_train_scaled, y_train)"
   ]
  },
  {
   "cell_type": "code",
   "execution_count": null,
   "metadata": {},
   "outputs": [],
   "source": [
    "y_pred_svm_final = svm_tuned_final.predict(X_test_scaled)\n",
    "confusion_matrix(y_test, y_pred_svm_final)"
   ]
  },
  {
   "cell_type": "code",
   "execution_count": null,
   "metadata": {},
   "outputs": [],
   "source": [
    "print(classification_report(y_test, y_pred_svm_final))"
   ]
  },
  {
   "cell_type": "markdown",
   "metadata": {
    "id": "67xA-4xdASC0"
   },
   "source": [
    "### Compare The Models\n",
    "\n",
    "So far, you have created a multi-classifier model with 5 different algorithms and made predictions. You can observe the performance of the models together with a barplot of your choice.\n",
    "\n",
    "- Which algorithm did you achieve the highest prediction performance with? \n",
    "- What could be the factors that cause this? What are the principles of the most successful algorithm and its differences from other algorithms? \n",
    "\n",
    "In contrast;\n",
    "\n",
    "- Which algorithm did you achieve the lowest prediction performance with? \n",
    "- What could be the factors that cause this? What are the principles of the most successful algorithm and its differences from other algorithms? \n",
    "\n",
    "The answers you will look for to these questions will increase your gains from Machine Learning course."
   ]
  },
  {
   "cell_type": "code",
   "execution_count": null,
   "metadata": {
    "id": "WeNjYhBaB2YH"
   },
   "outputs": [],
   "source": []
  },
  {
   "cell_type": "markdown",
   "metadata": {
    "id": "e6wYrrIuASC0"
   },
   "source": [
    "___\n",
    "\n",
    "<p style=\"text-align: center;\"><img src=\"https://docs.google.com/uc?id=1lY0Uj5R04yMY3-ZppPWxqCr5pvBLYPnV\" class=\"img-fluid\" alt=\"CLRSWY\"></p>\n",
    "\n",
    "___"
   ]
  }
 ],
 "metadata": {
  "colab": {
   "collapsed_sections": [],
   "name": "Tree_Types_Prediction_Student_V1.ipynb",
   "provenance": [],
   "toc_visible": true
  },
  "kernelspec": {
   "display_name": "Python 3",
   "language": "python",
   "name": "python3"
  },
  "language_info": {
   "codemirror_mode": {
    "name": "ipython",
    "version": 3
   },
   "file_extension": ".py",
   "mimetype": "text/x-python",
   "name": "python",
   "nbconvert_exporter": "python",
   "pygments_lexer": "ipython3",
   "version": "3.7.6"
  }
 },
 "nbformat": 4,
 "nbformat_minor": 4
}
