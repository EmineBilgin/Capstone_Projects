{
 "cells": [
  {
   "cell_type": "markdown",
   "metadata": {},
   "source": [
    "<h1><p style=\"text-align: center;\">Data Analysis with Python <br>Project - 1</p><h1> - Traffic Police Stops <br><img src=\"https://thumbs.dreamstime.com/z/traffic-police-officer-uk-vector-illustration-traffic-police-officer-uk-187594525.jpg\" class=\"img-fluid\" alt=\"CLRSWY\" width=\"200\" height=\"100\"> "
   ]
  },
  {
   "cell_type": "markdown",
   "metadata": {},
   "source": [
    "***"
   ]
  },
  {
   "cell_type": "markdown",
   "metadata": {},
   "source": [
    "## Examining the dataset"
   ]
  },
  {
   "cell_type": "markdown",
   "metadata": {},
   "source": [
    "We will be analyzing a dataset of traffic stops in Rhode Island that was collected by the Stanford Open Policing Project."
   ]
  },
  {
   "cell_type": "code",
   "execution_count": 1,
   "metadata": {},
   "outputs": [
    {
     "name": "stderr",
     "output_type": "stream",
     "text": [
      "/Users/ozkanyildirim/opt/anaconda3/lib/python3.7/site-packages/IPython/core/interactiveshell.py:3063: DtypeWarning: Columns (8,16) have mixed types.Specify dtype option on import or set low_memory=False.\n",
      "  interactivity=interactivity, compiler=compiler, result=result)\n"
     ]
    },
    {
     "data": {
      "text/plain": [
       "(50000, 26)"
      ]
     },
     "execution_count": 1,
     "metadata": {},
     "output_type": "execute_result"
    }
   ],
   "source": [
    "import pandas as pd\n",
    "import numpy as np\n",
    "import re\n",
    "\n",
    "pol = pd.read_csv('police.csv.zip').sample(50000, random_state=101)\n",
    "pol.shape"
   ]
  },
  {
   "cell_type": "code",
   "execution_count": 2,
   "metadata": {},
   "outputs": [
    {
     "data": {
      "text/html": [
       "<div>\n",
       "<style scoped>\n",
       "    .dataframe tbody tr th:only-of-type {\n",
       "        vertical-align: middle;\n",
       "    }\n",
       "\n",
       "    .dataframe tbody tr th {\n",
       "        vertical-align: top;\n",
       "    }\n",
       "\n",
       "    .dataframe thead th {\n",
       "        text-align: right;\n",
       "    }\n",
       "</style>\n",
       "<table border=\"1\" class=\"dataframe\">\n",
       "  <thead>\n",
       "    <tr style=\"text-align: right;\">\n",
       "      <th></th>\n",
       "      <th>id</th>\n",
       "      <th>state</th>\n",
       "      <th>stop_date</th>\n",
       "      <th>stop_time</th>\n",
       "      <th>location_raw</th>\n",
       "      <th>county_name</th>\n",
       "      <th>county_fips</th>\n",
       "      <th>fine_grained_location</th>\n",
       "      <th>police_department</th>\n",
       "      <th>driver_gender</th>\n",
       "      <th>...</th>\n",
       "      <th>search_conducted</th>\n",
       "      <th>search_type_raw</th>\n",
       "      <th>search_type</th>\n",
       "      <th>contraband_found</th>\n",
       "      <th>stop_outcome</th>\n",
       "      <th>is_arrested</th>\n",
       "      <th>stop_duration</th>\n",
       "      <th>out_of_state</th>\n",
       "      <th>drugs_related_stop</th>\n",
       "      <th>district</th>\n",
       "    </tr>\n",
       "  </thead>\n",
       "  <tbody>\n",
       "    <tr>\n",
       "      <th>154167</th>\n",
       "      <td>RI-2008-28543</td>\n",
       "      <td>RI</td>\n",
       "      <td>2008-08-02</td>\n",
       "      <td>02:37</td>\n",
       "      <td>Zone X3</td>\n",
       "      <td>NaN</td>\n",
       "      <td>NaN</td>\n",
       "      <td>NaN</td>\n",
       "      <td>200</td>\n",
       "      <td>NaN</td>\n",
       "      <td>...</td>\n",
       "      <td>False</td>\n",
       "      <td>NaN</td>\n",
       "      <td>NaN</td>\n",
       "      <td>False</td>\n",
       "      <td>NaN</td>\n",
       "      <td>NaN</td>\n",
       "      <td>NaN</td>\n",
       "      <td>NaN</td>\n",
       "      <td>False</td>\n",
       "      <td>Zone X3</td>\n",
       "    </tr>\n",
       "    <tr>\n",
       "      <th>182662</th>\n",
       "      <td>RI-2009-08019</td>\n",
       "      <td>RI</td>\n",
       "      <td>2009-02-28</td>\n",
       "      <td>11:02</td>\n",
       "      <td>Zone K2</td>\n",
       "      <td>NaN</td>\n",
       "      <td>NaN</td>\n",
       "      <td>NaN</td>\n",
       "      <td>900</td>\n",
       "      <td>M</td>\n",
       "      <td>...</td>\n",
       "      <td>False</td>\n",
       "      <td>NaN</td>\n",
       "      <td>NaN</td>\n",
       "      <td>False</td>\n",
       "      <td>Citation</td>\n",
       "      <td>False</td>\n",
       "      <td>0-15 Min</td>\n",
       "      <td>True</td>\n",
       "      <td>False</td>\n",
       "      <td>Zone K2</td>\n",
       "    </tr>\n",
       "    <tr>\n",
       "      <th>333465</th>\n",
       "      <td>RI-2012-27184</td>\n",
       "      <td>RI</td>\n",
       "      <td>2012-05-17</td>\n",
       "      <td>13:45</td>\n",
       "      <td>Zone K2</td>\n",
       "      <td>NaN</td>\n",
       "      <td>NaN</td>\n",
       "      <td>NaN</td>\n",
       "      <td>900</td>\n",
       "      <td>F</td>\n",
       "      <td>...</td>\n",
       "      <td>False</td>\n",
       "      <td>NaN</td>\n",
       "      <td>NaN</td>\n",
       "      <td>False</td>\n",
       "      <td>Citation</td>\n",
       "      <td>False</td>\n",
       "      <td>0-15 Min</td>\n",
       "      <td>False</td>\n",
       "      <td>False</td>\n",
       "      <td>Zone K2</td>\n",
       "    </tr>\n",
       "    <tr>\n",
       "      <th>240119</th>\n",
       "      <td>RI-2010-22023</td>\n",
       "      <td>RI</td>\n",
       "      <td>2010-06-22</td>\n",
       "      <td>00:43</td>\n",
       "      <td>Zone X3</td>\n",
       "      <td>NaN</td>\n",
       "      <td>NaN</td>\n",
       "      <td>NaN</td>\n",
       "      <td>200</td>\n",
       "      <td>NaN</td>\n",
       "      <td>...</td>\n",
       "      <td>False</td>\n",
       "      <td>NaN</td>\n",
       "      <td>NaN</td>\n",
       "      <td>False</td>\n",
       "      <td>NaN</td>\n",
       "      <td>NaN</td>\n",
       "      <td>NaN</td>\n",
       "      <td>NaN</td>\n",
       "      <td>False</td>\n",
       "      <td>Zone X3</td>\n",
       "    </tr>\n",
       "    <tr>\n",
       "      <th>158285</th>\n",
       "      <td>RI-2008-32661</td>\n",
       "      <td>RI</td>\n",
       "      <td>2008-08-30</td>\n",
       "      <td>18:09</td>\n",
       "      <td>Zone K3</td>\n",
       "      <td>NaN</td>\n",
       "      <td>NaN</td>\n",
       "      <td>NaN</td>\n",
       "      <td>300</td>\n",
       "      <td>M</td>\n",
       "      <td>...</td>\n",
       "      <td>False</td>\n",
       "      <td>NaN</td>\n",
       "      <td>NaN</td>\n",
       "      <td>False</td>\n",
       "      <td>Citation</td>\n",
       "      <td>False</td>\n",
       "      <td>0-15 Min</td>\n",
       "      <td>False</td>\n",
       "      <td>False</td>\n",
       "      <td>Zone K3</td>\n",
       "    </tr>\n",
       "  </tbody>\n",
       "</table>\n",
       "<p>5 rows × 26 columns</p>\n",
       "</div>"
      ],
      "text/plain": [
       "                   id state   stop_date stop_time location_raw  county_name  \\\n",
       "154167  RI-2008-28543    RI  2008-08-02     02:37      Zone X3          NaN   \n",
       "182662  RI-2009-08019    RI  2009-02-28     11:02      Zone K2          NaN   \n",
       "333465  RI-2012-27184    RI  2012-05-17     13:45      Zone K2          NaN   \n",
       "240119  RI-2010-22023    RI  2010-06-22     00:43      Zone X3          NaN   \n",
       "158285  RI-2008-32661    RI  2008-08-30     18:09      Zone K3          NaN   \n",
       "\n",
       "        county_fips  fine_grained_location police_department driver_gender  \\\n",
       "154167          NaN                    NaN               200           NaN   \n",
       "182662          NaN                    NaN               900             M   \n",
       "333465          NaN                    NaN               900             F   \n",
       "240119          NaN                    NaN               200           NaN   \n",
       "158285          NaN                    NaN               300             M   \n",
       "\n",
       "        ...  search_conducted  search_type_raw search_type contraband_found  \\\n",
       "154167  ...             False              NaN         NaN            False   \n",
       "182662  ...             False              NaN         NaN            False   \n",
       "333465  ...             False              NaN         NaN            False   \n",
       "240119  ...             False              NaN         NaN            False   \n",
       "158285  ...             False              NaN         NaN            False   \n",
       "\n",
       "       stop_outcome is_arrested stop_duration out_of_state drugs_related_stop  \\\n",
       "154167          NaN         NaN           NaN          NaN              False   \n",
       "182662     Citation       False      0-15 Min         True              False   \n",
       "333465     Citation       False      0-15 Min        False              False   \n",
       "240119          NaN         NaN           NaN          NaN              False   \n",
       "158285     Citation       False      0-15 Min        False              False   \n",
       "\n",
       "        district  \n",
       "154167   Zone X3  \n",
       "182662   Zone K2  \n",
       "333465   Zone K2  \n",
       "240119   Zone X3  \n",
       "158285   Zone K3  \n",
       "\n",
       "[5 rows x 26 columns]"
      ]
     },
     "execution_count": 2,
     "metadata": {},
     "output_type": "execute_result"
    }
   ],
   "source": [
    "pol.head(5)"
   ]
  },
  {
   "cell_type": "code",
   "execution_count": 3,
   "metadata": {},
   "outputs": [
    {
     "name": "stdout",
     "output_type": "stream",
     "text": [
      "<class 'pandas.core.frame.DataFrame'>\n",
      "Int64Index: 50000 entries, 154167 to 376848\n",
      "Data columns (total 26 columns):\n",
      " #   Column                 Non-Null Count  Dtype  \n",
      "---  ------                 --------------  -----  \n",
      " 0   id                     50000 non-null  object \n",
      " 1   state                  50000 non-null  object \n",
      " 2   stop_date              49998 non-null  object \n",
      " 3   stop_time              49998 non-null  object \n",
      " 4   location_raw           50000 non-null  object \n",
      " 5   county_name            0 non-null      float64\n",
      " 6   county_fips            0 non-null      float64\n",
      " 7   fine_grained_location  0 non-null      float64\n",
      " 8   police_department      49998 non-null  object \n",
      " 9   driver_gender          47180 non-null  object \n",
      " 10  driver_age_raw         47185 non-null  float64\n",
      " 11  driver_age             47021 non-null  float64\n",
      " 12  driver_race_raw        47183 non-null  object \n",
      " 13  driver_race            47183 non-null  object \n",
      " 14  violation_raw          47183 non-null  object \n",
      " 15  violation              47183 non-null  object \n",
      " 16  search_conducted       49998 non-null  object \n",
      " 17  search_type_raw        1778 non-null   object \n",
      " 18  search_type            1778 non-null   object \n",
      " 19  contraband_found       50000 non-null  bool   \n",
      " 20  stop_outcome           47183 non-null  object \n",
      " 21  is_arrested            47183 non-null  object \n",
      " 22  stop_duration          47183 non-null  object \n",
      " 23  out_of_state           47105 non-null  object \n",
      " 24  drugs_related_stop     50000 non-null  bool   \n",
      " 25  district               50000 non-null  object \n",
      "dtypes: bool(2), float64(5), object(19)\n",
      "memory usage: 9.6+ MB\n"
     ]
    }
   ],
   "source": [
    "pol.info()"
   ]
  },
  {
   "cell_type": "code",
   "execution_count": 4,
   "metadata": {},
   "outputs": [
    {
     "data": {
      "text/plain": [
       "id                           0\n",
       "state                        0\n",
       "stop_date                    2\n",
       "stop_time                    2\n",
       "location_raw                 0\n",
       "county_name              50000\n",
       "county_fips              50000\n",
       "fine_grained_location    50000\n",
       "police_department            2\n",
       "driver_gender             2820\n",
       "driver_age_raw            2815\n",
       "driver_age                2979\n",
       "driver_race_raw           2817\n",
       "driver_race               2817\n",
       "violation_raw             2817\n",
       "violation                 2817\n",
       "search_conducted             2\n",
       "search_type_raw          48222\n",
       "search_type              48222\n",
       "contraband_found             0\n",
       "stop_outcome              2817\n",
       "is_arrested               2817\n",
       "stop_duration             2817\n",
       "out_of_state              2895\n",
       "drugs_related_stop           0\n",
       "district                     0\n",
       "dtype: int64"
      ]
     },
     "execution_count": 4,
     "metadata": {},
     "output_type": "execute_result"
    }
   ],
   "source": [
    "pol.isnull().sum()"
   ]
  },
  {
   "cell_type": "markdown",
   "metadata": {},
   "source": [
    "***"
   ]
  },
  {
   "cell_type": "markdown",
   "metadata": {},
   "source": [
    "## Dropping columns"
   ]
  },
  {
   "cell_type": "code",
   "execution_count": 5,
   "metadata": {},
   "outputs": [
    {
     "data": {
      "text/plain": [
       "(50000, 26)"
      ]
     },
     "execution_count": 5,
     "metadata": {},
     "output_type": "execute_result"
    }
   ],
   "source": [
    "pol.shape"
   ]
  },
  {
   "cell_type": "code",
   "execution_count": 6,
   "metadata": {},
   "outputs": [],
   "source": [
    "pol.drop(['state', 'county_name', 'county_fips', 'fine_grained_location'], axis=1, inplace=True)"
   ]
  },
  {
   "cell_type": "code",
   "execution_count": 7,
   "metadata": {},
   "outputs": [
    {
     "name": "stdout",
     "output_type": "stream",
     "text": [
      "<class 'pandas.core.frame.DataFrame'>\n",
      "Int64Index: 50000 entries, 154167 to 376848\n",
      "Data columns (total 22 columns):\n",
      " #   Column              Non-Null Count  Dtype  \n",
      "---  ------              --------------  -----  \n",
      " 0   id                  50000 non-null  object \n",
      " 1   stop_date           49998 non-null  object \n",
      " 2   stop_time           49998 non-null  object \n",
      " 3   location_raw        50000 non-null  object \n",
      " 4   police_department   49998 non-null  object \n",
      " 5   driver_gender       47180 non-null  object \n",
      " 6   driver_age_raw      47185 non-null  float64\n",
      " 7   driver_age          47021 non-null  float64\n",
      " 8   driver_race_raw     47183 non-null  object \n",
      " 9   driver_race         47183 non-null  object \n",
      " 10  violation_raw       47183 non-null  object \n",
      " 11  violation           47183 non-null  object \n",
      " 12  search_conducted    49998 non-null  object \n",
      " 13  search_type_raw     1778 non-null   object \n",
      " 14  search_type         1778 non-null   object \n",
      " 15  contraband_found    50000 non-null  bool   \n",
      " 16  stop_outcome        47183 non-null  object \n",
      " 17  is_arrested         47183 non-null  object \n",
      " 18  stop_duration       47183 non-null  object \n",
      " 19  out_of_state        47105 non-null  object \n",
      " 20  drugs_related_stop  50000 non-null  bool   \n",
      " 21  district            50000 non-null  object \n",
      "dtypes: bool(2), float64(2), object(18)\n",
      "memory usage: 8.1+ MB\n"
     ]
    }
   ],
   "source": [
    "pol.info()"
   ]
  },
  {
   "cell_type": "markdown",
   "metadata": {},
   "source": [
    "***"
   ]
  },
  {
   "cell_type": "markdown",
   "metadata": {},
   "source": [
    "## Dropping rows"
   ]
  },
  {
   "cell_type": "code",
   "execution_count": 8,
   "metadata": {},
   "outputs": [
    {
     "data": {
      "text/plain": [
       "id                        0\n",
       "stop_date                 2\n",
       "stop_time                 2\n",
       "location_raw              0\n",
       "police_department         2\n",
       "driver_gender          2820\n",
       "driver_age_raw         2815\n",
       "driver_age             2979\n",
       "driver_race_raw        2817\n",
       "driver_race            2817\n",
       "violation_raw          2817\n",
       "violation              2817\n",
       "search_conducted          2\n",
       "search_type_raw       48222\n",
       "search_type           48222\n",
       "contraband_found          0\n",
       "stop_outcome           2817\n",
       "is_arrested            2817\n",
       "stop_duration          2817\n",
       "out_of_state           2895\n",
       "drugs_related_stop        0\n",
       "district                  0\n",
       "dtype: int64"
      ]
     },
     "execution_count": 8,
     "metadata": {},
     "output_type": "execute_result"
    }
   ],
   "source": [
    "pol.isnull().sum()"
   ]
  },
  {
   "cell_type": "code",
   "execution_count": 9,
   "metadata": {},
   "outputs": [],
   "source": [
    "pol.dropna(subset=['driver_gender'], inplace=True)"
   ]
  },
  {
   "cell_type": "code",
   "execution_count": 10,
   "metadata": {},
   "outputs": [
    {
     "data": {
      "text/plain": [
       "driver_gender    0\n",
       "dtype: int64"
      ]
     },
     "execution_count": 10,
     "metadata": {},
     "output_type": "execute_result"
    }
   ],
   "source": [
    "pol[['driver_gender']].isnull().sum()"
   ]
  },
  {
   "cell_type": "code",
   "execution_count": 11,
   "metadata": {},
   "outputs": [
    {
     "data": {
      "text/plain": [
       "(47180, 22)"
      ]
     },
     "execution_count": 11,
     "metadata": {},
     "output_type": "execute_result"
    }
   ],
   "source": [
    "pol.shape"
   ]
  },
  {
   "cell_type": "markdown",
   "metadata": {},
   "source": [
    "***"
   ]
  },
  {
   "cell_type": "markdown",
   "metadata": {},
   "source": [
    "## Fixing a data type"
   ]
  },
  {
   "cell_type": "code",
   "execution_count": 12,
   "metadata": {},
   "outputs": [
    {
     "data": {
      "text/plain": [
       "is_arrested    object\n",
       "dtype: object"
      ]
     },
     "execution_count": 12,
     "metadata": {},
     "output_type": "execute_result"
    }
   ],
   "source": [
    "pol[['is_arrested']].dtypes"
   ]
  },
  {
   "cell_type": "code",
   "execution_count": 13,
   "metadata": {},
   "outputs": [
    {
     "data": {
      "text/html": [
       "<div>\n",
       "<style scoped>\n",
       "    .dataframe tbody tr th:only-of-type {\n",
       "        vertical-align: middle;\n",
       "    }\n",
       "\n",
       "    .dataframe tbody tr th {\n",
       "        vertical-align: top;\n",
       "    }\n",
       "\n",
       "    .dataframe thead th {\n",
       "        text-align: right;\n",
       "    }\n",
       "</style>\n",
       "<table border=\"1\" class=\"dataframe\">\n",
       "  <thead>\n",
       "    <tr style=\"text-align: right;\">\n",
       "      <th></th>\n",
       "      <th>is_arrested</th>\n",
       "    </tr>\n",
       "  </thead>\n",
       "  <tbody>\n",
       "    <tr>\n",
       "      <th>182662</th>\n",
       "      <td>False</td>\n",
       "    </tr>\n",
       "    <tr>\n",
       "      <th>333465</th>\n",
       "      <td>False</td>\n",
       "    </tr>\n",
       "    <tr>\n",
       "      <th>158285</th>\n",
       "      <td>False</td>\n",
       "    </tr>\n",
       "  </tbody>\n",
       "</table>\n",
       "</div>"
      ],
      "text/plain": [
       "       is_arrested\n",
       "182662       False\n",
       "333465       False\n",
       "158285       False"
      ]
     },
     "execution_count": 13,
     "metadata": {},
     "output_type": "execute_result"
    }
   ],
   "source": [
    "pol[['is_arrested']].head(3)"
   ]
  },
  {
   "cell_type": "code",
   "execution_count": 14,
   "metadata": {},
   "outputs": [
    {
     "data": {
      "text/plain": [
       "dtype('bool')"
      ]
     },
     "execution_count": 14,
     "metadata": {},
     "output_type": "execute_result"
    }
   ],
   "source": [
    "pol['is_arrested']=pol['is_arrested'].astype({'is_arrested':'bool'})\n",
    "pol['is_arrested'].dtypes"
   ]
  },
  {
   "cell_type": "code",
   "execution_count": 15,
   "metadata": {},
   "outputs": [
    {
     "data": {
      "text/plain": [
       "id                     object\n",
       "stop_date              object\n",
       "stop_time              object\n",
       "location_raw           object\n",
       "police_department      object\n",
       "driver_gender          object\n",
       "driver_age_raw        float64\n",
       "driver_age            float64\n",
       "driver_race_raw        object\n",
       "driver_race            object\n",
       "violation_raw          object\n",
       "violation              object\n",
       "search_conducted       object\n",
       "search_type_raw        object\n",
       "search_type            object\n",
       "contraband_found         bool\n",
       "stop_outcome           object\n",
       "is_arrested              bool\n",
       "stop_duration          object\n",
       "out_of_state           object\n",
       "drugs_related_stop       bool\n",
       "district               object\n",
       "dtype: object"
      ]
     },
     "execution_count": 15,
     "metadata": {},
     "output_type": "execute_result"
    }
   ],
   "source": [
    "pol.dtypes"
   ]
  },
  {
   "cell_type": "markdown",
   "metadata": {},
   "source": [
    "***"
   ]
  },
  {
   "cell_type": "markdown",
   "metadata": {},
   "source": [
    "## Combining object columns"
   ]
  },
  {
   "cell_type": "code",
   "execution_count": 16,
   "metadata": {},
   "outputs": [
    {
     "data": {
      "text/plain": [
       "id                            object\n",
       "stop_date                     object\n",
       "stop_time                     object\n",
       "location_raw                  object\n",
       "police_department             object\n",
       "driver_gender                 object\n",
       "driver_age_raw               float64\n",
       "driver_age                   float64\n",
       "driver_race_raw               object\n",
       "driver_race                   object\n",
       "violation_raw                 object\n",
       "violation                     object\n",
       "search_conducted              object\n",
       "search_type_raw               object\n",
       "search_type                   object\n",
       "contraband_found                bool\n",
       "stop_outcome                  object\n",
       "is_arrested                     bool\n",
       "stop_duration                 object\n",
       "out_of_state                  object\n",
       "drugs_related_stop              bool\n",
       "district                      object\n",
       "stop_datetime         datetime64[ns]\n",
       "dtype: object"
      ]
     },
     "execution_count": 16,
     "metadata": {},
     "output_type": "execute_result"
    }
   ],
   "source": [
    "pol['stop_datetime'] = pol['stop_date'] + ' ' + pol['stop_time']\n",
    "\n",
    "pol['stop_datetime'] = pd.to_datetime(pol['stop_datetime'])\n",
    "\n",
    "pol.dtypes"
   ]
  },
  {
   "cell_type": "code",
   "execution_count": 17,
   "metadata": {},
   "outputs": [],
   "source": [
    "pol.set_index('stop_datetime', inplace=True)"
   ]
  },
  {
   "cell_type": "code",
   "execution_count": 18,
   "metadata": {},
   "outputs": [
    {
     "data": {
      "text/plain": [
       "DatetimeIndex(['2009-02-28 11:02:00', '2012-05-17 13:45:00',\n",
       "               '2008-08-30 18:09:00', '2009-04-13 22:36:00',\n",
       "               '2012-08-24 22:19:00', '2011-02-06 11:12:00',\n",
       "               '2011-01-22 07:43:00', '2005-12-20 04:00:00',\n",
       "               '2006-11-20 13:45:00', '2015-10-03 23:32:00',\n",
       "               ...\n",
       "               '2012-07-26 09:45:00', '2006-05-03 10:15:00',\n",
       "               '2010-09-20 13:46:00', '2012-06-09 01:07:00',\n",
       "               '2008-11-01 14:10:00', '2010-02-22 11:22:00',\n",
       "               '2007-04-09 10:40:00', '2012-12-22 01:26:00',\n",
       "               '2012-10-25 15:19:00', '2013-03-21 11:54:00'],\n",
       "              dtype='datetime64[ns]', name='stop_datetime', length=47180, freq=None)"
      ]
     },
     "execution_count": 18,
     "metadata": {},
     "output_type": "execute_result"
    }
   ],
   "source": [
    "pol.index"
   ]
  }
 ],
 "metadata": {
  "kernelspec": {
   "display_name": "Python 3",
   "language": "python",
   "name": "python3"
  },
  "language_info": {
   "codemirror_mode": {
    "name": "ipython",
    "version": 3
   },
   "file_extension": ".py",
   "mimetype": "text/x-python",
   "name": "python",
   "nbconvert_exporter": "python",
   "pygments_lexer": "ipython3",
   "version": "3.7.6"
  }
 },
 "nbformat": 4,
 "nbformat_minor": 4
}
