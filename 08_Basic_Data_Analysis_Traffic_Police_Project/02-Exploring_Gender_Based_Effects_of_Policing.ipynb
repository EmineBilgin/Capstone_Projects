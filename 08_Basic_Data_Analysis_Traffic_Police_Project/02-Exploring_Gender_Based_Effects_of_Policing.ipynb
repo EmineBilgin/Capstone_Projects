{
 "cells": [
  {
   "cell_type": "markdown",
   "metadata": {},
   "source": [
    "<h1><p style=\"text-align: center;\">Data Analysis with Python <br>Project - 1</p><h1> - Traffic Police Stops <br><img src=\"https://thumbs.dreamstime.com/z/traffic-police-officer-uk-vector-illustration-traffic-police-officer-uk-187594525.jpg\" class=\"img-fluid\" alt=\"CLRSWY\" width=\"200\" height=\"100\"> "
   ]
  },
  {
   "cell_type": "markdown",
   "metadata": {},
   "source": [
    "Does the ``gender`` of a driver have an impact on police behavior during a traffic stop? **In this chapter**, we will explore that question while practicing filtering, grouping, method chaining, Boolean math, string methods, and more!"
   ]
  },
  {
   "cell_type": "markdown",
   "metadata": {},
   "source": [
    "***"
   ]
  },
  {
   "cell_type": "markdown",
   "metadata": {},
   "source": [
    "## Examining traffic violations"
   ]
  },
  {
   "cell_type": "markdown",
   "metadata": {},
   "source": [
    "Before comparing the violations being committed by each gender, we should examine the ``violations`` committed by all drivers to get a baseline understanding of the data.\n",
    "\n",
    "In this exercise, we'll count the unique values in the ``violation`` column, and then separately express those counts as proportions."
   ]
  },
  {
   "cell_type": "code",
   "execution_count": 1,
   "metadata": {},
   "outputs": [
    {
     "name": "stderr",
     "output_type": "stream",
     "text": [
      "/Users/ozkanyildirim/opt/anaconda3/lib/python3.7/site-packages/IPython/core/interactiveshell.py:3063: DtypeWarning: Columns (8,16) have mixed types.Specify dtype option on import or set low_memory=False.\n",
      "  interactivity=interactivity, compiler=compiler, result=result)\n"
     ]
    }
   ],
   "source": [
    "import pandas as pd\n",
    "import numpy as np\n",
    "import re\n",
    "\n",
    "pol = pd.read_csv('police.csv.zip').sample(50000, random_state=101)\n",
    "pol.shape\n",
    "\n",
    "pol.drop(['state', 'county_name', 'county_fips', 'fine_grained_location'], axis=1, inplace=True)\n",
    "\n",
    "pol.dropna(subset=['driver_gender'], inplace=True)\n",
    "\n",
    "pol['is_arrested']=pol['is_arrested'].astype({'is_arrested':'bool'})\n",
    "\n",
    "pol['stop_datetime'] = pol['stop_date'] + ' ' + pol['stop_time']\n",
    "\n",
    "pol['stop_datetime'] = pd.to_datetime(pol['stop_datetime'])\n",
    "\n",
    "pol.set_index('stop_datetime', inplace=True)"
   ]
  },
  {
   "cell_type": "code",
   "execution_count": 2,
   "metadata": {},
   "outputs": [
    {
     "name": "stdout",
     "output_type": "stream",
     "text": [
      "<class 'pandas.core.frame.DataFrame'>\n",
      "DatetimeIndex: 47180 entries, 2009-02-28 11:02:00 to 2013-03-21 11:54:00\n",
      "Data columns (total 24 columns):\n",
      " #   Column                 Non-Null Count  Dtype  \n",
      "---  ------                 --------------  -----  \n",
      " 0   id                     47180 non-null  object \n",
      " 1   stop_date              47180 non-null  object \n",
      " 2   stop_time              47180 non-null  object \n",
      " 3   location_raw           47180 non-null  object \n",
      " 4   county_fips            0 non-null      float64\n",
      " 5   fine_grained_location  0 non-null      float64\n",
      " 6   police_department      47180 non-null  object \n",
      " 7   driver_gender          47180 non-null  object \n",
      " 8   driver_age_raw         47180 non-null  float64\n",
      " 9   driver_age             47018 non-null  float64\n",
      " 10  driver_race_raw        47180 non-null  object \n",
      " 11  driver_race            47180 non-null  object \n",
      " 12  violation_raw          47180 non-null  object \n",
      " 13  violation              47180 non-null  object \n",
      " 14  search_conducted       47180 non-null  object \n",
      " 15  search_type_raw        1778 non-null   object \n",
      " 16  search_type            1778 non-null   object \n",
      " 17  contraband_found       47180 non-null  bool   \n",
      " 18  stop_outcome           47180 non-null  object \n",
      " 19  is_arrested            47180 non-null  bool   \n",
      " 20  stop_duration          47180 non-null  object \n",
      " 21  out_of_state           47102 non-null  object \n",
      " 22  drugs_related_stop     47180 non-null  bool   \n",
      " 23  district               47180 non-null  object \n",
      "dtypes: bool(3), float64(4), object(17)\n",
      "memory usage: 8.1+ MB\n"
     ]
    }
   ],
   "source": [
    "pol.info()"
   ]
  },
  {
   "cell_type": "code",
   "execution_count": 3,
   "metadata": {},
   "outputs": [
    {
     "data": {
      "text/plain": [
       "array(['Speeding', 'Registration/plates', 'Moving violation', 'Equipment',\n",
       "       'Other', 'Seat belt'], dtype=object)"
      ]
     },
     "execution_count": 3,
     "metadata": {},
     "output_type": "execute_result"
    }
   ],
   "source": [
    "pol['violation'].unique()"
   ]
  },
  {
   "cell_type": "code",
   "execution_count": 38,
   "metadata": {},
   "outputs": [
    {
     "data": {
      "text/plain": [
       "Speeding               0.554769\n",
       "Moving violation       0.189127\n",
       "Equipment              0.129716\n",
       "Other                  0.050890\n",
       "Registration/plates    0.040971\n",
       "Seat belt              0.034527\n",
       "Name: violation, dtype: float64"
      ]
     },
     "execution_count": 38,
     "metadata": {},
     "output_type": "execute_result"
    }
   ],
   "source": [
    "pol['violation'].value_counts(normalize=True, dropna=False)"
   ]
  },
  {
   "cell_type": "markdown",
   "metadata": {},
   "source": [
    "***"
   ]
  },
  {
   "cell_type": "markdown",
   "metadata": {},
   "source": [
    "## Comparing violations by gender"
   ]
  },
  {
   "cell_type": "markdown",
   "metadata": {},
   "source": [
    "The question we're trying to answer is whether male and female drivers tend to commit different types of traffic violations."
   ]
  },
  {
   "cell_type": "code",
   "execution_count": 5,
   "metadata": {},
   "outputs": [
    {
     "data": {
      "text/html": [
       "<div>\n",
       "<style scoped>\n",
       "    .dataframe tbody tr th:only-of-type {\n",
       "        vertical-align: middle;\n",
       "    }\n",
       "\n",
       "    .dataframe tbody tr th {\n",
       "        vertical-align: top;\n",
       "    }\n",
       "\n",
       "    .dataframe thead th {\n",
       "        text-align: right;\n",
       "    }\n",
       "</style>\n",
       "<table border=\"1\" class=\"dataframe\">\n",
       "  <thead>\n",
       "    <tr style=\"text-align: right;\">\n",
       "      <th></th>\n",
       "      <th>id</th>\n",
       "      <th>stop_date</th>\n",
       "      <th>stop_time</th>\n",
       "      <th>location_raw</th>\n",
       "      <th>county_fips</th>\n",
       "      <th>fine_grained_location</th>\n",
       "      <th>police_department</th>\n",
       "      <th>driver_gender</th>\n",
       "      <th>driver_age_raw</th>\n",
       "      <th>driver_age</th>\n",
       "      <th>...</th>\n",
       "      <th>search_conducted</th>\n",
       "      <th>search_type_raw</th>\n",
       "      <th>search_type</th>\n",
       "      <th>contraband_found</th>\n",
       "      <th>stop_outcome</th>\n",
       "      <th>is_arrested</th>\n",
       "      <th>stop_duration</th>\n",
       "      <th>out_of_state</th>\n",
       "      <th>drugs_related_stop</th>\n",
       "      <th>district</th>\n",
       "    </tr>\n",
       "    <tr>\n",
       "      <th>stop_datetime</th>\n",
       "      <th></th>\n",
       "      <th></th>\n",
       "      <th></th>\n",
       "      <th></th>\n",
       "      <th></th>\n",
       "      <th></th>\n",
       "      <th></th>\n",
       "      <th></th>\n",
       "      <th></th>\n",
       "      <th></th>\n",
       "      <th></th>\n",
       "      <th></th>\n",
       "      <th></th>\n",
       "      <th></th>\n",
       "      <th></th>\n",
       "      <th></th>\n",
       "      <th></th>\n",
       "      <th></th>\n",
       "      <th></th>\n",
       "      <th></th>\n",
       "      <th></th>\n",
       "    </tr>\n",
       "  </thead>\n",
       "  <tbody>\n",
       "    <tr>\n",
       "      <th>2012-05-17 13:45:00</th>\n",
       "      <td>RI-2012-27184</td>\n",
       "      <td>2012-05-17</td>\n",
       "      <td>13:45</td>\n",
       "      <td>Zone K2</td>\n",
       "      <td>NaN</td>\n",
       "      <td>NaN</td>\n",
       "      <td>900</td>\n",
       "      <td>F</td>\n",
       "      <td>1991.0</td>\n",
       "      <td>21.0</td>\n",
       "      <td>...</td>\n",
       "      <td>False</td>\n",
       "      <td>NaN</td>\n",
       "      <td>NaN</td>\n",
       "      <td>False</td>\n",
       "      <td>Citation</td>\n",
       "      <td>False</td>\n",
       "      <td>0-15 Min</td>\n",
       "      <td>False</td>\n",
       "      <td>False</td>\n",
       "      <td>Zone K2</td>\n",
       "    </tr>\n",
       "    <tr>\n",
       "      <th>2012-08-24 22:19:00</th>\n",
       "      <td>RI-2012-44496</td>\n",
       "      <td>2012-08-24</td>\n",
       "      <td>22:19</td>\n",
       "      <td>Zone X4</td>\n",
       "      <td>NaN</td>\n",
       "      <td>NaN</td>\n",
       "      <td>500</td>\n",
       "      <td>F</td>\n",
       "      <td>1990.0</td>\n",
       "      <td>22.0</td>\n",
       "      <td>...</td>\n",
       "      <td>False</td>\n",
       "      <td>NaN</td>\n",
       "      <td>NaN</td>\n",
       "      <td>False</td>\n",
       "      <td>Citation</td>\n",
       "      <td>False</td>\n",
       "      <td>0-15 Min</td>\n",
       "      <td>False</td>\n",
       "      <td>False</td>\n",
       "      <td>Zone X4</td>\n",
       "    </tr>\n",
       "    <tr>\n",
       "      <th>2006-11-20 13:45:00</th>\n",
       "      <td>RI-2006-51922</td>\n",
       "      <td>2006-11-20</td>\n",
       "      <td>13:45</td>\n",
       "      <td>Zone X3</td>\n",
       "      <td>NaN</td>\n",
       "      <td>NaN</td>\n",
       "      <td>200</td>\n",
       "      <td>F</td>\n",
       "      <td>1971.0</td>\n",
       "      <td>35.0</td>\n",
       "      <td>...</td>\n",
       "      <td>False</td>\n",
       "      <td>NaN</td>\n",
       "      <td>NaN</td>\n",
       "      <td>False</td>\n",
       "      <td>Citation</td>\n",
       "      <td>False</td>\n",
       "      <td>0-15 Min</td>\n",
       "      <td>False</td>\n",
       "      <td>False</td>\n",
       "      <td>Zone X3</td>\n",
       "    </tr>\n",
       "    <tr>\n",
       "      <th>2013-10-21 11:33:00</th>\n",
       "      <td>RI-2013-36430</td>\n",
       "      <td>2013-10-21</td>\n",
       "      <td>11:33</td>\n",
       "      <td>Zone X3</td>\n",
       "      <td>NaN</td>\n",
       "      <td>NaN</td>\n",
       "      <td>200</td>\n",
       "      <td>F</td>\n",
       "      <td>1994.0</td>\n",
       "      <td>19.0</td>\n",
       "      <td>...</td>\n",
       "      <td>False</td>\n",
       "      <td>NaN</td>\n",
       "      <td>NaN</td>\n",
       "      <td>False</td>\n",
       "      <td>Citation</td>\n",
       "      <td>False</td>\n",
       "      <td>0-15 Min</td>\n",
       "      <td>False</td>\n",
       "      <td>False</td>\n",
       "      <td>Zone X3</td>\n",
       "    </tr>\n",
       "    <tr>\n",
       "      <th>2008-07-21 10:59:00</th>\n",
       "      <td>RI-2008-27059</td>\n",
       "      <td>2008-07-21</td>\n",
       "      <td>10:59</td>\n",
       "      <td>Zone K2</td>\n",
       "      <td>NaN</td>\n",
       "      <td>NaN</td>\n",
       "      <td>900</td>\n",
       "      <td>F</td>\n",
       "      <td>1990.0</td>\n",
       "      <td>18.0</td>\n",
       "      <td>...</td>\n",
       "      <td>False</td>\n",
       "      <td>NaN</td>\n",
       "      <td>NaN</td>\n",
       "      <td>False</td>\n",
       "      <td>Citation</td>\n",
       "      <td>False</td>\n",
       "      <td>0-15 Min</td>\n",
       "      <td>False</td>\n",
       "      <td>False</td>\n",
       "      <td>Zone K2</td>\n",
       "    </tr>\n",
       "  </tbody>\n",
       "</table>\n",
       "<p>5 rows × 24 columns</p>\n",
       "</div>"
      ],
      "text/plain": [
       "                                id   stop_date stop_time location_raw  \\\n",
       "stop_datetime                                                           \n",
       "2012-05-17 13:45:00  RI-2012-27184  2012-05-17     13:45      Zone K2   \n",
       "2012-08-24 22:19:00  RI-2012-44496  2012-08-24     22:19      Zone X4   \n",
       "2006-11-20 13:45:00  RI-2006-51922  2006-11-20     13:45      Zone X3   \n",
       "2013-10-21 11:33:00  RI-2013-36430  2013-10-21     11:33      Zone X3   \n",
       "2008-07-21 10:59:00  RI-2008-27059  2008-07-21     10:59      Zone K2   \n",
       "\n",
       "                     county_fips  fine_grained_location police_department  \\\n",
       "stop_datetime                                                               \n",
       "2012-05-17 13:45:00          NaN                    NaN               900   \n",
       "2012-08-24 22:19:00          NaN                    NaN               500   \n",
       "2006-11-20 13:45:00          NaN                    NaN               200   \n",
       "2013-10-21 11:33:00          NaN                    NaN               200   \n",
       "2008-07-21 10:59:00          NaN                    NaN               900   \n",
       "\n",
       "                    driver_gender  driver_age_raw  driver_age  ...  \\\n",
       "stop_datetime                                                  ...   \n",
       "2012-05-17 13:45:00             F          1991.0        21.0  ...   \n",
       "2012-08-24 22:19:00             F          1990.0        22.0  ...   \n",
       "2006-11-20 13:45:00             F          1971.0        35.0  ...   \n",
       "2013-10-21 11:33:00             F          1994.0        19.0  ...   \n",
       "2008-07-21 10:59:00             F          1990.0        18.0  ...   \n",
       "\n",
       "                    search_conducted search_type_raw search_type  \\\n",
       "stop_datetime                                                      \n",
       "2012-05-17 13:45:00            False             NaN         NaN   \n",
       "2012-08-24 22:19:00            False             NaN         NaN   \n",
       "2006-11-20 13:45:00            False             NaN         NaN   \n",
       "2013-10-21 11:33:00            False             NaN         NaN   \n",
       "2008-07-21 10:59:00            False             NaN         NaN   \n",
       "\n",
       "                    contraband_found stop_outcome is_arrested stop_duration  \\\n",
       "stop_datetime                                                                 \n",
       "2012-05-17 13:45:00            False     Citation       False      0-15 Min   \n",
       "2012-08-24 22:19:00            False     Citation       False      0-15 Min   \n",
       "2006-11-20 13:45:00            False     Citation       False      0-15 Min   \n",
       "2013-10-21 11:33:00            False     Citation       False      0-15 Min   \n",
       "2008-07-21 10:59:00            False     Citation       False      0-15 Min   \n",
       "\n",
       "                     out_of_state drugs_related_stop  district  \n",
       "stop_datetime                                                   \n",
       "2012-05-17 13:45:00         False              False   Zone K2  \n",
       "2012-08-24 22:19:00         False              False   Zone X4  \n",
       "2006-11-20 13:45:00         False              False   Zone X3  \n",
       "2013-10-21 11:33:00         False              False   Zone X3  \n",
       "2008-07-21 10:59:00         False              False   Zone K2  \n",
       "\n",
       "[5 rows x 24 columns]"
      ]
     },
     "execution_count": 5,
     "metadata": {},
     "output_type": "execute_result"
    }
   ],
   "source": [
    "polf = pol[pol['driver_gender'] == 'F']\n",
    "polf.head()"
   ]
  },
  {
   "cell_type": "code",
   "execution_count": 6,
   "metadata": {},
   "outputs": [
    {
     "data": {
      "text/html": [
       "<div>\n",
       "<style scoped>\n",
       "    .dataframe tbody tr th:only-of-type {\n",
       "        vertical-align: middle;\n",
       "    }\n",
       "\n",
       "    .dataframe tbody tr th {\n",
       "        vertical-align: top;\n",
       "    }\n",
       "\n",
       "    .dataframe thead th {\n",
       "        text-align: right;\n",
       "    }\n",
       "</style>\n",
       "<table border=\"1\" class=\"dataframe\">\n",
       "  <thead>\n",
       "    <tr style=\"text-align: right;\">\n",
       "      <th></th>\n",
       "      <th>id</th>\n",
       "      <th>stop_date</th>\n",
       "      <th>stop_time</th>\n",
       "      <th>location_raw</th>\n",
       "      <th>county_fips</th>\n",
       "      <th>fine_grained_location</th>\n",
       "      <th>police_department</th>\n",
       "      <th>driver_gender</th>\n",
       "      <th>driver_age_raw</th>\n",
       "      <th>driver_age</th>\n",
       "      <th>...</th>\n",
       "      <th>search_conducted</th>\n",
       "      <th>search_type_raw</th>\n",
       "      <th>search_type</th>\n",
       "      <th>contraband_found</th>\n",
       "      <th>stop_outcome</th>\n",
       "      <th>is_arrested</th>\n",
       "      <th>stop_duration</th>\n",
       "      <th>out_of_state</th>\n",
       "      <th>drugs_related_stop</th>\n",
       "      <th>district</th>\n",
       "    </tr>\n",
       "    <tr>\n",
       "      <th>stop_datetime</th>\n",
       "      <th></th>\n",
       "      <th></th>\n",
       "      <th></th>\n",
       "      <th></th>\n",
       "      <th></th>\n",
       "      <th></th>\n",
       "      <th></th>\n",
       "      <th></th>\n",
       "      <th></th>\n",
       "      <th></th>\n",
       "      <th></th>\n",
       "      <th></th>\n",
       "      <th></th>\n",
       "      <th></th>\n",
       "      <th></th>\n",
       "      <th></th>\n",
       "      <th></th>\n",
       "      <th></th>\n",
       "      <th></th>\n",
       "      <th></th>\n",
       "      <th></th>\n",
       "    </tr>\n",
       "  </thead>\n",
       "  <tbody>\n",
       "    <tr>\n",
       "      <th>2009-02-28 11:02:00</th>\n",
       "      <td>RI-2009-08019</td>\n",
       "      <td>2009-02-28</td>\n",
       "      <td>11:02</td>\n",
       "      <td>Zone K2</td>\n",
       "      <td>NaN</td>\n",
       "      <td>NaN</td>\n",
       "      <td>900</td>\n",
       "      <td>M</td>\n",
       "      <td>1952.0</td>\n",
       "      <td>57.0</td>\n",
       "      <td>...</td>\n",
       "      <td>False</td>\n",
       "      <td>NaN</td>\n",
       "      <td>NaN</td>\n",
       "      <td>False</td>\n",
       "      <td>Citation</td>\n",
       "      <td>False</td>\n",
       "      <td>0-15 Min</td>\n",
       "      <td>True</td>\n",
       "      <td>False</td>\n",
       "      <td>Zone K2</td>\n",
       "    </tr>\n",
       "    <tr>\n",
       "      <th>2008-08-30 18:09:00</th>\n",
       "      <td>RI-2008-32661</td>\n",
       "      <td>2008-08-30</td>\n",
       "      <td>18:09</td>\n",
       "      <td>Zone K3</td>\n",
       "      <td>NaN</td>\n",
       "      <td>NaN</td>\n",
       "      <td>300</td>\n",
       "      <td>M</td>\n",
       "      <td>1967.0</td>\n",
       "      <td>41.0</td>\n",
       "      <td>...</td>\n",
       "      <td>False</td>\n",
       "      <td>NaN</td>\n",
       "      <td>NaN</td>\n",
       "      <td>False</td>\n",
       "      <td>Citation</td>\n",
       "      <td>False</td>\n",
       "      <td>0-15 Min</td>\n",
       "      <td>False</td>\n",
       "      <td>False</td>\n",
       "      <td>Zone K3</td>\n",
       "    </tr>\n",
       "    <tr>\n",
       "      <th>2009-04-13 22:36:00</th>\n",
       "      <td>RI-2009-14329</td>\n",
       "      <td>2009-04-13</td>\n",
       "      <td>22:36</td>\n",
       "      <td>Zone K1</td>\n",
       "      <td>NaN</td>\n",
       "      <td>NaN</td>\n",
       "      <td>600</td>\n",
       "      <td>M</td>\n",
       "      <td>1987.0</td>\n",
       "      <td>22.0</td>\n",
       "      <td>...</td>\n",
       "      <td>False</td>\n",
       "      <td>NaN</td>\n",
       "      <td>NaN</td>\n",
       "      <td>False</td>\n",
       "      <td>Citation</td>\n",
       "      <td>False</td>\n",
       "      <td>16-30 Min</td>\n",
       "      <td>True</td>\n",
       "      <td>False</td>\n",
       "      <td>Zone K1</td>\n",
       "    </tr>\n",
       "    <tr>\n",
       "      <th>2011-02-06 11:12:00</th>\n",
       "      <td>RI-2011-03623</td>\n",
       "      <td>2011-02-06</td>\n",
       "      <td>11:12</td>\n",
       "      <td>Zone X4</td>\n",
       "      <td>NaN</td>\n",
       "      <td>NaN</td>\n",
       "      <td>500</td>\n",
       "      <td>M</td>\n",
       "      <td>1988.0</td>\n",
       "      <td>23.0</td>\n",
       "      <td>...</td>\n",
       "      <td>False</td>\n",
       "      <td>NaN</td>\n",
       "      <td>NaN</td>\n",
       "      <td>False</td>\n",
       "      <td>Citation</td>\n",
       "      <td>False</td>\n",
       "      <td>0-15 Min</td>\n",
       "      <td>False</td>\n",
       "      <td>False</td>\n",
       "      <td>Zone X4</td>\n",
       "    </tr>\n",
       "    <tr>\n",
       "      <th>2011-01-22 07:43:00</th>\n",
       "      <td>RI-2011-02368</td>\n",
       "      <td>2011-01-22</td>\n",
       "      <td>07:43</td>\n",
       "      <td>Zone K3</td>\n",
       "      <td>NaN</td>\n",
       "      <td>NaN</td>\n",
       "      <td>300</td>\n",
       "      <td>M</td>\n",
       "      <td>1989.0</td>\n",
       "      <td>22.0</td>\n",
       "      <td>...</td>\n",
       "      <td>False</td>\n",
       "      <td>NaN</td>\n",
       "      <td>NaN</td>\n",
       "      <td>False</td>\n",
       "      <td>Citation</td>\n",
       "      <td>False</td>\n",
       "      <td>0-15 Min</td>\n",
       "      <td>True</td>\n",
       "      <td>False</td>\n",
       "      <td>Zone K3</td>\n",
       "    </tr>\n",
       "  </tbody>\n",
       "</table>\n",
       "<p>5 rows × 24 columns</p>\n",
       "</div>"
      ],
      "text/plain": [
       "                                id   stop_date stop_time location_raw  \\\n",
       "stop_datetime                                                           \n",
       "2009-02-28 11:02:00  RI-2009-08019  2009-02-28     11:02      Zone K2   \n",
       "2008-08-30 18:09:00  RI-2008-32661  2008-08-30     18:09      Zone K3   \n",
       "2009-04-13 22:36:00  RI-2009-14329  2009-04-13     22:36      Zone K1   \n",
       "2011-02-06 11:12:00  RI-2011-03623  2011-02-06     11:12      Zone X4   \n",
       "2011-01-22 07:43:00  RI-2011-02368  2011-01-22     07:43      Zone K3   \n",
       "\n",
       "                     county_fips  fine_grained_location police_department  \\\n",
       "stop_datetime                                                               \n",
       "2009-02-28 11:02:00          NaN                    NaN               900   \n",
       "2008-08-30 18:09:00          NaN                    NaN               300   \n",
       "2009-04-13 22:36:00          NaN                    NaN               600   \n",
       "2011-02-06 11:12:00          NaN                    NaN               500   \n",
       "2011-01-22 07:43:00          NaN                    NaN               300   \n",
       "\n",
       "                    driver_gender  driver_age_raw  driver_age  ...  \\\n",
       "stop_datetime                                                  ...   \n",
       "2009-02-28 11:02:00             M          1952.0        57.0  ...   \n",
       "2008-08-30 18:09:00             M          1967.0        41.0  ...   \n",
       "2009-04-13 22:36:00             M          1987.0        22.0  ...   \n",
       "2011-02-06 11:12:00             M          1988.0        23.0  ...   \n",
       "2011-01-22 07:43:00             M          1989.0        22.0  ...   \n",
       "\n",
       "                    search_conducted search_type_raw search_type  \\\n",
       "stop_datetime                                                      \n",
       "2009-02-28 11:02:00            False             NaN         NaN   \n",
       "2008-08-30 18:09:00            False             NaN         NaN   \n",
       "2009-04-13 22:36:00            False             NaN         NaN   \n",
       "2011-02-06 11:12:00            False             NaN         NaN   \n",
       "2011-01-22 07:43:00            False             NaN         NaN   \n",
       "\n",
       "                    contraband_found stop_outcome is_arrested stop_duration  \\\n",
       "stop_datetime                                                                 \n",
       "2009-02-28 11:02:00            False     Citation       False      0-15 Min   \n",
       "2008-08-30 18:09:00            False     Citation       False      0-15 Min   \n",
       "2009-04-13 22:36:00            False     Citation       False     16-30 Min   \n",
       "2011-02-06 11:12:00            False     Citation       False      0-15 Min   \n",
       "2011-01-22 07:43:00            False     Citation       False      0-15 Min   \n",
       "\n",
       "                     out_of_state drugs_related_stop  district  \n",
       "stop_datetime                                                   \n",
       "2009-02-28 11:02:00          True              False   Zone K2  \n",
       "2008-08-30 18:09:00         False              False   Zone K3  \n",
       "2009-04-13 22:36:00          True              False   Zone K1  \n",
       "2011-02-06 11:12:00         False              False   Zone X4  \n",
       "2011-01-22 07:43:00          True              False   Zone K3  \n",
       "\n",
       "[5 rows x 24 columns]"
      ]
     },
     "execution_count": 6,
     "metadata": {},
     "output_type": "execute_result"
    }
   ],
   "source": [
    "polm = pol[pol['driver_gender'] == 'M']\n",
    "polm.head()"
   ]
  },
  {
   "cell_type": "code",
   "execution_count": 7,
   "metadata": {},
   "outputs": [
    {
     "data": {
      "text/plain": [
       "Speeding               0.650637\n",
       "Moving violation       0.137819\n",
       "Equipment              0.112492\n",
       "Registration/plates    0.042107\n",
       "Other                  0.028900\n",
       "Seat belt              0.028045\n",
       "Name: violation, dtype: float64"
      ]
     },
     "execution_count": 7,
     "metadata": {},
     "output_type": "execute_result"
    }
   ],
   "source": [
    "polf['violation'].value_counts(normalize=True, dropna=False)"
   ]
  },
  {
   "cell_type": "code",
   "execution_count": 8,
   "metadata": {},
   "outputs": [
    {
     "data": {
      "text/plain": [
       "Speeding               0.518800\n",
       "Moving violation       0.208377\n",
       "Equipment              0.136178\n",
       "Other                  0.059141\n",
       "Registration/plates    0.040544\n",
       "Seat belt              0.036959\n",
       "Name: violation, dtype: float64"
      ]
     },
     "execution_count": 8,
     "metadata": {},
     "output_type": "execute_result"
    }
   ],
   "source": [
    "polm['violation'].value_counts(normalize=True, dropna=False)"
   ]
  },
  {
   "cell_type": "markdown",
   "metadata": {},
   "source": [
    "***"
   ]
  },
  {
   "cell_type": "markdown",
   "metadata": {},
   "source": [
    "## Comparing speeding outcomes by gender"
   ]
  },
  {
   "cell_type": "markdown",
   "metadata": {},
   "source": [
    "When a driver is pulled over for speeding, many people believe that gender has an impact on whether the driver will receive a ticket or a warning. We will try to find evidences of this in the dataset.\n",
    "\n",
    "First, we'll create two ``DataFrames`` of drivers who were stopped for ``speeding``: one containing ***females*** and the other containing ***males***.\n",
    "\n",
    "Then, for each **gender**, we'll use the ``stop_outcome`` column to calculate what percentage of stops resulted in a ``\"Citation\"`` (meaning a ticket) versus a ``\"Warning\"``."
   ]
  },
  {
   "cell_type": "code",
   "execution_count": 9,
   "metadata": {},
   "outputs": [
    {
     "data": {
      "text/html": [
       "<div>\n",
       "<style scoped>\n",
       "    .dataframe tbody tr th:only-of-type {\n",
       "        vertical-align: middle;\n",
       "    }\n",
       "\n",
       "    .dataframe tbody tr th {\n",
       "        vertical-align: top;\n",
       "    }\n",
       "\n",
       "    .dataframe thead th {\n",
       "        text-align: right;\n",
       "    }\n",
       "</style>\n",
       "<table border=\"1\" class=\"dataframe\">\n",
       "  <thead>\n",
       "    <tr style=\"text-align: right;\">\n",
       "      <th></th>\n",
       "      <th>violation</th>\n",
       "    </tr>\n",
       "    <tr>\n",
       "      <th>stop_datetime</th>\n",
       "      <th></th>\n",
       "    </tr>\n",
       "  </thead>\n",
       "  <tbody>\n",
       "    <tr>\n",
       "      <th>2006-11-20 13:45:00</th>\n",
       "      <td>Speeding</td>\n",
       "    </tr>\n",
       "    <tr>\n",
       "      <th>2013-10-21 11:33:00</th>\n",
       "      <td>Speeding</td>\n",
       "    </tr>\n",
       "    <tr>\n",
       "      <th>2008-07-21 10:59:00</th>\n",
       "      <td>Speeding</td>\n",
       "    </tr>\n",
       "    <tr>\n",
       "      <th>2014-09-19 06:41:00</th>\n",
       "      <td>Speeding</td>\n",
       "    </tr>\n",
       "    <tr>\n",
       "      <th>2006-05-21 23:45:00</th>\n",
       "      <td>Speeding</td>\n",
       "    </tr>\n",
       "  </tbody>\n",
       "</table>\n",
       "</div>"
      ],
      "text/plain": [
       "                    violation\n",
       "stop_datetime                \n",
       "2006-11-20 13:45:00  Speeding\n",
       "2013-10-21 11:33:00  Speeding\n",
       "2008-07-21 10:59:00  Speeding\n",
       "2014-09-19 06:41:00  Speeding\n",
       "2006-05-21 23:45:00  Speeding"
      ]
     },
     "execution_count": 9,
     "metadata": {},
     "output_type": "execute_result"
    }
   ],
   "source": [
    "f_speed = polf[polf['violation'] == 'Speeding']\n",
    "f_speed[['violation']].head()"
   ]
  },
  {
   "cell_type": "code",
   "execution_count": 10,
   "metadata": {},
   "outputs": [
    {
     "data": {
      "text/html": [
       "<div>\n",
       "<style scoped>\n",
       "    .dataframe tbody tr th:only-of-type {\n",
       "        vertical-align: middle;\n",
       "    }\n",
       "\n",
       "    .dataframe tbody tr th {\n",
       "        vertical-align: top;\n",
       "    }\n",
       "\n",
       "    .dataframe thead th {\n",
       "        text-align: right;\n",
       "    }\n",
       "</style>\n",
       "<table border=\"1\" class=\"dataframe\">\n",
       "  <thead>\n",
       "    <tr style=\"text-align: right;\">\n",
       "      <th></th>\n",
       "      <th>violation</th>\n",
       "    </tr>\n",
       "    <tr>\n",
       "      <th>stop_datetime</th>\n",
       "      <th></th>\n",
       "    </tr>\n",
       "  </thead>\n",
       "  <tbody>\n",
       "    <tr>\n",
       "      <th>2009-02-28 11:02:00</th>\n",
       "      <td>Speeding</td>\n",
       "    </tr>\n",
       "    <tr>\n",
       "      <th>2009-04-13 22:36:00</th>\n",
       "      <td>Speeding</td>\n",
       "    </tr>\n",
       "    <tr>\n",
       "      <th>2011-01-22 07:43:00</th>\n",
       "      <td>Speeding</td>\n",
       "    </tr>\n",
       "    <tr>\n",
       "      <th>2005-12-20 04:00:00</th>\n",
       "      <td>Speeding</td>\n",
       "    </tr>\n",
       "    <tr>\n",
       "      <th>2008-08-26 14:12:00</th>\n",
       "      <td>Speeding</td>\n",
       "    </tr>\n",
       "  </tbody>\n",
       "</table>\n",
       "</div>"
      ],
      "text/plain": [
       "                    violation\n",
       "stop_datetime                \n",
       "2009-02-28 11:02:00  Speeding\n",
       "2009-04-13 22:36:00  Speeding\n",
       "2011-01-22 07:43:00  Speeding\n",
       "2005-12-20 04:00:00  Speeding\n",
       "2008-08-26 14:12:00  Speeding"
      ]
     },
     "execution_count": 10,
     "metadata": {},
     "output_type": "execute_result"
    }
   ],
   "source": [
    "m_speed = polm[polm['violation'] == 'Speeding']\n",
    "m_speed[['violation']].head()"
   ]
  },
  {
   "cell_type": "code",
   "execution_count": 11,
   "metadata": {},
   "outputs": [
    {
     "data": {
      "text/plain": [
       "Citation            7986\n",
       "Warning              328\n",
       "Arrest Driver         46\n",
       "Arrest Passenger       7\n",
       "N/D                    6\n",
       "No Action              2\n",
       "Name: stop_outcome, dtype: int64"
      ]
     },
     "execution_count": 11,
     "metadata": {},
     "output_type": "execute_result"
    }
   ],
   "source": [
    "f_speed['stop_outcome'].value_counts()"
   ]
  },
  {
   "cell_type": "code",
   "execution_count": 12,
   "metadata": {},
   "outputs": [
    {
     "data": {
      "text/plain": [
       "Citation            0.953552\n",
       "Warning             0.039164\n",
       "Arrest Driver       0.005493\n",
       "Arrest Passenger    0.000836\n",
       "N/D                 0.000716\n",
       "No Action           0.000239\n",
       "Name: stop_outcome, dtype: float64"
      ]
     },
     "execution_count": 12,
     "metadata": {},
     "output_type": "execute_result"
    }
   ],
   "source": [
    "f_speed['stop_outcome'].value_counts(normalize=True)"
   ]
  },
  {
   "cell_type": "code",
   "execution_count": 13,
   "metadata": {},
   "outputs": [
    {
     "data": {
      "text/plain": [
       "Citation            16807\n",
       "Warning               626\n",
       "Arrest Driver         305\n",
       "Arrest Passenger       25\n",
       "N/D                    19\n",
       "No Action              17\n",
       "Name: stop_outcome, dtype: int64"
      ]
     },
     "execution_count": 13,
     "metadata": {},
     "output_type": "execute_result"
    }
   ],
   "source": [
    "m_speed['stop_outcome'].value_counts()"
   ]
  },
  {
   "cell_type": "code",
   "execution_count": 14,
   "metadata": {},
   "outputs": [
    {
     "data": {
      "text/plain": [
       "Citation            0.944267\n",
       "Warning             0.035171\n",
       "Arrest Driver       0.017136\n",
       "Arrest Passenger    0.001405\n",
       "N/D                 0.001067\n",
       "No Action           0.000955\n",
       "Name: stop_outcome, dtype: float64"
      ]
     },
     "execution_count": 14,
     "metadata": {},
     "output_type": "execute_result"
    }
   ],
   "source": [
    "m_speed['stop_outcome'].value_counts(normalize=True)"
   ]
  },
  {
   "cell_type": "markdown",
   "metadata": {},
   "source": [
    "***"
   ]
  },
  {
   "cell_type": "markdown",
   "metadata": {},
   "source": [
    "## Calculating the search rate"
   ]
  },
  {
   "cell_type": "markdown",
   "metadata": {},
   "source": [
    "During a traffic stop, the police officer sometimes conducts a search of the vehicle. In this exercise, we'll calculate the percentage of all stops that result in a vehicle search, also known as the **search rate**."
   ]
  },
  {
   "cell_type": "code",
   "execution_count": 15,
   "metadata": {},
   "outputs": [
    {
     "data": {
      "text/plain": [
       "dtype('bool')"
      ]
     },
     "execution_count": 15,
     "metadata": {},
     "output_type": "execute_result"
    }
   ],
   "source": [
    "pol['search_conducted'] = pol['search_conducted'].astype({'search_conducted':'bool'})\n",
    "pol['search_conducted'].dtypes"
   ]
  },
  {
   "cell_type": "code",
   "execution_count": 16,
   "metadata": {},
   "outputs": [
    {
     "data": {
      "text/plain": [
       "False    45402\n",
       "True      1778\n",
       "Name: search_conducted, dtype: int64"
      ]
     },
     "execution_count": 16,
     "metadata": {},
     "output_type": "execute_result"
    }
   ],
   "source": [
    "pol['search_conducted'].value_counts()"
   ]
  },
  {
   "cell_type": "code",
   "execution_count": 17,
   "metadata": {},
   "outputs": [
    {
     "data": {
      "text/plain": [
       "False    0.962315\n",
       "True     0.037685\n",
       "Name: search_conducted, dtype: float64"
      ]
     },
     "execution_count": 17,
     "metadata": {},
     "output_type": "execute_result"
    }
   ],
   "source": [
    "pol['search_conducted'].value_counts(normalize=True)"
   ]
  },
  {
   "cell_type": "code",
   "execution_count": 18,
   "metadata": {},
   "outputs": [
    {
     "data": {
      "text/plain": [
       "0.03768545994065282"
      ]
     },
     "execution_count": 18,
     "metadata": {},
     "output_type": "execute_result"
    }
   ],
   "source": [
    "pol['search_conducted'].mean()"
   ]
  },
  {
   "cell_type": "markdown",
   "metadata": {},
   "source": [
    "***"
   ]
  },
  {
   "cell_type": "markdown",
   "metadata": {},
   "source": [
    "## Comparing search rates by gender"
   ]
  },
  {
   "cell_type": "markdown",
   "metadata": {},
   "source": [
    "We'll compare the rates at which **female** and **male** drivers are searched during a traffic stop. \n",
    "\n",
    "First, we'll filter the ``DataFrame`` by gender and calculate the search rate for each group separately. Then, we'll perform the same calculation for both genders at once using a ``.groupby()``."
   ]
  },
  {
   "cell_type": "code",
   "execution_count": 19,
   "metadata": {},
   "outputs": [
    {
     "data": {
      "text/plain": [
       "False    12625\n",
       "True       247\n",
       "Name: search_conducted, dtype: int64"
      ]
     },
     "execution_count": 19,
     "metadata": {},
     "output_type": "execute_result"
    }
   ],
   "source": [
    "pol[pol['driver_gender']=='F']['search_conducted'].value_counts()"
   ]
  },
  {
   "cell_type": "code",
   "execution_count": 20,
   "metadata": {},
   "outputs": [
    {
     "data": {
      "text/plain": [
       "False    0.980811\n",
       "True     0.019189\n",
       "Name: search_conducted, dtype: float64"
      ]
     },
     "execution_count": 20,
     "metadata": {},
     "output_type": "execute_result"
    }
   ],
   "source": [
    "pol[pol['driver_gender']=='F']['search_conducted'].value_counts(normalize=True)"
   ]
  },
  {
   "cell_type": "code",
   "execution_count": 21,
   "metadata": {},
   "outputs": [
    {
     "data": {
      "text/plain": [
       "False    32777\n",
       "True      1531\n",
       "Name: search_conducted, dtype: int64"
      ]
     },
     "execution_count": 21,
     "metadata": {},
     "output_type": "execute_result"
    }
   ],
   "source": [
    "pol[pol['driver_gender']=='M']['search_conducted'].value_counts()"
   ]
  },
  {
   "cell_type": "code",
   "execution_count": 22,
   "metadata": {},
   "outputs": [
    {
     "data": {
      "text/plain": [
       "False    0.955375\n",
       "True     0.044625\n",
       "Name: search_conducted, dtype: float64"
      ]
     },
     "execution_count": 22,
     "metadata": {},
     "output_type": "execute_result"
    }
   ],
   "source": [
    "pol[pol['driver_gender']=='M']['search_conducted'].value_counts(normalize=True)"
   ]
  },
  {
   "cell_type": "code",
   "execution_count": 23,
   "metadata": {},
   "outputs": [
    {
     "data": {
      "text/plain": [
       "driver_gender  search_conducted\n",
       "F              False               12625\n",
       "               True                  247\n",
       "M              False               32777\n",
       "               True                 1531\n",
       "Name: search_conducted, dtype: int64"
      ]
     },
     "execution_count": 23,
     "metadata": {},
     "output_type": "execute_result"
    }
   ],
   "source": [
    "pol.groupby('driver_gender')['search_conducted'].value_counts()"
   ]
  },
  {
   "cell_type": "code",
   "execution_count": 24,
   "metadata": {},
   "outputs": [
    {
     "data": {
      "text/plain": [
       "driver_gender  search_conducted\n",
       "F              False               0.980811\n",
       "               True                0.019189\n",
       "M              False               0.955375\n",
       "               True                0.044625\n",
       "Name: search_conducted, dtype: float64"
      ]
     },
     "execution_count": 24,
     "metadata": {},
     "output_type": "execute_result"
    }
   ],
   "source": [
    "pol.groupby('driver_gender')['search_conducted'].value_counts(normalize=True)"
   ]
  },
  {
   "cell_type": "markdown",
   "metadata": {},
   "source": [
    "***"
   ]
  },
  {
   "cell_type": "markdown",
   "metadata": {},
   "source": [
    "## Adding a second factor to the analysis"
   ]
  },
  {
   "cell_type": "markdown",
   "metadata": {},
   "source": [
    "Even though the search rate for males is much higher than for females, it's possible that the difference is mostly due to a second factor.\n",
    "\n",
    "For example, one might hypothesize that the search rate varies by violation type, and the difference in search rate between males and females is because they tend to commit different violations.\n",
    "\n",
    "We can test this hypothesis by examining the search rate for each combination of gender and violation. If the hypothesis was true, we would find that males and females are searched at about the same rate for each violation. Let's find out below if that's the case!"
   ]
  },
  {
   "cell_type": "code",
   "execution_count": 25,
   "metadata": {},
   "outputs": [
    {
     "data": {
      "text/plain": [
       "driver_gender  violation          \n",
       "F              Speeding               0.650637\n",
       "               Moving violation       0.137819\n",
       "               Equipment              0.112492\n",
       "               Registration/plates    0.042107\n",
       "               Other                  0.028900\n",
       "               Seat belt              0.028045\n",
       "M              Speeding               0.518800\n",
       "               Moving violation       0.208377\n",
       "               Equipment              0.136178\n",
       "               Other                  0.059141\n",
       "               Registration/plates    0.040544\n",
       "               Seat belt              0.036959\n",
       "Name: violation, dtype: float64"
      ]
     },
     "execution_count": 25,
     "metadata": {},
     "output_type": "execute_result"
    }
   ],
   "source": [
    "pol.groupby('driver_gender')['violation'].value_counts(normalize=True)"
   ]
  },
  {
   "cell_type": "code",
   "execution_count": 26,
   "metadata": {},
   "outputs": [
    {
     "data": {
      "text/plain": [
       "driver_gender  search_conducted  violation          \n",
       "F              False             Speeding               0.657347\n",
       "                                 Moving violation       0.135287\n",
       "                                 Equipment              0.109941\n",
       "                                 Registration/plates    0.040792\n",
       "                                 Other                  0.028673\n",
       "                                 Seat belt              0.027960\n",
       "               True              Speeding               0.307692\n",
       "                                 Moving violation       0.267206\n",
       "                                 Equipment              0.242915\n",
       "                                 Registration/plates    0.109312\n",
       "                                 Other                  0.040486\n",
       "                                 Seat belt              0.032389\n",
       "M              False             Speeding               0.528572\n",
       "                                 Moving violation       0.204625\n",
       "                                 Equipment              0.132746\n",
       "                                 Other                  0.058913\n",
       "                                 Registration/plates    0.037862\n",
       "                                 Seat belt              0.037282\n",
       "               True              Speeding               0.309602\n",
       "                                 Moving violation       0.288700\n",
       "                                 Equipment              0.209667\n",
       "                                 Registration/plates    0.097975\n",
       "                                 Other                  0.064010\n",
       "                                 Seat belt              0.030046\n",
       "Name: violation, dtype: float64"
      ]
     },
     "execution_count": 26,
     "metadata": {},
     "output_type": "execute_result"
    }
   ],
   "source": [
    "pol.groupby(['driver_gender','search_conducted'])['violation'].value_counts(normalize=True)"
   ]
  },
  {
   "cell_type": "code",
   "execution_count": 27,
   "metadata": {},
   "outputs": [
    {
     "data": {
      "text/plain": [
       "search_conducted  violation          \n",
       "False             Speeding               0.657347\n",
       "                  Moving violation       0.135287\n",
       "                  Equipment              0.109941\n",
       "                  Registration/plates    0.040792\n",
       "                  Other                  0.028673\n",
       "                  Seat belt              0.027960\n",
       "True              Speeding               0.307692\n",
       "                  Moving violation       0.267206\n",
       "                  Equipment              0.242915\n",
       "                  Registration/plates    0.109312\n",
       "                  Other                  0.040486\n",
       "                  Seat belt              0.032389\n",
       "Name: violation, dtype: float64"
      ]
     },
     "execution_count": 27,
     "metadata": {},
     "output_type": "execute_result"
    }
   ],
   "source": [
    "polf.groupby('search_conducted')['violation'].value_counts(normalize=True)"
   ]
  },
  {
   "cell_type": "code",
   "execution_count": 28,
   "metadata": {},
   "outputs": [
    {
     "data": {
      "text/plain": [
       "search_conducted  violation          \n",
       "False             Speeding               0.528572\n",
       "                  Moving violation       0.204625\n",
       "                  Equipment              0.132746\n",
       "                  Other                  0.058913\n",
       "                  Registration/plates    0.037862\n",
       "                  Seat belt              0.037282\n",
       "True              Speeding               0.309602\n",
       "                  Moving violation       0.288700\n",
       "                  Equipment              0.209667\n",
       "                  Registration/plates    0.097975\n",
       "                  Other                  0.064010\n",
       "                  Seat belt              0.030046\n",
       "Name: violation, dtype: float64"
      ]
     },
     "execution_count": 28,
     "metadata": {},
     "output_type": "execute_result"
    }
   ],
   "source": [
    "polm.groupby('search_conducted')['violation'].value_counts(normalize=True)"
   ]
  },
  {
   "cell_type": "code",
   "execution_count": 29,
   "metadata": {},
   "outputs": [
    {
     "data": {
      "text/plain": [
       "violation            driver_gender  search_conducted\n",
       "Equipment            F              False               0.958564\n",
       "                                    True                0.041436\n",
       "                     M              False               0.931293\n",
       "                                    True                0.068707\n",
       "Moving violation     F              False               0.962796\n",
       "                                    True                0.037204\n",
       "                     M              False               0.938173\n",
       "                                    True                0.061827\n",
       "Other                F              False               0.973118\n",
       "                                    True                0.026882\n",
       "                     M              False               0.951700\n",
       "                                    True                0.048300\n",
       "Registration/plates  F              False               0.950185\n",
       "                                    True                0.049815\n",
       "                     M              False               0.892164\n",
       "                                    True                0.107836\n",
       "Seat belt            F              False               0.977839\n",
       "                                    True                0.022161\n",
       "                     M              False               0.963722\n",
       "                                    True                0.036278\n",
       "Speeding             F              False               0.990925\n",
       "                                    True                0.009075\n",
       "                     M              False               0.973369\n",
       "                                    True                0.026631\n",
       "Name: search_conducted, dtype: float64"
      ]
     },
     "execution_count": 29,
     "metadata": {},
     "output_type": "execute_result"
    }
   ],
   "source": [
    "pol.groupby(['violation','driver_gender'])['search_conducted'].value_counts(normalize=True)"
   ]
  },
  {
   "cell_type": "markdown",
   "metadata": {},
   "source": [
    "***"
   ]
  },
  {
   "cell_type": "markdown",
   "metadata": {},
   "source": [
    "## Counting protective frisks"
   ]
  },
  {
   "cell_type": "markdown",
   "metadata": {},
   "source": [
    "During a vehicle search, the police officer may pat down the driver to check if they have a weapon. This is known as a ``\"protective frisk.\"``\n",
    "\n",
    "We'll first check to see how many times \"Protective Frisk\" was the only search type. Then, we'll use a string method to locate all instances in which the driver was frisked."
   ]
  },
  {
   "cell_type": "code",
   "execution_count": 30,
   "metadata": {},
   "outputs": [
    {
     "data": {
      "text/plain": [
       "Protective Frisk    76\n",
       "Name: search_type, dtype: int64"
      ]
     },
     "execution_count": 30,
     "metadata": {},
     "output_type": "execute_result"
    }
   ],
   "source": [
    "pol[pol['search_type'] == 'Protective Frisk']['search_type'].value_counts()"
   ]
  },
  {
   "cell_type": "code",
   "execution_count": 31,
   "metadata": {},
   "outputs": [
    {
     "data": {
      "text/plain": [
       "stop_datetime\n",
       "2009-02-28 11:02:00    NaN\n",
       "2012-05-17 13:45:00    NaN\n",
       "2008-08-30 18:09:00    NaN\n",
       "2009-04-13 22:36:00    NaN\n",
       "2012-08-24 22:19:00    NaN\n",
       "Name: search_type, dtype: object"
      ]
     },
     "execution_count": 31,
     "metadata": {},
     "output_type": "execute_result"
    }
   ],
   "source": [
    "pol[pol['search_type'] != 'nan']['search_type'].head()"
   ]
  },
  {
   "cell_type": "code",
   "execution_count": 32,
   "metadata": {},
   "outputs": [
    {
     "data": {
      "text/plain": [
       "dtype('O')"
      ]
     },
     "execution_count": 32,
     "metadata": {},
     "output_type": "execute_result"
    }
   ],
   "source": [
    "pol['search_type'] = pol['search_type'].apply(str)\n",
    "pol['search_type'].dtypes\n",
    "#pol.info()"
   ]
  },
  {
   "cell_type": "code",
   "execution_count": 33,
   "metadata": {},
   "outputs": [
    {
     "data": {
      "text/plain": [
       "stop_datetime\n",
       "2009-02-28 11:02:00    False\n",
       "2012-05-17 13:45:00    False\n",
       "2008-08-30 18:09:00    False\n",
       "2009-04-13 22:36:00    False\n",
       "2012-08-24 22:19:00    False\n",
       "Name: frisk, dtype: bool"
      ]
     },
     "execution_count": 33,
     "metadata": {},
     "output_type": "execute_result"
    }
   ],
   "source": [
    "pol['frisk'] = pol['search_type'].apply(lambda x: True if 'Protective Frisk' in x else False)\n",
    "pol['frisk'].head()"
   ]
  },
  {
   "cell_type": "code",
   "execution_count": 34,
   "metadata": {},
   "outputs": [
    {
     "data": {
      "text/plain": [
       "155"
      ]
     },
     "execution_count": 34,
     "metadata": {},
     "output_type": "execute_result"
    }
   ],
   "source": [
    "sum(pol['frisk'] == True)"
   ]
  },
  {
   "cell_type": "markdown",
   "metadata": {},
   "source": [
    "***"
   ]
  },
  {
   "cell_type": "markdown",
   "metadata": {},
   "source": [
    "## Comparing frisk rates by gender"
   ]
  },
  {
   "cell_type": "markdown",
   "metadata": {},
   "source": [
    "We'll compare the rates at which female and male drivers are frisked during a search. Are males frisked more often than females, perhaps because police officers consider them to be higher risk?\n",
    "\n",
    "Before doing any calculations, it's important to filter the ``DataFrame`` to only include the relevant subset of data, namely stops in which a search was conducted."
   ]
  },
  {
   "cell_type": "code",
   "execution_count": 35,
   "metadata": {},
   "outputs": [
    {
     "name": "stdout",
     "output_type": "stream",
     "text": [
      "<class 'pandas.core.frame.DataFrame'>\n",
      "DatetimeIndex: 1778 entries, 2007-10-28 01:01:00 to 2008-11-23 22:46:00\n",
      "Data columns (total 25 columns):\n",
      " #   Column                 Non-Null Count  Dtype  \n",
      "---  ------                 --------------  -----  \n",
      " 0   id                     1778 non-null   object \n",
      " 1   stop_date              1778 non-null   object \n",
      " 2   stop_time              1778 non-null   object \n",
      " 3   location_raw           1778 non-null   object \n",
      " 4   county_fips            0 non-null      float64\n",
      " 5   fine_grained_location  0 non-null      float64\n",
      " 6   police_department      1778 non-null   object \n",
      " 7   driver_gender          1778 non-null   object \n",
      " 8   driver_age_raw         1778 non-null   float64\n",
      " 9   driver_age             1778 non-null   float64\n",
      " 10  driver_race_raw        1778 non-null   object \n",
      " 11  driver_race            1778 non-null   object \n",
      " 12  violation_raw          1778 non-null   object \n",
      " 13  violation              1778 non-null   object \n",
      " 14  search_conducted       1778 non-null   bool   \n",
      " 15  search_type_raw        1778 non-null   object \n",
      " 16  search_type            1778 non-null   object \n",
      " 17  contraband_found       1778 non-null   bool   \n",
      " 18  stop_outcome           1778 non-null   object \n",
      " 19  is_arrested            1778 non-null   bool   \n",
      " 20  stop_duration          1778 non-null   object \n",
      " 21  out_of_state           1774 non-null   object \n",
      " 22  drugs_related_stop     1778 non-null   bool   \n",
      " 23  district               1778 non-null   object \n",
      " 24  frisk                  1778 non-null   bool   \n",
      "dtypes: bool(5), float64(4), object(16)\n",
      "memory usage: 300.4+ KB\n"
     ]
    }
   ],
   "source": [
    "searched = pol[pol['search_conducted'] == True]\n",
    "searched.info()"
   ]
  },
  {
   "cell_type": "code",
   "execution_count": 36,
   "metadata": {},
   "outputs": [
    {
     "data": {
      "text/plain": [
       "0.08717660292463442"
      ]
     },
     "execution_count": 36,
     "metadata": {},
     "output_type": "execute_result"
    }
   ],
   "source": [
    "searched['frisk'].mean()"
   ]
  },
  {
   "cell_type": "code",
   "execution_count": 37,
   "metadata": {},
   "outputs": [
    {
     "data": {
      "text/plain": [
       "driver_gender\n",
       "F    0.068826\n",
       "M    0.090137\n",
       "Name: frisk, dtype: float64"
      ]
     },
     "execution_count": 37,
     "metadata": {},
     "output_type": "execute_result"
    }
   ],
   "source": [
    "searched.groupby('driver_gender')['frisk'].mean()"
   ]
  },
  {
   "cell_type": "code",
   "execution_count": null,
   "metadata": {},
   "outputs": [],
   "source": []
  }
 ],
 "metadata": {
  "kernelspec": {
   "display_name": "Python 3",
   "language": "python",
   "name": "python3"
  },
  "language_info": {
   "codemirror_mode": {
    "name": "ipython",
    "version": 3
   },
   "file_extension": ".py",
   "mimetype": "text/x-python",
   "name": "python",
   "nbconvert_exporter": "python",
   "pygments_lexer": "ipython3",
   "version": "3.7.6"
  }
 },
 "nbformat": 4,
 "nbformat_minor": 4
}
