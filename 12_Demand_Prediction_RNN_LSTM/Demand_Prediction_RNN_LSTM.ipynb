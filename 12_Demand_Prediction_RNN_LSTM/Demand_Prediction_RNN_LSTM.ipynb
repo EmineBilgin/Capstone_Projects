{
 "cells": [
  {
   "cell_type": "markdown",
   "metadata": {
    "id": "iYlfU09rAzaI"
   },
   "source": [
    "# Demand Prediction Project"
   ]
  },
  {
   "cell_type": "markdown",
   "metadata": {
    "id": "E5TMW6XaAzaJ"
   },
   "source": [
    "Free or affordable access to bicycles for short trips in an urban area as an alternative to motorized public transportation or private vehicles is becoming more important by the day. As it is a means to reduce traffic congestion, noise and air pollution, supporting such heartwarming initiatives with a data science perspective is one of my biggest personal drives.\n",
    "\n",
    "In this project, our goal is to predict the number of future bike shares using the historical data of London bike shares. Therefore, this case should be treated as a time series problem with ***Bidirectional LSTM***.\n",
    "\n",
    "To achieve this goal, we will make predictions using LSTM. Unlike standard feed-forward neural networks, LSTM has feedback. It can process not only single data points, but also entire data series. \n"
   ]
  },
  {
   "cell_type": "markdown",
   "metadata": {
    "id": "0TZZ3Vc-AzaJ"
   },
   "source": [
    "---\n",
    "---"
   ]
  },
  {
   "cell_type": "markdown",
   "metadata": {
    "id": "mN0CH7VfAzaK"
   },
   "source": [
    "# #Determines\n",
    "\n",
    "\n",
    "\n",
    "#### Features\n",
    "\n",
    "- timestamp - timestamp field for grouping the data\n",
    "- cnt - the count of a new bike shares\n",
    "- t1 - real temperature in C\n",
    "- t2 - temperature in C “feels like”\n",
    "- hum - humidity in percentage\n",
    "- wind_speed - wind speed in km/h\n",
    "- weather_code - category of the weather\n",
    "- is_holiday - boolean field - 1 holiday / 0 non holiday\n",
    "- is_weekend - boolean field - 1 if the day is weekend\n",
    "- season - category field meteorological seasons: 0-spring ; 1-summer; 2-fall; 3-winter.\n",
    "-  \"weather_code\" category description: 1 = Clear ; mostly clear but have some values with haze/fog/patches of fog/ fog in vicinity, 2 = scattered clouds / few clouds , 3 = Broken clouds , 4 = Cloudy, 7 = Rain/ light Rain shower/ Light rain, 10 = rain with thunderstorm, 26 = snowfall, 94 = Freezing Fog\n",
    "\n",
    "---\n",
    "\n",
    "First, we will discover the data and recognize features, deal with missing values and outliers.\n",
    "\n",
    "We will look at the data from different angles in different temporal splits. For example, we will visualize the distribution of bicycle shares by day of the week. With this graph, we can easily observe and draw conclusions about how people's behavior changes on a daily basis. Similarly, we can perform hourly, monthly, seasonal, etc. Perform analysis. In addition, we will analyze the correlation of variables with a heat map.\n",
    "\n",
    "\n",
    "In the pre-processing task after train-test split and robust scaling, the challenge for us is to split the data into time steps and transform it into a three-dimensional Numpy array.\n",
    "\n",
    "\n",
    "When making prediction, we will need to do the inverse transform process to get a true error score. Otherwise, the results we get with scaled target variables may mislead us.\n",
    "\n",
    "Finally, we visualize how well our model's predictions match the actual values of the test data and also calculate error scores."
   ]
  },
  {
   "cell_type": "markdown",
   "metadata": {
    "id": "S3GuyVCDAzaM"
   },
   "source": [
    "---\n",
    "---"
   ]
  },
  {
   "cell_type": "markdown",
   "metadata": {
    "id": "NkFQRhw57EZP"
   },
   "source": [
    "## 1. Exploratory Data Analysis\n",
    "\n",
    "- Firstly, focus data based on the timestamp. You can create various variables such as, hour, day of week, day of month etc.\n",
    "- You can check missing values and outliers.\n",
    "- Also you can plot breakdowns of data."
   ]
  },
  {
   "cell_type": "markdown",
   "metadata": {},
   "source": [
    "### Importing Modules"
   ]
  },
  {
   "cell_type": "code",
   "execution_count": 152,
   "metadata": {},
   "outputs": [],
   "source": [
    "# Data and Stats packages\n",
    "import numpy as np\n",
    "import pandas as pd\n",
    "\n",
    "import re\n",
    "import string\n",
    "from datetime import datetime as dt\n",
    "\n",
    "# Visualization packages\n",
    "%matplotlib inline\n",
    "import matplotlib.pyplot as plt\n",
    "import seaborn as sns\n",
    "plt.rcParams[\"axes.grid\"] = False\n",
    "\n",
    "import warnings\n",
    "warnings.filterwarnings(\"ignore\")"
   ]
  },
  {
   "cell_type": "markdown",
   "metadata": {
    "id": "pZLYLPStD6ld"
   },
   "source": [
    "### Data Insights"
   ]
  },
  {
   "cell_type": "code",
   "execution_count": 153,
   "metadata": {
    "id": "JiqoDyVfAzaM"
   },
   "outputs": [],
   "source": [
    "store = pd.read_csv('store_sharing.csv')"
   ]
  },
  {
   "cell_type": "code",
   "execution_count": 154,
   "metadata": {},
   "outputs": [],
   "source": [
    "store_raw = store.copy()"
   ]
  },
  {
   "cell_type": "code",
   "execution_count": 155,
   "metadata": {},
   "outputs": [
    {
     "data": {
      "text/plain": [
       "(17414, 10)"
      ]
     },
     "execution_count": 155,
     "metadata": {},
     "output_type": "execute_result"
    }
   ],
   "source": [
    "store.shape"
   ]
  },
  {
   "cell_type": "code",
   "execution_count": 156,
   "metadata": {},
   "outputs": [
    {
     "data": {
      "text/html": [
       "<div>\n",
       "<style scoped>\n",
       "    .dataframe tbody tr th:only-of-type {\n",
       "        vertical-align: middle;\n",
       "    }\n",
       "\n",
       "    .dataframe tbody tr th {\n",
       "        vertical-align: top;\n",
       "    }\n",
       "\n",
       "    .dataframe thead th {\n",
       "        text-align: right;\n",
       "    }\n",
       "</style>\n",
       "<table border=\"1\" class=\"dataframe\">\n",
       "  <thead>\n",
       "    <tr style=\"text-align: right;\">\n",
       "      <th></th>\n",
       "      <th>timestamp</th>\n",
       "      <th>cnt</th>\n",
       "      <th>t1</th>\n",
       "      <th>t2</th>\n",
       "      <th>hum</th>\n",
       "      <th>wind_speed</th>\n",
       "      <th>weather_code</th>\n",
       "      <th>is_holiday</th>\n",
       "      <th>is_weekend</th>\n",
       "      <th>season</th>\n",
       "    </tr>\n",
       "  </thead>\n",
       "  <tbody>\n",
       "    <tr>\n",
       "      <th>0</th>\n",
       "      <td>2015-01-04 00:00:00</td>\n",
       "      <td>182</td>\n",
       "      <td>3.0</td>\n",
       "      <td>2.0</td>\n",
       "      <td>93.0</td>\n",
       "      <td>6.0</td>\n",
       "      <td>3.0</td>\n",
       "      <td>0.0</td>\n",
       "      <td>1.0</td>\n",
       "      <td>3.0</td>\n",
       "    </tr>\n",
       "    <tr>\n",
       "      <th>1</th>\n",
       "      <td>2015-01-04 01:00:00</td>\n",
       "      <td>138</td>\n",
       "      <td>3.0</td>\n",
       "      <td>2.5</td>\n",
       "      <td>93.0</td>\n",
       "      <td>5.0</td>\n",
       "      <td>1.0</td>\n",
       "      <td>0.0</td>\n",
       "      <td>1.0</td>\n",
       "      <td>3.0</td>\n",
       "    </tr>\n",
       "    <tr>\n",
       "      <th>2</th>\n",
       "      <td>2015-01-04 02:00:00</td>\n",
       "      <td>134</td>\n",
       "      <td>2.5</td>\n",
       "      <td>2.5</td>\n",
       "      <td>96.5</td>\n",
       "      <td>0.0</td>\n",
       "      <td>1.0</td>\n",
       "      <td>0.0</td>\n",
       "      <td>1.0</td>\n",
       "      <td>3.0</td>\n",
       "    </tr>\n",
       "    <tr>\n",
       "      <th>3</th>\n",
       "      <td>2015-01-04 03:00:00</td>\n",
       "      <td>72</td>\n",
       "      <td>2.0</td>\n",
       "      <td>2.0</td>\n",
       "      <td>100.0</td>\n",
       "      <td>0.0</td>\n",
       "      <td>1.0</td>\n",
       "      <td>0.0</td>\n",
       "      <td>1.0</td>\n",
       "      <td>3.0</td>\n",
       "    </tr>\n",
       "    <tr>\n",
       "      <th>4</th>\n",
       "      <td>2015-01-04 04:00:00</td>\n",
       "      <td>47</td>\n",
       "      <td>2.0</td>\n",
       "      <td>0.0</td>\n",
       "      <td>93.0</td>\n",
       "      <td>6.5</td>\n",
       "      <td>1.0</td>\n",
       "      <td>0.0</td>\n",
       "      <td>1.0</td>\n",
       "      <td>3.0</td>\n",
       "    </tr>\n",
       "  </tbody>\n",
       "</table>\n",
       "</div>"
      ],
      "text/plain": [
       "             timestamp  cnt   t1   t2    hum  wind_speed  weather_code  \\\n",
       "0  2015-01-04 00:00:00  182  3.0  2.0   93.0         6.0           3.0   \n",
       "1  2015-01-04 01:00:00  138  3.0  2.5   93.0         5.0           1.0   \n",
       "2  2015-01-04 02:00:00  134  2.5  2.5   96.5         0.0           1.0   \n",
       "3  2015-01-04 03:00:00   72  2.0  2.0  100.0         0.0           1.0   \n",
       "4  2015-01-04 04:00:00   47  2.0  0.0   93.0         6.5           1.0   \n",
       "\n",
       "   is_holiday  is_weekend  season  \n",
       "0         0.0         1.0     3.0  \n",
       "1         0.0         1.0     3.0  \n",
       "2         0.0         1.0     3.0  \n",
       "3         0.0         1.0     3.0  \n",
       "4         0.0         1.0     3.0  "
      ]
     },
     "execution_count": 156,
     "metadata": {},
     "output_type": "execute_result"
    }
   ],
   "source": [
    "store.head()"
   ]
  },
  {
   "cell_type": "code",
   "execution_count": 157,
   "metadata": {},
   "outputs": [
    {
     "name": "stdout",
     "output_type": "stream",
     "text": [
      "<class 'pandas.core.frame.DataFrame'>\n",
      "RangeIndex: 17414 entries, 0 to 17413\n",
      "Data columns (total 10 columns):\n",
      " #   Column        Non-Null Count  Dtype  \n",
      "---  ------        --------------  -----  \n",
      " 0   timestamp     17414 non-null  object \n",
      " 1   cnt           17414 non-null  int64  \n",
      " 2   t1            17414 non-null  float64\n",
      " 3   t2            17414 non-null  float64\n",
      " 4   hum           17414 non-null  float64\n",
      " 5   wind_speed    17414 non-null  float64\n",
      " 6   weather_code  17414 non-null  float64\n",
      " 7   is_holiday    17414 non-null  float64\n",
      " 8   is_weekend    17414 non-null  float64\n",
      " 9   season        17414 non-null  float64\n",
      "dtypes: float64(8), int64(1), object(1)\n",
      "memory usage: 1.3+ MB\n"
     ]
    }
   ],
   "source": [
    "store.info()"
   ]
  },
  {
   "cell_type": "code",
   "execution_count": 158,
   "metadata": {},
   "outputs": [],
   "source": [
    "def first_look(df, col):\n",
    "    val_c = pd.DataFrame(df[col].value_counts(dropna=False))\n",
    "    val_c = val_c.assign(percent=(df[col].value_counts(dropna=False, normalize=True).values)*100)\n",
    "    col_info = pd.DataFrame({'Column_Name': [col],'Null_Rows': [df[col].isna().sum()], 'Column_Type': [df[col].dtypes]}, index=['col_info'])\n",
    "    return col_info, val_c"
   ]
  },
  {
   "cell_type": "markdown",
   "metadata": {},
   "source": [
    "#### &emsp; i. timestamp"
   ]
  },
  {
   "cell_type": "code",
   "execution_count": 159,
   "metadata": {},
   "outputs": [],
   "source": [
    "col_info, val_c = first_look(store, store.columns[0])"
   ]
  },
  {
   "cell_type": "code",
   "execution_count": 160,
   "metadata": {},
   "outputs": [
    {
     "data": {
      "text/html": [
       "<div>\n",
       "<style scoped>\n",
       "    .dataframe tbody tr th:only-of-type {\n",
       "        vertical-align: middle;\n",
       "    }\n",
       "\n",
       "    .dataframe tbody tr th {\n",
       "        vertical-align: top;\n",
       "    }\n",
       "\n",
       "    .dataframe thead th {\n",
       "        text-align: right;\n",
       "    }\n",
       "</style>\n",
       "<table border=\"1\" class=\"dataframe\">\n",
       "  <thead>\n",
       "    <tr style=\"text-align: right;\">\n",
       "      <th></th>\n",
       "      <th>Column_Name</th>\n",
       "      <th>Null_Rows</th>\n",
       "      <th>Column_Type</th>\n",
       "    </tr>\n",
       "  </thead>\n",
       "  <tbody>\n",
       "    <tr>\n",
       "      <th>col_info</th>\n",
       "      <td>timestamp</td>\n",
       "      <td>0</td>\n",
       "      <td>object</td>\n",
       "    </tr>\n",
       "  </tbody>\n",
       "</table>\n",
       "</div>"
      ],
      "text/plain": [
       "         Column_Name  Null_Rows Column_Type\n",
       "col_info   timestamp          0      object"
      ]
     },
     "execution_count": 160,
     "metadata": {},
     "output_type": "execute_result"
    }
   ],
   "source": [
    "col_info"
   ]
  },
  {
   "cell_type": "code",
   "execution_count": 161,
   "metadata": {},
   "outputs": [
    {
     "data": {
      "text/html": [
       "<div>\n",
       "<style scoped>\n",
       "    .dataframe tbody tr th:only-of-type {\n",
       "        vertical-align: middle;\n",
       "    }\n",
       "\n",
       "    .dataframe tbody tr th {\n",
       "        vertical-align: top;\n",
       "    }\n",
       "\n",
       "    .dataframe thead th {\n",
       "        text-align: right;\n",
       "    }\n",
       "</style>\n",
       "<table border=\"1\" class=\"dataframe\">\n",
       "  <thead>\n",
       "    <tr style=\"text-align: right;\">\n",
       "      <th></th>\n",
       "      <th>timestamp</th>\n",
       "      <th>percent</th>\n",
       "    </tr>\n",
       "  </thead>\n",
       "  <tbody>\n",
       "    <tr>\n",
       "      <th>2016-05-03 07:00:00</th>\n",
       "      <td>1</td>\n",
       "      <td>0.005743</td>\n",
       "    </tr>\n",
       "    <tr>\n",
       "      <th>2015-11-03 03:00:00</th>\n",
       "      <td>1</td>\n",
       "      <td>0.005743</td>\n",
       "    </tr>\n",
       "    <tr>\n",
       "      <th>2016-10-20 19:00:00</th>\n",
       "      <td>1</td>\n",
       "      <td>0.005743</td>\n",
       "    </tr>\n",
       "    <tr>\n",
       "      <th>2016-12-31 04:00:00</th>\n",
       "      <td>1</td>\n",
       "      <td>0.005743</td>\n",
       "    </tr>\n",
       "    <tr>\n",
       "      <th>2015-07-01 12:00:00</th>\n",
       "      <td>1</td>\n",
       "      <td>0.005743</td>\n",
       "    </tr>\n",
       "    <tr>\n",
       "      <th>...</th>\n",
       "      <td>...</td>\n",
       "      <td>...</td>\n",
       "    </tr>\n",
       "    <tr>\n",
       "      <th>2016-09-15 11:00:00</th>\n",
       "      <td>1</td>\n",
       "      <td>0.005743</td>\n",
       "    </tr>\n",
       "    <tr>\n",
       "      <th>2016-10-13 18:00:00</th>\n",
       "      <td>1</td>\n",
       "      <td>0.005743</td>\n",
       "    </tr>\n",
       "    <tr>\n",
       "      <th>2015-05-27 04:00:00</th>\n",
       "      <td>1</td>\n",
       "      <td>0.005743</td>\n",
       "    </tr>\n",
       "    <tr>\n",
       "      <th>2016-09-09 21:00:00</th>\n",
       "      <td>1</td>\n",
       "      <td>0.005743</td>\n",
       "    </tr>\n",
       "    <tr>\n",
       "      <th>2016-05-11 22:00:00</th>\n",
       "      <td>1</td>\n",
       "      <td>0.005743</td>\n",
       "    </tr>\n",
       "  </tbody>\n",
       "</table>\n",
       "<p>17414 rows × 2 columns</p>\n",
       "</div>"
      ],
      "text/plain": [
       "                     timestamp   percent\n",
       "2016-05-03 07:00:00          1  0.005743\n",
       "2015-11-03 03:00:00          1  0.005743\n",
       "2016-10-20 19:00:00          1  0.005743\n",
       "2016-12-31 04:00:00          1  0.005743\n",
       "2015-07-01 12:00:00          1  0.005743\n",
       "...                        ...       ...\n",
       "2016-09-15 11:00:00          1  0.005743\n",
       "2016-10-13 18:00:00          1  0.005743\n",
       "2015-05-27 04:00:00          1  0.005743\n",
       "2016-09-09 21:00:00          1  0.005743\n",
       "2016-05-11 22:00:00          1  0.005743\n",
       "\n",
       "[17414 rows x 2 columns]"
      ]
     },
     "execution_count": 161,
     "metadata": {},
     "output_type": "execute_result"
    }
   ],
   "source": [
    "val_c"
   ]
  },
  {
   "cell_type": "markdown",
   "metadata": {},
   "source": [
    "As we are dealing with a timeseries problem we may obtain new columns out of the timestamp values."
   ]
  },
  {
   "cell_type": "code",
   "execution_count": 162,
   "metadata": {},
   "outputs": [],
   "source": [
    "store['date_time'] = pd.to_datetime(store.timestamp, format = '%Y-%m-%d %H:%M:%S')"
   ]
  },
  {
   "cell_type": "code",
   "execution_count": 163,
   "metadata": {},
   "outputs": [
    {
     "data": {
      "text/plain": [
       "0       2015-01-04 00:00:00\n",
       "1       2015-01-04 01:00:00\n",
       "2       2015-01-04 02:00:00\n",
       "3       2015-01-04 03:00:00\n",
       "4       2015-01-04 04:00:00\n",
       "                ...        \n",
       "17409   2017-01-03 19:00:00\n",
       "17410   2017-01-03 20:00:00\n",
       "17411   2017-01-03 21:00:00\n",
       "17412   2017-01-03 22:00:00\n",
       "17413   2017-01-03 23:00:00\n",
       "Name: date_time, Length: 17414, dtype: datetime64[ns]"
      ]
     },
     "execution_count": 163,
     "metadata": {},
     "output_type": "execute_result"
    }
   ],
   "source": [
    "store.date_time"
   ]
  },
  {
   "cell_type": "markdown",
   "metadata": {},
   "source": [
    "The date time is one of the critical features we have, and we need to do some feature engineering with this column to get the most out of our data and avoid possible multicollinearity."
   ]
  },
  {
   "cell_type": "code",
   "execution_count": 164,
   "metadata": {},
   "outputs": [],
   "source": [
    "dt_df = pd.DataFrame(store.date_time)"
   ]
  },
  {
   "cell_type": "code",
   "execution_count": 165,
   "metadata": {},
   "outputs": [
    {
     "data": {
      "text/html": [
       "<div>\n",
       "<style scoped>\n",
       "    .dataframe tbody tr th:only-of-type {\n",
       "        vertical-align: middle;\n",
       "    }\n",
       "\n",
       "    .dataframe tbody tr th {\n",
       "        vertical-align: top;\n",
       "    }\n",
       "\n",
       "    .dataframe thead th {\n",
       "        text-align: right;\n",
       "    }\n",
       "</style>\n",
       "<table border=\"1\" class=\"dataframe\">\n",
       "  <thead>\n",
       "    <tr style=\"text-align: right;\">\n",
       "      <th></th>\n",
       "      <th>date_time</th>\n",
       "    </tr>\n",
       "  </thead>\n",
       "  <tbody>\n",
       "    <tr>\n",
       "      <th>0</th>\n",
       "      <td>2015-01-04 00:00:00</td>\n",
       "    </tr>\n",
       "    <tr>\n",
       "      <th>1</th>\n",
       "      <td>2015-01-04 01:00:00</td>\n",
       "    </tr>\n",
       "    <tr>\n",
       "      <th>2</th>\n",
       "      <td>2015-01-04 02:00:00</td>\n",
       "    </tr>\n",
       "    <tr>\n",
       "      <th>3</th>\n",
       "      <td>2015-01-04 03:00:00</td>\n",
       "    </tr>\n",
       "    <tr>\n",
       "      <th>4</th>\n",
       "      <td>2015-01-04 04:00:00</td>\n",
       "    </tr>\n",
       "  </tbody>\n",
       "</table>\n",
       "</div>"
      ],
      "text/plain": [
       "            date_time\n",
       "0 2015-01-04 00:00:00\n",
       "1 2015-01-04 01:00:00\n",
       "2 2015-01-04 02:00:00\n",
       "3 2015-01-04 03:00:00\n",
       "4 2015-01-04 04:00:00"
      ]
     },
     "execution_count": 165,
     "metadata": {},
     "output_type": "execute_result"
    }
   ],
   "source": [
    "dt_df.head()"
   ]
  },
  {
   "cell_type": "code",
   "execution_count": 166,
   "metadata": {},
   "outputs": [],
   "source": [
    "dt_df['date'] = dt_df.date_time.apply(lambda x: x.date())"
   ]
  },
  {
   "cell_type": "code",
   "execution_count": 167,
   "metadata": {},
   "outputs": [
    {
     "data": {
      "text/plain": [
       "0        2015-01-04\n",
       "1        2015-01-04\n",
       "2        2015-01-04\n",
       "3        2015-01-04\n",
       "4        2015-01-04\n",
       "            ...    \n",
       "17409    2017-01-03\n",
       "17410    2017-01-03\n",
       "17411    2017-01-03\n",
       "17412    2017-01-03\n",
       "17413    2017-01-03\n",
       "Name: date, Length: 17414, dtype: object"
      ]
     },
     "execution_count": 167,
     "metadata": {},
     "output_type": "execute_result"
    }
   ],
   "source": [
    "dt_df.date"
   ]
  },
  {
   "cell_type": "code",
   "execution_count": 168,
   "metadata": {},
   "outputs": [],
   "source": [
    "dt_df['year'] = dt_df.date_time.apply(lambda x: x.year)"
   ]
  },
  {
   "cell_type": "code",
   "execution_count": 169,
   "metadata": {},
   "outputs": [
    {
     "data": {
      "text/plain": [
       "2016    8699\n",
       "2015    8643\n",
       "2017      72\n",
       "Name: year, dtype: int64"
      ]
     },
     "execution_count": 169,
     "metadata": {},
     "output_type": "execute_result"
    }
   ],
   "source": [
    "dt_df.year.value_counts()"
   ]
  },
  {
   "cell_type": "code",
   "execution_count": 170,
   "metadata": {},
   "outputs": [],
   "source": [
    "dt_df['month'] = dt_df.date_time.apply(lambda x: x.month)"
   ]
  },
  {
   "cell_type": "code",
   "execution_count": 171,
   "metadata": {},
   "outputs": [
    {
     "data": {
      "text/plain": [
       "5     1488\n",
       "1     1487\n",
       "12    1484\n",
       "8     1484\n",
       "7     1481\n",
       "10    1479\n",
       "3     1468\n",
       "4     1438\n",
       "11    1430\n",
       "6     1422\n",
       "9     1394\n",
       "2     1359\n",
       "Name: month, dtype: int64"
      ]
     },
     "execution_count": 171,
     "metadata": {},
     "output_type": "execute_result"
    }
   ],
   "source": [
    "dt_df.month.value_counts()"
   ]
  },
  {
   "cell_type": "code",
   "execution_count": 172,
   "metadata": {},
   "outputs": [],
   "source": [
    "dt_df['week_day'] = dt_df.date_time.apply(lambda x: x.weekday())"
   ]
  },
  {
   "cell_type": "code",
   "execution_count": 173,
   "metadata": {},
   "outputs": [
    {
     "data": {
      "text/plain": [
       "0    2508\n",
       "6    2505\n",
       "1    2505\n",
       "3    2492\n",
       "2    2489\n",
       "5    2465\n",
       "4    2450\n",
       "Name: week_day, dtype: int64"
      ]
     },
     "execution_count": 173,
     "metadata": {},
     "output_type": "execute_result"
    }
   ],
   "source": [
    "dt_df.week_day.value_counts()"
   ]
  },
  {
   "cell_type": "code",
   "execution_count": 174,
   "metadata": {},
   "outputs": [],
   "source": [
    "dt_df['isweekend'] = dt_df.week_day.apply(lambda x: 0 if x in [5,6] else 1)"
   ]
  },
  {
   "cell_type": "code",
   "execution_count": 175,
   "metadata": {},
   "outputs": [
    {
     "data": {
      "text/plain": [
       "1    12444\n",
       "0     4970\n",
       "Name: isweekend, dtype: int64"
      ]
     },
     "execution_count": 175,
     "metadata": {},
     "output_type": "execute_result"
    }
   ],
   "source": [
    "dt_df.isweekend.value_counts()"
   ]
  },
  {
   "cell_type": "code",
   "execution_count": 176,
   "metadata": {},
   "outputs": [],
   "source": [
    "dt_df['month_day'] = dt_df.date_time.apply(lambda x: x.day)"
   ]
  },
  {
   "cell_type": "code",
   "execution_count": 177,
   "metadata": {},
   "outputs": [
    {
     "data": {
      "text/plain": [
       "21    576\n",
       "14    576\n",
       "6     576\n",
       "22    576\n",
       "23    576\n",
       "25    575\n",
       "1     575\n",
       "19    575\n",
       "4     575\n",
       "15    575\n",
       "9     575\n",
       "10    575\n",
       "16    574\n",
       "11    574\n",
       "28    574\n",
       "17    574\n",
       "7     573\n",
       "5     572\n",
       "20    572\n",
       "26    571\n",
       "18    570\n",
       "8     570\n",
       "13    569\n",
       "27    566\n",
       "12    565\n",
       "3     564\n",
       "24    561\n",
       "2     552\n",
       "29    551\n",
       "30    526\n",
       "31    331\n",
       "Name: month_day, dtype: int64"
      ]
     },
     "execution_count": 177,
     "metadata": {},
     "output_type": "execute_result"
    }
   ],
   "source": [
    "dt_df.month_day.value_counts()"
   ]
  },
  {
   "cell_type": "code",
   "execution_count": 178,
   "metadata": {},
   "outputs": [],
   "source": [
    "dt_df['hour'] = dt_df.date_time.apply(lambda x: x.hour)"
   ]
  },
  {
   "cell_type": "code",
   "execution_count": 179,
   "metadata": {},
   "outputs": [
    {
     "data": {
      "text/plain": [
       "16    730\n",
       "15    729\n",
       "12    729\n",
       "14    728\n",
       "13    728\n",
       "17    728\n",
       "18    728\n",
       "11    727\n",
       "9     727\n",
       "19    727\n",
       "20    727\n",
       "21    726\n",
       "6     726\n",
       "7     726\n",
       "22    725\n",
       "10    725\n",
       "8     724\n",
       "1     724\n",
       "0     724\n",
       "23    722\n",
       "5     721\n",
       "4     721\n",
       "3     721\n",
       "2     721\n",
       "Name: hour, dtype: int64"
      ]
     },
     "execution_count": 179,
     "metadata": {},
     "output_type": "execute_result"
    }
   ],
   "source": [
    "dt_df.hour.value_counts()"
   ]
  },
  {
   "cell_type": "code",
   "execution_count": 180,
   "metadata": {},
   "outputs": [
    {
     "data": {
      "text/html": [
       "<div>\n",
       "<style scoped>\n",
       "    .dataframe tbody tr th:only-of-type {\n",
       "        vertical-align: middle;\n",
       "    }\n",
       "\n",
       "    .dataframe tbody tr th {\n",
       "        vertical-align: top;\n",
       "    }\n",
       "\n",
       "    .dataframe thead th {\n",
       "        text-align: right;\n",
       "    }\n",
       "</style>\n",
       "<table border=\"1\" class=\"dataframe\">\n",
       "  <thead>\n",
       "    <tr style=\"text-align: right;\">\n",
       "      <th></th>\n",
       "      <th>date_time</th>\n",
       "      <th>date</th>\n",
       "      <th>year</th>\n",
       "      <th>month</th>\n",
       "      <th>week_day</th>\n",
       "      <th>isweekend</th>\n",
       "      <th>month_day</th>\n",
       "      <th>hour</th>\n",
       "    </tr>\n",
       "  </thead>\n",
       "  <tbody>\n",
       "    <tr>\n",
       "      <th>0</th>\n",
       "      <td>2015-01-04 00:00:00</td>\n",
       "      <td>2015-01-04</td>\n",
       "      <td>2015</td>\n",
       "      <td>1</td>\n",
       "      <td>6</td>\n",
       "      <td>0</td>\n",
       "      <td>4</td>\n",
       "      <td>0</td>\n",
       "    </tr>\n",
       "    <tr>\n",
       "      <th>1</th>\n",
       "      <td>2015-01-04 01:00:00</td>\n",
       "      <td>2015-01-04</td>\n",
       "      <td>2015</td>\n",
       "      <td>1</td>\n",
       "      <td>6</td>\n",
       "      <td>0</td>\n",
       "      <td>4</td>\n",
       "      <td>1</td>\n",
       "    </tr>\n",
       "    <tr>\n",
       "      <th>2</th>\n",
       "      <td>2015-01-04 02:00:00</td>\n",
       "      <td>2015-01-04</td>\n",
       "      <td>2015</td>\n",
       "      <td>1</td>\n",
       "      <td>6</td>\n",
       "      <td>0</td>\n",
       "      <td>4</td>\n",
       "      <td>2</td>\n",
       "    </tr>\n",
       "    <tr>\n",
       "      <th>3</th>\n",
       "      <td>2015-01-04 03:00:00</td>\n",
       "      <td>2015-01-04</td>\n",
       "      <td>2015</td>\n",
       "      <td>1</td>\n",
       "      <td>6</td>\n",
       "      <td>0</td>\n",
       "      <td>4</td>\n",
       "      <td>3</td>\n",
       "    </tr>\n",
       "    <tr>\n",
       "      <th>4</th>\n",
       "      <td>2015-01-04 04:00:00</td>\n",
       "      <td>2015-01-04</td>\n",
       "      <td>2015</td>\n",
       "      <td>1</td>\n",
       "      <td>6</td>\n",
       "      <td>0</td>\n",
       "      <td>4</td>\n",
       "      <td>4</td>\n",
       "    </tr>\n",
       "  </tbody>\n",
       "</table>\n",
       "</div>"
      ],
      "text/plain": [
       "            date_time        date  year  month  week_day  isweekend  \\\n",
       "0 2015-01-04 00:00:00  2015-01-04  2015      1         6          0   \n",
       "1 2015-01-04 01:00:00  2015-01-04  2015      1         6          0   \n",
       "2 2015-01-04 02:00:00  2015-01-04  2015      1         6          0   \n",
       "3 2015-01-04 03:00:00  2015-01-04  2015      1         6          0   \n",
       "4 2015-01-04 04:00:00  2015-01-04  2015      1         6          0   \n",
       "\n",
       "   month_day  hour  \n",
       "0          4     0  \n",
       "1          4     1  \n",
       "2          4     2  \n",
       "3          4     3  \n",
       "4          4     4  "
      ]
     },
     "execution_count": 180,
     "metadata": {},
     "output_type": "execute_result"
    }
   ],
   "source": [
    "dt_df.head()"
   ]
  },
  {
   "cell_type": "markdown",
   "metadata": {},
   "source": [
    "#### &emsp; ii.  cnt - the count of a new bike shares"
   ]
  },
  {
   "cell_type": "code",
   "execution_count": 181,
   "metadata": {},
   "outputs": [],
   "source": [
    "inf, val = first_look(store, store.columns[1])"
   ]
  },
  {
   "cell_type": "code",
   "execution_count": 182,
   "metadata": {},
   "outputs": [
    {
     "data": {
      "text/html": [
       "<div>\n",
       "<style scoped>\n",
       "    .dataframe tbody tr th:only-of-type {\n",
       "        vertical-align: middle;\n",
       "    }\n",
       "\n",
       "    .dataframe tbody tr th {\n",
       "        vertical-align: top;\n",
       "    }\n",
       "\n",
       "    .dataframe thead th {\n",
       "        text-align: right;\n",
       "    }\n",
       "</style>\n",
       "<table border=\"1\" class=\"dataframe\">\n",
       "  <thead>\n",
       "    <tr style=\"text-align: right;\">\n",
       "      <th></th>\n",
       "      <th>Column_Name</th>\n",
       "      <th>Null_Rows</th>\n",
       "      <th>Column_Type</th>\n",
       "    </tr>\n",
       "  </thead>\n",
       "  <tbody>\n",
       "    <tr>\n",
       "      <th>col_info</th>\n",
       "      <td>cnt</td>\n",
       "      <td>0</td>\n",
       "      <td>int64</td>\n",
       "    </tr>\n",
       "  </tbody>\n",
       "</table>\n",
       "</div>"
      ],
      "text/plain": [
       "         Column_Name  Null_Rows Column_Type\n",
       "col_info         cnt          0       int64"
      ]
     },
     "execution_count": 182,
     "metadata": {},
     "output_type": "execute_result"
    }
   ],
   "source": [
    "inf"
   ]
  },
  {
   "cell_type": "code",
   "execution_count": 183,
   "metadata": {},
   "outputs": [
    {
     "data": {
      "text/html": [
       "<div>\n",
       "<style scoped>\n",
       "    .dataframe tbody tr th:only-of-type {\n",
       "        vertical-align: middle;\n",
       "    }\n",
       "\n",
       "    .dataframe tbody tr th {\n",
       "        vertical-align: top;\n",
       "    }\n",
       "\n",
       "    .dataframe thead th {\n",
       "        text-align: right;\n",
       "    }\n",
       "</style>\n",
       "<table border=\"1\" class=\"dataframe\">\n",
       "  <thead>\n",
       "    <tr style=\"text-align: right;\">\n",
       "      <th></th>\n",
       "      <th>cnt</th>\n",
       "      <th>percent</th>\n",
       "    </tr>\n",
       "  </thead>\n",
       "  <tbody>\n",
       "    <tr>\n",
       "      <th>46</th>\n",
       "      <td>46</td>\n",
       "      <td>0.264155</td>\n",
       "    </tr>\n",
       "    <tr>\n",
       "      <th>53</th>\n",
       "      <td>39</td>\n",
       "      <td>0.223958</td>\n",
       "    </tr>\n",
       "    <tr>\n",
       "      <th>70</th>\n",
       "      <td>36</td>\n",
       "      <td>0.206730</td>\n",
       "    </tr>\n",
       "    <tr>\n",
       "      <th>33</th>\n",
       "      <td>36</td>\n",
       "      <td>0.206730</td>\n",
       "    </tr>\n",
       "    <tr>\n",
       "      <th>120</th>\n",
       "      <td>36</td>\n",
       "      <td>0.206730</td>\n",
       "    </tr>\n",
       "    <tr>\n",
       "      <th>...</th>\n",
       "      <td>...</td>\n",
       "      <td>...</td>\n",
       "    </tr>\n",
       "    <tr>\n",
       "      <th>3590</th>\n",
       "      <td>1</td>\n",
       "      <td>0.005743</td>\n",
       "    </tr>\n",
       "    <tr>\n",
       "      <th>1559</th>\n",
       "      <td>1</td>\n",
       "      <td>0.005743</td>\n",
       "    </tr>\n",
       "    <tr>\n",
       "      <th>3670</th>\n",
       "      <td>1</td>\n",
       "      <td>0.005743</td>\n",
       "    </tr>\n",
       "    <tr>\n",
       "      <th>3718</th>\n",
       "      <td>1</td>\n",
       "      <td>0.005743</td>\n",
       "    </tr>\n",
       "    <tr>\n",
       "      <th>0</th>\n",
       "      <td>1</td>\n",
       "      <td>0.005743</td>\n",
       "    </tr>\n",
       "  </tbody>\n",
       "</table>\n",
       "<p>3781 rows × 2 columns</p>\n",
       "</div>"
      ],
      "text/plain": [
       "      cnt   percent\n",
       "46     46  0.264155\n",
       "53     39  0.223958\n",
       "70     36  0.206730\n",
       "33     36  0.206730\n",
       "120    36  0.206730\n",
       "...   ...       ...\n",
       "3590    1  0.005743\n",
       "1559    1  0.005743\n",
       "3670    1  0.005743\n",
       "3718    1  0.005743\n",
       "0       1  0.005743\n",
       "\n",
       "[3781 rows x 2 columns]"
      ]
     },
     "execution_count": 183,
     "metadata": {},
     "output_type": "execute_result"
    }
   ],
   "source": [
    "val"
   ]
  },
  {
   "cell_type": "code",
   "execution_count": 184,
   "metadata": {},
   "outputs": [
    {
     "data": {
      "text/plain": [
       "<AxesSubplot:xlabel='cnt'>"
      ]
     },
     "execution_count": 184,
     "metadata": {},
     "output_type": "execute_result"
    },
    {
     "data": {
      "image/png": "[encoded data removed]",
      "text/plain": [
       "<Figure size 432x288 with 1 Axes>"
      ]
     },
     "metadata": {
      "needs_background": "light"
     },
     "output_type": "display_data"
    }
   ],
   "source": [
    "sns.boxplot(store.cnt)"
   ]
  },
  {
   "cell_type": "markdown",
   "metadata": {},
   "source": [
    "Since our goal is to make predictions regarding cnt, we need to take a closer look at cnt and its outliers. For now, we will leave this topic of outlier handling for the next session. "
   ]
  },
  {
   "cell_type": "markdown",
   "metadata": {},
   "source": [
    "#### &emsp; iii.  t1 - real temperature in C"
   ]
  },
  {
   "cell_type": "code",
   "execution_count": 185,
   "metadata": {},
   "outputs": [],
   "source": [
    "inf, val = first_look(store, store.columns[2])"
   ]
  },
  {
   "cell_type": "code",
   "execution_count": 186,
   "metadata": {},
   "outputs": [
    {
     "data": {
      "text/html": [
       "<div>\n",
       "<style scoped>\n",
       "    .dataframe tbody tr th:only-of-type {\n",
       "        vertical-align: middle;\n",
       "    }\n",
       "\n",
       "    .dataframe tbody tr th {\n",
       "        vertical-align: top;\n",
       "    }\n",
       "\n",
       "    .dataframe thead th {\n",
       "        text-align: right;\n",
       "    }\n",
       "</style>\n",
       "<table border=\"1\" class=\"dataframe\">\n",
       "  <thead>\n",
       "    <tr style=\"text-align: right;\">\n",
       "      <th></th>\n",
       "      <th>Column_Name</th>\n",
       "      <th>Null_Rows</th>\n",
       "      <th>Column_Type</th>\n",
       "    </tr>\n",
       "  </thead>\n",
       "  <tbody>\n",
       "    <tr>\n",
       "      <th>col_info</th>\n",
       "      <td>t1</td>\n",
       "      <td>0</td>\n",
       "      <td>float64</td>\n",
       "    </tr>\n",
       "  </tbody>\n",
       "</table>\n",
       "</div>"
      ],
      "text/plain": [
       "         Column_Name  Null_Rows Column_Type\n",
       "col_info          t1          0     float64"
      ]
     },
     "execution_count": 186,
     "metadata": {},
     "output_type": "execute_result"
    }
   ],
   "source": [
    "inf"
   ]
  },
  {
   "cell_type": "code",
   "execution_count": 187,
   "metadata": {},
   "outputs": [
    {
     "data": {
      "text/html": [
       "<div>\n",
       "<style scoped>\n",
       "    .dataframe tbody tr th:only-of-type {\n",
       "        vertical-align: middle;\n",
       "    }\n",
       "\n",
       "    .dataframe tbody tr th {\n",
       "        vertical-align: top;\n",
       "    }\n",
       "\n",
       "    .dataframe thead th {\n",
       "        text-align: right;\n",
       "    }\n",
       "</style>\n",
       "<table border=\"1\" class=\"dataframe\">\n",
       "  <thead>\n",
       "    <tr style=\"text-align: right;\">\n",
       "      <th></th>\n",
       "      <th>t1</th>\n",
       "      <th>percent</th>\n",
       "    </tr>\n",
       "  </thead>\n",
       "  <tbody>\n",
       "    <tr>\n",
       "      <th>13.000000</th>\n",
       "      <td>969</td>\n",
       "      <td>5.564488</td>\n",
       "    </tr>\n",
       "    <tr>\n",
       "      <th>12.000000</th>\n",
       "      <td>822</td>\n",
       "      <td>4.720340</td>\n",
       "    </tr>\n",
       "    <tr>\n",
       "      <th>9.000000</th>\n",
       "      <td>807</td>\n",
       "      <td>4.634202</td>\n",
       "    </tr>\n",
       "    <tr>\n",
       "      <th>14.000000</th>\n",
       "      <td>802</td>\n",
       "      <td>4.605490</td>\n",
       "    </tr>\n",
       "    <tr>\n",
       "      <th>11.000000</th>\n",
       "      <td>779</td>\n",
       "      <td>4.473412</td>\n",
       "    </tr>\n",
       "    <tr>\n",
       "      <th>...</th>\n",
       "      <td>...</td>\n",
       "      <td>...</td>\n",
       "    </tr>\n",
       "    <tr>\n",
       "      <th>31.000000</th>\n",
       "      <td>3</td>\n",
       "      <td>0.017228</td>\n",
       "    </tr>\n",
       "    <tr>\n",
       "      <th>31.500000</th>\n",
       "      <td>3</td>\n",
       "      <td>0.017228</td>\n",
       "    </tr>\n",
       "    <tr>\n",
       "      <th>34.000000</th>\n",
       "      <td>2</td>\n",
       "      <td>0.011485</td>\n",
       "    </tr>\n",
       "    <tr>\n",
       "      <th>10.333333</th>\n",
       "      <td>1</td>\n",
       "      <td>0.005743</td>\n",
       "    </tr>\n",
       "    <tr>\n",
       "      <th>-1.500000</th>\n",
       "      <td>1</td>\n",
       "      <td>0.005743</td>\n",
       "    </tr>\n",
       "  </tbody>\n",
       "</table>\n",
       "<p>73 rows × 2 columns</p>\n",
       "</div>"
      ],
      "text/plain": [
       "             t1   percent\n",
       " 13.000000  969  5.564488\n",
       " 12.000000  822  4.720340\n",
       " 9.000000   807  4.634202\n",
       " 14.000000  802  4.605490\n",
       " 11.000000  779  4.473412\n",
       "...         ...       ...\n",
       " 31.000000    3  0.017228\n",
       " 31.500000    3  0.017228\n",
       " 34.000000    2  0.011485\n",
       " 10.333333    1  0.005743\n",
       "-1.500000     1  0.005743\n",
       "\n",
       "[73 rows x 2 columns]"
      ]
     },
     "execution_count": 187,
     "metadata": {},
     "output_type": "execute_result"
    }
   ],
   "source": [
    "val"
   ]
  },
  {
   "cell_type": "code",
   "execution_count": 188,
   "metadata": {},
   "outputs": [
    {
     "data": {
      "text/plain": [
       "<AxesSubplot:xlabel='t1'>"
      ]
     },
     "execution_count": 188,
     "metadata": {},
     "output_type": "execute_result"
    },
    {
     "data": {
      "image/png": "[encoded data removed]",
      "text/plain": [
       "<Figure size 432x288 with 1 Axes>"
      ]
     },
     "metadata": {
      "needs_background": "light"
     },
     "output_type": "display_data"
    }
   ],
   "source": [
    "sns.boxplot(store.t1)"
   ]
  },
  {
   "cell_type": "markdown",
   "metadata": {},
   "source": [
    "Although C 30-35 appear to be \"outliers\" as they are outside Q3, as it can be observed in <a href=\"https://meteostat.net/en/place/GB-XCP5?t=2019-01-01/2019-12-31\">temperature statistics for London</a>, these are acceptable and we will not consider them as outliers."
   ]
  },
  {
   "cell_type": "markdown",
   "metadata": {},
   "source": [
    "#### &emsp; iv.  t2 - temperature in C “feels like”"
   ]
  },
  {
   "cell_type": "code",
   "execution_count": 189,
   "metadata": {},
   "outputs": [],
   "source": [
    "inf, val = first_look(store, store.columns[3])"
   ]
  },
  {
   "cell_type": "code",
   "execution_count": 190,
   "metadata": {},
   "outputs": [
    {
     "data": {
      "text/html": [
       "<div>\n",
       "<style scoped>\n",
       "    .dataframe tbody tr th:only-of-type {\n",
       "        vertical-align: middle;\n",
       "    }\n",
       "\n",
       "    .dataframe tbody tr th {\n",
       "        vertical-align: top;\n",
       "    }\n",
       "\n",
       "    .dataframe thead th {\n",
       "        text-align: right;\n",
       "    }\n",
       "</style>\n",
       "<table border=\"1\" class=\"dataframe\">\n",
       "  <thead>\n",
       "    <tr style=\"text-align: right;\">\n",
       "      <th></th>\n",
       "      <th>Column_Name</th>\n",
       "      <th>Null_Rows</th>\n",
       "      <th>Column_Type</th>\n",
       "    </tr>\n",
       "  </thead>\n",
       "  <tbody>\n",
       "    <tr>\n",
       "      <th>col_info</th>\n",
       "      <td>t2</td>\n",
       "      <td>0</td>\n",
       "      <td>float64</td>\n",
       "    </tr>\n",
       "  </tbody>\n",
       "</table>\n",
       "</div>"
      ],
      "text/plain": [
       "         Column_Name  Null_Rows Column_Type\n",
       "col_info          t2          0     float64"
      ]
     },
     "execution_count": 190,
     "metadata": {},
     "output_type": "execute_result"
    }
   ],
   "source": [
    "inf"
   ]
  },
  {
   "cell_type": "code",
   "execution_count": 191,
   "metadata": {},
   "outputs": [
    {
     "data": {
      "text/html": [
       "<div>\n",
       "<style scoped>\n",
       "    .dataframe tbody tr th:only-of-type {\n",
       "        vertical-align: middle;\n",
       "    }\n",
       "\n",
       "    .dataframe tbody tr th {\n",
       "        vertical-align: top;\n",
       "    }\n",
       "\n",
       "    .dataframe thead th {\n",
       "        text-align: right;\n",
       "    }\n",
       "</style>\n",
       "<table border=\"1\" class=\"dataframe\">\n",
       "  <thead>\n",
       "    <tr style=\"text-align: right;\">\n",
       "      <th></th>\n",
       "      <th>t2</th>\n",
       "      <th>percent</th>\n",
       "    </tr>\n",
       "  </thead>\n",
       "  <tbody>\n",
       "    <tr>\n",
       "      <th>13.000000</th>\n",
       "      <td>969</td>\n",
       "      <td>5.564488</td>\n",
       "    </tr>\n",
       "    <tr>\n",
       "      <th>12.000000</th>\n",
       "      <td>821</td>\n",
       "      <td>4.714597</td>\n",
       "    </tr>\n",
       "    <tr>\n",
       "      <th>14.000000</th>\n",
       "      <td>802</td>\n",
       "      <td>4.605490</td>\n",
       "    </tr>\n",
       "    <tr>\n",
       "      <th>11.000000</th>\n",
       "      <td>774</td>\n",
       "      <td>4.444700</td>\n",
       "    </tr>\n",
       "    <tr>\n",
       "      <th>16.000000</th>\n",
       "      <td>729</td>\n",
       "      <td>4.186287</td>\n",
       "    </tr>\n",
       "    <tr>\n",
       "      <th>...</th>\n",
       "      <td>...</td>\n",
       "      <td>...</td>\n",
       "    </tr>\n",
       "    <tr>\n",
       "      <th>33.000000</th>\n",
       "      <td>2</td>\n",
       "      <td>0.011485</td>\n",
       "    </tr>\n",
       "    <tr>\n",
       "      <th>10.333333</th>\n",
       "      <td>1</td>\n",
       "      <td>0.005743</td>\n",
       "    </tr>\n",
       "    <tr>\n",
       "      <th>-5.500000</th>\n",
       "      <td>1</td>\n",
       "      <td>0.005743</td>\n",
       "    </tr>\n",
       "    <tr>\n",
       "      <th>-6.000000</th>\n",
       "      <td>1</td>\n",
       "      <td>0.005743</td>\n",
       "    </tr>\n",
       "    <tr>\n",
       "      <th>-5.000000</th>\n",
       "      <td>1</td>\n",
       "      <td>0.005743</td>\n",
       "    </tr>\n",
       "  </tbody>\n",
       "</table>\n",
       "<p>82 rows × 2 columns</p>\n",
       "</div>"
      ],
      "text/plain": [
       "             t2   percent\n",
       " 13.000000  969  5.564488\n",
       " 12.000000  821  4.714597\n",
       " 14.000000  802  4.605490\n",
       " 11.000000  774  4.444700\n",
       " 16.000000  729  4.186287\n",
       "...         ...       ...\n",
       " 33.000000    2  0.011485\n",
       " 10.333333    1  0.005743\n",
       "-5.500000     1  0.005743\n",
       "-6.000000     1  0.005743\n",
       "-5.000000     1  0.005743\n",
       "\n",
       "[82 rows x 2 columns]"
      ]
     },
     "execution_count": 191,
     "metadata": {},
     "output_type": "execute_result"
    }
   ],
   "source": [
    "val"
   ]
  },
  {
   "cell_type": "code",
   "execution_count": 192,
   "metadata": {},
   "outputs": [
    {
     "data": {
      "text/plain": [
       "<AxesSubplot:xlabel='t2'>"
      ]
     },
     "execution_count": 192,
     "metadata": {},
     "output_type": "execute_result"
    },
    {
     "data": {
      "image/png": "[encoded data removed]",
      "text/plain": [
       "<Figure size 432x288 with 1 Axes>"
      ]
     },
     "metadata": {
      "needs_background": "light"
     },
     "output_type": "display_data"
    }
   ],
   "source": [
    "sns.boxplot(store.t2)"
   ]
  },
  {
   "cell_type": "markdown",
   "metadata": {},
   "source": [
    "As we mentioned before although 30-35 C  appear to be \"outliers\" as they are outside Q3, these are acceptable for London and we will not consider them as outliers. \n",
    "On the other hand t1 and t2 are usual suspects for multicollinearity. After a tedius assesment regarding correlation with cnt we will drop less correlated one. \n",
    "for now we leave this for the next step."
   ]
  },
  {
   "cell_type": "markdown",
   "metadata": {},
   "source": [
    "#### &emsp; v. hum - humidity in percentage"
   ]
  },
  {
   "cell_type": "code",
   "execution_count": 193,
   "metadata": {},
   "outputs": [],
   "source": [
    "inf, val = first_look(store, store.columns[4])"
   ]
  },
  {
   "cell_type": "code",
   "execution_count": 194,
   "metadata": {},
   "outputs": [
    {
     "data": {
      "text/html": [
       "<div>\n",
       "<style scoped>\n",
       "    .dataframe tbody tr th:only-of-type {\n",
       "        vertical-align: middle;\n",
       "    }\n",
       "\n",
       "    .dataframe tbody tr th {\n",
       "        vertical-align: top;\n",
       "    }\n",
       "\n",
       "    .dataframe thead th {\n",
       "        text-align: right;\n",
       "    }\n",
       "</style>\n",
       "<table border=\"1\" class=\"dataframe\">\n",
       "  <thead>\n",
       "    <tr style=\"text-align: right;\">\n",
       "      <th></th>\n",
       "      <th>Column_Name</th>\n",
       "      <th>Null_Rows</th>\n",
       "      <th>Column_Type</th>\n",
       "    </tr>\n",
       "  </thead>\n",
       "  <tbody>\n",
       "    <tr>\n",
       "      <th>col_info</th>\n",
       "      <td>hum</td>\n",
       "      <td>0</td>\n",
       "      <td>float64</td>\n",
       "    </tr>\n",
       "  </tbody>\n",
       "</table>\n",
       "</div>"
      ],
      "text/plain": [
       "         Column_Name  Null_Rows Column_Type\n",
       "col_info         hum          0     float64"
      ]
     },
     "execution_count": 194,
     "metadata": {},
     "output_type": "execute_result"
    }
   ],
   "source": [
    "inf"
   ]
  },
  {
   "cell_type": "code",
   "execution_count": 195,
   "metadata": {},
   "outputs": [
    {
     "data": {
      "text/html": [
       "<div>\n",
       "<style scoped>\n",
       "    .dataframe tbody tr th:only-of-type {\n",
       "        vertical-align: middle;\n",
       "    }\n",
       "\n",
       "    .dataframe tbody tr th {\n",
       "        vertical-align: top;\n",
       "    }\n",
       "\n",
       "    .dataframe thead th {\n",
       "        text-align: right;\n",
       "    }\n",
       "</style>\n",
       "<table border=\"1\" class=\"dataframe\">\n",
       "  <thead>\n",
       "    <tr style=\"text-align: right;\">\n",
       "      <th></th>\n",
       "      <th>hum</th>\n",
       "      <th>percent</th>\n",
       "    </tr>\n",
       "  </thead>\n",
       "  <tbody>\n",
       "    <tr>\n",
       "      <th>88.0</th>\n",
       "      <td>965</td>\n",
       "      <td>5.541518</td>\n",
       "    </tr>\n",
       "    <tr>\n",
       "      <th>82.0</th>\n",
       "      <td>928</td>\n",
       "      <td>5.329046</td>\n",
       "    </tr>\n",
       "    <tr>\n",
       "      <th>77.0</th>\n",
       "      <td>774</td>\n",
       "      <td>4.444700</td>\n",
       "    </tr>\n",
       "    <tr>\n",
       "      <th>87.0</th>\n",
       "      <td>710</td>\n",
       "      <td>4.077179</td>\n",
       "    </tr>\n",
       "    <tr>\n",
       "      <th>76.0</th>\n",
       "      <td>513</td>\n",
       "      <td>2.945906</td>\n",
       "    </tr>\n",
       "    <tr>\n",
       "      <th>...</th>\n",
       "      <td>...</td>\n",
       "      <td>...</td>\n",
       "    </tr>\n",
       "    <tr>\n",
       "      <th>24.0</th>\n",
       "      <td>1</td>\n",
       "      <td>0.005743</td>\n",
       "    </tr>\n",
       "    <tr>\n",
       "      <th>23.0</th>\n",
       "      <td>1</td>\n",
       "      <td>0.005743</td>\n",
       "    </tr>\n",
       "    <tr>\n",
       "      <th>86.5</th>\n",
       "      <td>1</td>\n",
       "      <td>0.005743</td>\n",
       "    </tr>\n",
       "    <tr>\n",
       "      <th>26.5</th>\n",
       "      <td>1</td>\n",
       "      <td>0.005743</td>\n",
       "    </tr>\n",
       "    <tr>\n",
       "      <th>89.5</th>\n",
       "      <td>1</td>\n",
       "      <td>0.005743</td>\n",
       "    </tr>\n",
       "  </tbody>\n",
       "</table>\n",
       "<p>143 rows × 2 columns</p>\n",
       "</div>"
      ],
      "text/plain": [
       "      hum   percent\n",
       "88.0  965  5.541518\n",
       "82.0  928  5.329046\n",
       "77.0  774  4.444700\n",
       "87.0  710  4.077179\n",
       "76.0  513  2.945906\n",
       "...   ...       ...\n",
       "24.0    1  0.005743\n",
       "23.0    1  0.005743\n",
       "86.5    1  0.005743\n",
       "26.5    1  0.005743\n",
       "89.5    1  0.005743\n",
       "\n",
       "[143 rows x 2 columns]"
      ]
     },
     "execution_count": 195,
     "metadata": {},
     "output_type": "execute_result"
    }
   ],
   "source": [
    "val"
   ]
  },
  {
   "cell_type": "code",
   "execution_count": 196,
   "metadata": {},
   "outputs": [
    {
     "data": {
      "text/plain": [
       "<AxesSubplot:xlabel='hum'>"
      ]
     },
     "execution_count": 196,
     "metadata": {},
     "output_type": "execute_result"
    },
    {
     "data": {
      "image/png": "[encoded data removed]",
      "text/plain": [
       "<Figure size 432x288 with 1 Axes>"
      ]
     },
     "metadata": {
      "needs_background": "light"
     },
     "output_type": "display_data"
    }
   ],
   "source": [
    "sns.boxplot(store.hum)"
   ]
  },
  {
   "cell_type": "markdown",
   "metadata": {},
   "source": [
    "Humidity below 30% in London is rare, but seems possible. We will address these \"outliers\" in the next session."
   ]
  },
  {
   "cell_type": "markdown",
   "metadata": {},
   "source": [
    "#### &emsp; vi. wind_speed - wind speed in km/h"
   ]
  },
  {
   "cell_type": "code",
   "execution_count": 197,
   "metadata": {},
   "outputs": [],
   "source": [
    "inf, val = first_look(store, store.columns[5])"
   ]
  },
  {
   "cell_type": "code",
   "execution_count": 198,
   "metadata": {},
   "outputs": [
    {
     "data": {
      "text/html": [
       "<div>\n",
       "<style scoped>\n",
       "    .dataframe tbody tr th:only-of-type {\n",
       "        vertical-align: middle;\n",
       "    }\n",
       "\n",
       "    .dataframe tbody tr th {\n",
       "        vertical-align: top;\n",
       "    }\n",
       "\n",
       "    .dataframe thead th {\n",
       "        text-align: right;\n",
       "    }\n",
       "</style>\n",
       "<table border=\"1\" class=\"dataframe\">\n",
       "  <thead>\n",
       "    <tr style=\"text-align: right;\">\n",
       "      <th></th>\n",
       "      <th>Column_Name</th>\n",
       "      <th>Null_Rows</th>\n",
       "      <th>Column_Type</th>\n",
       "    </tr>\n",
       "  </thead>\n",
       "  <tbody>\n",
       "    <tr>\n",
       "      <th>col_info</th>\n",
       "      <td>wind_speed</td>\n",
       "      <td>0</td>\n",
       "      <td>float64</td>\n",
       "    </tr>\n",
       "  </tbody>\n",
       "</table>\n",
       "</div>"
      ],
      "text/plain": [
       "         Column_Name  Null_Rows Column_Type\n",
       "col_info  wind_speed          0     float64"
      ]
     },
     "execution_count": 198,
     "metadata": {},
     "output_type": "execute_result"
    }
   ],
   "source": [
    "inf"
   ]
  },
  {
   "cell_type": "code",
   "execution_count": 199,
   "metadata": {},
   "outputs": [
    {
     "data": {
      "text/html": [
       "<div>\n",
       "<style scoped>\n",
       "    .dataframe tbody tr th:only-of-type {\n",
       "        vertical-align: middle;\n",
       "    }\n",
       "\n",
       "    .dataframe tbody tr th {\n",
       "        vertical-align: top;\n",
       "    }\n",
       "\n",
       "    .dataframe thead th {\n",
       "        text-align: right;\n",
       "    }\n",
       "</style>\n",
       "<table border=\"1\" class=\"dataframe\">\n",
       "  <thead>\n",
       "    <tr style=\"text-align: right;\">\n",
       "      <th></th>\n",
       "      <th>wind_speed</th>\n",
       "      <th>percent</th>\n",
       "    </tr>\n",
       "  </thead>\n",
       "  <tbody>\n",
       "    <tr>\n",
       "      <th>12.000000</th>\n",
       "      <td>842</td>\n",
       "      <td>4.835190</td>\n",
       "    </tr>\n",
       "    <tr>\n",
       "      <th>11.000000</th>\n",
       "      <td>832</td>\n",
       "      <td>4.777765</td>\n",
       "    </tr>\n",
       "    <tr>\n",
       "      <th>14.000000</th>\n",
       "      <td>832</td>\n",
       "      <td>4.777765</td>\n",
       "    </tr>\n",
       "    <tr>\n",
       "      <th>15.000000</th>\n",
       "      <td>828</td>\n",
       "      <td>4.754795</td>\n",
       "    </tr>\n",
       "    <tr>\n",
       "      <th>13.000000</th>\n",
       "      <td>828</td>\n",
       "      <td>4.754795</td>\n",
       "    </tr>\n",
       "    <tr>\n",
       "      <th>...</th>\n",
       "      <td>...</td>\n",
       "      <td>...</td>\n",
       "    </tr>\n",
       "    <tr>\n",
       "      <th>36.500000</th>\n",
       "      <td>1</td>\n",
       "      <td>0.005743</td>\n",
       "    </tr>\n",
       "    <tr>\n",
       "      <th>47.500000</th>\n",
       "      <td>1</td>\n",
       "      <td>0.005743</td>\n",
       "    </tr>\n",
       "    <tr>\n",
       "      <th>13.500000</th>\n",
       "      <td>1</td>\n",
       "      <td>0.005743</td>\n",
       "    </tr>\n",
       "    <tr>\n",
       "      <th>2.666667</th>\n",
       "      <td>1</td>\n",
       "      <td>0.005743</td>\n",
       "    </tr>\n",
       "    <tr>\n",
       "      <th>35.500000</th>\n",
       "      <td>1</td>\n",
       "      <td>0.005743</td>\n",
       "    </tr>\n",
       "  </tbody>\n",
       "</table>\n",
       "<p>103 rows × 2 columns</p>\n",
       "</div>"
      ],
      "text/plain": [
       "           wind_speed   percent\n",
       "12.000000         842  4.835190\n",
       "11.000000         832  4.777765\n",
       "14.000000         832  4.777765\n",
       "15.000000         828  4.754795\n",
       "13.000000         828  4.754795\n",
       "...               ...       ...\n",
       "36.500000           1  0.005743\n",
       "47.500000           1  0.005743\n",
       "13.500000           1  0.005743\n",
       "2.666667            1  0.005743\n",
       "35.500000           1  0.005743\n",
       "\n",
       "[103 rows x 2 columns]"
      ]
     },
     "execution_count": 199,
     "metadata": {},
     "output_type": "execute_result"
    }
   ],
   "source": [
    "val"
   ]
  },
  {
   "cell_type": "code",
   "execution_count": 200,
   "metadata": {},
   "outputs": [
    {
     "data": {
      "text/plain": [
       "<AxesSubplot:xlabel='wind_speed'>"
      ]
     },
     "execution_count": 200,
     "metadata": {},
     "output_type": "execute_result"
    },
    {
     "data": {
      "image/png": "[encoded data removed]",
      "text/plain": [
       "<Figure size 432x288 with 1 Axes>"
      ]
     },
     "metadata": {
      "needs_background": "light"
     },
     "output_type": "display_data"
    }
   ],
   "source": [
    "sns.boxplot(store.wind_speed)"
   ]
  },
  {
   "cell_type": "markdown",
   "metadata": {},
   "source": [
    "As it can be observed in <a href=\"https://meteostat.net/en/place/GB-XCP5?t=2019-01-01/2019-12-31\">wind speed statistics for London</a> wind speed over 40 km is extremely rare. We will address these \"outliers\" in the next session."
   ]
  },
  {
   "cell_type": "markdown",
   "metadata": {},
   "source": [
    "#### &emsp; vii. weather_code - category of the weather"
   ]
  },
  {
   "cell_type": "markdown",
   "metadata": {},
   "source": [
    "\"weather_code\" category description: \n",
    "- 1 = Clear ; mostly clear but have some values with haze/fog/patches of fog/ fog in vicinity\n",
    "- 2 = scattered clouds / few clouds \n",
    "- 3 = Broken clouds \n",
    "- 4 = Cloudy\n",
    "- 7 = Rain/ light Rain shower/ Light rain\n",
    "- 10 = rain with thunderstorm\n",
    "- 26 = snowfall\n",
    "- 94 = Freezing Fog"
   ]
  },
  {
   "cell_type": "code",
   "execution_count": 201,
   "metadata": {},
   "outputs": [],
   "source": [
    "inf, val = first_look(store, store.columns[6])"
   ]
  },
  {
   "cell_type": "code",
   "execution_count": 202,
   "metadata": {},
   "outputs": [
    {
     "data": {
      "text/html": [
       "<div>\n",
       "<style scoped>\n",
       "    .dataframe tbody tr th:only-of-type {\n",
       "        vertical-align: middle;\n",
       "    }\n",
       "\n",
       "    .dataframe tbody tr th {\n",
       "        vertical-align: top;\n",
       "    }\n",
       "\n",
       "    .dataframe thead th {\n",
       "        text-align: right;\n",
       "    }\n",
       "</style>\n",
       "<table border=\"1\" class=\"dataframe\">\n",
       "  <thead>\n",
       "    <tr style=\"text-align: right;\">\n",
       "      <th></th>\n",
       "      <th>Column_Name</th>\n",
       "      <th>Null_Rows</th>\n",
       "      <th>Column_Type</th>\n",
       "    </tr>\n",
       "  </thead>\n",
       "  <tbody>\n",
       "    <tr>\n",
       "      <th>col_info</th>\n",
       "      <td>weather_code</td>\n",
       "      <td>0</td>\n",
       "      <td>float64</td>\n",
       "    </tr>\n",
       "  </tbody>\n",
       "</table>\n",
       "</div>"
      ],
      "text/plain": [
       "           Column_Name  Null_Rows Column_Type\n",
       "col_info  weather_code          0     float64"
      ]
     },
     "execution_count": 202,
     "metadata": {},
     "output_type": "execute_result"
    }
   ],
   "source": [
    "inf"
   ]
  },
  {
   "cell_type": "code",
   "execution_count": 203,
   "metadata": {},
   "outputs": [
    {
     "data": {
      "text/html": [
       "<div>\n",
       "<style scoped>\n",
       "    .dataframe tbody tr th:only-of-type {\n",
       "        vertical-align: middle;\n",
       "    }\n",
       "\n",
       "    .dataframe tbody tr th {\n",
       "        vertical-align: top;\n",
       "    }\n",
       "\n",
       "    .dataframe thead th {\n",
       "        text-align: right;\n",
       "    }\n",
       "</style>\n",
       "<table border=\"1\" class=\"dataframe\">\n",
       "  <thead>\n",
       "    <tr style=\"text-align: right;\">\n",
       "      <th></th>\n",
       "      <th>weather_code</th>\n",
       "      <th>percent</th>\n",
       "    </tr>\n",
       "  </thead>\n",
       "  <tbody>\n",
       "    <tr>\n",
       "      <th>1.0</th>\n",
       "      <td>6150</td>\n",
       "      <td>35.316412</td>\n",
       "    </tr>\n",
       "    <tr>\n",
       "      <th>2.0</th>\n",
       "      <td>4034</td>\n",
       "      <td>23.165269</td>\n",
       "    </tr>\n",
       "    <tr>\n",
       "      <th>3.0</th>\n",
       "      <td>3551</td>\n",
       "      <td>20.391639</td>\n",
       "    </tr>\n",
       "    <tr>\n",
       "      <th>7.0</th>\n",
       "      <td>2141</td>\n",
       "      <td>12.294705</td>\n",
       "    </tr>\n",
       "    <tr>\n",
       "      <th>4.0</th>\n",
       "      <td>1464</td>\n",
       "      <td>8.407029</td>\n",
       "    </tr>\n",
       "    <tr>\n",
       "      <th>26.0</th>\n",
       "      <td>60</td>\n",
       "      <td>0.344550</td>\n",
       "    </tr>\n",
       "    <tr>\n",
       "      <th>10.0</th>\n",
       "      <td>14</td>\n",
       "      <td>0.080395</td>\n",
       "    </tr>\n",
       "  </tbody>\n",
       "</table>\n",
       "</div>"
      ],
      "text/plain": [
       "      weather_code    percent\n",
       "1.0           6150  35.316412\n",
       "2.0           4034  23.165269\n",
       "3.0           3551  20.391639\n",
       "7.0           2141  12.294705\n",
       "4.0           1464   8.407029\n",
       "26.0            60   0.344550\n",
       "10.0            14   0.080395"
      ]
     },
     "execution_count": 203,
     "metadata": {},
     "output_type": "execute_result"
    }
   ],
   "source": [
    "val"
   ]
  },
  {
   "cell_type": "markdown",
   "metadata": {},
   "source": [
    "The Wheather code is also a column where we had to apply feature engineering."
   ]
  },
  {
   "cell_type": "markdown",
   "metadata": {},
   "source": [
    "Let's chategorize whether as 'good' , 'mid', 'bad' where:\n",
    "- good = 1 (Clear ; mostly clear but have some values with haze/fog/patches of fog/ fog in vicinity), 2 (scattered clouds / few clouds)\n",
    "- mid = 3 (Broken clouds), 4 (Cloudy)\n",
    "- bad = 7 (Rain/ light Rain shower/ Light rain), 10 (rain with thunderstorm), 26 (snowfall)"
   ]
  },
  {
   "cell_type": "code",
   "execution_count": 204,
   "metadata": {},
   "outputs": [],
   "source": [
    "store['weather_cathegory'] = store.weather_code.apply(lambda x: 'good' if x in [1,2] else ('mid' if x in [3, 4] else 'bad' ))"
   ]
  },
  {
   "cell_type": "code",
   "execution_count": 205,
   "metadata": {},
   "outputs": [
    {
     "data": {
      "text/plain": [
       "good    10184\n",
       "mid      5015\n",
       "bad      2215\n",
       "Name: weather_cathegory, dtype: int64"
      ]
     },
     "execution_count": 205,
     "metadata": {},
     "output_type": "execute_result"
    }
   ],
   "source": [
    "store.weather_cathegory.value_counts()"
   ]
  },
  {
   "cell_type": "markdown",
   "metadata": {},
   "source": [
    "#### &emsp; viii. is_holiday - boolean field - 1 holiday / 0 non holiday"
   ]
  },
  {
   "cell_type": "code",
   "execution_count": 206,
   "metadata": {},
   "outputs": [],
   "source": [
    "inf, val = first_look(store, store.columns[7])"
   ]
  },
  {
   "cell_type": "code",
   "execution_count": 207,
   "metadata": {},
   "outputs": [
    {
     "data": {
      "text/html": [
       "<div>\n",
       "<style scoped>\n",
       "    .dataframe tbody tr th:only-of-type {\n",
       "        vertical-align: middle;\n",
       "    }\n",
       "\n",
       "    .dataframe tbody tr th {\n",
       "        vertical-align: top;\n",
       "    }\n",
       "\n",
       "    .dataframe thead th {\n",
       "        text-align: right;\n",
       "    }\n",
       "</style>\n",
       "<table border=\"1\" class=\"dataframe\">\n",
       "  <thead>\n",
       "    <tr style=\"text-align: right;\">\n",
       "      <th></th>\n",
       "      <th>Column_Name</th>\n",
       "      <th>Null_Rows</th>\n",
       "      <th>Column_Type</th>\n",
       "    </tr>\n",
       "  </thead>\n",
       "  <tbody>\n",
       "    <tr>\n",
       "      <th>col_info</th>\n",
       "      <td>is_holiday</td>\n",
       "      <td>0</td>\n",
       "      <td>float64</td>\n",
       "    </tr>\n",
       "  </tbody>\n",
       "</table>\n",
       "</div>"
      ],
      "text/plain": [
       "         Column_Name  Null_Rows Column_Type\n",
       "col_info  is_holiday          0     float64"
      ]
     },
     "execution_count": 207,
     "metadata": {},
     "output_type": "execute_result"
    }
   ],
   "source": [
    "inf"
   ]
  },
  {
   "cell_type": "code",
   "execution_count": 208,
   "metadata": {},
   "outputs": [
    {
     "data": {
      "text/html": [
       "<div>\n",
       "<style scoped>\n",
       "    .dataframe tbody tr th:only-of-type {\n",
       "        vertical-align: middle;\n",
       "    }\n",
       "\n",
       "    .dataframe tbody tr th {\n",
       "        vertical-align: top;\n",
       "    }\n",
       "\n",
       "    .dataframe thead th {\n",
       "        text-align: right;\n",
       "    }\n",
       "</style>\n",
       "<table border=\"1\" class=\"dataframe\">\n",
       "  <thead>\n",
       "    <tr style=\"text-align: right;\">\n",
       "      <th></th>\n",
       "      <th>is_holiday</th>\n",
       "      <th>percent</th>\n",
       "    </tr>\n",
       "  </thead>\n",
       "  <tbody>\n",
       "    <tr>\n",
       "      <th>0.0</th>\n",
       "      <td>17030</td>\n",
       "      <td>97.794878</td>\n",
       "    </tr>\n",
       "    <tr>\n",
       "      <th>1.0</th>\n",
       "      <td>384</td>\n",
       "      <td>2.205122</td>\n",
       "    </tr>\n",
       "  </tbody>\n",
       "</table>\n",
       "</div>"
      ],
      "text/plain": [
       "     is_holiday    percent\n",
       "0.0       17030  97.794878\n",
       "1.0         384   2.205122"
      ]
     },
     "execution_count": 208,
     "metadata": {},
     "output_type": "execute_result"
    }
   ],
   "source": [
    "val"
   ]
  },
  {
   "cell_type": "markdown",
   "metadata": {},
   "source": [
    "Given the unbalanced distribution, we could combine this column and is_weekend to get a brand new feature instead of these two."
   ]
  },
  {
   "cell_type": "markdown",
   "metadata": {},
   "source": [
    "#### &emsp; ix. is_weekend - boolean field - 1 if the day is weekend"
   ]
  },
  {
   "cell_type": "code",
   "execution_count": 209,
   "metadata": {},
   "outputs": [],
   "source": [
    "inf, val = first_look(store, store.columns[8])"
   ]
  },
  {
   "cell_type": "code",
   "execution_count": 210,
   "metadata": {},
   "outputs": [
    {
     "data": {
      "text/html": [
       "<div>\n",
       "<style scoped>\n",
       "    .dataframe tbody tr th:only-of-type {\n",
       "        vertical-align: middle;\n",
       "    }\n",
       "\n",
       "    .dataframe tbody tr th {\n",
       "        vertical-align: top;\n",
       "    }\n",
       "\n",
       "    .dataframe thead th {\n",
       "        text-align: right;\n",
       "    }\n",
       "</style>\n",
       "<table border=\"1\" class=\"dataframe\">\n",
       "  <thead>\n",
       "    <tr style=\"text-align: right;\">\n",
       "      <th></th>\n",
       "      <th>Column_Name</th>\n",
       "      <th>Null_Rows</th>\n",
       "      <th>Column_Type</th>\n",
       "    </tr>\n",
       "  </thead>\n",
       "  <tbody>\n",
       "    <tr>\n",
       "      <th>col_info</th>\n",
       "      <td>is_weekend</td>\n",
       "      <td>0</td>\n",
       "      <td>float64</td>\n",
       "    </tr>\n",
       "  </tbody>\n",
       "</table>\n",
       "</div>"
      ],
      "text/plain": [
       "         Column_Name  Null_Rows Column_Type\n",
       "col_info  is_weekend          0     float64"
      ]
     },
     "execution_count": 210,
     "metadata": {},
     "output_type": "execute_result"
    }
   ],
   "source": [
    "inf"
   ]
  },
  {
   "cell_type": "code",
   "execution_count": 211,
   "metadata": {},
   "outputs": [
    {
     "data": {
      "text/html": [
       "<div>\n",
       "<style scoped>\n",
       "    .dataframe tbody tr th:only-of-type {\n",
       "        vertical-align: middle;\n",
       "    }\n",
       "\n",
       "    .dataframe tbody tr th {\n",
       "        vertical-align: top;\n",
       "    }\n",
       "\n",
       "    .dataframe thead th {\n",
       "        text-align: right;\n",
       "    }\n",
       "</style>\n",
       "<table border=\"1\" class=\"dataframe\">\n",
       "  <thead>\n",
       "    <tr style=\"text-align: right;\">\n",
       "      <th></th>\n",
       "      <th>is_weekend</th>\n",
       "      <th>percent</th>\n",
       "    </tr>\n",
       "  </thead>\n",
       "  <tbody>\n",
       "    <tr>\n",
       "      <th>0.0</th>\n",
       "      <td>12444</td>\n",
       "      <td>71.459745</td>\n",
       "    </tr>\n",
       "    <tr>\n",
       "      <th>1.0</th>\n",
       "      <td>4970</td>\n",
       "      <td>28.540255</td>\n",
       "    </tr>\n",
       "  </tbody>\n",
       "</table>\n",
       "</div>"
      ],
      "text/plain": [
       "     is_weekend    percent\n",
       "0.0       12444  71.459745\n",
       "1.0        4970  28.540255"
      ]
     },
     "execution_count": 211,
     "metadata": {},
     "output_type": "execute_result"
    }
   ],
   "source": [
    "val"
   ]
  },
  {
   "cell_type": "code",
   "execution_count": 212,
   "metadata": {},
   "outputs": [],
   "source": [
    "store['off_work'] = store.is_weekend + store.is_holiday\n",
    "store['off_work'] = store.off_work.apply(lambda x: 0 if x==0 else 1)"
   ]
  },
  {
   "cell_type": "code",
   "execution_count": 213,
   "metadata": {},
   "outputs": [
    {
     "data": {
      "text/plain": [
       "0    12060\n",
       "1     5354\n",
       "Name: off_work, dtype: int64"
      ]
     },
     "execution_count": 213,
     "metadata": {},
     "output_type": "execute_result"
    }
   ],
   "source": [
    "store.off_work.value_counts()"
   ]
  },
  {
   "cell_type": "markdown",
   "metadata": {},
   "source": [
    "#### &emsp; x. season - category field meteorological seasons: 0-spring ; 1-summer; 2-fall; 3-winter."
   ]
  },
  {
   "cell_type": "code",
   "execution_count": 214,
   "metadata": {},
   "outputs": [],
   "source": [
    "inf, val = first_look(store, store.columns[9])"
   ]
  },
  {
   "cell_type": "code",
   "execution_count": 215,
   "metadata": {},
   "outputs": [
    {
     "data": {
      "text/html": [
       "<div>\n",
       "<style scoped>\n",
       "    .dataframe tbody tr th:only-of-type {\n",
       "        vertical-align: middle;\n",
       "    }\n",
       "\n",
       "    .dataframe tbody tr th {\n",
       "        vertical-align: top;\n",
       "    }\n",
       "\n",
       "    .dataframe thead th {\n",
       "        text-align: right;\n",
       "    }\n",
       "</style>\n",
       "<table border=\"1\" class=\"dataframe\">\n",
       "  <thead>\n",
       "    <tr style=\"text-align: right;\">\n",
       "      <th></th>\n",
       "      <th>Column_Name</th>\n",
       "      <th>Null_Rows</th>\n",
       "      <th>Column_Type</th>\n",
       "    </tr>\n",
       "  </thead>\n",
       "  <tbody>\n",
       "    <tr>\n",
       "      <th>col_info</th>\n",
       "      <td>season</td>\n",
       "      <td>0</td>\n",
       "      <td>float64</td>\n",
       "    </tr>\n",
       "  </tbody>\n",
       "</table>\n",
       "</div>"
      ],
      "text/plain": [
       "         Column_Name  Null_Rows Column_Type\n",
       "col_info      season          0     float64"
      ]
     },
     "execution_count": 215,
     "metadata": {},
     "output_type": "execute_result"
    }
   ],
   "source": [
    "inf"
   ]
  },
  {
   "cell_type": "code",
   "execution_count": 216,
   "metadata": {},
   "outputs": [
    {
     "data": {
      "text/html": [
       "<div>\n",
       "<style scoped>\n",
       "    .dataframe tbody tr th:only-of-type {\n",
       "        vertical-align: middle;\n",
       "    }\n",
       "\n",
       "    .dataframe tbody tr th {\n",
       "        vertical-align: top;\n",
       "    }\n",
       "\n",
       "    .dataframe thead th {\n",
       "        text-align: right;\n",
       "    }\n",
       "</style>\n",
       "<table border=\"1\" class=\"dataframe\">\n",
       "  <thead>\n",
       "    <tr style=\"text-align: right;\">\n",
       "      <th></th>\n",
       "      <th>season</th>\n",
       "      <th>percent</th>\n",
       "    </tr>\n",
       "  </thead>\n",
       "  <tbody>\n",
       "    <tr>\n",
       "      <th>0.0</th>\n",
       "      <td>4394</td>\n",
       "      <td>25.232571</td>\n",
       "    </tr>\n",
       "    <tr>\n",
       "      <th>1.0</th>\n",
       "      <td>4387</td>\n",
       "      <td>25.192374</td>\n",
       "    </tr>\n",
       "    <tr>\n",
       "      <th>3.0</th>\n",
       "      <td>4330</td>\n",
       "      <td>24.865051</td>\n",
       "    </tr>\n",
       "    <tr>\n",
       "      <th>2.0</th>\n",
       "      <td>4303</td>\n",
       "      <td>24.710003</td>\n",
       "    </tr>\n",
       "  </tbody>\n",
       "</table>\n",
       "</div>"
      ],
      "text/plain": [
       "     season    percent\n",
       "0.0    4394  25.232571\n",
       "1.0    4387  25.192374\n",
       "3.0    4330  24.865051\n",
       "2.0    4303  24.710003"
      ]
     },
     "execution_count": 216,
     "metadata": {},
     "output_type": "execute_result"
    }
   ],
   "source": [
    "val"
   ]
  },
  {
   "cell_type": "markdown",
   "metadata": {},
   "source": [
    "### Checking Missing Values and Outliers"
   ]
  },
  {
   "cell_type": "code",
   "execution_count": 217,
   "metadata": {},
   "outputs": [
    {
     "data": {
      "text/plain": [
       "<AxesSubplot:xlabel='cnt'>"
      ]
     },
     "execution_count": 217,
     "metadata": {},
     "output_type": "execute_result"
    },
    {
     "data": {
      "image/png": "[encoded data removed]",
      "text/plain": [
       "<Figure size 432x288 with 1 Axes>"
      ]
     },
     "metadata": {
      "needs_background": "light"
     },
     "output_type": "display_data"
    }
   ],
   "source": [
    "sns.boxplot(x= 'cnt', data = store)"
   ]
  },
  {
   "cell_type": "code",
   "execution_count": 218,
   "metadata": {},
   "outputs": [
    {
     "data": {
      "image/png": "[encoded data removed]",
      "text/plain": [
       "<Figure size 1152x576 with 4 Axes>"
      ]
     },
     "metadata": {
      "needs_background": "light"
     },
     "output_type": "display_data"
    }
   ],
   "source": [
    "fig, axes = plt.subplots(2,2, sharex=False, figsize=(16, 8))\n",
    "fig.suptitle('Outliers by Features')\n",
    "\n",
    "sns.boxplot(ax=axes[0,0], x= 'cnt', data = store)\n",
    "axes[0,0].set_title('cnt - the count of a new bike shares')\n",
    "sns.boxplot(ax=axes[0,1], x= 't2', data = store)\n",
    "axes[0,1].set_title('t2 - temperature in C “feels like\"')\n",
    "sns.boxplot(ax=axes[1,0], x= 'hum', data = store)\n",
    "axes[1,0].set_title('hum - humidity in percentage')\n",
    "sns.boxplot(ax=axes[1,1], x= 'wind_speed', data = store)\n",
    "axes[1,1].set_title('wind_speed - wind speed in km/h')\n",
    "plt.tight_layout()\n",
    "plt.show()"
   ]
  },
  {
   "cell_type": "code",
   "execution_count": 219,
   "metadata": {},
   "outputs": [
    {
     "data": {
      "text/plain": [
       "(8, 13)"
      ]
     },
     "execution_count": 219,
     "metadata": {},
     "output_type": "execute_result"
    }
   ],
   "source": [
    "store[store.cnt>5500].shape"
   ]
  },
  {
   "cell_type": "code",
   "execution_count": 220,
   "metadata": {},
   "outputs": [
    {
     "data": {
      "text/plain": [
       "(514, 13)"
      ]
     },
     "execution_count": 220,
     "metadata": {},
     "output_type": "execute_result"
    }
   ],
   "source": [
    "store[store.cnt>4000].shape"
   ]
  },
  {
   "cell_type": "code",
   "execution_count": 221,
   "metadata": {},
   "outputs": [
    {
     "data": {
      "text/html": [
       "<div>\n",
       "<style scoped>\n",
       "    .dataframe tbody tr th:only-of-type {\n",
       "        vertical-align: middle;\n",
       "    }\n",
       "\n",
       "    .dataframe tbody tr th {\n",
       "        vertical-align: top;\n",
       "    }\n",
       "\n",
       "    .dataframe thead th {\n",
       "        text-align: right;\n",
       "    }\n",
       "</style>\n",
       "<table border=\"1\" class=\"dataframe\">\n",
       "  <thead>\n",
       "    <tr style=\"text-align: right;\">\n",
       "      <th></th>\n",
       "      <th>timestamp</th>\n",
       "      <th>cnt</th>\n",
       "      <th>t1</th>\n",
       "      <th>t2</th>\n",
       "      <th>hum</th>\n",
       "      <th>wind_speed</th>\n",
       "      <th>weather_code</th>\n",
       "      <th>is_holiday</th>\n",
       "      <th>is_weekend</th>\n",
       "      <th>season</th>\n",
       "      <th>date_time</th>\n",
       "      <th>weather_cathegory</th>\n",
       "      <th>off_work</th>\n",
       "    </tr>\n",
       "  </thead>\n",
       "  <tbody>\n",
       "    <tr>\n",
       "      <th>2760</th>\n",
       "      <td>2015-04-29 08:00:00</td>\n",
       "      <td>4069</td>\n",
       "      <td>10.0</td>\n",
       "      <td>7.0</td>\n",
       "      <td>71.0</td>\n",
       "      <td>22.0</td>\n",
       "      <td>7.0</td>\n",
       "      <td>0.0</td>\n",
       "      <td>0.0</td>\n",
       "      <td>0.0</td>\n",
       "      <td>2015-04-29 08:00:00</td>\n",
       "      <td>bad</td>\n",
       "      <td>0</td>\n",
       "    </tr>\n",
       "    <tr>\n",
       "      <th>4302</th>\n",
       "      <td>2015-07-02 17:00:00</td>\n",
       "      <td>4193</td>\n",
       "      <td>24.5</td>\n",
       "      <td>24.5</td>\n",
       "      <td>61.0</td>\n",
       "      <td>18.5</td>\n",
       "      <td>7.0</td>\n",
       "      <td>0.0</td>\n",
       "      <td>0.0</td>\n",
       "      <td>1.0</td>\n",
       "      <td>2015-07-02 17:00:00</td>\n",
       "      <td>bad</td>\n",
       "      <td>0</td>\n",
       "    </tr>\n",
       "    <tr>\n",
       "      <th>4923</th>\n",
       "      <td>2015-07-28 18:00:00</td>\n",
       "      <td>4200</td>\n",
       "      <td>19.0</td>\n",
       "      <td>19.0</td>\n",
       "      <td>49.0</td>\n",
       "      <td>25.5</td>\n",
       "      <td>7.0</td>\n",
       "      <td>0.0</td>\n",
       "      <td>0.0</td>\n",
       "      <td>1.0</td>\n",
       "      <td>2015-07-28 18:00:00</td>\n",
       "      <td>bad</td>\n",
       "      <td>0</td>\n",
       "    </tr>\n",
       "    <tr>\n",
       "      <th>5129</th>\n",
       "      <td>2015-08-06 08:00:00</td>\n",
       "      <td>6585</td>\n",
       "      <td>19.0</td>\n",
       "      <td>19.0</td>\n",
       "      <td>78.0</td>\n",
       "      <td>12.0</td>\n",
       "      <td>7.0</td>\n",
       "      <td>0.0</td>\n",
       "      <td>0.0</td>\n",
       "      <td>1.0</td>\n",
       "      <td>2015-08-06 08:00:00</td>\n",
       "      <td>bad</td>\n",
       "      <td>0</td>\n",
       "    </tr>\n",
       "    <tr>\n",
       "      <th>5249</th>\n",
       "      <td>2015-08-11 08:00:00</td>\n",
       "      <td>4384</td>\n",
       "      <td>16.5</td>\n",
       "      <td>16.5</td>\n",
       "      <td>66.0</td>\n",
       "      <td>6.0</td>\n",
       "      <td>7.0</td>\n",
       "      <td>0.0</td>\n",
       "      <td>0.0</td>\n",
       "      <td>1.0</td>\n",
       "      <td>2015-08-11 08:00:00</td>\n",
       "      <td>bad</td>\n",
       "      <td>0</td>\n",
       "    </tr>\n",
       "    <tr>\n",
       "      <th>7768</th>\n",
       "      <td>2015-11-25 08:00:00</td>\n",
       "      <td>4170</td>\n",
       "      <td>9.0</td>\n",
       "      <td>5.5</td>\n",
       "      <td>76.0</td>\n",
       "      <td>26.0</td>\n",
       "      <td>7.0</td>\n",
       "      <td>0.0</td>\n",
       "      <td>0.0</td>\n",
       "      <td>2.0</td>\n",
       "      <td>2015-11-25 08:00:00</td>\n",
       "      <td>bad</td>\n",
       "      <td>0</td>\n",
       "    </tr>\n",
       "    <tr>\n",
       "      <th>12620</th>\n",
       "      <td>2016-06-15 17:00:00</td>\n",
       "      <td>4208</td>\n",
       "      <td>18.5</td>\n",
       "      <td>18.5</td>\n",
       "      <td>60.0</td>\n",
       "      <td>17.5</td>\n",
       "      <td>7.0</td>\n",
       "      <td>0.0</td>\n",
       "      <td>0.0</td>\n",
       "      <td>1.0</td>\n",
       "      <td>2016-06-15 17:00:00</td>\n",
       "      <td>bad</td>\n",
       "      <td>0</td>\n",
       "    </tr>\n",
       "    <tr>\n",
       "      <th>15408</th>\n",
       "      <td>2016-10-12 08:00:00</td>\n",
       "      <td>4541</td>\n",
       "      <td>11.0</td>\n",
       "      <td>11.0</td>\n",
       "      <td>88.0</td>\n",
       "      <td>11.0</td>\n",
       "      <td>7.0</td>\n",
       "      <td>0.0</td>\n",
       "      <td>0.0</td>\n",
       "      <td>2.0</td>\n",
       "      <td>2016-10-12 08:00:00</td>\n",
       "      <td>bad</td>\n",
       "      <td>0</td>\n",
       "    </tr>\n",
       "    <tr>\n",
       "      <th>15432</th>\n",
       "      <td>2016-10-13 08:00:00</td>\n",
       "      <td>4196</td>\n",
       "      <td>10.0</td>\n",
       "      <td>8.0</td>\n",
       "      <td>88.0</td>\n",
       "      <td>12.0</td>\n",
       "      <td>7.0</td>\n",
       "      <td>0.0</td>\n",
       "      <td>0.0</td>\n",
       "      <td>2.0</td>\n",
       "      <td>2016-10-13 08:00:00</td>\n",
       "      <td>bad</td>\n",
       "      <td>0</td>\n",
       "    </tr>\n",
       "    <tr>\n",
       "      <th>16390</th>\n",
       "      <td>2016-11-22 08:00:00</td>\n",
       "      <td>4248</td>\n",
       "      <td>11.0</td>\n",
       "      <td>11.0</td>\n",
       "      <td>69.5</td>\n",
       "      <td>26.0</td>\n",
       "      <td>7.0</td>\n",
       "      <td>0.0</td>\n",
       "      <td>0.0</td>\n",
       "      <td>2.0</td>\n",
       "      <td>2016-11-22 08:00:00</td>\n",
       "      <td>bad</td>\n",
       "      <td>0</td>\n",
       "    </tr>\n",
       "  </tbody>\n",
       "</table>\n",
       "</div>"
      ],
      "text/plain": [
       "                 timestamp   cnt    t1    t2   hum  wind_speed  weather_code  \\\n",
       "2760   2015-04-29 08:00:00  4069  10.0   7.0  71.0        22.0           7.0   \n",
       "4302   2015-07-02 17:00:00  4193  24.5  24.5  61.0        18.5           7.0   \n",
       "4923   2015-07-28 18:00:00  4200  19.0  19.0  49.0        25.5           7.0   \n",
       "5129   2015-08-06 08:00:00  6585  19.0  19.0  78.0        12.0           7.0   \n",
       "5249   2015-08-11 08:00:00  4384  16.5  16.5  66.0         6.0           7.0   \n",
       "7768   2015-11-25 08:00:00  4170   9.0   5.5  76.0        26.0           7.0   \n",
       "12620  2016-06-15 17:00:00  4208  18.5  18.5  60.0        17.5           7.0   \n",
       "15408  2016-10-12 08:00:00  4541  11.0  11.0  88.0        11.0           7.0   \n",
       "15432  2016-10-13 08:00:00  4196  10.0   8.0  88.0        12.0           7.0   \n",
       "16390  2016-11-22 08:00:00  4248  11.0  11.0  69.5        26.0           7.0   \n",
       "\n",
       "       is_holiday  is_weekend  season           date_time weather_cathegory  \\\n",
       "2760          0.0         0.0     0.0 2015-04-29 08:00:00               bad   \n",
       "4302          0.0         0.0     1.0 2015-07-02 17:00:00               bad   \n",
       "4923          0.0         0.0     1.0 2015-07-28 18:00:00               bad   \n",
       "5129          0.0         0.0     1.0 2015-08-06 08:00:00               bad   \n",
       "5249          0.0         0.0     1.0 2015-08-11 08:00:00               bad   \n",
       "7768          0.0         0.0     2.0 2015-11-25 08:00:00               bad   \n",
       "12620         0.0         0.0     1.0 2016-06-15 17:00:00               bad   \n",
       "15408         0.0         0.0     2.0 2016-10-12 08:00:00               bad   \n",
       "15432         0.0         0.0     2.0 2016-10-13 08:00:00               bad   \n",
       "16390         0.0         0.0     2.0 2016-11-22 08:00:00               bad   \n",
       "\n",
       "       off_work  \n",
       "2760          0  \n",
       "4302          0  \n",
       "4923          0  \n",
       "5129          0  \n",
       "5249          0  \n",
       "7768          0  \n",
       "12620         0  \n",
       "15408         0  \n",
       "15432         0  \n",
       "16390         0  "
      ]
     },
     "execution_count": 221,
     "metadata": {},
     "output_type": "execute_result"
    }
   ],
   "source": [
    "store[(store.cnt.gt(4000)) & (store.weather_cathegory=='bad')]"
   ]
  },
  {
   "cell_type": "code",
   "execution_count": 222,
   "metadata": {},
   "outputs": [
    {
     "data": {
      "text/html": [
       "<div>\n",
       "<style scoped>\n",
       "    .dataframe tbody tr th:only-of-type {\n",
       "        vertical-align: middle;\n",
       "    }\n",
       "\n",
       "    .dataframe tbody tr th {\n",
       "        vertical-align: top;\n",
       "    }\n",
       "\n",
       "    .dataframe thead th {\n",
       "        text-align: right;\n",
       "    }\n",
       "</style>\n",
       "<table border=\"1\" class=\"dataframe\">\n",
       "  <thead>\n",
       "    <tr style=\"text-align: right;\">\n",
       "      <th></th>\n",
       "      <th>timestamp</th>\n",
       "      <th>cnt</th>\n",
       "      <th>t1</th>\n",
       "      <th>t2</th>\n",
       "      <th>hum</th>\n",
       "      <th>wind_speed</th>\n",
       "      <th>weather_code</th>\n",
       "      <th>is_holiday</th>\n",
       "      <th>is_weekend</th>\n",
       "      <th>season</th>\n",
       "      <th>date_time</th>\n",
       "      <th>weather_cathegory</th>\n",
       "      <th>off_work</th>\n",
       "    </tr>\n",
       "  </thead>\n",
       "  <tbody>\n",
       "  </tbody>\n",
       "</table>\n",
       "</div>"
      ],
      "text/plain": [
       "Empty DataFrame\n",
       "Columns: [timestamp, cnt, t1, t2, hum, wind_speed, weather_code, is_holiday, is_weekend, season, date_time, weather_cathegory, off_work]\n",
       "Index: []"
      ]
     },
     "execution_count": 222,
     "metadata": {},
     "output_type": "execute_result"
    }
   ],
   "source": [
    "store[(store.cnt.gt(4000)) & (store.weather_cathegory=='bad') & (store.season == 3)]"
   ]
  },
  {
   "cell_type": "code",
   "execution_count": 223,
   "metadata": {},
   "outputs": [],
   "source": [
    "#store = pd.get_dummies(store, columns=['weather_cathegory', 'season'], drop_first=True)"
   ]
  },
  {
   "cell_type": "code",
   "execution_count": 224,
   "metadata": {},
   "outputs": [
    {
     "data": {
      "text/html": [
       "<div>\n",
       "<style scoped>\n",
       "    .dataframe tbody tr th:only-of-type {\n",
       "        vertical-align: middle;\n",
       "    }\n",
       "\n",
       "    .dataframe tbody tr th {\n",
       "        vertical-align: top;\n",
       "    }\n",
       "\n",
       "    .dataframe thead th {\n",
       "        text-align: right;\n",
       "    }\n",
       "</style>\n",
       "<table border=\"1\" class=\"dataframe\">\n",
       "  <thead>\n",
       "    <tr style=\"text-align: right;\">\n",
       "      <th></th>\n",
       "      <th>timestamp</th>\n",
       "      <th>cnt</th>\n",
       "      <th>t1</th>\n",
       "      <th>t2</th>\n",
       "      <th>hum</th>\n",
       "      <th>wind_speed</th>\n",
       "      <th>weather_code</th>\n",
       "      <th>is_holiday</th>\n",
       "      <th>is_weekend</th>\n",
       "      <th>season</th>\n",
       "      <th>date_time</th>\n",
       "      <th>weather_cathegory</th>\n",
       "      <th>off_work</th>\n",
       "    </tr>\n",
       "  </thead>\n",
       "  <tbody>\n",
       "    <tr>\n",
       "      <th>0</th>\n",
       "      <td>2015-01-04 00:00:00</td>\n",
       "      <td>182</td>\n",
       "      <td>3.0</td>\n",
       "      <td>2.0</td>\n",
       "      <td>93.0</td>\n",
       "      <td>6.0</td>\n",
       "      <td>3.0</td>\n",
       "      <td>0.0</td>\n",
       "      <td>1.0</td>\n",
       "      <td>3.0</td>\n",
       "      <td>2015-01-04 00:00:00</td>\n",
       "      <td>mid</td>\n",
       "      <td>1</td>\n",
       "    </tr>\n",
       "    <tr>\n",
       "      <th>1</th>\n",
       "      <td>2015-01-04 01:00:00</td>\n",
       "      <td>138</td>\n",
       "      <td>3.0</td>\n",
       "      <td>2.5</td>\n",
       "      <td>93.0</td>\n",
       "      <td>5.0</td>\n",
       "      <td>1.0</td>\n",
       "      <td>0.0</td>\n",
       "      <td>1.0</td>\n",
       "      <td>3.0</td>\n",
       "      <td>2015-01-04 01:00:00</td>\n",
       "      <td>good</td>\n",
       "      <td>1</td>\n",
       "    </tr>\n",
       "    <tr>\n",
       "      <th>2</th>\n",
       "      <td>2015-01-04 02:00:00</td>\n",
       "      <td>134</td>\n",
       "      <td>2.5</td>\n",
       "      <td>2.5</td>\n",
       "      <td>96.5</td>\n",
       "      <td>0.0</td>\n",
       "      <td>1.0</td>\n",
       "      <td>0.0</td>\n",
       "      <td>1.0</td>\n",
       "      <td>3.0</td>\n",
       "      <td>2015-01-04 02:00:00</td>\n",
       "      <td>good</td>\n",
       "      <td>1</td>\n",
       "    </tr>\n",
       "    <tr>\n",
       "      <th>3</th>\n",
       "      <td>2015-01-04 03:00:00</td>\n",
       "      <td>72</td>\n",
       "      <td>2.0</td>\n",
       "      <td>2.0</td>\n",
       "      <td>100.0</td>\n",
       "      <td>0.0</td>\n",
       "      <td>1.0</td>\n",
       "      <td>0.0</td>\n",
       "      <td>1.0</td>\n",
       "      <td>3.0</td>\n",
       "      <td>2015-01-04 03:00:00</td>\n",
       "      <td>good</td>\n",
       "      <td>1</td>\n",
       "    </tr>\n",
       "    <tr>\n",
       "      <th>4</th>\n",
       "      <td>2015-01-04 04:00:00</td>\n",
       "      <td>47</td>\n",
       "      <td>2.0</td>\n",
       "      <td>0.0</td>\n",
       "      <td>93.0</td>\n",
       "      <td>6.5</td>\n",
       "      <td>1.0</td>\n",
       "      <td>0.0</td>\n",
       "      <td>1.0</td>\n",
       "      <td>3.0</td>\n",
       "      <td>2015-01-04 04:00:00</td>\n",
       "      <td>good</td>\n",
       "      <td>1</td>\n",
       "    </tr>\n",
       "  </tbody>\n",
       "</table>\n",
       "</div>"
      ],
      "text/plain": [
       "             timestamp  cnt   t1   t2    hum  wind_speed  weather_code  \\\n",
       "0  2015-01-04 00:00:00  182  3.0  2.0   93.0         6.0           3.0   \n",
       "1  2015-01-04 01:00:00  138  3.0  2.5   93.0         5.0           1.0   \n",
       "2  2015-01-04 02:00:00  134  2.5  2.5   96.5         0.0           1.0   \n",
       "3  2015-01-04 03:00:00   72  2.0  2.0  100.0         0.0           1.0   \n",
       "4  2015-01-04 04:00:00   47  2.0  0.0   93.0         6.5           1.0   \n",
       "\n",
       "   is_holiday  is_weekend  season           date_time weather_cathegory  \\\n",
       "0         0.0         1.0     3.0 2015-01-04 00:00:00               mid   \n",
       "1         0.0         1.0     3.0 2015-01-04 01:00:00              good   \n",
       "2         0.0         1.0     3.0 2015-01-04 02:00:00              good   \n",
       "3         0.0         1.0     3.0 2015-01-04 03:00:00              good   \n",
       "4         0.0         1.0     3.0 2015-01-04 04:00:00              good   \n",
       "\n",
       "   off_work  \n",
       "0         1  \n",
       "1         1  \n",
       "2         1  \n",
       "3         1  \n",
       "4         1  "
      ]
     },
     "execution_count": 224,
     "metadata": {},
     "output_type": "execute_result"
    }
   ],
   "source": [
    "store.head()"
   ]
  },
  {
   "cell_type": "markdown",
   "metadata": {},
   "source": [
    "Since season is a comprehensive average of all climate characteristics, we will use it as a means for outlier handling."
   ]
  },
  {
   "cell_type": "code",
   "execution_count": 269,
   "metadata": {},
   "outputs": [
    {
     "data": {
      "text/html": [
       "<div>\n",
       "<style scoped>\n",
       "    .dataframe tbody tr th:only-of-type {\n",
       "        vertical-align: middle;\n",
       "    }\n",
       "\n",
       "    .dataframe tbody tr th {\n",
       "        vertical-align: top;\n",
       "    }\n",
       "\n",
       "    .dataframe thead th {\n",
       "        text-align: right;\n",
       "    }\n",
       "</style>\n",
       "<table border=\"1\" class=\"dataframe\">\n",
       "  <thead>\n",
       "    <tr style=\"text-align: right;\">\n",
       "      <th></th>\n",
       "      <th>cnt</th>\n",
       "    </tr>\n",
       "    <tr>\n",
       "      <th>season</th>\n",
       "      <th></th>\n",
       "    </tr>\n",
       "  </thead>\n",
       "  <tbody>\n",
       "    <tr>\n",
       "      <th>0.0</th>\n",
       "      <td>823</td>\n",
       "    </tr>\n",
       "    <tr>\n",
       "      <th>1.0</th>\n",
       "      <td>1214</td>\n",
       "    </tr>\n",
       "    <tr>\n",
       "      <th>2.0</th>\n",
       "      <td>898</td>\n",
       "    </tr>\n",
       "    <tr>\n",
       "      <th>3.0</th>\n",
       "      <td>632</td>\n",
       "    </tr>\n",
       "  </tbody>\n",
       "</table>\n",
       "</div>"
      ],
      "text/plain": [
       "         cnt\n",
       "season      \n",
       "0.0      823\n",
       "1.0     1214\n",
       "2.0      898\n",
       "3.0      632"
      ]
     },
     "execution_count": 269,
     "metadata": {},
     "output_type": "execute_result"
    }
   ],
   "source": [
    "season_median = pd.DataFrame(store.groupby('season')['cnt'].median())\n",
    "season_median"
   ]
  },
  {
   "cell_type": "code",
   "execution_count": 295,
   "metadata": {},
   "outputs": [],
   "source": [
    "Q1 = store.cnt.quantile(0.25)\n",
    "Q3 = store.cnt.quantile(0.75)\n",
    "IQR = Q3 - Q1    \n",
    "\n",
    "filter0 = ((store.cnt <= Q1 - 1.5 * IQR) | (store.cnt >= Q3 + 1.5 *IQR)) & (store.season == 0.0)\n",
    "store['cnt'][filter0] = season_median.cnt.iloc[0]\n",
    "\n",
    "filter1 = ((store.cnt <= Q1 - 1.5 * IQR) | (store.cnt >= Q3 + 1.5 *IQR)) & (store.season == 1.0)\n",
    "store['cnt'][filter1] = season_median.cnt.iloc[1]\n",
    "\n",
    "filter2 = ((store.cnt <= Q1 - 1.5 * IQR) | (store.cnt >= Q3 + 1.5 *IQR)) & (store.season == 2.0)\n",
    "store['cnt'][filter2] = season_median.cnt.iloc[2]\n",
    "\n",
    "filter3 = ((store.cnt <= Q1 - 1.5 * IQR) | (store.cnt >= Q3 + 1.5 *IQR)) & (store.season == 3.0)\n",
    "store['cnt'][filter3] = season_median.cnt.iloc[3]"
   ]
  },
  {
   "cell_type": "code",
   "execution_count": 296,
   "metadata": {},
   "outputs": [
    {
     "data": {
      "text/plain": [
       "<AxesSubplot:xlabel='cnt'>"
      ]
     },
     "execution_count": 296,
     "metadata": {},
     "output_type": "execute_result"
    },
    {
     "data": {
      "image/png": "[encoded data removed]",
      "text/plain": [
       "<Figure size 432x288 with 1 Axes>"
      ]
     },
     "metadata": {
      "needs_background": "light"
     },
     "output_type": "display_data"
    }
   ],
   "source": [
    "sns.boxplot(store.cnt)"
   ]
  },
  {
   "cell_type": "code",
   "execution_count": 298,
   "metadata": {},
   "outputs": [],
   "source": [
    "season_median_t2 = pd.DataFrame(store.groupby('season')['t2'].median())\n",
    "\n",
    "Q1 = store.t2.quantile(0.25)\n",
    "Q3 = store.t2.quantile(0.75)\n",
    "IQR = Q3 - Q1    \n",
    "\n",
    "filter0 = ((store.t2 <= Q1 - 1.5 * IQR) | (store.t2 >= Q3 + 1.5 *IQR)) & (store.season == 0.0)\n",
    "store['t2'][filter0] = season_median_t2.t2.iloc[0]\n",
    "\n",
    "filter1 = ((store.t2 <= Q1 - 1.5 * IQR) | (store.t2 >= Q3 + 1.5 *IQR)) & (store.season == 1.0)\n",
    "store['t2'][filter1] = season_median_t2.t2.iloc[1]\n",
    "\n",
    "filter2 = ((store.t2 <= Q1 - 1.5 * IQR) | (store.t2 >= Q3 + 1.5 *IQR)) & (store.season == 2.0)\n",
    "store['t2'][filter2] = season_median_t2.t2.iloc[2]\n",
    "\n",
    "filter3 = ((store.t2 <= Q1 - 1.5 * IQR) | (store.t2 >= Q3 + 1.5 *IQR)) & (store.season == 3.0)\n",
    "store['t2'][filter3] = season_median_t2.t2.iloc[3]"
   ]
  },
  {
   "cell_type": "code",
   "execution_count": 302,
   "metadata": {},
   "outputs": [
    {
     "data": {
      "text/plain": [
       "<AxesSubplot:xlabel='t2'>"
      ]
     },
     "execution_count": 302,
     "metadata": {},
     "output_type": "execute_result"
    },
    {
     "data": {
      "image/png": "[encoded data removed]",
      "text/plain": [
       "<Figure size 432x288 with 1 Axes>"
      ]
     },
     "metadata": {
      "needs_background": "light"
     },
     "output_type": "display_data"
    }
   ],
   "source": [
    "sns.boxplot(store.t2)"
   ]
  },
  {
   "cell_type": "code",
   "execution_count": 304,
   "metadata": {},
   "outputs": [],
   "source": [
    "season_median_hum = pd.DataFrame(store.groupby('season')['hum'].median())\n",
    "\n",
    "Q1 = store.hum.quantile(0.25)\n",
    "Q3 = store.hum.quantile(0.75)\n",
    "IQR = Q3 - Q1    \n",
    "\n",
    "filter0 = ((store.hum <= Q1 - 1.5 * IQR) | (store.hum >= Q3 + 1.5 *IQR)) & (store.season == 0.0)\n",
    "store['hum'][filter0] = season_median_hum.hum.iloc[0]\n",
    "\n",
    "filter1 = ((store.hum <= Q1 - 1.5 * IQR) | (store.hum >= Q3 + 1.5 *IQR)) & (store.season == 1.0)\n",
    "store['hum'][filter1] = season_median_hum.hum.iloc[1]\n",
    "\n",
    "filter2 = ((store.hum <= Q1 - 1.5 * IQR) | (store.hum >= Q3 + 1.5 *IQR)) & (store.season == 2.0)\n",
    "store['hum'][filter2] = season_median_hum.hum.iloc[2]\n",
    "\n",
    "filter3 = ((store.hum <= Q1 - 1.5 * IQR) | (store.hum >= Q3 + 1.5 *IQR)) & (store.season == 3.0)\n",
    "store['hum'][filter3] = season_median_hum.hum.iloc[3]"
   ]
  },
  {
   "cell_type": "code",
   "execution_count": 305,
   "metadata": {},
   "outputs": [
    {
     "data": {
      "text/plain": [
       "<AxesSubplot:xlabel='hum'>"
      ]
     },
     "execution_count": 305,
     "metadata": {},
     "output_type": "execute_result"
    },
    {
     "data": {
      "image/png": "[encoded data removed]",
      "text/plain": [
       "<Figure size 432x288 with 1 Axes>"
      ]
     },
     "metadata": {
      "needs_background": "light"
     },
     "output_type": "display_data"
    }
   ],
   "source": [
    "sns.boxplot(store.hum)"
   ]
  },
  {
   "cell_type": "code",
   "execution_count": 307,
   "metadata": {},
   "outputs": [],
   "source": [
    "season_median_wind_speed = pd.DataFrame(store.groupby('season')['wind_speed'].median())\n",
    "\n",
    "Q1 = store.wind_speed.quantile(0.25)\n",
    "Q3 = store.wind_speed.quantile(0.75)\n",
    "IQR = Q3 - Q1    \n",
    "\n",
    "filter0 = ((store.wind_speed <= Q1 - 1.5 * IQR) | (store.wind_speed >= Q3 + 1.5 *IQR)) & (store.season == 0.0)\n",
    "store['wind_speed'][filter0] = season_median_wind_speed.wind_speed.iloc[0]\n",
    "\n",
    "filter1 = ((store.wind_speed <= Q1 - 1.5 * IQR) | (store.wind_speed >= Q3 + 1.5 *IQR)) & (store.season == 1.0)\n",
    "store['wind_speed'][filter1] = season_median_wind_speed.wind_speed.iloc[1]\n",
    "\n",
    "filter2 = ((store.wind_speed <= Q1 - 1.5 * IQR) | (store.wind_speed >= Q3 + 1.5 *IQR)) & (store.season == 2.0)\n",
    "store['wind_speed'][filter2] = season_median_wind_speed.wind_speed.iloc[2]\n",
    "\n",
    "filter3 = ((store.wind_speed <= Q1 - 1.5 * IQR) | (store.wind_speed >= Q3 + 1.5 *IQR)) & (store.season == 3.0)\n",
    "store['wind_speed'][filter3] = season_median_wind_speed.wind_speed.iloc[3]"
   ]
  },
  {
   "cell_type": "code",
   "execution_count": 308,
   "metadata": {},
   "outputs": [
    {
     "data": {
      "text/plain": [
       "<AxesSubplot:xlabel='wind_speed'>"
      ]
     },
     "execution_count": 308,
     "metadata": {},
     "output_type": "execute_result"
    },
    {
     "data": {
      "image/png": "[encoded data removed]",
      "text/plain": [
       "<Figure size 432x288 with 1 Axes>"
      ]
     },
     "metadata": {
      "needs_background": "light"
     },
     "output_type": "display_data"
    }
   ],
   "source": [
    "sns.boxplot(store.wind_speed)"
   ]
  },
  {
   "cell_type": "markdown",
   "metadata": {
    "id": "UC-8nALFAzaN"
   },
   "source": [
    "### Plot Breakdowns of Data"
   ]
  },
  {
   "cell_type": "markdown",
   "metadata": {
    "id": "gAALtK4OAzaN"
   },
   "source": [
    "***i. Plot bike shares over time***"
   ]
  },
  {
   "cell_type": "code",
   "execution_count": null,
   "metadata": {
    "id": "GdYH3C7mAzaN"
   },
   "outputs": [],
   "source": []
  },
  {
   "cell_type": "markdown",
   "metadata": {
    "id": "bl0unzOr9MWN"
   },
   "source": [
    "***ii. Plot bike shares by months***"
   ]
  },
  {
   "cell_type": "code",
   "execution_count": null,
   "metadata": {
    "id": "SRm2dm6mAzaO"
   },
   "outputs": [],
   "source": []
  },
  {
   "cell_type": "markdown",
   "metadata": {
    "id": "4E1AiBafAzaO"
   },
   "source": [
    "***iii. Plot bike shares by hours***\n",
    "- *whether it is a holiday or not*\n",
    "- *You may want to see seasonal breakdowns*"
   ]
  },
  {
   "cell_type": "code",
   "execution_count": null,
   "metadata": {
    "id": "V3uYpBDPAzaO"
   },
   "outputs": [],
   "source": []
  },
  {
   "cell_type": "markdown",
   "metadata": {
    "id": "QzP5i5wrAzaO"
   },
   "source": [
    "***iv. Plot bike shares by day of week***\n",
    "- *You may want to see seasonal breakdowns*"
   ]
  },
  {
   "cell_type": "code",
   "execution_count": null,
   "metadata": {
    "id": "II8RE6BJAzaP"
   },
   "outputs": [],
   "source": []
  },
  {
   "cell_type": "markdown",
   "metadata": {
    "id": "1bJcdnrDAzaP"
   },
   "source": [
    "***v. Plot the distribution of bike shares on holidays by seasons***"
   ]
  },
  {
   "cell_type": "code",
   "execution_count": null,
   "metadata": {
    "id": "k71S-0qDAzaP"
   },
   "outputs": [],
   "source": []
  },
  {
   "cell_type": "markdown",
   "metadata": {
    "id": "cAy0ZgMYAzaP"
   },
   "source": [
    "---\n",
    "---"
   ]
  },
  {
   "cell_type": "markdown",
   "metadata": {
    "id": "Qa2DEC4ccbDM"
   },
   "source": [
    "## 2. Data Pre-Processing\n"
   ]
  },
  {
   "cell_type": "markdown",
   "metadata": {
    "id": "yhBLGnhrAzaQ"
   },
   "source": [
    "### Train - Test Split\n",
    "\n",
    "Appropriately split the data for optimum training."
   ]
  },
  {
   "cell_type": "code",
   "execution_count": null,
   "metadata": {
    "id": "ZYcHKWsoAzaQ"
   },
   "outputs": [],
   "source": []
  },
  {
   "cell_type": "markdown",
   "metadata": {
    "id": "jqUZxGkGAzaQ"
   },
   "source": [
    "### Scaling"
   ]
  },
  {
   "cell_type": "markdown",
   "metadata": {
    "id": "40nAOGnsUiZa"
   },
   "source": [
    "**Robust Scaling**\n",
    "\n",
    "It is common to scale data prior to fitting a machine learning model.\n",
    "\n",
    "This is because data often consists of many different input variables or features (columns) and each may have a different range of values or units of measure, such as feet, miles, kilograms, dollars, etc.\n",
    "\n",
    "If there are input variables that have very large values relative to the other input variables, these large values can dominate or skew some machine learning algorithms. The result is that the algorithms pay most of their attention to the large values and ignore the variables with smaller values.\n",
    "\n",
    "LSTMs are sensitive to the scale of the input data, specifically when the sigmoid (default) or tanh activation functions are used. It can be a good practice to rescale the data to the range of 0-to-1, also called normalizing. You can easily normalize the dataset using the Robust Scaling preprocessing class from the scikit-learn library.\n",
    "\n",
    "- ***Note:*** *You are expected to scale only 't1', 't2', 'hum', 'wind_speed' variables. You also need to scale the dependent and independent variables separately. You must do this for both train data and test data.*"
   ]
  },
  {
   "cell_type": "code",
   "execution_count": null,
   "metadata": {
    "id": "LU32liWGAzaR"
   },
   "outputs": [],
   "source": []
  },
  {
   "cell_type": "markdown",
   "metadata": {
    "id": "1vZLliLzahab"
   },
   "source": [
    "### Define a Function for Creating Time Steps \n",
    "\n",
    "In order to use the capabilities of LSTM, we need to organize the data in accordance with the working principles of LSTM.\n",
    "You must separate the lines ordered by time in decimal steps.\n",
    "The size of the step may vary depending on the situation, in this case it is set to 10.\n",
    "\n",
    "Therefore, train and test data should be divided into groups of ten.\n",
    "When predicting test data, the model is asked to use the information from the next 10 records with itself for each record.\n",
    "\n",
    "As a result of this operation, each row will create a time step with the next 10 records, and you will have a matrix consisting of steps as many as the row total at the beginning.\n",
    "So, your data set must be a 3-dimensional numpy array like (15662, 10,13).\n",
    "As a result, LSTM will learn by taking 10 rows into account for one row.\n",
    "\n",
    "Create a function, that takes two arguments: the dataset(dependent or independent variables separately), which is a NumPy array that we want to convert into a dataset, and the time_steps, which is the number of previous time steps to use as input variables to predict the next time period.\n",
    "\n",
    "After defining the function, apply it to train and test sets."
   ]
  },
  {
   "cell_type": "code",
   "execution_count": null,
   "metadata": {
    "id": "1wL7JqTHAzaR"
   },
   "outputs": [],
   "source": []
  },
  {
   "cell_type": "markdown",
   "metadata": {
    "id": "BVdrF8e7AzaS"
   },
   "source": [
    "---\n",
    "---"
   ]
  },
  {
   "cell_type": "markdown",
   "metadata": {
    "id": "DNrEgXhhPRy3"
   },
   "source": [
    "## 3. Model Building with LSTM\n"
   ]
  },
  {
   "cell_type": "markdown",
   "metadata": {
    "id": "CmGTfQv_IffY"
   },
   "source": [
    "\n",
    "##Recurrent Neural Networks \n",
    "RNN are a type of artifcial neural network designed to recognize patterns in sequences of data, such as text, genomes, handwriting, the spoken word, numerical times series data.\n",
    "\n",
    "Recurrent Neural Networks use backpropagation algorithm for training. Because of their internal memory, RNN’s are able to remember important things about the input they received, which enables them to be very precise in predicting what’s coming next.\n",
    "\n",
    "RNNs could be stacked up to deeper versions, which contain more than 1 layers of RNN. Because RNNs are especially computationally expensive to train, normally a deep RNN model contains no more than 3 layers of LSTM.\n",
    "\n",
    "Train a bidirectional long short term memory (LSTM) recurrent neural network (RNN) with this data, making use of the self-loop and forget gate of LSTM.\n",
    "\n",
    "LSTM sequential learning model was chosen because of its ability to process sequential data and memorize data of past time steps.\n",
    "\n",
    "LSTM is a different type of gated RNN which is capable of learning long-term dependencies LSTM is not affected by vanishing gradient or exploding gradient problem\n",
    "Using Bidirectional LSTMs, we feed the learning algorithm with the original data once from beginning to the end and once from end to beginning.\n",
    "\n",
    "#### Bidirectional LSTM :\n",
    "Bidirectional LSTMs are an extension of traditional LSTMs that can improve model performance on sequence classification problems.\n",
    "\n",
    "In problems where all timesteps of the input sequence are available, Bidirectional LSTMs train two instead of one LSTMs on the input sequence. The first on the input sequence as-is and the second on a reversed copy of the input sequence. This can provide additional context to the network and result in faster and even fuller learning on the problem. Figure shows the mechanism of Bidirectional LSTM.\n",
    "\n",
    "\n",
    "\n",
    "\n",
    "\n",
    "\n",
    "![Unknown-2.png](data:image/png;base64,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)"
   ]
  },
  {
   "cell_type": "markdown",
   "metadata": {
    "id": "pBd9wjjqAzaY"
   },
   "source": [
    "### Create, Compile and Fit Bidirectional LSTM Model\n",
    "\n",
    "- Create a Sequential Model,\n",
    "- Add Bidirectional layers,\n",
    "- Apply Regularization (Drop Out),\n",
    "- Compile the model.\n",
    "\n",
    "***Note:*** *Define the optimizer as the efficient stochastic gradient descent algorithm ***adam***.* *This is a popular version of gradient descent because it automatically tunes itself and gives good results in a wide range of problems.*\n",
    "\n",
    "*In this case, use ***mean squared error*** as the loss argument. This loss is for a regression problems and is defined in Keras as mean_squared_error.\n",
    "Also use defined in Keras as ***accuracy*** as the metrics.*"
   ]
  },
  {
   "cell_type": "markdown",
   "metadata": {
    "id": "Jo6YUxCKAzaa"
   },
   "source": [
    "### Plot Train and Validation Losses"
   ]
  },
  {
   "cell_type": "code",
   "execution_count": null,
   "metadata": {
    "id": "tO3nlNjVAzab"
   },
   "outputs": [],
   "source": []
  },
  {
   "cell_type": "markdown",
   "metadata": {
    "id": "sriHRh6qAzab"
   },
   "source": [
    "---\n",
    "---"
   ]
  },
  {
   "cell_type": "markdown",
   "metadata": {
    "id": "7U93wor7PcO4"
   },
   "source": [
    "## 4. Demand Predictions"
   ]
  },
  {
   "cell_type": "markdown",
   "metadata": {
    "id": "30CPN-xsAzab"
   },
   "source": [
    "At this stage, you will measure the prediction success of your model. So, you will need to compare the actual values of the test data with their predicted values. \n",
    "\n",
    "For this reason, you must inverse transform the y_pred variable predicted by the model with the target variables of the train and test data you have previously scaled."
   ]
  },
  {
   "cell_type": "markdown",
   "metadata": {
    "id": "VLPTDCaDAzab"
   },
   "source": [
    "### Inverse Transform"
   ]
  },
  {
   "cell_type": "code",
   "execution_count": null,
   "metadata": {
    "id": "u60kowWAAzab"
   },
   "outputs": [],
   "source": []
  },
  {
   "cell_type": "markdown",
   "metadata": {
    "id": "26yRkZgBAzac"
   },
   "source": [
    "### Plot Prediction"
   ]
  },
  {
   "cell_type": "code",
   "execution_count": null,
   "metadata": {
    "id": "UZ9QNlY7Azac"
   },
   "outputs": [],
   "source": []
  },
  {
   "cell_type": "markdown",
   "metadata": {
    "id": "uZyhfUkmAzac"
   },
   "source": [
    "### Calculate Train and Test Error Scores"
   ]
  },
  {
   "cell_type": "code",
   "execution_count": null,
   "metadata": {
    "id": "Bkt6L7mfAzac"
   },
   "outputs": [],
   "source": []
  }
 ],
 "metadata": {
  "colab": {
   "collapsed_sections": [],
   "name": "Demand_Prediction_Student_v1.ipynb",
   "provenance": [],
   "toc_visible": true
  },
  "kernelspec": {
   "display_name": "Python 3",
   "language": "python",
   "name": "python3"
  },
  "language_info": {
   "codemirror_mode": {
    "name": "ipython",
    "version": 3
   },
   "file_extension": ".py",
   "mimetype": "text/x-python",
   "name": "python",
   "nbconvert_exporter": "python",
   "pygments_lexer": "ipython3",
   "version": "3.8.5"
  }
 },
 "nbformat": 4,
 "nbformat_minor": 4
}
